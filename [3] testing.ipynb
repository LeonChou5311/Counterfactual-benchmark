{
 "cells": [
  {
   "cell_type": "code",
   "execution_count": 300,
   "metadata": {},
   "outputs": [
    {
     "name": "stdout",
     "output_type": "stream",
     "text": [
      "TF version:  2.0.0\n",
      "Eager execution enabled:  True\n"
     ]
    }
   ],
   "source": [
    "import tensorflow as tf\n",
    "import pandas as pd\n",
    "import numpy as np\n",
    "\n",
    "from utils.df_loader import load_adult_df, load_compas_df, load_german_df, load_diabetes_df, load_breast_cancer_df\n",
    "from utils.preprocessing import preprocess_df,get_columns_type\n",
    "from sklearn.model_selection import train_test_split\n",
    "from utils.dice import generate_dice_result, process_results\n",
    "from utils.models import train_three_models, evaluation_test, save_three_models, load_three_models\n",
    "from utils.save import save_result_as_csv\n",
    "\n",
    "pd.options.mode.chained_assignment = None \n",
    "\n",
    "print('TF version: ', tf.__version__)\n",
    "print('Eager execution enabled: ', tf.executing_eagerly()) # False\n",
    "\n",
    "seed = 123\n",
    "tf.random.set_seed(seed)\n",
    "np.random.seed(seed)\n"
   ]
  },
  {
   "cell_type": "code",
   "execution_count": 301,
   "metadata": {},
   "outputs": [],
   "source": [
    "#### Select dataset ####'\n",
    "\n",
    "dataset_name = 'breast_cancer' # [adult, german, compas]\n",
    "\n",
    "if dataset_name == 'adult':\n",
    "    dataset_loading_fn = load_adult_df\n",
    "elif dataset_name == 'german':\n",
    "    dataset_loading_fn = load_german_df\n",
    "elif dataset_name == 'compas':\n",
    "    dataset_loading_fn = load_compas_df\n",
    "elif dataset_name == 'diabetes':\n",
    "    dataset_loading_fn = load_diabetes_df\n",
    "elif dataset_name == 'breast_cancer':\n",
    "    dataset_loading_fn = load_breast_cancer_df\n",
    "else:\n",
    "    raise Exception(\"Unsupported dataset\")"
   ]
  },
  {
   "cell_type": "code",
   "execution_count": 302,
   "metadata": {},
   "outputs": [],
   "source": [
    "#### Load datafram info.\n",
    "df_info = preprocess_df(dataset_loading_fn)\n"
   ]
  },
  {
   "cell_type": "code",
   "execution_count": 303,
   "metadata": {},
   "outputs": [],
   "source": [
    "### Seperate to train and test set.\n",
    "train_df, test_df = train_test_split(df_info.dummy_df, train_size=.8, random_state=seed, shuffle=True)"
   ]
  },
  {
   "cell_type": "code",
   "execution_count": 304,
   "metadata": {},
   "outputs": [
    {
     "data": {
      "text/html": [
       "<div>\n",
       "<style scoped>\n",
       "    .dataframe tbody tr th:only-of-type {\n",
       "        vertical-align: middle;\n",
       "    }\n",
       "\n",
       "    .dataframe tbody tr th {\n",
       "        vertical-align: top;\n",
       "    }\n",
       "\n",
       "    .dataframe thead th {\n",
       "        text-align: right;\n",
       "    }\n",
       "</style>\n",
       "<table border=\"1\" class=\"dataframe\">\n",
       "  <thead>\n",
       "    <tr style=\"text-align: right;\">\n",
       "      <th></th>\n",
       "      <th>radius_mean</th>\n",
       "      <th>texture_mean</th>\n",
       "      <th>perimeter_mean</th>\n",
       "      <th>area_mean</th>\n",
       "      <th>smoothness_mean</th>\n",
       "      <th>compactness_mean</th>\n",
       "      <th>concavity_mean</th>\n",
       "      <th>concave points_mean</th>\n",
       "      <th>symmetry_mean</th>\n",
       "      <th>fractal_dimension_mean</th>\n",
       "      <th>...</th>\n",
       "      <th>texture_worst</th>\n",
       "      <th>perimeter_worst</th>\n",
       "      <th>area_worst</th>\n",
       "      <th>smoothness_worst</th>\n",
       "      <th>compactness_worst</th>\n",
       "      <th>concavity_worst</th>\n",
       "      <th>concave points_worst</th>\n",
       "      <th>symmetry_worst</th>\n",
       "      <th>fractal_dimension_worst</th>\n",
       "      <th>diagnosis</th>\n",
       "    </tr>\n",
       "  </thead>\n",
       "  <tbody>\n",
       "    <tr>\n",
       "      <th>333</th>\n",
       "      <td>0.202045</td>\n",
       "      <td>0.171458</td>\n",
       "      <td>0.190657</td>\n",
       "      <td>0.104560</td>\n",
       "      <td>0.274713</td>\n",
       "      <td>0.077296</td>\n",
       "      <td>0.002281</td>\n",
       "      <td>0.014617</td>\n",
       "      <td>0.360101</td>\n",
       "      <td>0.228517</td>\n",
       "      <td>...</td>\n",
       "      <td>0.267591</td>\n",
       "      <td>0.157727</td>\n",
       "      <td>0.075575</td>\n",
       "      <td>0.300007</td>\n",
       "      <td>0.068545</td>\n",
       "      <td>0.004407</td>\n",
       "      <td>0.057285</td>\n",
       "      <td>0.246403</td>\n",
       "      <td>0.125541</td>\n",
       "      <td>0</td>\n",
       "    </tr>\n",
       "    <tr>\n",
       "      <th>273</th>\n",
       "      <td>0.130673</td>\n",
       "      <td>0.201556</td>\n",
       "      <td>0.122383</td>\n",
       "      <td>0.062100</td>\n",
       "      <td>0.340706</td>\n",
       "      <td>0.084381</td>\n",
       "      <td>0.025843</td>\n",
       "      <td>0.069930</td>\n",
       "      <td>0.515657</td>\n",
       "      <td>0.277169</td>\n",
       "      <td>...</td>\n",
       "      <td>0.236141</td>\n",
       "      <td>0.088052</td>\n",
       "      <td>0.041781</td>\n",
       "      <td>0.498778</td>\n",
       "      <td>0.064431</td>\n",
       "      <td>0.032292</td>\n",
       "      <td>0.177285</td>\n",
       "      <td>0.251528</td>\n",
       "      <td>0.175193</td>\n",
       "      <td>0</td>\n",
       "    </tr>\n",
       "    <tr>\n",
       "      <th>201</th>\n",
       "      <td>0.499740</td>\n",
       "      <td>0.324992</td>\n",
       "      <td>0.492779</td>\n",
       "      <td>0.342778</td>\n",
       "      <td>0.334477</td>\n",
       "      <td>0.308018</td>\n",
       "      <td>0.242737</td>\n",
       "      <td>0.372167</td>\n",
       "      <td>0.225253</td>\n",
       "      <td>0.104254</td>\n",
       "      <td>...</td>\n",
       "      <td>0.368337</td>\n",
       "      <td>0.443697</td>\n",
       "      <td>0.258995</td>\n",
       "      <td>0.441986</td>\n",
       "      <td>0.305333</td>\n",
       "      <td>0.280192</td>\n",
       "      <td>0.666323</td>\n",
       "      <td>0.268677</td>\n",
       "      <td>0.154991</td>\n",
       "      <td>1</td>\n",
       "    </tr>\n",
       "    <tr>\n",
       "      <th>178</th>\n",
       "      <td>0.285342</td>\n",
       "      <td>0.423064</td>\n",
       "      <td>0.264114</td>\n",
       "      <td>0.162418</td>\n",
       "      <td>0.089194</td>\n",
       "      <td>0.000000</td>\n",
       "      <td>0.003737</td>\n",
       "      <td>0.009205</td>\n",
       "      <td>0.169192</td>\n",
       "      <td>0.050126</td>\n",
       "      <td>...</td>\n",
       "      <td>0.453092</td>\n",
       "      <td>0.188107</td>\n",
       "      <td>0.104109</td>\n",
       "      <td>0.066565</td>\n",
       "      <td>0.006821</td>\n",
       "      <td>0.006371</td>\n",
       "      <td>0.031818</td>\n",
       "      <td>0.143899</td>\n",
       "      <td>0.022235</td>\n",
       "      <td>0</td>\n",
       "    </tr>\n",
       "    <tr>\n",
       "      <th>85</th>\n",
       "      <td>0.543282</td>\n",
       "      <td>0.297937</td>\n",
       "      <td>0.534241</td>\n",
       "      <td>0.395122</td>\n",
       "      <td>0.416268</td>\n",
       "      <td>0.263542</td>\n",
       "      <td>0.312793</td>\n",
       "      <td>0.437127</td>\n",
       "      <td>0.541414</td>\n",
       "      <td>0.216091</td>\n",
       "      <td>...</td>\n",
       "      <td>0.417377</td>\n",
       "      <td>0.506948</td>\n",
       "      <td>0.348457</td>\n",
       "      <td>0.453213</td>\n",
       "      <td>0.176199</td>\n",
       "      <td>0.252157</td>\n",
       "      <td>0.564261</td>\n",
       "      <td>0.419870</td>\n",
       "      <td>0.201692</td>\n",
       "      <td>1</td>\n",
       "    </tr>\n",
       "    <tr>\n",
       "      <th>...</th>\n",
       "      <td>...</td>\n",
       "      <td>...</td>\n",
       "      <td>...</td>\n",
       "      <td>...</td>\n",
       "      <td>...</td>\n",
       "      <td>...</td>\n",
       "      <td>...</td>\n",
       "      <td>...</td>\n",
       "      <td>...</td>\n",
       "      <td>...</td>\n",
       "      <td>...</td>\n",
       "      <td>...</td>\n",
       "      <td>...</td>\n",
       "      <td>...</td>\n",
       "      <td>...</td>\n",
       "      <td>...</td>\n",
       "      <td>...</td>\n",
       "      <td>...</td>\n",
       "      <td>...</td>\n",
       "      <td>...</td>\n",
       "      <td>...</td>\n",
       "    </tr>\n",
       "    <tr>\n",
       "      <th>179</th>\n",
       "      <td>0.275877</td>\n",
       "      <td>0.113290</td>\n",
       "      <td>0.259139</td>\n",
       "      <td>0.154952</td>\n",
       "      <td>0.313803</td>\n",
       "      <td>0.056316</td>\n",
       "      <td>0.021539</td>\n",
       "      <td>0.066103</td>\n",
       "      <td>0.205051</td>\n",
       "      <td>0.239469</td>\n",
       "      <td>...</td>\n",
       "      <td>0.110075</td>\n",
       "      <td>0.180736</td>\n",
       "      <td>0.094745</td>\n",
       "      <td>0.297365</td>\n",
       "      <td>0.026351</td>\n",
       "      <td>0.022029</td>\n",
       "      <td>0.137113</td>\n",
       "      <td>0.042973</td>\n",
       "      <td>0.119048</td>\n",
       "      <td>0</td>\n",
       "    </tr>\n",
       "    <tr>\n",
       "      <th>192</th>\n",
       "      <td>0.129632</td>\n",
       "      <td>0.287792</td>\n",
       "      <td>0.117062</td>\n",
       "      <td>0.061336</td>\n",
       "      <td>0.152298</td>\n",
       "      <td>0.012453</td>\n",
       "      <td>0.000000</td>\n",
       "      <td>0.000000</td>\n",
       "      <td>0.299495</td>\n",
       "      <td>0.305602</td>\n",
       "      <td>...</td>\n",
       "      <td>0.234808</td>\n",
       "      <td>0.058967</td>\n",
       "      <td>0.029149</td>\n",
       "      <td>0.000000</td>\n",
       "      <td>0.000000</td>\n",
       "      <td>0.000000</td>\n",
       "      <td>0.000000</td>\n",
       "      <td>0.067810</td>\n",
       "      <td>0.069198</td>\n",
       "      <td>0</td>\n",
       "    </tr>\n",
       "    <tr>\n",
       "      <th>246</th>\n",
       "      <td>0.294335</td>\n",
       "      <td>0.261075</td>\n",
       "      <td>0.278764</td>\n",
       "      <td>0.168865</td>\n",
       "      <td>0.176221</td>\n",
       "      <td>0.079320</td>\n",
       "      <td>0.101593</td>\n",
       "      <td>0.054920</td>\n",
       "      <td>0.215657</td>\n",
       "      <td>0.134583</td>\n",
       "      <td>...</td>\n",
       "      <td>0.421109</td>\n",
       "      <td>0.188605</td>\n",
       "      <td>0.102438</td>\n",
       "      <td>0.257082</td>\n",
       "      <td>0.119830</td>\n",
       "      <td>0.183546</td>\n",
       "      <td>0.170790</td>\n",
       "      <td>0.236941</td>\n",
       "      <td>0.111111</td>\n",
       "      <td>0</td>\n",
       "    </tr>\n",
       "    <tr>\n",
       "      <th>211</th>\n",
       "      <td>0.229968</td>\n",
       "      <td>0.312141</td>\n",
       "      <td>0.219197</td>\n",
       "      <td>0.120679</td>\n",
       "      <td>0.325720</td>\n",
       "      <td>0.152199</td>\n",
       "      <td>0.062535</td>\n",
       "      <td>0.069235</td>\n",
       "      <td>0.238889</td>\n",
       "      <td>0.223463</td>\n",
       "      <td>...</td>\n",
       "      <td>0.345682</td>\n",
       "      <td>0.173365</td>\n",
       "      <td>0.088749</td>\n",
       "      <td>0.375289</td>\n",
       "      <td>0.155922</td>\n",
       "      <td>0.117492</td>\n",
       "      <td>0.237560</td>\n",
       "      <td>0.191208</td>\n",
       "      <td>0.163256</td>\n",
       "      <td>0</td>\n",
       "    </tr>\n",
       "    <tr>\n",
       "      <th>72</th>\n",
       "      <td>0.483648</td>\n",
       "      <td>0.500845</td>\n",
       "      <td>0.486559</td>\n",
       "      <td>0.333362</td>\n",
       "      <td>0.491740</td>\n",
       "      <td>0.501871</td>\n",
       "      <td>0.396439</td>\n",
       "      <td>0.394831</td>\n",
       "      <td>0.437879</td>\n",
       "      <td>0.314027</td>\n",
       "      <td>...</td>\n",
       "      <td>0.581023</td>\n",
       "      <td>0.503959</td>\n",
       "      <td>0.367627</td>\n",
       "      <td>0.576702</td>\n",
       "      <td>0.690893</td>\n",
       "      <td>0.524441</td>\n",
       "      <td>0.652577</td>\n",
       "      <td>0.344569</td>\n",
       "      <td>0.517250</td>\n",
       "      <td>1</td>\n",
       "    </tr>\n",
       "  </tbody>\n",
       "</table>\n",
       "<p>114 rows × 31 columns</p>\n",
       "</div>"
      ],
      "text/plain": [
       "     radius_mean  texture_mean  perimeter_mean  area_mean  smoothness_mean  \\\n",
       "333     0.202045      0.171458        0.190657   0.104560         0.274713   \n",
       "273     0.130673      0.201556        0.122383   0.062100         0.340706   \n",
       "201     0.499740      0.324992        0.492779   0.342778         0.334477   \n",
       "178     0.285342      0.423064        0.264114   0.162418         0.089194   \n",
       "85      0.543282      0.297937        0.534241   0.395122         0.416268   \n",
       "..           ...           ...             ...        ...              ...   \n",
       "179     0.275877      0.113290        0.259139   0.154952         0.313803   \n",
       "192     0.129632      0.287792        0.117062   0.061336         0.152298   \n",
       "246     0.294335      0.261075        0.278764   0.168865         0.176221   \n",
       "211     0.229968      0.312141        0.219197   0.120679         0.325720   \n",
       "72      0.483648      0.500845        0.486559   0.333362         0.491740   \n",
       "\n",
       "     compactness_mean  concavity_mean  concave points_mean  symmetry_mean  \\\n",
       "333          0.077296        0.002281             0.014617       0.360101   \n",
       "273          0.084381        0.025843             0.069930       0.515657   \n",
       "201          0.308018        0.242737             0.372167       0.225253   \n",
       "178          0.000000        0.003737             0.009205       0.169192   \n",
       "85           0.263542        0.312793             0.437127       0.541414   \n",
       "..                ...             ...                  ...            ...   \n",
       "179          0.056316        0.021539             0.066103       0.205051   \n",
       "192          0.012453        0.000000             0.000000       0.299495   \n",
       "246          0.079320        0.101593             0.054920       0.215657   \n",
       "211          0.152199        0.062535             0.069235       0.238889   \n",
       "72           0.501871        0.396439             0.394831       0.437879   \n",
       "\n",
       "     fractal_dimension_mean  ...  texture_worst  perimeter_worst  area_worst  \\\n",
       "333                0.228517  ...       0.267591         0.157727    0.075575   \n",
       "273                0.277169  ...       0.236141         0.088052    0.041781   \n",
       "201                0.104254  ...       0.368337         0.443697    0.258995   \n",
       "178                0.050126  ...       0.453092         0.188107    0.104109   \n",
       "85                 0.216091  ...       0.417377         0.506948    0.348457   \n",
       "..                      ...  ...            ...              ...         ...   \n",
       "179                0.239469  ...       0.110075         0.180736    0.094745   \n",
       "192                0.305602  ...       0.234808         0.058967    0.029149   \n",
       "246                0.134583  ...       0.421109         0.188605    0.102438   \n",
       "211                0.223463  ...       0.345682         0.173365    0.088749   \n",
       "72                 0.314027  ...       0.581023         0.503959    0.367627   \n",
       "\n",
       "     smoothness_worst  compactness_worst  concavity_worst  \\\n",
       "333          0.300007           0.068545         0.004407   \n",
       "273          0.498778           0.064431         0.032292   \n",
       "201          0.441986           0.305333         0.280192   \n",
       "178          0.066565           0.006821         0.006371   \n",
       "85           0.453213           0.176199         0.252157   \n",
       "..                ...                ...              ...   \n",
       "179          0.297365           0.026351         0.022029   \n",
       "192          0.000000           0.000000         0.000000   \n",
       "246          0.257082           0.119830         0.183546   \n",
       "211          0.375289           0.155922         0.117492   \n",
       "72           0.576702           0.690893         0.524441   \n",
       "\n",
       "     concave points_worst  symmetry_worst  fractal_dimension_worst  diagnosis  \n",
       "333              0.057285        0.246403                 0.125541          0  \n",
       "273              0.177285        0.251528                 0.175193          0  \n",
       "201              0.666323        0.268677                 0.154991          1  \n",
       "178              0.031818        0.143899                 0.022235          0  \n",
       "85               0.564261        0.419870                 0.201692          1  \n",
       "..                    ...             ...                      ...        ...  \n",
       "179              0.137113        0.042973                 0.119048          0  \n",
       "192              0.000000        0.067810                 0.069198          0  \n",
       "246              0.170790        0.236941                 0.111111          0  \n",
       "211              0.237560        0.191208                 0.163256          0  \n",
       "72               0.652577        0.344569                 0.517250          1  \n",
       "\n",
       "[114 rows x 31 columns]"
      ]
     },
     "execution_count": 304,
     "metadata": {},
     "output_type": "execute_result"
    }
   ],
   "source": [
    "test_df"
   ]
  },
  {
   "cell_type": "code",
   "execution_count": 305,
   "metadata": {},
   "outputs": [
    {
     "data": {
      "text/plain": [
       "114"
      ]
     },
     "execution_count": 305,
     "metadata": {},
     "output_type": "execute_result"
    }
   ],
   "source": [
    "len(test_df)"
   ]
  },
  {
   "cell_type": "code",
   "execution_count": 306,
   "metadata": {},
   "outputs": [
    {
     "data": {
      "text/plain": [
       "455"
      ]
     },
     "execution_count": 306,
     "metadata": {},
     "output_type": "execute_result"
    }
   ],
   "source": [
    "len(train_df)"
   ]
  },
  {
   "cell_type": "code",
   "execution_count": 307,
   "metadata": {},
   "outputs": [
    {
     "data": {
      "text/plain": [
       "<function utils.preprocessing.get_columns_type(df)>"
      ]
     },
     "execution_count": 307,
     "metadata": {},
     "output_type": "execute_result"
    }
   ],
   "source": [
    "get_columns_type"
   ]
  },
  {
   "cell_type": "code",
   "execution_count": 308,
   "metadata": {},
   "outputs": [
    {
     "data": {
      "text/plain": [
       "{'integer': [],\n",
       " 'float': ['radius_mean',\n",
       "  'texture_mean',\n",
       "  'perimeter_mean',\n",
       "  'area_mean',\n",
       "  'smoothness_mean',\n",
       "  'compactness_mean',\n",
       "  'concavity_mean',\n",
       "  'concave points_mean',\n",
       "  'symmetry_mean',\n",
       "  'fractal_dimension_mean',\n",
       "  'radius_se',\n",
       "  'texture_se',\n",
       "  'perimeter_se',\n",
       "  'area_se',\n",
       "  'smoothness_se',\n",
       "  'compactness_se',\n",
       "  'concavity_se',\n",
       "  'concave points_se',\n",
       "  'symmetry_se',\n",
       "  'fractal_dimension_se',\n",
       "  'radius_worst',\n",
       "  'texture_worst',\n",
       "  'perimeter_worst',\n",
       "  'area_worst',\n",
       "  'smoothness_worst',\n",
       "  'compactness_worst',\n",
       "  'concavity_worst',\n",
       "  'concave points_worst',\n",
       "  'symmetry_worst',\n",
       "  'fractal_dimension_worst'],\n",
       " 'string': ['diagnosis']}"
      ]
     },
     "execution_count": 308,
     "metadata": {},
     "output_type": "execute_result"
    }
   ],
   "source": [
    "df_info.columns_type"
   ]
  },
  {
   "cell_type": "code",
   "execution_count": 309,
   "metadata": {},
   "outputs": [
    {
     "data": {
      "text/plain": [
       "30"
      ]
     },
     "execution_count": 309,
     "metadata": {},
     "output_type": "execute_result"
    }
   ],
   "source": [
    "len(df_info.numerical_cols)"
   ]
  },
  {
   "cell_type": "markdown",
   "metadata": {},
   "source": []
  },
  {
   "cell_type": "code",
   "execution_count": 310,
   "metadata": {},
   "outputs": [
    {
     "data": {
      "text/plain": [
       "30"
      ]
     },
     "execution_count": 310,
     "metadata": {},
     "output_type": "execute_result"
    }
   ],
   "source": [
    "#df_info.categorical_cols\n",
    "\n",
    "#cat_to_ohe_cat\n",
    "len(df_info.ohe_feature_names)\n",
    "\n",
    "#print(len(df_info.ohe_feature_names.keys()))"
   ]
  },
  {
   "cell_type": "code",
   "execution_count": 311,
   "metadata": {},
   "outputs": [
    {
     "data": {
      "text/plain": [
       "{}"
      ]
     },
     "execution_count": 311,
     "metadata": {},
     "output_type": "execute_result"
    }
   ],
   "source": [
    "df_info.cat_to_ohe_cat"
   ]
  },
  {
   "cell_type": "code",
   "execution_count": 312,
   "metadata": {},
   "outputs": [
    {
     "data": {
      "text/plain": [
       "1"
      ]
     },
     "execution_count": 312,
     "metadata": {},
     "output_type": "execute_result"
    }
   ],
   "source": [
    "len(df_info.categorical_cols\n",
    ")"
   ]
  },
  {
   "cell_type": "code",
   "execution_count": 313,
   "metadata": {},
   "outputs": [
    {
     "data": {
      "text/plain": [
       "['diagnosis']"
      ]
     },
     "execution_count": 313,
     "metadata": {},
     "output_type": "execute_result"
    }
   ],
   "source": [
    "df_info.categorical_cols"
   ]
  },
  {
   "cell_type": "code",
   "execution_count": null,
   "metadata": {},
   "outputs": [],
   "source": []
  }
 ],
 "metadata": {
  "kernelspec": {
   "display_name": "Python 3.7.11 ('cf_2022_final')",
   "language": "python",
   "name": "python3"
  },
  "language_info": {
   "codemirror_mode": {
    "name": "ipython",
    "version": 3
   },
   "file_extension": ".py",
   "mimetype": "text/x-python",
   "name": "python",
   "nbconvert_exporter": "python",
   "pygments_lexer": "ipython3",
   "version": "3.7.11"
  },
  "orig_nbformat": 4,
  "vscode": {
   "interpreter": {
    "hash": "ddbd05a1a14a3b0def6fc051a52a025c8773943fa7dc1baab0b936f7bf6828c8"
   }
  }
 },
 "nbformat": 4,
 "nbformat_minor": 2
}
