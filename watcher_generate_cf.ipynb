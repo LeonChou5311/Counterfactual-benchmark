{
 "cells": [
  {
   "cell_type": "code",
   "execution_count": 1,
   "source": [
    "import tensorflow as tf\n",
    "import pandas as pd\n",
    "import numpy as np\n",
    "\n",
    "from utils.df_loader import load_breast_cancer_df, load_diabetes_df\n",
    "from sklearn.model_selection import train_test_split\n",
    "from utils.preprocessing import preprocess_df\n",
    "from utils.models import train_three_models, evaluation_test, save_three_models, load_three_models\n",
    "from utils.watcher import  generate_watcher_result, process_result\n",
    "\n",
    "from utils.save import save_result_as_csv\n",
    "\n",
    "### Disable TF2 and enable TF1 for alibi.\n",
    "tf.get_logger().setLevel(40) \n",
    "tf.compat.v1.disable_v2_behavior()\n",
    "tf.keras.backend.clear_session()\n",
    "pd.options.mode.chained_assignment = None \n",
    "\n",
    "print('TF version: ', tf.__version__)\n",
    "print('Eager execution enabled: ', tf.executing_eagerly()) # False\n",
    "\n",
    "\n",
    "seed = 123\n",
    "tf.random.set_seed(seed)\n",
    "np.random.seed(seed)\n"
   ],
   "outputs": [
    {
     "output_type": "stream",
     "name": "stdout",
     "text": [
      "TF version:  2.4.0-rc0\n",
      "Eager execution enabled:  False\n"
     ]
    }
   ],
   "metadata": {}
  },
  {
   "cell_type": "code",
   "execution_count": 2,
   "source": [
    "#### Select dataset ####\n",
    "\n",
    "dataset_name = 'breast_cancer' # [adult, german, compas]\n",
    "\n",
    "if dataset_name == 'diabetes':\n",
    "    dataset_loading_fn = load_diabetes_df\n",
    "elif dataset_name == 'breast_cancer':\n",
    "    dataset_loading_fn = load_breast_cancer_df\n",
    "else:\n",
    "    raise Exception(\"Unsupported dataset\")"
   ],
   "outputs": [],
   "metadata": {}
  },
  {
   "cell_type": "code",
   "execution_count": 3,
   "source": [
    "#### Load datafram info.\n",
    "df_info = preprocess_df(dataset_loading_fn)"
   ],
   "outputs": [],
   "metadata": {}
  },
  {
   "cell_type": "code",
   "execution_count": 4,
   "source": [
    "### Seperate to train and test set.\n",
    "train_df, test_df = train_test_split(df_info.dummy_df, train_size=.8, random_state=seed, shuffle=True)"
   ],
   "outputs": [],
   "metadata": {}
  },
  {
   "cell_type": "code",
   "execution_count": 5,
   "source": [
    "### Get training and testing array.\n",
    "X_train = np.array(train_df[df_info.ohe_feature_names])\n",
    "y_train = np.array(train_df[df_info.target_name])\n",
    "X_test = np.array(test_df[df_info.ohe_feature_names])\n",
    "y_test = np.array(test_df[df_info.target_name])"
   ],
   "outputs": [],
   "metadata": {}
  },
  {
   "cell_type": "code",
   "execution_count": 6,
   "source": [
    "# ## Train models.\n",
    "# models = train_three_models(X_train, y_train)\n",
    "\n",
    "# ## Save models.\n",
    "# save_three_models(models, dataset_name)"
   ],
   "outputs": [],
   "metadata": {}
  },
  {
   "cell_type": "code",
   "execution_count": 7,
   "source": [
    "### Load models\n",
    "models = load_three_models(X_train.shape[-1], dataset_name)"
   ],
   "outputs": [
    {
     "output_type": "stream",
     "name": "stderr",
     "text": [
      "/Users/jrhs/miniforge3/envs/tf_mac/lib/python3.8/site-packages/tensorflow/python/keras/engine/training.py:2325: UserWarning: `Model.state_updates` will be removed in a future version. This property should not be used in TensorFlow 2.0, as `updates` are applied automatically.\n",
      "  warnings.warn('`Model.state_updates` will be removed in a future version. '\n"
     ]
    }
   ],
   "metadata": {}
  },
  {
   "cell_type": "code",
   "execution_count": 8,
   "source": [
    "### Print out accuracy on testset.\n",
    "evaluation_test(models, X_test, y_test)"
   ],
   "outputs": [
    {
     "output_type": "stream",
     "name": "stdout",
     "text": [
      "DT: [0.7727] | RF [0.7987] | NN [0.7662]\n"
     ]
    }
   ],
   "metadata": {}
  },
  {
   "cell_type": "markdown",
   "source": [
    "## Watcher Counterfactual"
   ],
   "metadata": {}
  },
  {
   "cell_type": "code",
   "execution_count": 9,
   "source": [
    "### Setting up the CF generating amount.\n",
    "num_instances = 5\n",
    "num_cf_per_instance = 1"
   ],
   "outputs": [],
   "metadata": {}
  },
  {
   "cell_type": "code",
   "execution_count": 10,
   "source": [
    "### Generate CF\n",
    "results = generate_watcher_result(df_info, train_df, models, num_instances, num_cf_per_instance, X_train, X_test, y_test, max_iters=1000)\n",
    "result_dfs = process_result(results, df_info)"
   ],
   "outputs": [
    {
     "output_type": "stream",
     "name": "stdout",
     "text": [
      "Finding counterfactual for dt\n",
      "instance 0\n",
      "CF 0\n",
      "Found CF\n",
      "instance 1\n",
      "CF 0\n",
      "Found CF\n",
      "instance 2\n",
      "CF 0\n",
      "Found CF\n",
      "instance 3\n",
      "CF 0\n",
      "CF not found\n",
      "instance 4\n",
      "CF 0\n",
      "CF not found\n",
      "Finding counterfactual for rfc\n",
      "instance 0\n",
      "CF 0\n",
      "Found CF\n",
      "instance 1\n",
      "CF 0\n",
      "CF not found\n",
      "instance 2\n",
      "CF 0\n",
      "Found CF\n",
      "instance 3\n",
      "CF 0\n",
      "CF not found\n",
      "instance 4\n",
      "CF 0\n",
      "CF not found\n",
      "Finding counterfactual for nn\n",
      "instance 0\n",
      "CF 0\n",
      "CF not found\n",
      "instance 1\n",
      "CF 0\n",
      "CF not found\n",
      "instance 2\n",
      "CF 0\n",
      "CF not found\n",
      "instance 3\n",
      "CF 0\n",
      "CF not found\n",
      "instance 4\n",
      "CF 0\n",
      "CF not found\n"
     ]
    }
   ],
   "metadata": {}
  },
  {
   "cell_type": "code",
   "execution_count": 11,
   "source": [
    "### Save result as file.\n",
    "save_result_as_csv(\"watcher\", dataset_name, result_dfs)"
   ],
   "outputs": [
    {
     "output_type": "stream",
     "name": "stdout",
     "text": [
      "Result has been saved to ./results/watcher_diabetes\n"
     ]
    }
   ],
   "metadata": {}
  },
  {
   "cell_type": "code",
   "execution_count": 12,
   "source": [
    "result_dfs['nn']"
   ],
   "outputs": [
    {
     "output_type": "execute_result",
     "data": {
      "text/plain": [
       "   scaled_input_Pregnancies  scaled_input_Glucose  scaled_input_BloodPressure  \\\n",
       "0                  0.411765              0.909548                    0.688525   \n",
       "0                  0.117647              0.638191                    0.475410   \n",
       "0                  0.647059              0.693467                    0.622951   \n",
       "0                  0.117647              0.407035                    0.491803   \n",
       "0                  0.000000              0.422111                    0.672131   \n",
       "\n",
       "   scaled_input_SkinThickness  scaled_input_Insulin  scaled_input_BMI  \\\n",
       "0                    0.212121              0.226950          0.535022   \n",
       "0                    0.242424              0.325059          0.412817   \n",
       "0                    0.000000              0.000000          0.494784   \n",
       "0                    0.222222              0.000000          0.412817   \n",
       "0                    0.313131              0.147754          0.569300   \n",
       "\n",
       "   scaled_input_DiabetesPedigreeFunction  scaled_input_Age  \\\n",
       "0                               0.216909          0.500000   \n",
       "0                               0.649872          0.066667   \n",
       "0                               0.146029          0.233333   \n",
       "0                               0.090521          0.066667   \n",
       "0                               0.066183          0.033333   \n",
       "\n",
       "  scaled_input_Outcome  origin_input_Pregnancies  ...  \\\n",
       "0                    Y                       7.0  ...   \n",
       "0                    N                       2.0  ...   \n",
       "0                    N                      11.0  ...   \n",
       "0                    N                       2.0  ...   \n",
       "0                    N                       0.0  ...   \n",
       "\n",
       "   origin_input_SkinThickness  origin_input_Insulin  origin_input_BMI  \\\n",
       "0                        21.0                 192.0              35.9   \n",
       "0                        24.0                 275.0              27.7   \n",
       "0                         0.0                   0.0              33.2   \n",
       "0                        22.0                   0.0              27.7   \n",
       "0                        31.0                 125.0              38.2   \n",
       "\n",
       "   origin_input_DiabetesPedigreeFunction  origin_input_Age  \\\n",
       "0                                  0.586              51.0   \n",
       "0                                  1.600              25.0   \n",
       "0                                  0.420              35.0   \n",
       "0                                  0.290              25.0   \n",
       "0                                  0.233              23.0   \n",
       "\n",
       "   origin_input_Outcome  running_time Found  ground_truth prediction  \n",
       "0                     Y      2.745827     N             Y          Y  \n",
       "0                     N      2.689703     N             N          N  \n",
       "0                     N      2.695067     N             N          N  \n",
       "0                     N      2.701206     N             N          N  \n",
       "0                     N      2.706162     N             N          N  \n",
       "\n",
       "[5 rows x 22 columns]"
      ],
      "text/html": [
       "<div>\n",
       "<style scoped>\n",
       "    .dataframe tbody tr th:only-of-type {\n",
       "        vertical-align: middle;\n",
       "    }\n",
       "\n",
       "    .dataframe tbody tr th {\n",
       "        vertical-align: top;\n",
       "    }\n",
       "\n",
       "    .dataframe thead th {\n",
       "        text-align: right;\n",
       "    }\n",
       "</style>\n",
       "<table border=\"1\" class=\"dataframe\">\n",
       "  <thead>\n",
       "    <tr style=\"text-align: right;\">\n",
       "      <th></th>\n",
       "      <th>scaled_input_Pregnancies</th>\n",
       "      <th>scaled_input_Glucose</th>\n",
       "      <th>scaled_input_BloodPressure</th>\n",
       "      <th>scaled_input_SkinThickness</th>\n",
       "      <th>scaled_input_Insulin</th>\n",
       "      <th>scaled_input_BMI</th>\n",
       "      <th>scaled_input_DiabetesPedigreeFunction</th>\n",
       "      <th>scaled_input_Age</th>\n",
       "      <th>scaled_input_Outcome</th>\n",
       "      <th>origin_input_Pregnancies</th>\n",
       "      <th>...</th>\n",
       "      <th>origin_input_SkinThickness</th>\n",
       "      <th>origin_input_Insulin</th>\n",
       "      <th>origin_input_BMI</th>\n",
       "      <th>origin_input_DiabetesPedigreeFunction</th>\n",
       "      <th>origin_input_Age</th>\n",
       "      <th>origin_input_Outcome</th>\n",
       "      <th>running_time</th>\n",
       "      <th>Found</th>\n",
       "      <th>ground_truth</th>\n",
       "      <th>prediction</th>\n",
       "    </tr>\n",
       "  </thead>\n",
       "  <tbody>\n",
       "    <tr>\n",
       "      <th>0</th>\n",
       "      <td>0.411765</td>\n",
       "      <td>0.909548</td>\n",
       "      <td>0.688525</td>\n",
       "      <td>0.212121</td>\n",
       "      <td>0.226950</td>\n",
       "      <td>0.535022</td>\n",
       "      <td>0.216909</td>\n",
       "      <td>0.500000</td>\n",
       "      <td>Y</td>\n",
       "      <td>7.0</td>\n",
       "      <td>...</td>\n",
       "      <td>21.0</td>\n",
       "      <td>192.0</td>\n",
       "      <td>35.9</td>\n",
       "      <td>0.586</td>\n",
       "      <td>51.0</td>\n",
       "      <td>Y</td>\n",
       "      <td>2.745827</td>\n",
       "      <td>N</td>\n",
       "      <td>Y</td>\n",
       "      <td>Y</td>\n",
       "    </tr>\n",
       "    <tr>\n",
       "      <th>0</th>\n",
       "      <td>0.117647</td>\n",
       "      <td>0.638191</td>\n",
       "      <td>0.475410</td>\n",
       "      <td>0.242424</td>\n",
       "      <td>0.325059</td>\n",
       "      <td>0.412817</td>\n",
       "      <td>0.649872</td>\n",
       "      <td>0.066667</td>\n",
       "      <td>N</td>\n",
       "      <td>2.0</td>\n",
       "      <td>...</td>\n",
       "      <td>24.0</td>\n",
       "      <td>275.0</td>\n",
       "      <td>27.7</td>\n",
       "      <td>1.600</td>\n",
       "      <td>25.0</td>\n",
       "      <td>N</td>\n",
       "      <td>2.689703</td>\n",
       "      <td>N</td>\n",
       "      <td>N</td>\n",
       "      <td>N</td>\n",
       "    </tr>\n",
       "    <tr>\n",
       "      <th>0</th>\n",
       "      <td>0.647059</td>\n",
       "      <td>0.693467</td>\n",
       "      <td>0.622951</td>\n",
       "      <td>0.000000</td>\n",
       "      <td>0.000000</td>\n",
       "      <td>0.494784</td>\n",
       "      <td>0.146029</td>\n",
       "      <td>0.233333</td>\n",
       "      <td>N</td>\n",
       "      <td>11.0</td>\n",
       "      <td>...</td>\n",
       "      <td>0.0</td>\n",
       "      <td>0.0</td>\n",
       "      <td>33.2</td>\n",
       "      <td>0.420</td>\n",
       "      <td>35.0</td>\n",
       "      <td>N</td>\n",
       "      <td>2.695067</td>\n",
       "      <td>N</td>\n",
       "      <td>N</td>\n",
       "      <td>N</td>\n",
       "    </tr>\n",
       "    <tr>\n",
       "      <th>0</th>\n",
       "      <td>0.117647</td>\n",
       "      <td>0.407035</td>\n",
       "      <td>0.491803</td>\n",
       "      <td>0.222222</td>\n",
       "      <td>0.000000</td>\n",
       "      <td>0.412817</td>\n",
       "      <td>0.090521</td>\n",
       "      <td>0.066667</td>\n",
       "      <td>N</td>\n",
       "      <td>2.0</td>\n",
       "      <td>...</td>\n",
       "      <td>22.0</td>\n",
       "      <td>0.0</td>\n",
       "      <td>27.7</td>\n",
       "      <td>0.290</td>\n",
       "      <td>25.0</td>\n",
       "      <td>N</td>\n",
       "      <td>2.701206</td>\n",
       "      <td>N</td>\n",
       "      <td>N</td>\n",
       "      <td>N</td>\n",
       "    </tr>\n",
       "    <tr>\n",
       "      <th>0</th>\n",
       "      <td>0.000000</td>\n",
       "      <td>0.422111</td>\n",
       "      <td>0.672131</td>\n",
       "      <td>0.313131</td>\n",
       "      <td>0.147754</td>\n",
       "      <td>0.569300</td>\n",
       "      <td>0.066183</td>\n",
       "      <td>0.033333</td>\n",
       "      <td>N</td>\n",
       "      <td>0.0</td>\n",
       "      <td>...</td>\n",
       "      <td>31.0</td>\n",
       "      <td>125.0</td>\n",
       "      <td>38.2</td>\n",
       "      <td>0.233</td>\n",
       "      <td>23.0</td>\n",
       "      <td>N</td>\n",
       "      <td>2.706162</td>\n",
       "      <td>N</td>\n",
       "      <td>N</td>\n",
       "      <td>N</td>\n",
       "    </tr>\n",
       "  </tbody>\n",
       "</table>\n",
       "<p>5 rows × 22 columns</p>\n",
       "</div>"
      ]
     },
     "metadata": {},
     "execution_count": 12
    }
   ],
   "metadata": {}
  },
  {
   "cell_type": "code",
   "execution_count": null,
   "source": [],
   "outputs": [],
   "metadata": {}
  }
 ],
 "metadata": {
  "orig_nbformat": 4,
  "language_info": {
   "name": "python",
   "version": "3.8.10",
   "mimetype": "text/x-python",
   "codemirror_mode": {
    "name": "ipython",
    "version": 3
   },
   "pygments_lexer": "ipython3",
   "nbconvert_exporter": "python",
   "file_extension": ".py"
  },
  "kernelspec": {
   "name": "python3",
   "display_name": "Python 3.8.10 64-bit ('tf_mac': conda)"
  },
  "interpreter": {
   "hash": "5c622353f32ef24c8d83e5c3e334107c074e82d7c3e8ca52c56b9fc900ce33e6"
  }
 },
 "nbformat": 4,
 "nbformat_minor": 2
}