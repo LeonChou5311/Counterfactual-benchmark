{
 "cells": [
  {
   "cell_type": "code",
   "execution_count": 1,
   "source": [
    "import tensorflow as tf\n",
    "import pandas as pd\n",
    "import numpy as np\n",
    "\n",
    "from utils.df_loader import load_diabetes_df, load_breast_cancer_df\n",
    "from utils.preprocessing import preprocess_df\n",
    "from sklearn.model_selection import train_test_split\n",
    "from utils.models import train_three_models, evaluation_test, save_three_models, load_three_models\n",
    "from utils.save import save_result_as_csv\n",
    "from utils.gs import generate_gs_result, process_results\n",
    "\n",
    "\n",
    "pd.options.mode.chained_assignment = None \n",
    "\n",
    "print('TF version: ', tf.__version__)\n",
    "print('Eager execution enabled: ', tf.executing_eagerly()) # False\n",
    "\n",
    "seed = 123\n",
    "tf.random.set_seed(seed)\n",
    "np.random.seed(seed)\n"
   ],
   "outputs": [
    {
     "output_type": "stream",
     "name": "stdout",
     "text": [
      "TF version:  2.4.0-rc0\n",
      "Eager execution enabled:  True\n"
     ]
    }
   ],
   "metadata": {}
  },
  {
   "cell_type": "code",
   "execution_count": 2,
   "source": [
    "#### Select dataset ####\n",
    "\n",
    "dataset_name = 'breast_cancer' \n",
    "\n",
    "if  dataset_name == 'diabetes':\n",
    "    dataset_loading_fn = load_diabetes_df\n",
    "elif dataset_name == 'breast_cancer':\n",
    "    dataset_loading_fn = load_breast_cancer_df\n",
    "else:\n",
    "    raise Exception(\"Unsupported dataset\")"
   ],
   "outputs": [],
   "metadata": {}
  },
  {
   "cell_type": "code",
   "execution_count": null,
   "source": [],
   "outputs": [],
   "metadata": {}
  },
  {
   "cell_type": "code",
   "execution_count": 3,
   "source": [
    "#### Load datafram info.\n",
    "df_info = preprocess_df(dataset_loading_fn)"
   ],
   "outputs": [],
   "metadata": {}
  },
  {
   "cell_type": "code",
   "execution_count": 4,
   "source": [
    "### Seperate to train and test set.\n",
    "train_df, test_df = train_test_split(df_info.dummy_df, train_size=.8, random_state=seed, shuffle=True)"
   ],
   "outputs": [],
   "metadata": {}
  },
  {
   "cell_type": "code",
   "execution_count": 5,
   "source": [
    "### Get training and testing array.\n",
    "X_train = np.array(train_df[df_info.ohe_feature_names])\n",
    "y_train = np.array(train_df[df_info.target_name])\n",
    "X_test = np.array(test_df[df_info.ohe_feature_names])\n",
    "y_test = np.array(test_df[df_info.target_name])"
   ],
   "outputs": [],
   "metadata": {}
  },
  {
   "cell_type": "code",
   "execution_count": 6,
   "source": [
    "### Load models.\n",
    "models = load_three_models(X_train.shape[-1], dataset_name)"
   ],
   "outputs": [],
   "metadata": {}
  },
  {
   "cell_type": "code",
   "execution_count": 7,
   "source": [
    "### Print out accuracy on testset.\n",
    "evaluation_test(models, X_test, y_test)"
   ],
   "outputs": [
    {
     "output_type": "stream",
     "name": "stdout",
     "text": [
      "DT: [0.9737] | RF [0.9912] | NN [0.9737]\n"
     ]
    }
   ],
   "metadata": {}
  },
  {
   "cell_type": "code",
   "execution_count": 8,
   "source": [
    "### Setting up the CF generating amount.\n",
    "num_instances = 5\n",
    "num_cf_per_instance = 1"
   ],
   "outputs": [],
   "metadata": {}
  },
  {
   "cell_type": "code",
   "execution_count": 9,
   "source": [
    "results = generate_gs_result(df_info, test_df, models, num_instances, num_cf_per_instance, 2000)\n",
    "result_dfs = process_results(df_info, results)"
   ],
   "outputs": [
    {
     "output_type": "stream",
     "name": "stdout",
     "text": [
      "Finding counterfactual for dt\n",
      "instance 0\n",
      "CF 0\n",
      "0 ennemies found in initial sphere. Zooming in...\n",
      "Exploring...\n",
      "Final number of iterations:  12\n",
      "Final radius:  (0.20799999999999996, 0.22599999999999995)\n",
      "Final number of ennemies:  1\n",
      "Feature selection...\n",
      "Reduced 29 coordinates\n",
      "instance 1\n",
      "CF 0\n",
      "0 ennemies found in initial sphere. Zooming in...\n",
      "Exploring...\n",
      "Final number of iterations:  15\n",
      "Final radius:  (0.26199999999999996, 0.27999999999999997)\n",
      "Final number of ennemies:  3\n",
      "Feature selection...\n",
      "Reduced 29 coordinates\n",
      "instance 2\n",
      "CF 0\n",
      "0 ennemies found in initial sphere. Zooming in...\n",
      "Exploring...\n",
      "Final number of iterations:  7\n",
      "Final radius:  (0.11800000000000001, 0.136)\n",
      "Final number of ennemies:  2\n",
      "Feature selection...\n",
      "Reduced 28 coordinates\n",
      "instance 3\n",
      "CF 0\n",
      "647 ennemies found in initial sphere. Zooming in...\n",
      "0 ennemies found in initial sphere. Zooming in...\n",
      "Exploring...\n",
      "Final number of iterations:  6\n",
      "Final radius:  (0.01, 0.0118)\n",
      "Final number of ennemies:  3\n",
      "Feature selection...\n",
      "Reduced 29 coordinates\n",
      "instance 4\n",
      "CF 0\n",
      "0 ennemies found in initial sphere. Zooming in...\n",
      "Exploring...\n",
      "Final number of iterations:  14\n",
      "Final radius:  (0.24399999999999997, 0.26199999999999996)\n",
      "Final number of ennemies:  1\n",
      "Feature selection...\n",
      "Reduced 29 coordinates\n",
      "Finding counterfactual for rfc\n",
      "instance 0\n",
      "CF 0\n",
      "0 ennemies found in initial sphere. Zooming in...\n",
      "Exploring...\n",
      "Final number of iterations:  34\n",
      "Final radius:  (0.6040000000000002, 0.6220000000000002)\n",
      "Final number of ennemies:  1\n",
      "Feature selection...\n",
      "Reduced 22 coordinates\n",
      "instance 1\n",
      "CF 0\n",
      "0 ennemies found in initial sphere. Zooming in...\n",
      "Exploring...\n",
      "Final number of iterations:  40\n",
      "Final radius:  (0.7120000000000003, 0.7300000000000003)\n",
      "Final number of ennemies:  1\n",
      "Feature selection...\n",
      "Reduced 18 coordinates\n",
      "instance 2\n",
      "CF 0\n",
      "0 ennemies found in initial sphere. Zooming in...\n",
      "Exploring...\n",
      "Final number of iterations:  24\n",
      "Final radius:  (0.4240000000000001, 0.4420000000000001)\n",
      "Final number of ennemies:  6\n",
      "Feature selection...\n",
      "Reduced 22 coordinates\n",
      "instance 3\n",
      "CF 0\n",
      "0 ennemies found in initial sphere. Zooming in...\n",
      "Exploring...\n",
      "Final number of iterations:  23\n",
      "Final radius:  (0.4060000000000001, 0.4240000000000001)\n",
      "Final number of ennemies:  1\n",
      "Feature selection...\n",
      "Reduced 22 coordinates\n",
      "instance 4\n",
      "CF 0\n",
      "0 ennemies found in initial sphere. Zooming in...\n",
      "Exploring...\n",
      "Final number of iterations:  34\n",
      "Final radius:  (0.6040000000000002, 0.6220000000000002)\n",
      "Final number of ennemies:  1\n",
      "Feature selection...\n",
      "Reduced 21 coordinates\n",
      "Finding counterfactual for nn\n",
      "instance 0\n",
      "CF 0\n",
      "0 ennemies found in initial sphere. Zooming in...\n",
      "Exploring...\n",
      "Final number of iterations:  39\n",
      "Final radius:  (0.6940000000000003, 0.7120000000000003)\n",
      "Final number of ennemies:  1\n",
      "Feature selection...\n",
      "Reduced 19 coordinates\n",
      "instance 1\n",
      "CF 0\n",
      "0 ennemies found in initial sphere. Zooming in...\n",
      "Exploring...\n",
      "Final number of iterations:  37\n",
      "Final radius:  (0.6580000000000003, 0.6760000000000003)\n",
      "Final number of ennemies:  1\n",
      "Feature selection...\n",
      "Reduced 11 coordinates\n",
      "instance 2\n",
      "CF 0\n",
      "0 ennemies found in initial sphere. Zooming in...\n",
      "Exploring...\n",
      "Final number of iterations:  25\n",
      "Final radius:  (0.4420000000000001, 0.46000000000000013)\n",
      "Final number of ennemies:  1\n",
      "Feature selection...\n",
      "Reduced 18 coordinates\n",
      "instance 3\n",
      "CF 0\n",
      "0 ennemies found in initial sphere. Zooming in...\n",
      "Exploring...\n",
      "Final number of iterations:  32\n",
      "Final radius:  (0.5680000000000002, 0.5860000000000002)\n",
      "Final number of ennemies:  1\n",
      "Feature selection...\n",
      "Reduced 14 coordinates\n",
      "instance 4\n",
      "CF 0\n",
      "0 ennemies found in initial sphere. Zooming in...\n",
      "Exploring...\n",
      "Final number of iterations:  27\n",
      "Final radius:  (0.47800000000000015, 0.49600000000000016)\n",
      "Final number of ennemies:  1\n",
      "Feature selection...\n",
      "Reduced 19 coordinates\n"
     ]
    }
   ],
   "metadata": {}
  },
  {
   "cell_type": "code",
   "execution_count": 10,
   "source": [
    "### Save result as file.\n",
    "save_result_as_csv(\"GS\", dataset_name, result_dfs)"
   ],
   "outputs": [
    {
     "output_type": "stream",
     "name": "stdout",
     "text": [
      "Result has been saved to ./results/GS_breast_cancer\n"
     ]
    }
   ],
   "metadata": {}
  }
 ],
 "metadata": {
  "orig_nbformat": 4,
  "language_info": {
   "name": "python",
   "version": "3.8.10",
   "mimetype": "text/x-python",
   "codemirror_mode": {
    "name": "ipython",
    "version": 3
   },
   "pygments_lexer": "ipython3",
   "nbconvert_exporter": "python",
   "file_extension": ".py"
  },
  "kernelspec": {
   "name": "python3",
   "display_name": "Python 3.8.10 64-bit ('tf_mac': conda)"
  },
  "interpreter": {
   "hash": "5c622353f32ef24c8d83e5c3e334107c074e82d7c3e8ca52c56b9fc900ce33e6"
  }
 },
 "nbformat": 4,
 "nbformat_minor": 2
}