{
 "metadata": {
  "language_info": {
   "codemirror_mode": {
    "name": "ipython",
    "version": 3
   },
   "file_extension": ".py",
   "mimetype": "text/x-python",
   "name": "python",
   "nbconvert_exporter": "python",
   "pygments_lexer": "ipython3",
   "version": "3.8.10"
  },
  "orig_nbformat": 4,
  "kernelspec": {
   "name": "python3",
   "display_name": "Python 3.8.10 64-bit ('tf_mac': conda)"
  },
  "interpreter": {
   "hash": "5c622353f32ef24c8d83e5c3e334107c074e82d7c3e8ca52c56b9fc900ce33e6"
  }
 },
 "nbformat": 4,
 "nbformat_minor": 2,
 "cells": [
  {
   "cell_type": "code",
   "execution_count": 1,
   "source": [
    "from surrogate.neighbor import GeneticAlgorithmPermutationGenerator, calculate_feature_values\n",
    "from utils.prediction import PredictionTypeWrapper, PredictionTypeWrapper, generate_local_predictions, wrap_information\n",
    "from surrogate.wrapper import SurrogateWrapper\n",
    "from lore.prepare_dataset import prepare_diabetes_dataset\n",
    "\n",
    "from utils import load\n",
    "from datetime import datetime\n",
    "import tensorflow as tf\n",
    "import numpy as np\n",
    "import pandas as pd\n",
    "from surrogate.evaluate import get_evaluation\n",
    "\n",
    "### Set random seed\n",
    "seed = 123\n",
    "tf.random.set_seed(seed)\n",
    "np.random.seed(seed)"
   ],
   "outputs": [],
   "metadata": {}
  },
  {
   "cell_type": "code",
   "execution_count": 2,
   "source": [
    "df = pd.read_csv('cf_proto_result.csv')"
   ],
   "outputs": [],
   "metadata": {}
  },
  {
   "cell_type": "code",
   "execution_count": 3,
   "source": [
    "### Load data\n",
    "dataset = load.SelectableDataset.Diabetes\n",
    "data, balanced_data, X, Y, encoder, scaler, n_features, n_classes, feature_names, target_name = load.load_dataset(dataset)\n",
    "X_train, Y_train, X_test, Y_test, X_validation, Y_validation = load.load_training_data(dataset)\n",
    "model = load.load_trained_model_for_dataset(dataset)"
   ],
   "outputs": [
    {
     "output_type": "stream",
     "name": "stdout",
     "text": [
      "Loaded model from disk\n"
     ]
    }
   ],
   "metadata": {}
  },
  {
   "cell_type": "code",
   "execution_count": 4,
   "source": [
    "diabetes_feature_range = (X_train.min(axis=0), X_train.max(axis=0))\n",
    "# store all information \n",
    "local_data_dict = generate_local_predictions( X_test, Y_test, model, scaler, encoder )\n",
    "# sorting by different conditions\n",
    "true_positives,true_negatives, false_positives, false_negatives = wrap_information( local_data_dict )\n",
    "# get all prediction types\n",
    "all_predictions = PredictionTypeWrapper(true_positives,true_negatives, false_positives, false_negatives)"
   ],
   "outputs": [],
   "metadata": {}
  },
  {
   "cell_type": "code",
   "execution_count": 5,
   "source": [
    "surrogate_wrapper = SurrogateWrapper(model)\n",
    "diabetes_dataset = prepare_diabetes_dataset('./datasets/diabetes.csv')\n",
    "diabetes_dataset['feature_values'] = calculate_feature_values(balanced_data, list(balanced_data.columns), 'Outcome', ['Pregnancies'], size=1000)"
   ],
   "outputs": [],
   "metadata": {}
  },
  {
   "cell_type": "code",
   "execution_count": 6,
   "source": [
    "idx_features = diabetes_dataset['idx_features']\n",
    "discrete = diabetes_dataset['discrete']\n",
    "continuous = diabetes_dataset['continuous']\n",
    "target_name = diabetes_dataset['class_name']\n",
    "feature_values = diabetes_dataset['feature_values']"
   ],
   "outputs": [],
   "metadata": {}
  },
  {
   "cell_type": "code",
   "execution_count": 7,
   "source": [
    "generator = GeneticAlgorithmPermutationGenerator(idx_features, discrete, continuous, target_name, surrogate_wrapper, scaler)"
   ],
   "outputs": [],
   "metadata": {}
  },
  {
   "cell_type": "code",
   "execution_count": 8,
   "source": [
    "df.head(5)"
   ],
   "outputs": [
    {
     "output_type": "execute_result",
     "data": {
      "text/plain": [
       "   Unnamed: 0  orgin_Pregnancies  orgin_Glucose  orgin_BloodPressure  \\\n",
       "0           0                1.0          189.0            56.065574   \n",
       "1           0                1.0          180.0             0.000000   \n",
       "2           0                8.0          179.0            67.278689   \n",
       "3           0                8.0          151.0            72.885246   \n",
       "4           0               11.0          138.0            69.147541   \n",
       "\n",
       "   orgin_SkinThickness  orgin_Insulin  orgin_BMI  \\\n",
       "0                 23.0          846.0       30.1   \n",
       "1                  0.0            0.0       43.3   \n",
       "2                 42.0          130.0       32.7   \n",
       "3                 32.0          210.0       42.9   \n",
       "4                 26.0          144.0       36.1   \n",
       "\n",
       "   orgin_DiabetesPedigreeFunction  orgin_Age  cf_Pregnancies  cf_Glucose  \\\n",
       "0                        0.391938       59.0        4.864439   77.610229   \n",
       "1                        0.275591       41.0        1.000000  162.397217   \n",
       "2                        0.713901       36.0        8.000000   89.772514   \n",
       "3                        0.510292       36.0        8.000000   98.750587   \n",
       "4                        0.551415       50.0       10.591582   67.560814   \n",
       "\n",
       "   cf_BloodPressure  cf_SkinThickness  cf_Insulin     cf_BMI  \\\n",
       "0         56.065575         23.000000  713.106689  30.100000   \n",
       "1          0.000000          0.000000    0.000000  22.185530   \n",
       "2         67.278687         45.410671  130.000000  32.700001   \n",
       "3         72.885246         32.453152  210.000000  42.900002   \n",
       "4         72.238609         26.000000  222.060013  36.099998   \n",
       "\n",
       "   cf_DiabetesPedigreeFunction  cf_Age  time(sec) prediction_type  \n",
       "0                     1.039824    59.0   7.610511   TRUE POSITIVE  \n",
       "1                     0.275591    41.0   8.429571   TRUE POSITIVE  \n",
       "2                     0.713901    36.0   8.814658   TRUE POSITIVE  \n",
       "3                     0.510292    36.0   8.336116   TRUE POSITIVE  \n",
       "4                     0.551415    50.0   7.659001   TRUE POSITIVE  "
      ],
      "text/html": [
       "<div>\n",
       "<style scoped>\n",
       "    .dataframe tbody tr th:only-of-type {\n",
       "        vertical-align: middle;\n",
       "    }\n",
       "\n",
       "    .dataframe tbody tr th {\n",
       "        vertical-align: top;\n",
       "    }\n",
       "\n",
       "    .dataframe thead th {\n",
       "        text-align: right;\n",
       "    }\n",
       "</style>\n",
       "<table border=\"1\" class=\"dataframe\">\n",
       "  <thead>\n",
       "    <tr style=\"text-align: right;\">\n",
       "      <th></th>\n",
       "      <th>Unnamed: 0</th>\n",
       "      <th>orgin_Pregnancies</th>\n",
       "      <th>orgin_Glucose</th>\n",
       "      <th>orgin_BloodPressure</th>\n",
       "      <th>orgin_SkinThickness</th>\n",
       "      <th>orgin_Insulin</th>\n",
       "      <th>orgin_BMI</th>\n",
       "      <th>orgin_DiabetesPedigreeFunction</th>\n",
       "      <th>orgin_Age</th>\n",
       "      <th>cf_Pregnancies</th>\n",
       "      <th>cf_Glucose</th>\n",
       "      <th>cf_BloodPressure</th>\n",
       "      <th>cf_SkinThickness</th>\n",
       "      <th>cf_Insulin</th>\n",
       "      <th>cf_BMI</th>\n",
       "      <th>cf_DiabetesPedigreeFunction</th>\n",
       "      <th>cf_Age</th>\n",
       "      <th>time(sec)</th>\n",
       "      <th>prediction_type</th>\n",
       "    </tr>\n",
       "  </thead>\n",
       "  <tbody>\n",
       "    <tr>\n",
       "      <th>0</th>\n",
       "      <td>0</td>\n",
       "      <td>1.0</td>\n",
       "      <td>189.0</td>\n",
       "      <td>56.065574</td>\n",
       "      <td>23.0</td>\n",
       "      <td>846.0</td>\n",
       "      <td>30.1</td>\n",
       "      <td>0.391938</td>\n",
       "      <td>59.0</td>\n",
       "      <td>4.864439</td>\n",
       "      <td>77.610229</td>\n",
       "      <td>56.065575</td>\n",
       "      <td>23.000000</td>\n",
       "      <td>713.106689</td>\n",
       "      <td>30.100000</td>\n",
       "      <td>1.039824</td>\n",
       "      <td>59.0</td>\n",
       "      <td>7.610511</td>\n",
       "      <td>TRUE POSITIVE</td>\n",
       "    </tr>\n",
       "    <tr>\n",
       "      <th>1</th>\n",
       "      <td>0</td>\n",
       "      <td>1.0</td>\n",
       "      <td>180.0</td>\n",
       "      <td>0.000000</td>\n",
       "      <td>0.0</td>\n",
       "      <td>0.0</td>\n",
       "      <td>43.3</td>\n",
       "      <td>0.275591</td>\n",
       "      <td>41.0</td>\n",
       "      <td>1.000000</td>\n",
       "      <td>162.397217</td>\n",
       "      <td>0.000000</td>\n",
       "      <td>0.000000</td>\n",
       "      <td>0.000000</td>\n",
       "      <td>22.185530</td>\n",
       "      <td>0.275591</td>\n",
       "      <td>41.0</td>\n",
       "      <td>8.429571</td>\n",
       "      <td>TRUE POSITIVE</td>\n",
       "    </tr>\n",
       "    <tr>\n",
       "      <th>2</th>\n",
       "      <td>0</td>\n",
       "      <td>8.0</td>\n",
       "      <td>179.0</td>\n",
       "      <td>67.278689</td>\n",
       "      <td>42.0</td>\n",
       "      <td>130.0</td>\n",
       "      <td>32.7</td>\n",
       "      <td>0.713901</td>\n",
       "      <td>36.0</td>\n",
       "      <td>8.000000</td>\n",
       "      <td>89.772514</td>\n",
       "      <td>67.278687</td>\n",
       "      <td>45.410671</td>\n",
       "      <td>130.000000</td>\n",
       "      <td>32.700001</td>\n",
       "      <td>0.713901</td>\n",
       "      <td>36.0</td>\n",
       "      <td>8.814658</td>\n",
       "      <td>TRUE POSITIVE</td>\n",
       "    </tr>\n",
       "    <tr>\n",
       "      <th>3</th>\n",
       "      <td>0</td>\n",
       "      <td>8.0</td>\n",
       "      <td>151.0</td>\n",
       "      <td>72.885246</td>\n",
       "      <td>32.0</td>\n",
       "      <td>210.0</td>\n",
       "      <td>42.9</td>\n",
       "      <td>0.510292</td>\n",
       "      <td>36.0</td>\n",
       "      <td>8.000000</td>\n",
       "      <td>98.750587</td>\n",
       "      <td>72.885246</td>\n",
       "      <td>32.453152</td>\n",
       "      <td>210.000000</td>\n",
       "      <td>42.900002</td>\n",
       "      <td>0.510292</td>\n",
       "      <td>36.0</td>\n",
       "      <td>8.336116</td>\n",
       "      <td>TRUE POSITIVE</td>\n",
       "    </tr>\n",
       "    <tr>\n",
       "      <th>4</th>\n",
       "      <td>0</td>\n",
       "      <td>11.0</td>\n",
       "      <td>138.0</td>\n",
       "      <td>69.147541</td>\n",
       "      <td>26.0</td>\n",
       "      <td>144.0</td>\n",
       "      <td>36.1</td>\n",
       "      <td>0.551415</td>\n",
       "      <td>50.0</td>\n",
       "      <td>10.591582</td>\n",
       "      <td>67.560814</td>\n",
       "      <td>72.238609</td>\n",
       "      <td>26.000000</td>\n",
       "      <td>222.060013</td>\n",
       "      <td>36.099998</td>\n",
       "      <td>0.551415</td>\n",
       "      <td>50.0</td>\n",
       "      <td>7.659001</td>\n",
       "      <td>TRUE POSITIVE</td>\n",
       "    </tr>\n",
       "  </tbody>\n",
       "</table>\n",
       "</div>"
      ]
     },
     "metadata": {},
     "execution_count": 8
    }
   ],
   "metadata": {}
  },
  {
   "cell_type": "code",
   "execution_count": 9,
   "source": [
    "# 0:42:15.884303\n",
    "# 0:42:15.858570\n",
    "start = datetime.now()\n",
    "result_df = get_evaluation(df, feature_values, feature_names, surrogate_wrapper, scaler, generator)\n",
    "end = datetime.now()\n",
    "print(end-start)"
   ],
   "outputs": [
    {
     "output_type": "stream",
     "name": "stdout",
     "text": [
      "\n",
      "====================Index====================\n",
      "| 0 \n",
      "=============================================\n"
     ]
    },
    {
     "output_type": "stream",
     "name": "stderr",
     "text": [
      "/Users/jrhs/miniforge3/envs/tf_mac/lib/python3.8/site-packages/deap/creator.py:138: RuntimeWarning: A class named 'fitness' has already been created and it will be overwritten. Consider deleting previous creation of that class or rename it.\n",
      "  warnings.warn(\"A class named '{0}' has already been created and it \"\n",
      "/Users/jrhs/miniforge3/envs/tf_mac/lib/python3.8/site-packages/deap/creator.py:138: RuntimeWarning: A class named 'individual' has already been created and it will be overwritten. Consider deleting previous creation of that class or rename it.\n",
      "  warnings.warn(\"A class named '{0}' has already been created and it \"\n"
     ]
    },
    {
     "output_type": "stream",
     "name": "stdout",
     "text": [
      "decision node 0 : (x [Glucose] = 189.0) > 136.4044647216797)\n",
      "decision node 22 : (x [BloodPressure] = 56.065574) <= 106.00564575195312)\n",
      "decision node 23 : (x [Age] = 59.0) > 17.079580307006836)\n",
      "decision node 0 : (x [Glucose] = 77.6102294921875) <= 136.4044647216797)\n",
      "decision node 1 : (x [Age] = 59.0) > 44.830915451049805)\n",
      "decision node 19 : (x [BloodPressure] = 56.065574645996094) <= 91.61150360107422)\n",
      "\n",
      "====================Index====================\n",
      "| 1 \n",
      "=============================================\n"
     ]
    },
    {
     "output_type": "stream",
     "name": "stderr",
     "text": [
      "/Users/jrhs/miniforge3/envs/tf_mac/lib/python3.8/site-packages/deap/creator.py:138: RuntimeWarning: A class named 'fitness' has already been created and it will be overwritten. Consider deleting previous creation of that class or rename it.\n",
      "  warnings.warn(\"A class named '{0}' has already been created and it \"\n",
      "/Users/jrhs/miniforge3/envs/tf_mac/lib/python3.8/site-packages/deap/creator.py:138: RuntimeWarning: A class named 'individual' has already been created and it will be overwritten. Consider deleting previous creation of that class or rename it.\n",
      "  warnings.warn(\"A class named '{0}' has already been created and it \"\n",
      "/Users/jrhs/miniforge3/envs/tf_mac/lib/python3.8/site-packages/deap/creator.py:138: RuntimeWarning: A class named 'fitness' has already been created and it will be overwritten. Consider deleting previous creation of that class or rename it.\n",
      "  warnings.warn(\"A class named '{0}' has already been created and it \"\n",
      "/Users/jrhs/miniforge3/envs/tf_mac/lib/python3.8/site-packages/deap/creator.py:138: RuntimeWarning: A class named 'individual' has already been created and it will be overwritten. Consider deleting previous creation of that class or rename it.\n",
      "  warnings.warn(\"A class named '{0}' has already been created and it \"\n"
     ]
    },
    {
     "output_type": "stream",
     "name": "stdout",
     "text": [
      "decision node 0 : (x [Age] = 41.0) > 38.17519187927246)\n",
      "decision node 10 : (x [BloodPressure] = 0.0) <= 45.620296478271484)\n",
      "decision node 11 : (x [Age] = 41.0) <= 44.111000061035156)\n",
      "decision node 12 : (x [Glucose] = 180.0) > 159.0)\n",
      "decision node 16 : (x [DiabetesPedigreeFunction] = 0.275591) <= 0.510000005364418)\n",
      "decision node 0 : (x [Age] = 41.0) > 38.17519187927246)\n",
      "decision node 10 : (x [BloodPressure] = 0.0) <= 45.620296478271484)\n",
      "decision node 11 : (x [Age] = 41.0) <= 44.111000061035156)\n",
      "decision node 12 : (x [Glucose] = 162.397216796875) > 159.0)\n",
      "decision node 16 : (x [DiabetesPedigreeFunction] = 0.2755905985832214) <= 0.510000005364418)\n",
      "\n",
      "====================Index====================\n",
      "| 2 \n",
      "=============================================\n"
     ]
    },
    {
     "output_type": "stream",
     "name": "stderr",
     "text": [
      "/Users/jrhs/miniforge3/envs/tf_mac/lib/python3.8/site-packages/deap/creator.py:138: RuntimeWarning: A class named 'fitness' has already been created and it will be overwritten. Consider deleting previous creation of that class or rename it.\n",
      "  warnings.warn(\"A class named '{0}' has already been created and it \"\n",
      "/Users/jrhs/miniforge3/envs/tf_mac/lib/python3.8/site-packages/deap/creator.py:138: RuntimeWarning: A class named 'individual' has already been created and it will be overwritten. Consider deleting previous creation of that class or rename it.\n",
      "  warnings.warn(\"A class named '{0}' has already been created and it \"\n",
      "/Users/jrhs/miniforge3/envs/tf_mac/lib/python3.8/site-packages/deap/creator.py:138: RuntimeWarning: A class named 'fitness' has already been created and it will be overwritten. Consider deleting previous creation of that class or rename it.\n",
      "  warnings.warn(\"A class named '{0}' has already been created and it \"\n",
      "/Users/jrhs/miniforge3/envs/tf_mac/lib/python3.8/site-packages/deap/creator.py:138: RuntimeWarning: A class named 'individual' has already been created and it will be overwritten. Consider deleting previous creation of that class or rename it.\n",
      "  warnings.warn(\"A class named '{0}' has already been created and it \"\n"
     ]
    },
    {
     "output_type": "stream",
     "name": "stdout",
     "text": [
      "decision node 0 : (x [Age] = 36.0) > 22.10096263885498)\n",
      "decision node 10 : (x [BloodPressure] = 67.278689) <= 89.01136016845703)\n",
      "decision node 11 : (x [Glucose] = 179.0) > 132.63735961914062)\n",
      "decision node 0 : (x [Age] = 36.0) > 22.10096263885498)\n",
      "decision node 10 : (x [BloodPressure] = 67.2786865234375) <= 89.01136016845703)\n",
      "decision node 11 : (x [Glucose] = 89.77251434326172) <= 132.63735961914062)\n",
      "decision node 12 : (x [Glucose] = 89.77251434326172) <= 127.10400009155273)\n",
      "\n",
      "====================Index====================\n",
      "| 3 \n",
      "=============================================\n"
     ]
    },
    {
     "output_type": "stream",
     "name": "stderr",
     "text": [
      "/Users/jrhs/miniforge3/envs/tf_mac/lib/python3.8/site-packages/deap/creator.py:138: RuntimeWarning: A class named 'fitness' has already been created and it will be overwritten. Consider deleting previous creation of that class or rename it.\n",
      "  warnings.warn(\"A class named '{0}' has already been created and it \"\n",
      "/Users/jrhs/miniforge3/envs/tf_mac/lib/python3.8/site-packages/deap/creator.py:138: RuntimeWarning: A class named 'individual' has already been created and it will be overwritten. Consider deleting previous creation of that class or rename it.\n",
      "  warnings.warn(\"A class named '{0}' has already been created and it \"\n",
      "/Users/jrhs/miniforge3/envs/tf_mac/lib/python3.8/site-packages/deap/creator.py:138: RuntimeWarning: A class named 'fitness' has already been created and it will be overwritten. Consider deleting previous creation of that class or rename it.\n",
      "  warnings.warn(\"A class named '{0}' has already been created and it \"\n",
      "/Users/jrhs/miniforge3/envs/tf_mac/lib/python3.8/site-packages/deap/creator.py:138: RuntimeWarning: A class named 'individual' has already been created and it will be overwritten. Consider deleting previous creation of that class or rename it.\n",
      "  warnings.warn(\"A class named '{0}' has already been created and it \"\n"
     ]
    },
    {
     "output_type": "stream",
     "name": "stdout",
     "text": [
      "decision node 0 : (x [Age] = 36.0) > 26.548523902893066)\n",
      "decision node 6 : (x [DiabetesPedigreeFunction] = 0.510292) > 0.2146875113248825)\n",
      "decision node 10 : (x [Glucose] = 151.0) > 82.43684005737305)\n",
      "decision node 12 : (x [Glucose] = 151.0) > 100.08361053466797)\n",
      "decision node 16 : (x [Age] = 36.0) > 29.037641525268555)\n",
      "decision node 0 : (x [Age] = 36.0) > 26.548523902893066)\n",
      "decision node 6 : (x [DiabetesPedigreeFunction] = 0.510292112827301) > 0.2146875113248825)\n",
      "decision node 10 : (x [Glucose] = 98.7505874633789) > 82.43684005737305)\n",
      "decision node 12 : (x [Glucose] = 98.7505874633789) <= 100.08361053466797)\n",
      "decision node 13 : (x [SkinThickness] = 32.45315170288086) > 4.339973509311676)\n",
      "\n",
      "====================Index====================\n",
      "| 4 \n",
      "=============================================\n"
     ]
    },
    {
     "output_type": "stream",
     "name": "stderr",
     "text": [
      "/Users/jrhs/miniforge3/envs/tf_mac/lib/python3.8/site-packages/deap/creator.py:138: RuntimeWarning: A class named 'fitness' has already been created and it will be overwritten. Consider deleting previous creation of that class or rename it.\n",
      "  warnings.warn(\"A class named '{0}' has already been created and it \"\n",
      "/Users/jrhs/miniforge3/envs/tf_mac/lib/python3.8/site-packages/deap/creator.py:138: RuntimeWarning: A class named 'individual' has already been created and it will be overwritten. Consider deleting previous creation of that class or rename it.\n",
      "  warnings.warn(\"A class named '{0}' has already been created and it \"\n",
      "/Users/jrhs/miniforge3/envs/tf_mac/lib/python3.8/site-packages/deap/creator.py:138: RuntimeWarning: A class named 'fitness' has already been created and it will be overwritten. Consider deleting previous creation of that class or rename it.\n",
      "  warnings.warn(\"A class named '{0}' has already been created and it \"\n",
      "/Users/jrhs/miniforge3/envs/tf_mac/lib/python3.8/site-packages/deap/creator.py:138: RuntimeWarning: A class named 'individual' has already been created and it will be overwritten. Consider deleting previous creation of that class or rename it.\n",
      "  warnings.warn(\"A class named '{0}' has already been created and it \"\n"
     ]
    },
    {
     "output_type": "stream",
     "name": "stdout",
     "text": [
      "decision node 0 : (x [Age] = 50.0) > 28.946621894836426)\n",
      "decision node 10 : (x [Glucose] = 138.0) > 94.35964584350586)\n",
      "decision node 12 : (x [DiabetesPedigreeFunction] = 0.551415) > -0.00392432464286685)\n",
      "decision node 14 : (x [BloodPressure] = 69.147541) <= 108.28866577148438)\n",
      "decision node 15 : (x [BMI] = 36.1) > 7.781590461730957)\n",
      "decision node 17 : (x [Age] = 50.0) > 32.12261772155762)\n",
      "decision node 0 : (x [Age] = 50.0) > 28.946621894836426)\n",
      "decision node 10 : (x [Glucose] = 67.5608139038086) <= 94.35964584350586)\n",
      "\n",
      "====================Index====================\n",
      "| 5 \n",
      "=============================================\n"
     ]
    },
    {
     "output_type": "stream",
     "name": "stderr",
     "text": [
      "/Users/jrhs/miniforge3/envs/tf_mac/lib/python3.8/site-packages/deap/creator.py:138: RuntimeWarning: A class named 'fitness' has already been created and it will be overwritten. Consider deleting previous creation of that class or rename it.\n",
      "  warnings.warn(\"A class named '{0}' has already been created and it \"\n",
      "/Users/jrhs/miniforge3/envs/tf_mac/lib/python3.8/site-packages/deap/creator.py:138: RuntimeWarning: A class named 'individual' has already been created and it will be overwritten. Consider deleting previous creation of that class or rename it.\n",
      "  warnings.warn(\"A class named '{0}' has already been created and it \"\n",
      "/Users/jrhs/miniforge3/envs/tf_mac/lib/python3.8/site-packages/deap/creator.py:138: RuntimeWarning: A class named 'fitness' has already been created and it will be overwritten. Consider deleting previous creation of that class or rename it.\n",
      "  warnings.warn(\"A class named '{0}' has already been created and it \"\n",
      "/Users/jrhs/miniforge3/envs/tf_mac/lib/python3.8/site-packages/deap/creator.py:138: RuntimeWarning: A class named 'individual' has already been created and it will be overwritten. Consider deleting previous creation of that class or rename it.\n",
      "  warnings.warn(\"A class named '{0}' has already been created and it \"\n"
     ]
    },
    {
     "output_type": "stream",
     "name": "stdout",
     "text": [
      "decision node 0 : (x [Age] = 52.0) > 22.694758415222168)\n",
      "decision node 4 : (x [BloodPressure] = 67.278689) <= 87.64469909667969)\n",
      "decision node 5 : (x [Glucose] = 123.0) <= 123.5)\n",
      "decision node 6 : (x [BMI] = 36.3) > 33.58245372772217)\n",
      "decision node 0 : (x [Age] = 52.00000381469727) > 22.694758415222168)\n",
      "decision node 4 : (x [BloodPressure] = 67.2786865234375) <= 87.64469909667969)\n",
      "decision node 5 : (x [Glucose] = 99.5359878540039) <= 123.5)\n",
      "decision node 6 : (x [BMI] = 36.29999923706055) > 33.58245372772217)\n",
      "\n",
      "====================Index====================\n",
      "| 6 \n",
      "=============================================\n"
     ]
    },
    {
     "output_type": "stream",
     "name": "stderr",
     "text": [
      "/Users/jrhs/miniforge3/envs/tf_mac/lib/python3.8/site-packages/deap/creator.py:138: RuntimeWarning: A class named 'fitness' has already been created and it will be overwritten. Consider deleting previous creation of that class or rename it.\n",
      "  warnings.warn(\"A class named '{0}' has already been created and it \"\n",
      "/Users/jrhs/miniforge3/envs/tf_mac/lib/python3.8/site-packages/deap/creator.py:138: RuntimeWarning: A class named 'individual' has already been created and it will be overwritten. Consider deleting previous creation of that class or rename it.\n",
      "  warnings.warn(\"A class named '{0}' has already been created and it \"\n",
      "/Users/jrhs/miniforge3/envs/tf_mac/lib/python3.8/site-packages/deap/creator.py:138: RuntimeWarning: A class named 'fitness' has already been created and it will be overwritten. Consider deleting previous creation of that class or rename it.\n",
      "  warnings.warn(\"A class named '{0}' has already been created and it \"\n",
      "/Users/jrhs/miniforge3/envs/tf_mac/lib/python3.8/site-packages/deap/creator.py:138: RuntimeWarning: A class named 'individual' has already been created and it will be overwritten. Consider deleting previous creation of that class or rename it.\n",
      "  warnings.warn(\"A class named '{0}' has already been created and it \"\n"
     ]
    },
    {
     "output_type": "stream",
     "name": "stdout",
     "text": [
      "decision node 0 : (x [Glucose] = 155.0) <= 158.5)\n",
      "decision node 1 : (x [Age] = 27.0) <= 40.1877498626709)\n",
      "decision node 2 : (x [DiabetesPedigreeFunction] = 0.427043) <= 0.9154258966445923)\n",
      "decision node 3 : (x [BMI] = 26.6) <= 51.728092193603516)\n",
      "decision node 4 : (x [Age] = 27.0) <= 33.49374008178711)\n",
      "decision node 0 : (x [Glucose] = 114.89661407470705) <= 158.5)\n",
      "decision node 1 : (x [Age] = 27.000001907348636) <= 40.1877498626709)\n",
      "decision node 2 : (x [DiabetesPedigreeFunction] = 0.4270432591438293) <= 0.9154258966445923)\n",
      "decision node 3 : (x [BMI] = 4.726327419281006) <= 51.728092193603516)\n",
      "decision node 4 : (x [Age] = 27.000001907348636) <= 33.49374008178711)\n",
      "\n",
      "====================Index====================\n",
      "| 7 \n",
      "=============================================\n"
     ]
    },
    {
     "output_type": "stream",
     "name": "stderr",
     "text": [
      "/Users/jrhs/miniforge3/envs/tf_mac/lib/python3.8/site-packages/deap/creator.py:138: RuntimeWarning: A class named 'fitness' has already been created and it will be overwritten. Consider deleting previous creation of that class or rename it.\n",
      "  warnings.warn(\"A class named '{0}' has already been created and it \"\n",
      "/Users/jrhs/miniforge3/envs/tf_mac/lib/python3.8/site-packages/deap/creator.py:138: RuntimeWarning: A class named 'individual' has already been created and it will be overwritten. Consider deleting previous creation of that class or rename it.\n",
      "  warnings.warn(\"A class named '{0}' has already been created and it \"\n",
      "/Users/jrhs/miniforge3/envs/tf_mac/lib/python3.8/site-packages/deap/creator.py:138: RuntimeWarning: A class named 'fitness' has already been created and it will be overwritten. Consider deleting previous creation of that class or rename it.\n",
      "  warnings.warn(\"A class named '{0}' has already been created and it \"\n",
      "/Users/jrhs/miniforge3/envs/tf_mac/lib/python3.8/site-packages/deap/creator.py:138: RuntimeWarning: A class named 'individual' has already been created and it will be overwritten. Consider deleting previous creation of that class or rename it.\n",
      "  warnings.warn(\"A class named '{0}' has already been created and it \"\n"
     ]
    },
    {
     "output_type": "stream",
     "name": "stdout",
     "text": [
      "decision node 0 : (x [Glucose] = 112.0) <= 137.98859405517578)\n",
      "decision node 1 : (x [Age] = 41.0) > 37.77165412902832)\n",
      "decision node 7 : (x [BMI] = 37.8) > 32.5303955078125)\n",
      "decision node 0 : (x [Glucose] = 80.95484161376953) <= 137.98859405517578)\n",
      "decision node 1 : (x [Age] = 39.161529541015625) > 37.77165412902832)\n",
      "decision node 7 : (x [BMI] = 37.79999923706055) > 32.5303955078125)\n",
      "\n",
      "====================Index====================\n",
      "| 8 \n",
      "=============================================\n"
     ]
    },
    {
     "output_type": "stream",
     "name": "stderr",
     "text": [
      "/Users/jrhs/miniforge3/envs/tf_mac/lib/python3.8/site-packages/deap/creator.py:138: RuntimeWarning: A class named 'fitness' has already been created and it will be overwritten. Consider deleting previous creation of that class or rename it.\n",
      "  warnings.warn(\"A class named '{0}' has already been created and it \"\n",
      "/Users/jrhs/miniforge3/envs/tf_mac/lib/python3.8/site-packages/deap/creator.py:138: RuntimeWarning: A class named 'individual' has already been created and it will be overwritten. Consider deleting previous creation of that class or rename it.\n",
      "  warnings.warn(\"A class named '{0}' has already been created and it \"\n",
      "/Users/jrhs/miniforge3/envs/tf_mac/lib/python3.8/site-packages/deap/creator.py:138: RuntimeWarning: A class named 'fitness' has already been created and it will be overwritten. Consider deleting previous creation of that class or rename it.\n",
      "  warnings.warn(\"A class named '{0}' has already been created and it \"\n",
      "/Users/jrhs/miniforge3/envs/tf_mac/lib/python3.8/site-packages/deap/creator.py:138: RuntimeWarning: A class named 'individual' has already been created and it will be overwritten. Consider deleting previous creation of that class or rename it.\n",
      "  warnings.warn(\"A class named '{0}' has already been created and it \"\n"
     ]
    },
    {
     "output_type": "stream",
     "name": "stdout",
     "text": [
      "decision node 0 : (x [Glucose] = 92.0) <= 155.0)\n",
      "decision node 1 : (x [DiabetesPedigreeFunction] = 0.921521) > 0.870773583650589)\n",
      "decision node 3 : (x [Age] = 44.0) > 21.01674747467041)\n",
      "decision node 0 : (x [Glucose] = 52.63523864746094) <= 155.0)\n",
      "decision node 1 : (x [DiabetesPedigreeFunction] = 0.921521246433258) > 0.870773583650589)\n",
      "decision node 3 : (x [Age] = 44.0) > 21.01674747467041)\n",
      "\n",
      "====================Index====================\n",
      "| 9 \n",
      "=============================================\n"
     ]
    },
    {
     "output_type": "stream",
     "name": "stderr",
     "text": [
      "/Users/jrhs/miniforge3/envs/tf_mac/lib/python3.8/site-packages/deap/creator.py:138: RuntimeWarning: A class named 'fitness' has already been created and it will be overwritten. Consider deleting previous creation of that class or rename it.\n",
      "  warnings.warn(\"A class named '{0}' has already been created and it \"\n",
      "/Users/jrhs/miniforge3/envs/tf_mac/lib/python3.8/site-packages/deap/creator.py:138: RuntimeWarning: A class named 'individual' has already been created and it will be overwritten. Consider deleting previous creation of that class or rename it.\n",
      "  warnings.warn(\"A class named '{0}' has already been created and it \"\n",
      "/Users/jrhs/miniforge3/envs/tf_mac/lib/python3.8/site-packages/deap/creator.py:138: RuntimeWarning: A class named 'fitness' has already been created and it will be overwritten. Consider deleting previous creation of that class or rename it.\n",
      "  warnings.warn(\"A class named '{0}' has already been created and it \"\n",
      "/Users/jrhs/miniforge3/envs/tf_mac/lib/python3.8/site-packages/deap/creator.py:138: RuntimeWarning: A class named 'individual' has already been created and it will be overwritten. Consider deleting previous creation of that class or rename it.\n",
      "  warnings.warn(\"A class named '{0}' has already been created and it \"\n"
     ]
    },
    {
     "output_type": "stream",
     "name": "stdout",
     "text": [
      "decision node 0 : (x [Age] = 43.0) > 31.0126953125)\n",
      "decision node 8 : (x [BMI] = 39.4) > 21.710941314697266)\n",
      "decision node 0 : (x [Age] = 43.0) > 31.0126953125)\n",
      "decision node 8 : (x [BMI] = 39.39999771118164) > 21.710941314697266)\n",
      "\n",
      "====================Index====================\n",
      "| 10 \n",
      "=============================================\n"
     ]
    },
    {
     "output_type": "stream",
     "name": "stderr",
     "text": [
      "/Users/jrhs/miniforge3/envs/tf_mac/lib/python3.8/site-packages/deap/creator.py:138: RuntimeWarning: A class named 'fitness' has already been created and it will be overwritten. Consider deleting previous creation of that class or rename it.\n",
      "  warnings.warn(\"A class named '{0}' has already been created and it \"\n",
      "/Users/jrhs/miniforge3/envs/tf_mac/lib/python3.8/site-packages/deap/creator.py:138: RuntimeWarning: A class named 'individual' has already been created and it will be overwritten. Consider deleting previous creation of that class or rename it.\n",
      "  warnings.warn(\"A class named '{0}' has already been created and it \"\n",
      "/Users/jrhs/miniforge3/envs/tf_mac/lib/python3.8/site-packages/deap/creator.py:138: RuntimeWarning: A class named 'fitness' has already been created and it will be overwritten. Consider deleting previous creation of that class or rename it.\n",
      "  warnings.warn(\"A class named '{0}' has already been created and it \"\n",
      "/Users/jrhs/miniforge3/envs/tf_mac/lib/python3.8/site-packages/deap/creator.py:138: RuntimeWarning: A class named 'individual' has already been created and it will be overwritten. Consider deleting previous creation of that class or rename it.\n",
      "  warnings.warn(\"A class named '{0}' has already been created and it \"\n"
     ]
    },
    {
     "output_type": "stream",
     "name": "stdout",
     "text": [
      "decision node 0 : (x [Age] = 25.0) > 22.03896427154541)\n",
      "decision node 8 : (x [Glucose] = 121.0) <= 121.3580207824707)\n",
      "decision node 9 : (x [DiabetesPedigreeFunction] = 0.120126) <= 0.13265438750386238)\n",
      "decision node 0 : (x [Age] = 25.0) > 22.03896427154541)\n",
      "decision node 8 : (x [Glucose] = 112.8964385986328) <= 121.3580207824707)\n",
      "decision node 9 : (x [DiabetesPedigreeFunction] = 0.120125912129879) <= 0.13265438750386238)\n",
      "\n",
      "====================Index====================\n",
      "| 11 \n",
      "=============================================\n"
     ]
    },
    {
     "output_type": "stream",
     "name": "stderr",
     "text": [
      "/Users/jrhs/miniforge3/envs/tf_mac/lib/python3.8/site-packages/deap/creator.py:138: RuntimeWarning: A class named 'fitness' has already been created and it will be overwritten. Consider deleting previous creation of that class or rename it.\n",
      "  warnings.warn(\"A class named '{0}' has already been created and it \"\n",
      "/Users/jrhs/miniforge3/envs/tf_mac/lib/python3.8/site-packages/deap/creator.py:138: RuntimeWarning: A class named 'individual' has already been created and it will be overwritten. Consider deleting previous creation of that class or rename it.\n",
      "  warnings.warn(\"A class named '{0}' has already been created and it \"\n",
      "/Users/jrhs/miniforge3/envs/tf_mac/lib/python3.8/site-packages/deap/creator.py:138: RuntimeWarning: A class named 'fitness' has already been created and it will be overwritten. Consider deleting previous creation of that class or rename it.\n",
      "  warnings.warn(\"A class named '{0}' has already been created and it \"\n",
      "/Users/jrhs/miniforge3/envs/tf_mac/lib/python3.8/site-packages/deap/creator.py:138: RuntimeWarning: A class named 'individual' has already been created and it will be overwritten. Consider deleting previous creation of that class or rename it.\n",
      "  warnings.warn(\"A class named '{0}' has already been created and it \"\n"
     ]
    },
    {
     "output_type": "stream",
     "name": "stdout",
     "text": [
      "decision node 0 : (x [Age] = 23.0) <= 23.5)\n",
      "decision node 1 : (x [Glucose] = 179.0) <= 191.0)\n",
      "decision node 2 : (x [BloodPressure] = 84.098361) > 47.93991661071777)\n",
      "decision node 0 : (x [Age] = 23.0) <= 23.5)\n",
      "decision node 1 : (x [Glucose] = 147.41970825195312) <= 191.0)\n",
      "decision node 2 : (x [BloodPressure] = 82.64541625976562) > 47.93991661071777)\n",
      "\n",
      "====================Index====================\n",
      "| 12 \n",
      "=============================================\n"
     ]
    },
    {
     "output_type": "stream",
     "name": "stderr",
     "text": [
      "/Users/jrhs/miniforge3/envs/tf_mac/lib/python3.8/site-packages/deap/creator.py:138: RuntimeWarning: A class named 'fitness' has already been created and it will be overwritten. Consider deleting previous creation of that class or rename it.\n",
      "  warnings.warn(\"A class named '{0}' has already been created and it \"\n",
      "/Users/jrhs/miniforge3/envs/tf_mac/lib/python3.8/site-packages/deap/creator.py:138: RuntimeWarning: A class named 'individual' has already been created and it will be overwritten. Consider deleting previous creation of that class or rename it.\n",
      "  warnings.warn(\"A class named '{0}' has already been created and it \"\n",
      "/Users/jrhs/miniforge3/envs/tf_mac/lib/python3.8/site-packages/deap/creator.py:138: RuntimeWarning: A class named 'fitness' has already been created and it will be overwritten. Consider deleting previous creation of that class or rename it.\n",
      "  warnings.warn(\"A class named '{0}' has already been created and it \"\n",
      "/Users/jrhs/miniforge3/envs/tf_mac/lib/python3.8/site-packages/deap/creator.py:138: RuntimeWarning: A class named 'individual' has already been created and it will be overwritten. Consider deleting previous creation of that class or rename it.\n",
      "  warnings.warn(\"A class named '{0}' has already been created and it \"\n"
     ]
    },
    {
     "output_type": "stream",
     "name": "stdout",
     "text": [
      "decision node 0 : (x [Age] = 32.0) > 25.906951904296875)\n",
      "decision node 6 : (x [Glucose] = 115.0) <= 131.29106903076172)\n",
      "decision node 7 : (x [DiabetesPedigreeFunction] = 0.523331) <= 0.5535626709461212)\n",
      "decision node 8 : (x [SkinThickness] = 30.0) > 6.228304862976074)\n",
      "decision node 0 : (x [Age] = 32.0) > 25.906951904296875)\n",
      "decision node 6 : (x [Glucose] = 107.43597412109376) <= 131.29106903076172)\n",
      "decision node 7 : (x [DiabetesPedigreeFunction] = 0.5233310461044312) <= 0.5535626709461212)\n",
      "decision node 8 : (x [SkinThickness] = 30.0) > 6.228304862976074)\n",
      "\n",
      "====================Index====================\n",
      "| 13 \n",
      "=============================================\n"
     ]
    },
    {
     "output_type": "stream",
     "name": "stderr",
     "text": [
      "/Users/jrhs/miniforge3/envs/tf_mac/lib/python3.8/site-packages/deap/creator.py:138: RuntimeWarning: A class named 'fitness' has already been created and it will be overwritten. Consider deleting previous creation of that class or rename it.\n",
      "  warnings.warn(\"A class named '{0}' has already been created and it \"\n",
      "/Users/jrhs/miniforge3/envs/tf_mac/lib/python3.8/site-packages/deap/creator.py:138: RuntimeWarning: A class named 'individual' has already been created and it will be overwritten. Consider deleting previous creation of that class or rename it.\n",
      "  warnings.warn(\"A class named '{0}' has already been created and it \"\n",
      "/Users/jrhs/miniforge3/envs/tf_mac/lib/python3.8/site-packages/deap/creator.py:138: RuntimeWarning: A class named 'fitness' has already been created and it will be overwritten. Consider deleting previous creation of that class or rename it.\n",
      "  warnings.warn(\"A class named '{0}' has already been created and it \"\n",
      "/Users/jrhs/miniforge3/envs/tf_mac/lib/python3.8/site-packages/deap/creator.py:138: RuntimeWarning: A class named 'individual' has already been created and it will be overwritten. Consider deleting previous creation of that class or rename it.\n",
      "  warnings.warn(\"A class named '{0}' has already been created and it \"\n"
     ]
    },
    {
     "output_type": "stream",
     "name": "stdout",
     "text": [
      "decision node 0 : (x [Glucose] = 125.0) <= 149.80266571044922)\n",
      "decision node 1 : (x [Age] = 54.0) > 28.396028518676758)\n",
      "decision node 3 : (x [BloodPressure] = 71.016393) <= 77.0)\n",
      "decision node 4 : (x [DiabetesPedigreeFunction] = 0.114108) <= 0.4473254680633545)\n",
      "decision node 5 : (x [DiabetesPedigreeFunction] = 0.114108) <= 0.12105400487780571)\n",
      "decision node 6 : (x [BMI] = 33.8) > 32.29999923706055)\n",
      "decision node 0 : (x [Glucose] = 98.4294204711914) <= 149.80266571044922)\n",
      "decision node 1 : (x [Age] = 54.00000381469727) > 28.396028518676758)\n",
      "decision node 3 : (x [BloodPressure] = 71.01638793945312) <= 77.0)\n",
      "decision node 4 : (x [DiabetesPedigreeFunction] = 0.114107921719551) <= 0.4473254680633545)\n",
      "decision node 5 : (x [DiabetesPedigreeFunction] = 0.114107921719551) <= 0.12105400487780571)\n",
      "decision node 6 : (x [BMI] = 33.79999923706055) > 32.29999923706055)\n",
      "\n",
      "====================Index====================\n",
      "| 14 \n",
      "=============================================\n"
     ]
    },
    {
     "output_type": "stream",
     "name": "stderr",
     "text": [
      "/Users/jrhs/miniforge3/envs/tf_mac/lib/python3.8/site-packages/deap/creator.py:138: RuntimeWarning: A class named 'fitness' has already been created and it will be overwritten. Consider deleting previous creation of that class or rename it.\n",
      "  warnings.warn(\"A class named '{0}' has already been created and it \"\n",
      "/Users/jrhs/miniforge3/envs/tf_mac/lib/python3.8/site-packages/deap/creator.py:138: RuntimeWarning: A class named 'individual' has already been created and it will be overwritten. Consider deleting previous creation of that class or rename it.\n",
      "  warnings.warn(\"A class named '{0}' has already been created and it \"\n",
      "/Users/jrhs/miniforge3/envs/tf_mac/lib/python3.8/site-packages/deap/creator.py:138: RuntimeWarning: A class named 'fitness' has already been created and it will be overwritten. Consider deleting previous creation of that class or rename it.\n",
      "  warnings.warn(\"A class named '{0}' has already been created and it \"\n",
      "/Users/jrhs/miniforge3/envs/tf_mac/lib/python3.8/site-packages/deap/creator.py:138: RuntimeWarning: A class named 'individual' has already been created and it will be overwritten. Consider deleting previous creation of that class or rename it.\n",
      "  warnings.warn(\"A class named '{0}' has already been created and it \"\n"
     ]
    },
    {
     "output_type": "stream",
     "name": "stdout",
     "text": [
      "decision node 0 : (x [Glucose] = 128.0) <= 143.7775650024414)\n",
      "decision node 1 : (x [Age] = 24.0) <= 32.470170974731445)\n",
      "decision node 2 : (x [BloodPressure] = 44.852459) > 30.672218322753906)\n",
      "decision node 0 : (x [Glucose] = 91.57598876953124) <= 143.7775650024414)\n",
      "decision node 1 : (x [Age] = 24.0) <= 32.470170974731445)\n",
      "decision node 2 : (x [BloodPressure] = 44.85245895385742) > 30.672218322753906)\n",
      "\n",
      "====================Index====================\n",
      "| 15 \n",
      "=============================================\n"
     ]
    },
    {
     "output_type": "stream",
     "name": "stderr",
     "text": [
      "/Users/jrhs/miniforge3/envs/tf_mac/lib/python3.8/site-packages/deap/creator.py:138: RuntimeWarning: A class named 'fitness' has already been created and it will be overwritten. Consider deleting previous creation of that class or rename it.\n",
      "  warnings.warn(\"A class named '{0}' has already been created and it \"\n",
      "/Users/jrhs/miniforge3/envs/tf_mac/lib/python3.8/site-packages/deap/creator.py:138: RuntimeWarning: A class named 'individual' has already been created and it will be overwritten. Consider deleting previous creation of that class or rename it.\n",
      "  warnings.warn(\"A class named '{0}' has already been created and it \"\n",
      "/Users/jrhs/miniforge3/envs/tf_mac/lib/python3.8/site-packages/deap/creator.py:138: RuntimeWarning: A class named 'fitness' has already been created and it will be overwritten. Consider deleting previous creation of that class or rename it.\n",
      "  warnings.warn(\"A class named '{0}' has already been created and it \"\n",
      "/Users/jrhs/miniforge3/envs/tf_mac/lib/python3.8/site-packages/deap/creator.py:138: RuntimeWarning: A class named 'individual' has already been created and it will be overwritten. Consider deleting previous creation of that class or rename it.\n",
      "  warnings.warn(\"A class named '{0}' has already been created and it \"\n"
     ]
    },
    {
     "output_type": "stream",
     "name": "stdout",
     "text": [
      "decision node 0 : (x [Glucose] = 125.0) <= 134.31952667236328)\n",
      "decision node 1 : (x [DiabetesPedigreeFunction] = 0.530352) <= 0.87355837225914)\n",
      "decision node 2 : (x [Age] = 27.0) <= 34.875022888183594)\n",
      "decision node 0 : (x [Glucose] = 103.08199310302734) <= 134.31952667236328)\n",
      "decision node 1 : (x [DiabetesPedigreeFunction] = 0.5303520560264587) <= 0.87355837225914)\n",
      "decision node 2 : (x [Age] = 27.000001907348636) <= 34.875022888183594)\n",
      "\n",
      "====================Index====================\n",
      "| 16 \n",
      "=============================================\n"
     ]
    },
    {
     "output_type": "stream",
     "name": "stderr",
     "text": [
      "/Users/jrhs/miniforge3/envs/tf_mac/lib/python3.8/site-packages/deap/creator.py:138: RuntimeWarning: A class named 'fitness' has already been created and it will be overwritten. Consider deleting previous creation of that class or rename it.\n",
      "  warnings.warn(\"A class named '{0}' has already been created and it \"\n",
      "/Users/jrhs/miniforge3/envs/tf_mac/lib/python3.8/site-packages/deap/creator.py:138: RuntimeWarning: A class named 'individual' has already been created and it will be overwritten. Consider deleting previous creation of that class or rename it.\n",
      "  warnings.warn(\"A class named '{0}' has already been created and it \"\n",
      "/Users/jrhs/miniforge3/envs/tf_mac/lib/python3.8/site-packages/deap/creator.py:138: RuntimeWarning: A class named 'fitness' has already been created and it will be overwritten. Consider deleting previous creation of that class or rename it.\n",
      "  warnings.warn(\"A class named '{0}' has already been created and it \"\n",
      "/Users/jrhs/miniforge3/envs/tf_mac/lib/python3.8/site-packages/deap/creator.py:138: RuntimeWarning: A class named 'individual' has already been created and it will be overwritten. Consider deleting previous creation of that class or rename it.\n",
      "  warnings.warn(\"A class named '{0}' has already been created and it \"\n"
     ]
    },
    {
     "output_type": "stream",
     "name": "stdout",
     "text": [
      "decision node 0 : (x [Age] = 38.0) > 23.510655403137207)\n",
      "decision node 12 : (x [DiabetesPedigreeFunction] = 0.435067) > 0.022257383447140455)\n",
      "decision node 0 : (x [Age] = 38.0) > 23.510655403137207)\n",
      "decision node 12 : (x [DiabetesPedigreeFunction] = 0.4350672364234924) > 0.022257383447140455)\n",
      "\n",
      "====================Index====================\n",
      "| 17 \n",
      "=============================================\n"
     ]
    },
    {
     "output_type": "stream",
     "name": "stderr",
     "text": [
      "/Users/jrhs/miniforge3/envs/tf_mac/lib/python3.8/site-packages/deap/creator.py:138: RuntimeWarning: A class named 'fitness' has already been created and it will be overwritten. Consider deleting previous creation of that class or rename it.\n",
      "  warnings.warn(\"A class named '{0}' has already been created and it \"\n",
      "/Users/jrhs/miniforge3/envs/tf_mac/lib/python3.8/site-packages/deap/creator.py:138: RuntimeWarning: A class named 'individual' has already been created and it will be overwritten. Consider deleting previous creation of that class or rename it.\n",
      "  warnings.warn(\"A class named '{0}' has already been created and it \"\n",
      "/Users/jrhs/miniforge3/envs/tf_mac/lib/python3.8/site-packages/deap/creator.py:138: RuntimeWarning: A class named 'fitness' has already been created and it will be overwritten. Consider deleting previous creation of that class or rename it.\n",
      "  warnings.warn(\"A class named '{0}' has already been created and it \"\n",
      "/Users/jrhs/miniforge3/envs/tf_mac/lib/python3.8/site-packages/deap/creator.py:138: RuntimeWarning: A class named 'individual' has already been created and it will be overwritten. Consider deleting previous creation of that class or rename it.\n",
      "  warnings.warn(\"A class named '{0}' has already been created and it \"\n"
     ]
    },
    {
     "output_type": "stream",
     "name": "stdout",
     "text": [
      "decision node 0 : (x [Age] = 41.0) > 29.00150966644287)\n",
      "decision node 16 : (x [Glucose] = 194.0) > 93.90446853637695)\n",
      "decision node 20 : (x [BloodPressure] = 63.540984) <= 93.0)\n",
      "decision node 0 : (x [Age] = 41.0) > 29.00150966644287)\n",
      "decision node 16 : (x [Glucose] = 79.54417419433594) <= 93.90446853637695)\n",
      "decision node 17 : (x [BMI] = 35.900001525878906) > 30.285125732421875)\n",
      "\n",
      "====================Index====================\n",
      "| 18 \n",
      "=============================================\n"
     ]
    },
    {
     "output_type": "stream",
     "name": "stderr",
     "text": [
      "/Users/jrhs/miniforge3/envs/tf_mac/lib/python3.8/site-packages/deap/creator.py:138: RuntimeWarning: A class named 'fitness' has already been created and it will be overwritten. Consider deleting previous creation of that class or rename it.\n",
      "  warnings.warn(\"A class named '{0}' has already been created and it \"\n",
      "/Users/jrhs/miniforge3/envs/tf_mac/lib/python3.8/site-packages/deap/creator.py:138: RuntimeWarning: A class named 'individual' has already been created and it will be overwritten. Consider deleting previous creation of that class or rename it.\n",
      "  warnings.warn(\"A class named '{0}' has already been created and it \"\n",
      "/Users/jrhs/miniforge3/envs/tf_mac/lib/python3.8/site-packages/deap/creator.py:138: RuntimeWarning: A class named 'fitness' has already been created and it will be overwritten. Consider deleting previous creation of that class or rename it.\n",
      "  warnings.warn(\"A class named '{0}' has already been created and it \"\n",
      "/Users/jrhs/miniforge3/envs/tf_mac/lib/python3.8/site-packages/deap/creator.py:138: RuntimeWarning: A class named 'individual' has already been created and it will be overwritten. Consider deleting previous creation of that class or rename it.\n",
      "  warnings.warn(\"A class named '{0}' has already been created and it \"\n"
     ]
    },
    {
     "output_type": "stream",
     "name": "stdout",
     "text": [
      "decision node 0 : (x [Glucose] = 151.0) <= 157.47256469726562)\n",
      "decision node 1 : (x [Age] = 38.0) > 31.771541595458984)\n",
      "decision node 9 : (x [DiabetesPedigreeFunction] = 0.73697) > -0.028015388932544738)\n",
      "decision node 11 : (x [BloodPressure] = 65.409836) <= 93.5316162109375)\n",
      "decision node 12 : (x [Glucose] = 151.0) > 57.70186996459961)\n",
      "decision node 0 : (x [Glucose] = 38.602420806884766) <= 157.47256469726562)\n",
      "decision node 1 : (x [Age] = 38.0) > 31.771541595458984)\n",
      "decision node 9 : (x [DiabetesPedigreeFunction] = 0.7369696497917175) > -0.028015388932544738)\n",
      "decision node 11 : (x [BloodPressure] = 65.40983581542969) <= 93.5316162109375)\n",
      "decision node 12 : (x [Glucose] = 38.602420806884766) <= 57.70186996459961)\n",
      "\n",
      "====================Index====================\n",
      "| 19 \n",
      "=============================================\n"
     ]
    },
    {
     "output_type": "stream",
     "name": "stderr",
     "text": [
      "/Users/jrhs/miniforge3/envs/tf_mac/lib/python3.8/site-packages/deap/creator.py:138: RuntimeWarning: A class named 'fitness' has already been created and it will be overwritten. Consider deleting previous creation of that class or rename it.\n",
      "  warnings.warn(\"A class named '{0}' has already been created and it \"\n",
      "/Users/jrhs/miniforge3/envs/tf_mac/lib/python3.8/site-packages/deap/creator.py:138: RuntimeWarning: A class named 'individual' has already been created and it will be overwritten. Consider deleting previous creation of that class or rename it.\n",
      "  warnings.warn(\"A class named '{0}' has already been created and it \"\n",
      "/Users/jrhs/miniforge3/envs/tf_mac/lib/python3.8/site-packages/deap/creator.py:138: RuntimeWarning: A class named 'fitness' has already been created and it will be overwritten. Consider deleting previous creation of that class or rename it.\n",
      "  warnings.warn(\"A class named '{0}' has already been created and it \"\n",
      "/Users/jrhs/miniforge3/envs/tf_mac/lib/python3.8/site-packages/deap/creator.py:138: RuntimeWarning: A class named 'individual' has already been created and it will be overwritten. Consider deleting previous creation of that class or rename it.\n",
      "  warnings.warn(\"A class named '{0}' has already been created and it \"\n"
     ]
    },
    {
     "output_type": "stream",
     "name": "stdout",
     "text": [
      "decision node 0 : (x [Glucose] = 124.0) <= 124.5)\n",
      "decision node 1 : (x [Age] = 52.0) > 46.69667625427246)\n",
      "decision node 3 : (x [Glucose] = 124.0) > 97.19697570800781)\n",
      "decision node 0 : (x [Glucose] = 116.19612121582033) <= 124.5)\n",
      "decision node 1 : (x [Age] = 52.00000381469727) > 46.69667625427246)\n",
      "decision node 3 : (x [Glucose] = 116.19612121582033) > 97.19697570800781)\n",
      "\n",
      "====================Index====================\n",
      "| 20 \n",
      "=============================================\n"
     ]
    },
    {
     "output_type": "stream",
     "name": "stderr",
     "text": [
      "/Users/jrhs/miniforge3/envs/tf_mac/lib/python3.8/site-packages/deap/creator.py:138: RuntimeWarning: A class named 'fitness' has already been created and it will be overwritten. Consider deleting previous creation of that class or rename it.\n",
      "  warnings.warn(\"A class named '{0}' has already been created and it \"\n",
      "/Users/jrhs/miniforge3/envs/tf_mac/lib/python3.8/site-packages/deap/creator.py:138: RuntimeWarning: A class named 'individual' has already been created and it will be overwritten. Consider deleting previous creation of that class or rename it.\n",
      "  warnings.warn(\"A class named '{0}' has already been created and it \"\n",
      "/Users/jrhs/miniforge3/envs/tf_mac/lib/python3.8/site-packages/deap/creator.py:138: RuntimeWarning: A class named 'fitness' has already been created and it will be overwritten. Consider deleting previous creation of that class or rename it.\n",
      "  warnings.warn(\"A class named '{0}' has already been created and it \"\n",
      "/Users/jrhs/miniforge3/envs/tf_mac/lib/python3.8/site-packages/deap/creator.py:138: RuntimeWarning: A class named 'individual' has already been created and it will be overwritten. Consider deleting previous creation of that class or rename it.\n",
      "  warnings.warn(\"A class named '{0}' has already been created and it \"\n"
     ]
    },
    {
     "output_type": "stream",
     "name": "stdout",
     "text": [
      "decision node 0 : (x [Glucose] = 146.0) <= 172.5)\n",
      "decision node 1 : (x [BMI] = 38.5) <= 40.83256149291992)\n",
      "decision node 2 : (x [DiabetesPedigreeFunction] = 0.514304) <= 1.0823144912719727)\n",
      "decision node 3 : (x [SkinThickness] = 0.0) > -10.901540756225586)\n",
      "decision node 5 : (x [Pregnancies] = 4.0) <= 10.0)\n",
      "decision node 6 : (x [Glucose] = 146.0) > 125.36495971679688)\n",
      "decision node 18 : (x [BMI] = 38.5) > 37.97559928894043)\n",
      "decision node 38 : (x [Age] = 67.0) > 17.736549377441406)\n",
      "decision node 40 : (x [BloodPressure] = 72.885246) > 54.06533241271973)\n",
      "decision node 0 : (x [Glucose] = 129.4126739501953) <= 172.5)\n",
      "decision node 1 : (x [BMI] = 32.12629699707031) <= 40.83256149291992)\n",
      "decision node 2 : (x [DiabetesPedigreeFunction] = 0.5143041014671326) <= 1.0823144912719727)\n",
      "decision node 3 : (x [SkinThickness] = 0.0) > -10.901540756225586)\n",
      "decision node 5 : (x [Pregnancies] = 3.8795583248138423) <= 10.0)\n",
      "decision node 6 : (x [Glucose] = 129.4126739501953) > 125.36495971679688)\n",
      "decision node 18 : (x [BMI] = 32.12629699707031) <= 37.97559928894043)\n",
      "decision node 19 : (x [SkinThickness] = 0.0) <= 32.5471773147583)\n",
      "decision node 20 : (x [Insulin] = 0.0) <= 11.507987976074219)\n",
      "decision node 21 : (x [SkinThickness] = 0.0) <= 29.442397117614746)\n",
      "decision node 22 : (x [BMI] = 32.12629699707031) > 16.49420928955078)\n",
      "decision node 24 : (x [BMI] = 32.12629699707031) > 18.690863609313965)\n",
      "decision node 26 : (x [Age] = 67.0) > 24.899934768676758)\n",
      "decision node 28 : (x [BMI] = 32.12629699707031) > 24.98681926727295)\n",
      "decision node 30 : (x [Age] = 67.0) > 56.21907615661621)\n",
      "\n",
      "====================Index====================\n",
      "| 21 \n",
      "=============================================\n"
     ]
    },
    {
     "output_type": "stream",
     "name": "stderr",
     "text": [
      "/Users/jrhs/miniforge3/envs/tf_mac/lib/python3.8/site-packages/deap/creator.py:138: RuntimeWarning: A class named 'fitness' has already been created and it will be overwritten. Consider deleting previous creation of that class or rename it.\n",
      "  warnings.warn(\"A class named '{0}' has already been created and it \"\n",
      "/Users/jrhs/miniforge3/envs/tf_mac/lib/python3.8/site-packages/deap/creator.py:138: RuntimeWarning: A class named 'individual' has already been created and it will be overwritten. Consider deleting previous creation of that class or rename it.\n",
      "  warnings.warn(\"A class named '{0}' has already been created and it \"\n",
      "/Users/jrhs/miniforge3/envs/tf_mac/lib/python3.8/site-packages/deap/creator.py:138: RuntimeWarning: A class named 'fitness' has already been created and it will be overwritten. Consider deleting previous creation of that class or rename it.\n",
      "  warnings.warn(\"A class named '{0}' has already been created and it \"\n",
      "/Users/jrhs/miniforge3/envs/tf_mac/lib/python3.8/site-packages/deap/creator.py:138: RuntimeWarning: A class named 'individual' has already been created and it will be overwritten. Consider deleting previous creation of that class or rename it.\n",
      "  warnings.warn(\"A class named '{0}' has already been created and it \"\n"
     ]
    },
    {
     "output_type": "stream",
     "name": "stdout",
     "text": [
      "decision node 0 : (x [Age] = 29.0) > 11.285722732543945)\n",
      "decision node 4 : (x [Glucose] = 182.0) > 96.1700210571289)\n",
      "decision node 8 : (x [BloodPressure] = 69.147541) <= 109.66092681884766)\n",
      "decision node 9 : (x [BMI] = 30.5) > 15.77186107635498)\n",
      "decision node 0 : (x [Age] = 29.000001907348636) > 11.285722732543945)\n",
      "decision node 4 : (x [Glucose] = 119.98270416259766) > 96.1700210571289)\n",
      "decision node 8 : (x [BloodPressure] = 69.14753723144531) <= 109.66092681884766)\n",
      "decision node 9 : (x [BMI] = 30.5) > 15.77186107635498)\n",
      "\n",
      "====================Index====================\n",
      "| 22 \n",
      "=============================================\n"
     ]
    },
    {
     "output_type": "stream",
     "name": "stderr",
     "text": [
      "/Users/jrhs/miniforge3/envs/tf_mac/lib/python3.8/site-packages/deap/creator.py:138: RuntimeWarning: A class named 'fitness' has already been created and it will be overwritten. Consider deleting previous creation of that class or rename it.\n",
      "  warnings.warn(\"A class named '{0}' has already been created and it \"\n",
      "/Users/jrhs/miniforge3/envs/tf_mac/lib/python3.8/site-packages/deap/creator.py:138: RuntimeWarning: A class named 'individual' has already been created and it will be overwritten. Consider deleting previous creation of that class or rename it.\n",
      "  warnings.warn(\"A class named '{0}' has already been created and it \"\n",
      "/Users/jrhs/miniforge3/envs/tf_mac/lib/python3.8/site-packages/deap/creator.py:138: RuntimeWarning: A class named 'fitness' has already been created and it will be overwritten. Consider deleting previous creation of that class or rename it.\n",
      "  warnings.warn(\"A class named '{0}' has already been created and it \"\n",
      "/Users/jrhs/miniforge3/envs/tf_mac/lib/python3.8/site-packages/deap/creator.py:138: RuntimeWarning: A class named 'individual' has already been created and it will be overwritten. Consider deleting previous creation of that class or rename it.\n",
      "  warnings.warn(\"A class named '{0}' has already been created and it \"\n"
     ]
    },
    {
     "output_type": "stream",
     "name": "stdout",
     "text": [
      "decision node 0 : (x [Age] = 22.0) <= 22.5)\n",
      "decision node 1 : (x [DiabetesPedigreeFunction] = 1.390924) > 1.3074619770050049)\n",
      "decision node 0 : (x [Age] = 22.0) <= 22.5)\n",
      "decision node 1 : (x [DiabetesPedigreeFunction] = 1.3909242153167725) > 1.3074619770050049)\n",
      "\n",
      "====================Index====================\n",
      "| 23 \n",
      "=============================================\n"
     ]
    },
    {
     "output_type": "stream",
     "name": "stderr",
     "text": [
      "/Users/jrhs/miniforge3/envs/tf_mac/lib/python3.8/site-packages/deap/creator.py:138: RuntimeWarning: A class named 'fitness' has already been created and it will be overwritten. Consider deleting previous creation of that class or rename it.\n",
      "  warnings.warn(\"A class named '{0}' has already been created and it \"\n",
      "/Users/jrhs/miniforge3/envs/tf_mac/lib/python3.8/site-packages/deap/creator.py:138: RuntimeWarning: A class named 'individual' has already been created and it will be overwritten. Consider deleting previous creation of that class or rename it.\n",
      "  warnings.warn(\"A class named '{0}' has already been created and it \"\n",
      "/Users/jrhs/miniforge3/envs/tf_mac/lib/python3.8/site-packages/deap/creator.py:138: RuntimeWarning: A class named 'fitness' has already been created and it will be overwritten. Consider deleting previous creation of that class or rename it.\n",
      "  warnings.warn(\"A class named '{0}' has already been created and it \"\n",
      "/Users/jrhs/miniforge3/envs/tf_mac/lib/python3.8/site-packages/deap/creator.py:138: RuntimeWarning: A class named 'individual' has already been created and it will be overwritten. Consider deleting previous creation of that class or rename it.\n",
      "  warnings.warn(\"A class named '{0}' has already been created and it \"\n"
     ]
    },
    {
     "output_type": "stream",
     "name": "stdout",
     "text": [
      "decision node 0 : (x [Age] = 52.0) > 29.283111572265625)\n",
      "decision node 12 : (x [Glucose] = 162.0) > 99.83358383178711)\n",
      "decision node 16 : (x [Glucose] = 162.0) > 119.20137405395508)\n",
      "decision node 0 : (x [Age] = 52.00000381469727) > 29.283111572265625)\n",
      "decision node 12 : (x [Glucose] = 79.99961853027344) <= 99.83358383178711)\n",
      "decision node 13 : (x [BMI] = 35.78458023071289) <= 39.639305114746094)\n",
      "\n",
      "====================Index====================\n",
      "| 24 \n",
      "=============================================\n"
     ]
    },
    {
     "output_type": "stream",
     "name": "stderr",
     "text": [
      "/Users/jrhs/miniforge3/envs/tf_mac/lib/python3.8/site-packages/deap/creator.py:138: RuntimeWarning: A class named 'fitness' has already been created and it will be overwritten. Consider deleting previous creation of that class or rename it.\n",
      "  warnings.warn(\"A class named '{0}' has already been created and it \"\n",
      "/Users/jrhs/miniforge3/envs/tf_mac/lib/python3.8/site-packages/deap/creator.py:138: RuntimeWarning: A class named 'individual' has already been created and it will be overwritten. Consider deleting previous creation of that class or rename it.\n",
      "  warnings.warn(\"A class named '{0}' has already been created and it \"\n",
      "/Users/jrhs/miniforge3/envs/tf_mac/lib/python3.8/site-packages/deap/creator.py:138: RuntimeWarning: A class named 'fitness' has already been created and it will be overwritten. Consider deleting previous creation of that class or rename it.\n",
      "  warnings.warn(\"A class named '{0}' has already been created and it \"\n",
      "/Users/jrhs/miniforge3/envs/tf_mac/lib/python3.8/site-packages/deap/creator.py:138: RuntimeWarning: A class named 'individual' has already been created and it will be overwritten. Consider deleting previous creation of that class or rename it.\n",
      "  warnings.warn(\"A class named '{0}' has already been created and it \"\n"
     ]
    },
    {
     "output_type": "stream",
     "name": "stdout",
     "text": [
      "decision node 0 : (x [DiabetesPedigreeFunction] = 0.295651) <= 0.5439999997615814)\n",
      "decision node 1 : (x [BMI] = 30.4) <= 41.02691650390625)\n",
      "decision node 2 : (x [Glucose] = 165.0) <= 176.0)\n",
      "decision node 3 : (x [BloodPressure] = 82.229508) > 41.44367599487305)\n",
      "decision node 5 : (x [Age] = 49.0) > 45.55534744262695)\n",
      "decision node 7 : (x [Glucose] = 165.0) > 122.91201782226562)\n",
      "decision node 0 : (x [DiabetesPedigreeFunction] = 0.9185514450073242) > 0.5439999997615814)\n",
      "decision node 16 : (x [Age] = 49.0) > 21.941007614135742)\n",
      "decision node 20 : (x [Age] = 49.0) > 26.2011079788208)\n",
      "\n",
      "====================Index====================\n",
      "| 25 \n",
      "=============================================\n"
     ]
    },
    {
     "output_type": "stream",
     "name": "stderr",
     "text": [
      "/Users/jrhs/miniforge3/envs/tf_mac/lib/python3.8/site-packages/deap/creator.py:138: RuntimeWarning: A class named 'fitness' has already been created and it will be overwritten. Consider deleting previous creation of that class or rename it.\n",
      "  warnings.warn(\"A class named '{0}' has already been created and it \"\n",
      "/Users/jrhs/miniforge3/envs/tf_mac/lib/python3.8/site-packages/deap/creator.py:138: RuntimeWarning: A class named 'individual' has already been created and it will be overwritten. Consider deleting previous creation of that class or rename it.\n",
      "  warnings.warn(\"A class named '{0}' has already been created and it \"\n",
      "/Users/jrhs/miniforge3/envs/tf_mac/lib/python3.8/site-packages/deap/creator.py:138: RuntimeWarning: A class named 'fitness' has already been created and it will be overwritten. Consider deleting previous creation of that class or rename it.\n",
      "  warnings.warn(\"A class named '{0}' has already been created and it \"\n",
      "/Users/jrhs/miniforge3/envs/tf_mac/lib/python3.8/site-packages/deap/creator.py:138: RuntimeWarning: A class named 'individual' has already been created and it will be overwritten. Consider deleting previous creation of that class or rename it.\n",
      "  warnings.warn(\"A class named '{0}' has already been created and it \"\n"
     ]
    },
    {
     "output_type": "stream",
     "name": "stdout",
     "text": [
      "decision node 0 : (x [Age] = 41.0) > 23.03896427154541)\n",
      "decision node 2 : (x [Glucose] = 189.0) > 134.83930206298828)\n",
      "decision node 12 : (x [Age] = 41.0) > 27.128294944763184)\n",
      "decision node 0 : (x [Age] = 41.0) > 23.03896427154541)\n",
      "decision node 2 : (x [Glucose] = 85.81248474121094) <= 134.83930206298828)\n",
      "decision node 3 : (x [BloodPressure] = 97.18032836914062) > 88.07746887207031)\n",
      "decision node 9 : (x [Insulin] = 62.42862701416016) > -34.29667091369629)\n",
      "\n",
      "====================Index====================\n",
      "| 26 \n",
      "=============================================\n"
     ]
    },
    {
     "output_type": "stream",
     "name": "stderr",
     "text": [
      "/Users/jrhs/miniforge3/envs/tf_mac/lib/python3.8/site-packages/deap/creator.py:138: RuntimeWarning: A class named 'fitness' has already been created and it will be overwritten. Consider deleting previous creation of that class or rename it.\n",
      "  warnings.warn(\"A class named '{0}' has already been created and it \"\n",
      "/Users/jrhs/miniforge3/envs/tf_mac/lib/python3.8/site-packages/deap/creator.py:138: RuntimeWarning: A class named 'individual' has already been created and it will be overwritten. Consider deleting previous creation of that class or rename it.\n",
      "  warnings.warn(\"A class named '{0}' has already been created and it \"\n",
      "/Users/jrhs/miniforge3/envs/tf_mac/lib/python3.8/site-packages/deap/creator.py:138: RuntimeWarning: A class named 'fitness' has already been created and it will be overwritten. Consider deleting previous creation of that class or rename it.\n",
      "  warnings.warn(\"A class named '{0}' has already been created and it \"\n",
      "/Users/jrhs/miniforge3/envs/tf_mac/lib/python3.8/site-packages/deap/creator.py:138: RuntimeWarning: A class named 'individual' has already been created and it will be overwritten. Consider deleting previous creation of that class or rename it.\n",
      "  warnings.warn(\"A class named '{0}' has already been created and it \"\n"
     ]
    },
    {
     "output_type": "stream",
     "name": "stdout",
     "text": [
      "decision node 0 : (x [DiabetesPedigreeFunction] = 1.220415) > 0.28200000524520874)\n",
      "decision node 8 : (x [Glucose] = 85.0) <= 94.32353973388672)\n",
      "decision node 9 : (x [DiabetesPedigreeFunction] = 1.220415) > 1.1380072236061096)\n",
      "decision node 11 : (x [BloodPressure] = 69.147541) <= 83.91325378417969)\n",
      "decision node 0 : (x [DiabetesPedigreeFunction] = 1.2656644582748413) > 0.28200000524520874)\n",
      "decision node 8 : (x [Glucose] = 57.24176025390625) <= 94.32353973388672)\n",
      "decision node 9 : (x [DiabetesPedigreeFunction] = 1.2656644582748413) > 1.1380072236061096)\n",
      "decision node 11 : (x [BloodPressure] = 61.24206161499024) <= 83.91325378417969)\n",
      "\n",
      "====================Index====================\n",
      "| 27 \n",
      "=============================================\n"
     ]
    },
    {
     "output_type": "stream",
     "name": "stderr",
     "text": [
      "/Users/jrhs/miniforge3/envs/tf_mac/lib/python3.8/site-packages/deap/creator.py:138: RuntimeWarning: A class named 'fitness' has already been created and it will be overwritten. Consider deleting previous creation of that class or rename it.\n",
      "  warnings.warn(\"A class named '{0}' has already been created and it \"\n",
      "/Users/jrhs/miniforge3/envs/tf_mac/lib/python3.8/site-packages/deap/creator.py:138: RuntimeWarning: A class named 'individual' has already been created and it will be overwritten. Consider deleting previous creation of that class or rename it.\n",
      "  warnings.warn(\"A class named '{0}' has already been created and it \"\n",
      "/Users/jrhs/miniforge3/envs/tf_mac/lib/python3.8/site-packages/deap/creator.py:138: RuntimeWarning: A class named 'fitness' has already been created and it will be overwritten. Consider deleting previous creation of that class or rename it.\n",
      "  warnings.warn(\"A class named '{0}' has already been created and it \"\n",
      "/Users/jrhs/miniforge3/envs/tf_mac/lib/python3.8/site-packages/deap/creator.py:138: RuntimeWarning: A class named 'individual' has already been created and it will be overwritten. Consider deleting previous creation of that class or rename it.\n",
      "  warnings.warn(\"A class named '{0}' has already been created and it \"\n"
     ]
    },
    {
     "output_type": "stream",
     "name": "stdout",
     "text": [
      "decision node 0 : (x [Age] = 41.0) > 34.1226806640625)\n",
      "decision node 8 : (x [Glucose] = 187.0) > 98.08787155151367)\n",
      "decision node 12 : (x [DiabetesPedigreeFunction] = 0.247507) > -0.32278013229370117)\n",
      "decision node 0 : (x [Age] = 41.0) > 34.1226806640625)\n",
      "decision node 8 : (x [Glucose] = 112.28282928466795) > 98.08787155151367)\n",
      "decision node 12 : (x [DiabetesPedigreeFunction] = 0.2475066483020782) > -0.32278013229370117)\n",
      "\n",
      "====================Index====================\n",
      "| 28 \n",
      "=============================================\n"
     ]
    },
    {
     "output_type": "stream",
     "name": "stderr",
     "text": [
      "/Users/jrhs/miniforge3/envs/tf_mac/lib/python3.8/site-packages/deap/creator.py:138: RuntimeWarning: A class named 'fitness' has already been created and it will be overwritten. Consider deleting previous creation of that class or rename it.\n",
      "  warnings.warn(\"A class named '{0}' has already been created and it \"\n",
      "/Users/jrhs/miniforge3/envs/tf_mac/lib/python3.8/site-packages/deap/creator.py:138: RuntimeWarning: A class named 'individual' has already been created and it will be overwritten. Consider deleting previous creation of that class or rename it.\n",
      "  warnings.warn(\"A class named '{0}' has already been created and it \"\n",
      "/Users/jrhs/miniforge3/envs/tf_mac/lib/python3.8/site-packages/deap/creator.py:138: RuntimeWarning: A class named 'fitness' has already been created and it will be overwritten. Consider deleting previous creation of that class or rename it.\n",
      "  warnings.warn(\"A class named '{0}' has already been created and it \"\n",
      "/Users/jrhs/miniforge3/envs/tf_mac/lib/python3.8/site-packages/deap/creator.py:138: RuntimeWarning: A class named 'individual' has already been created and it will be overwritten. Consider deleting previous creation of that class or rename it.\n",
      "  warnings.warn(\"A class named '{0}' has already been created and it \"\n"
     ]
    },
    {
     "output_type": "stream",
     "name": "stdout",
     "text": [
      "decision node 0 : (x [Age] = 24.0) <= 25.5)\n",
      "decision node 1 : (x [Glucose] = 171.0) <= 174.45620727539062)\n",
      "decision node 2 : (x [BloodPressure] = 67.278689) > 43.14038276672363)\n",
      "decision node 0 : (x [Age] = 24.0) <= 25.5)\n",
      "decision node 1 : (x [Glucose] = 130.17828369140625) <= 174.45620727539062)\n",
      "decision node 2 : (x [BloodPressure] = 28.57904815673828) <= 43.14038276672363)\n",
      "\n",
      "====================Index====================\n",
      "| 29 \n",
      "=============================================\n"
     ]
    },
    {
     "output_type": "stream",
     "name": "stderr",
     "text": [
      "/Users/jrhs/miniforge3/envs/tf_mac/lib/python3.8/site-packages/deap/creator.py:138: RuntimeWarning: A class named 'fitness' has already been created and it will be overwritten. Consider deleting previous creation of that class or rename it.\n",
      "  warnings.warn(\"A class named '{0}' has already been created and it \"\n",
      "/Users/jrhs/miniforge3/envs/tf_mac/lib/python3.8/site-packages/deap/creator.py:138: RuntimeWarning: A class named 'individual' has already been created and it will be overwritten. Consider deleting previous creation of that class or rename it.\n",
      "  warnings.warn(\"A class named '{0}' has already been created and it \"\n",
      "/Users/jrhs/miniforge3/envs/tf_mac/lib/python3.8/site-packages/deap/creator.py:138: RuntimeWarning: A class named 'fitness' has already been created and it will be overwritten. Consider deleting previous creation of that class or rename it.\n",
      "  warnings.warn(\"A class named '{0}' has already been created and it \"\n",
      "/Users/jrhs/miniforge3/envs/tf_mac/lib/python3.8/site-packages/deap/creator.py:138: RuntimeWarning: A class named 'individual' has already been created and it will be overwritten. Consider deleting previous creation of that class or rename it.\n",
      "  warnings.warn(\"A class named '{0}' has already been created and it \"\n"
     ]
    },
    {
     "output_type": "stream",
     "name": "stdout",
     "text": [
      "decision node 0 : (x [Age] = 36.0) > 17.741915225982666)\n",
      "decision node 2 : (x [Glucose] = 124.0) <= 136.24109649658203)\n",
      "decision node 3 : (x [BloodPressure] = 65.409836) <= 72.47500991821289)\n",
      "decision node 0 : (x [Age] = 36.0) > 17.741915225982666)\n",
      "decision node 2 : (x [Glucose] = 111.71793365478516) <= 136.24109649658203)\n",
      "decision node 3 : (x [BloodPressure] = 62.63466644287109) <= 72.47500991821289)\n",
      "\n",
      "====================Index====================\n",
      "| 30 \n",
      "=============================================\n"
     ]
    },
    {
     "output_type": "stream",
     "name": "stderr",
     "text": [
      "/Users/jrhs/miniforge3/envs/tf_mac/lib/python3.8/site-packages/deap/creator.py:138: RuntimeWarning: A class named 'fitness' has already been created and it will be overwritten. Consider deleting previous creation of that class or rename it.\n",
      "  warnings.warn(\"A class named '{0}' has already been created and it \"\n",
      "/Users/jrhs/miniforge3/envs/tf_mac/lib/python3.8/site-packages/deap/creator.py:138: RuntimeWarning: A class named 'individual' has already been created and it will be overwritten. Consider deleting previous creation of that class or rename it.\n",
      "  warnings.warn(\"A class named '{0}' has already been created and it \"\n",
      "/Users/jrhs/miniforge3/envs/tf_mac/lib/python3.8/site-packages/deap/creator.py:138: RuntimeWarning: A class named 'fitness' has already been created and it will be overwritten. Consider deleting previous creation of that class or rename it.\n",
      "  warnings.warn(\"A class named '{0}' has already been created and it \"\n",
      "/Users/jrhs/miniforge3/envs/tf_mac/lib/python3.8/site-packages/deap/creator.py:138: RuntimeWarning: A class named 'individual' has already been created and it will be overwritten. Consider deleting previous creation of that class or rename it.\n",
      "  warnings.warn(\"A class named '{0}' has already been created and it \"\n"
     ]
    },
    {
     "output_type": "stream",
     "name": "stdout",
     "text": [
      "decision node 0 : (x [Age] = 29.0) > 26.058850288391113)\n",
      "decision node 4 : (x [Glucose] = 158.0) > 115.41867065429688)\n",
      "decision node 10 : (x [BloodPressure] = 78.491803) <= 119.45084381103516)\n",
      "decision node 0 : (x [Age] = 29.000001907348636) > 26.058850288391113)\n",
      "decision node 4 : (x [Glucose] = 120.96495056152344) > 115.41867065429688)\n",
      "decision node 10 : (x [BloodPressure] = 55.30623245239258) <= 119.45084381103516)\n",
      "\n",
      "====================Index====================\n",
      "| 31 \n",
      "=============================================\n"
     ]
    },
    {
     "output_type": "stream",
     "name": "stderr",
     "text": [
      "/Users/jrhs/miniforge3/envs/tf_mac/lib/python3.8/site-packages/deap/creator.py:138: RuntimeWarning: A class named 'fitness' has already been created and it will be overwritten. Consider deleting previous creation of that class or rename it.\n",
      "  warnings.warn(\"A class named '{0}' has already been created and it \"\n",
      "/Users/jrhs/miniforge3/envs/tf_mac/lib/python3.8/site-packages/deap/creator.py:138: RuntimeWarning: A class named 'individual' has already been created and it will be overwritten. Consider deleting previous creation of that class or rename it.\n",
      "  warnings.warn(\"A class named '{0}' has already been created and it \"\n",
      "/Users/jrhs/miniforge3/envs/tf_mac/lib/python3.8/site-packages/deap/creator.py:138: RuntimeWarning: A class named 'fitness' has already been created and it will be overwritten. Consider deleting previous creation of that class or rename it.\n",
      "  warnings.warn(\"A class named '{0}' has already been created and it \"\n",
      "/Users/jrhs/miniforge3/envs/tf_mac/lib/python3.8/site-packages/deap/creator.py:138: RuntimeWarning: A class named 'individual' has already been created and it will be overwritten. Consider deleting previous creation of that class or rename it.\n",
      "  warnings.warn(\"A class named '{0}' has already been created and it \"\n"
     ]
    },
    {
     "output_type": "stream",
     "name": "stdout",
     "text": [
      "decision node 0 : (x [Age] = 29.0) > 22.5)\n",
      "decision node 6 : (x [BloodPressure] = 65.409836) <= 78.39632415771484)\n",
      "decision node 0 : (x [Age] = 29.000001907348636) > 22.5)\n",
      "decision node 6 : (x [BloodPressure] = 65.40983581542969) <= 78.39632415771484)\n",
      "\n",
      "====================Index====================\n",
      "| 32 \n",
      "=============================================\n"
     ]
    },
    {
     "output_type": "stream",
     "name": "stderr",
     "text": [
      "/Users/jrhs/miniforge3/envs/tf_mac/lib/python3.8/site-packages/deap/creator.py:138: RuntimeWarning: A class named 'fitness' has already been created and it will be overwritten. Consider deleting previous creation of that class or rename it.\n",
      "  warnings.warn(\"A class named '{0}' has already been created and it \"\n",
      "/Users/jrhs/miniforge3/envs/tf_mac/lib/python3.8/site-packages/deap/creator.py:138: RuntimeWarning: A class named 'individual' has already been created and it will be overwritten. Consider deleting previous creation of that class or rename it.\n",
      "  warnings.warn(\"A class named '{0}' has already been created and it \"\n",
      "/Users/jrhs/miniforge3/envs/tf_mac/lib/python3.8/site-packages/deap/creator.py:138: RuntimeWarning: A class named 'fitness' has already been created and it will be overwritten. Consider deleting previous creation of that class or rename it.\n",
      "  warnings.warn(\"A class named '{0}' has already been created and it \"\n",
      "/Users/jrhs/miniforge3/envs/tf_mac/lib/python3.8/site-packages/deap/creator.py:138: RuntimeWarning: A class named 'individual' has already been created and it will be overwritten. Consider deleting previous creation of that class or rename it.\n",
      "  warnings.warn(\"A class named '{0}' has already been created and it \"\n"
     ]
    },
    {
     "output_type": "stream",
     "name": "stdout",
     "text": [
      "decision node 0 : (x [Glucose] = 126.0) <= 145.28311157226562)\n",
      "decision node 1 : (x [BMI] = 30.1) <= 43.91460609436035)\n",
      "decision node 2 : (x [Glucose] = 126.0) <= 134.40123748779297)\n",
      "decision node 0 : (x [Glucose] = 103.03219604492188) <= 145.28311157226562)\n",
      "decision node 1 : (x [BMI] = 30.100000381469727) <= 43.91460609436035)\n",
      "decision node 2 : (x [Glucose] = 103.03219604492188) <= 134.40123748779297)\n",
      "\n",
      "====================Index====================\n",
      "| 33 \n",
      "=============================================\n"
     ]
    },
    {
     "output_type": "stream",
     "name": "stderr",
     "text": [
      "/Users/jrhs/miniforge3/envs/tf_mac/lib/python3.8/site-packages/deap/creator.py:138: RuntimeWarning: A class named 'fitness' has already been created and it will be overwritten. Consider deleting previous creation of that class or rename it.\n",
      "  warnings.warn(\"A class named '{0}' has already been created and it \"\n",
      "/Users/jrhs/miniforge3/envs/tf_mac/lib/python3.8/site-packages/deap/creator.py:138: RuntimeWarning: A class named 'individual' has already been created and it will be overwritten. Consider deleting previous creation of that class or rename it.\n",
      "  warnings.warn(\"A class named '{0}' has already been created and it \"\n",
      "/Users/jrhs/miniforge3/envs/tf_mac/lib/python3.8/site-packages/deap/creator.py:138: RuntimeWarning: A class named 'fitness' has already been created and it will be overwritten. Consider deleting previous creation of that class or rename it.\n",
      "  warnings.warn(\"A class named '{0}' has already been created and it \"\n",
      "/Users/jrhs/miniforge3/envs/tf_mac/lib/python3.8/site-packages/deap/creator.py:138: RuntimeWarning: A class named 'individual' has already been created and it will be overwritten. Consider deleting previous creation of that class or rename it.\n",
      "  warnings.warn(\"A class named '{0}' has already been created and it \"\n"
     ]
    },
    {
     "output_type": "stream",
     "name": "stdout",
     "text": [
      "decision node 0 : (x [Glucose] = 105.0) <= 123.22622299194336)\n",
      "decision node 1 : (x [DiabetesPedigreeFunction] = 0.190336) <= 1.6565000414848328)\n",
      "decision node 0 : (x [Glucose] = 121.75816345214844) <= 123.22622299194336)\n",
      "decision node 1 : (x [DiabetesPedigreeFunction] = 0.1903357505798339) <= 1.6565000414848328)\n",
      "\n",
      "====================Index====================\n",
      "| 34 \n",
      "=============================================\n"
     ]
    },
    {
     "output_type": "stream",
     "name": "stderr",
     "text": [
      "/Users/jrhs/miniforge3/envs/tf_mac/lib/python3.8/site-packages/deap/creator.py:138: RuntimeWarning: A class named 'fitness' has already been created and it will be overwritten. Consider deleting previous creation of that class or rename it.\n",
      "  warnings.warn(\"A class named '{0}' has already been created and it \"\n",
      "/Users/jrhs/miniforge3/envs/tf_mac/lib/python3.8/site-packages/deap/creator.py:138: RuntimeWarning: A class named 'individual' has already been created and it will be overwritten. Consider deleting previous creation of that class or rename it.\n",
      "  warnings.warn(\"A class named '{0}' has already been created and it \"\n",
      "/Users/jrhs/miniforge3/envs/tf_mac/lib/python3.8/site-packages/deap/creator.py:138: RuntimeWarning: A class named 'fitness' has already been created and it will be overwritten. Consider deleting previous creation of that class or rename it.\n",
      "  warnings.warn(\"A class named '{0}' has already been created and it \"\n",
      "/Users/jrhs/miniforge3/envs/tf_mac/lib/python3.8/site-packages/deap/creator.py:138: RuntimeWarning: A class named 'individual' has already been created and it will be overwritten. Consider deleting previous creation of that class or rename it.\n",
      "  warnings.warn(\"A class named '{0}' has already been created and it \"\n"
     ]
    },
    {
     "output_type": "stream",
     "name": "stdout",
     "text": [
      "decision node 0 : (x [DiabetesPedigreeFunction] = 0.32574) <= 0.7084053158760071)\n",
      "decision node 1 : (x [Glucose] = 56.0) <= 164.32940673828125)\n",
      "decision node 2 : (x [BMI] = 24.2) <= 42.68832969665527)\n",
      "decision node 3 : (x [Age] = 22.0) <= 41.068260192871094)\n",
      "decision node 4 : (x [SkinThickness] = 28.0) <= 40.62173080444336)\n",
      "decision node 0 : (x [DiabetesPedigreeFunction] = 0.3257404863834381) <= 0.7084053158760071)\n",
      "decision node 1 : (x [Glucose] = 95.35074615478516) <= 164.32940673828125)\n",
      "decision node 2 : (x [BMI] = 24.19999885559082) <= 42.68832969665527)\n",
      "decision node 3 : (x [Age] = 35.6133918762207) <= 41.068260192871094)\n",
      "decision node 4 : (x [SkinThickness] = 27.999998092651367) <= 40.62173080444336)\n",
      "\n",
      "====================Index====================\n",
      "| 35 \n",
      "=============================================\n"
     ]
    },
    {
     "output_type": "stream",
     "name": "stderr",
     "text": [
      "/Users/jrhs/miniforge3/envs/tf_mac/lib/python3.8/site-packages/deap/creator.py:138: RuntimeWarning: A class named 'fitness' has already been created and it will be overwritten. Consider deleting previous creation of that class or rename it.\n",
      "  warnings.warn(\"A class named '{0}' has already been created and it \"\n",
      "/Users/jrhs/miniforge3/envs/tf_mac/lib/python3.8/site-packages/deap/creator.py:138: RuntimeWarning: A class named 'individual' has already been created and it will be overwritten. Consider deleting previous creation of that class or rename it.\n",
      "  warnings.warn(\"A class named '{0}' has already been created and it \"\n",
      "/Users/jrhs/miniforge3/envs/tf_mac/lib/python3.8/site-packages/deap/creator.py:138: RuntimeWarning: A class named 'fitness' has already been created and it will be overwritten. Consider deleting previous creation of that class or rename it.\n",
      "  warnings.warn(\"A class named '{0}' has already been created and it \"\n",
      "/Users/jrhs/miniforge3/envs/tf_mac/lib/python3.8/site-packages/deap/creator.py:138: RuntimeWarning: A class named 'individual' has already been created and it will be overwritten. Consider deleting previous creation of that class or rename it.\n",
      "  warnings.warn(\"A class named '{0}' has already been created and it \"\n"
     ]
    },
    {
     "output_type": "stream",
     "name": "stdout",
     "text": [
      "decision node 0 : (x [Glucose] = 105.0) <= 120.54850769042969)\n",
      "decision node 1 : (x [DiabetesPedigreeFunction] = 0.873377) <= 1.15157151222229)\n",
      "decision node 2 : (x [Pregnancies] = 6.0) > 1.5)\n",
      "decision node 0 : (x [Glucose] = 124.64794921875) > 120.54850769042969)\n",
      "decision node 10 : (x [Age] = 26.000001907348636) > 15.600169658660889)\n",
      "decision node 12 : (x [DiabetesPedigreeFunction] = 0.8733773231506348) > 0.09163915552198887)\n",
      "\n",
      "====================Index====================\n",
      "| 36 \n",
      "=============================================\n"
     ]
    },
    {
     "output_type": "stream",
     "name": "stderr",
     "text": [
      "/Users/jrhs/miniforge3/envs/tf_mac/lib/python3.8/site-packages/deap/creator.py:138: RuntimeWarning: A class named 'fitness' has already been created and it will be overwritten. Consider deleting previous creation of that class or rename it.\n",
      "  warnings.warn(\"A class named '{0}' has already been created and it \"\n",
      "/Users/jrhs/miniforge3/envs/tf_mac/lib/python3.8/site-packages/deap/creator.py:138: RuntimeWarning: A class named 'individual' has already been created and it will be overwritten. Consider deleting previous creation of that class or rename it.\n",
      "  warnings.warn(\"A class named '{0}' has already been created and it \"\n",
      "/Users/jrhs/miniforge3/envs/tf_mac/lib/python3.8/site-packages/deap/creator.py:138: RuntimeWarning: A class named 'fitness' has already been created and it will be overwritten. Consider deleting previous creation of that class or rename it.\n",
      "  warnings.warn(\"A class named '{0}' has already been created and it \"\n",
      "/Users/jrhs/miniforge3/envs/tf_mac/lib/python3.8/site-packages/deap/creator.py:138: RuntimeWarning: A class named 'individual' has already been created and it will be overwritten. Consider deleting previous creation of that class or rename it.\n",
      "  warnings.warn(\"A class named '{0}' has already been created and it \"\n"
     ]
    },
    {
     "output_type": "stream",
     "name": "stdout",
     "text": [
      "decision node 0 : (x [Glucose] = 116.0) <= 120.5)\n",
      "decision node 1 : (x [Age] = 24.0) <= 42.14721870422363)\n",
      "decision node 2 : (x [DiabetesPedigreeFunction] = 0.100066) <= 0.9767716228961945)\n",
      "decision node 0 : (x [Glucose] = 116.0) <= 120.5)\n",
      "decision node 1 : (x [Age] = 41.1818733215332) <= 42.14721870422363)\n",
      "decision node 2 : (x [DiabetesPedigreeFunction] = 0.10006595402956) <= 0.9767716228961945)\n",
      "\n",
      "====================Index====================\n",
      "| 37 \n",
      "=============================================\n"
     ]
    },
    {
     "output_type": "stream",
     "name": "stderr",
     "text": [
      "/Users/jrhs/miniforge3/envs/tf_mac/lib/python3.8/site-packages/deap/creator.py:138: RuntimeWarning: A class named 'fitness' has already been created and it will be overwritten. Consider deleting previous creation of that class or rename it.\n",
      "  warnings.warn(\"A class named '{0}' has already been created and it \"\n",
      "/Users/jrhs/miniforge3/envs/tf_mac/lib/python3.8/site-packages/deap/creator.py:138: RuntimeWarning: A class named 'individual' has already been created and it will be overwritten. Consider deleting previous creation of that class or rename it.\n",
      "  warnings.warn(\"A class named '{0}' has already been created and it \"\n",
      "/Users/jrhs/miniforge3/envs/tf_mac/lib/python3.8/site-packages/deap/creator.py:138: RuntimeWarning: A class named 'fitness' has already been created and it will be overwritten. Consider deleting previous creation of that class or rename it.\n",
      "  warnings.warn(\"A class named '{0}' has already been created and it \"\n",
      "/Users/jrhs/miniforge3/envs/tf_mac/lib/python3.8/site-packages/deap/creator.py:138: RuntimeWarning: A class named 'individual' has already been created and it will be overwritten. Consider deleting previous creation of that class or rename it.\n",
      "  warnings.warn(\"A class named '{0}' has already been created and it \"\n"
     ]
    },
    {
     "output_type": "stream",
     "name": "stdout",
     "text": [
      "decision node 0 : (x [DiabetesPedigreeFunction] = 0.40598) <= 0.9062997400760651)\n",
      "decision node 1 : (x [Age] = 21.0) <= 27.48725128173828)\n",
      "decision node 2 : (x [Pregnancies] = 1.0) <= 11.0)\n",
      "decision node 0 : (x [DiabetesPedigreeFunction] = 0.4059803187847137) <= 0.9062997400760651)\n",
      "decision node 1 : (x [Age] = 21.0) <= 27.48725128173828)\n",
      "decision node 2 : (x [Pregnancies] = 5.653402805328369) <= 11.0)\n",
      "\n",
      "====================Index====================\n",
      "| 38 \n",
      "=============================================\n"
     ]
    },
    {
     "output_type": "stream",
     "name": "stderr",
     "text": [
      "/Users/jrhs/miniforge3/envs/tf_mac/lib/python3.8/site-packages/deap/creator.py:138: RuntimeWarning: A class named 'fitness' has already been created and it will be overwritten. Consider deleting previous creation of that class or rename it.\n",
      "  warnings.warn(\"A class named '{0}' has already been created and it \"\n",
      "/Users/jrhs/miniforge3/envs/tf_mac/lib/python3.8/site-packages/deap/creator.py:138: RuntimeWarning: A class named 'individual' has already been created and it will be overwritten. Consider deleting previous creation of that class or rename it.\n",
      "  warnings.warn(\"A class named '{0}' has already been created and it \"\n",
      "/Users/jrhs/miniforge3/envs/tf_mac/lib/python3.8/site-packages/deap/creator.py:138: RuntimeWarning: A class named 'fitness' has already been created and it will be overwritten. Consider deleting previous creation of that class or rename it.\n",
      "  warnings.warn(\"A class named '{0}' has already been created and it \"\n",
      "/Users/jrhs/miniforge3/envs/tf_mac/lib/python3.8/site-packages/deap/creator.py:138: RuntimeWarning: A class named 'individual' has already been created and it will be overwritten. Consider deleting previous creation of that class or rename it.\n",
      "  warnings.warn(\"A class named '{0}' has already been created and it \"\n"
     ]
    },
    {
     "output_type": "stream",
     "name": "stdout",
     "text": [
      "decision node 0 : (x [DiabetesPedigreeFunction] = 0.438076) <= 0.7368965446949005)\n",
      "decision node 1 : (x [BMI] = 21.8) <= 40.26369285583496)\n",
      "decision node 2 : (x [BloodPressure] = 56.065574) <= 98.39237976074219)\n",
      "decision node 3 : (x [Age] = 21.0) <= 42.8090877532959)\n",
      "decision node 0 : (x [DiabetesPedigreeFunction] = 0.4380762279033661) <= 0.7368965446949005)\n",
      "decision node 1 : (x [BMI] = 29.81741523742676) <= 40.26369285583496)\n",
      "decision node 2 : (x [BloodPressure] = 56.065574645996094) <= 98.39237976074219)\n",
      "decision node 3 : (x [Age] = 30.02067756652832) <= 42.8090877532959)\n",
      "\n",
      "====================Index====================\n",
      "| 39 \n",
      "=============================================\n"
     ]
    },
    {
     "output_type": "stream",
     "name": "stderr",
     "text": [
      "/Users/jrhs/miniforge3/envs/tf_mac/lib/python3.8/site-packages/deap/creator.py:138: RuntimeWarning: A class named 'fitness' has already been created and it will be overwritten. Consider deleting previous creation of that class or rename it.\n",
      "  warnings.warn(\"A class named '{0}' has already been created and it \"\n",
      "/Users/jrhs/miniforge3/envs/tf_mac/lib/python3.8/site-packages/deap/creator.py:138: RuntimeWarning: A class named 'individual' has already been created and it will be overwritten. Consider deleting previous creation of that class or rename it.\n",
      "  warnings.warn(\"A class named '{0}' has already been created and it \"\n",
      "/Users/jrhs/miniforge3/envs/tf_mac/lib/python3.8/site-packages/deap/creator.py:138: RuntimeWarning: A class named 'fitness' has already been created and it will be overwritten. Consider deleting previous creation of that class or rename it.\n",
      "  warnings.warn(\"A class named '{0}' has already been created and it \"\n",
      "/Users/jrhs/miniforge3/envs/tf_mac/lib/python3.8/site-packages/deap/creator.py:138: RuntimeWarning: A class named 'individual' has already been created and it will be overwritten. Consider deleting previous creation of that class or rename it.\n",
      "  warnings.warn(\"A class named '{0}' has already been created and it \"\n"
     ]
    },
    {
     "output_type": "stream",
     "name": "stdout",
     "text": [
      "decision node 0 : (x [Age] = 39.0) > 29.492589950561523)\n",
      "decision node 6 : (x [DiabetesPedigreeFunction] = 0.263555) > 0.12033158913254738)\n",
      "decision node 10 : (x [Glucose] = 78.0) > 70.93500328063965)\n",
      "decision node 0 : (x [Age] = 39.0) > 29.492589950561523)\n",
      "decision node 6 : (x [DiabetesPedigreeFunction] = 0.2635546028614044) > 0.12033158913254738)\n",
      "decision node 10 : (x [Glucose] = 102.00373840332033) > 70.93500328063965)\n",
      "\n",
      "====================Index====================\n",
      "| 40 \n",
      "=============================================\n"
     ]
    },
    {
     "output_type": "stream",
     "name": "stderr",
     "text": [
      "/Users/jrhs/miniforge3/envs/tf_mac/lib/python3.8/site-packages/deap/creator.py:138: RuntimeWarning: A class named 'fitness' has already been created and it will be overwritten. Consider deleting previous creation of that class or rename it.\n",
      "  warnings.warn(\"A class named '{0}' has already been created and it \"\n",
      "/Users/jrhs/miniforge3/envs/tf_mac/lib/python3.8/site-packages/deap/creator.py:138: RuntimeWarning: A class named 'individual' has already been created and it will be overwritten. Consider deleting previous creation of that class or rename it.\n",
      "  warnings.warn(\"A class named '{0}' has already been created and it \"\n",
      "/Users/jrhs/miniforge3/envs/tf_mac/lib/python3.8/site-packages/deap/creator.py:138: RuntimeWarning: A class named 'fitness' has already been created and it will be overwritten. Consider deleting previous creation of that class or rename it.\n",
      "  warnings.warn(\"A class named '{0}' has already been created and it \"\n",
      "/Users/jrhs/miniforge3/envs/tf_mac/lib/python3.8/site-packages/deap/creator.py:138: RuntimeWarning: A class named 'individual' has already been created and it will be overwritten. Consider deleting previous creation of that class or rename it.\n",
      "  warnings.warn(\"A class named '{0}' has already been created and it \"\n"
     ]
    },
    {
     "output_type": "stream",
     "name": "stdout",
     "text": [
      "decision node 0 : (x [Glucose] = 84.0) <= 135.24183654785156)\n",
      "decision node 1 : (x [Age] = 25.0) <= 34.67593193054199)\n",
      "decision node 0 : (x [Glucose] = 109.77925872802734) <= 135.24183654785156)\n",
      "decision node 1 : (x [Age] = 31.34699249267578) <= 34.67593193054199)\n",
      "\n",
      "====================Index====================\n",
      "| 41 \n",
      "=============================================\n"
     ]
    },
    {
     "output_type": "stream",
     "name": "stderr",
     "text": [
      "/Users/jrhs/miniforge3/envs/tf_mac/lib/python3.8/site-packages/deap/creator.py:138: RuntimeWarning: A class named 'fitness' has already been created and it will be overwritten. Consider deleting previous creation of that class or rename it.\n",
      "  warnings.warn(\"A class named '{0}' has already been created and it \"\n",
      "/Users/jrhs/miniforge3/envs/tf_mac/lib/python3.8/site-packages/deap/creator.py:138: RuntimeWarning: A class named 'individual' has already been created and it will be overwritten. Consider deleting previous creation of that class or rename it.\n",
      "  warnings.warn(\"A class named '{0}' has already been created and it \"\n",
      "/Users/jrhs/miniforge3/envs/tf_mac/lib/python3.8/site-packages/deap/creator.py:138: RuntimeWarning: A class named 'fitness' has already been created and it will be overwritten. Consider deleting previous creation of that class or rename it.\n",
      "  warnings.warn(\"A class named '{0}' has already been created and it \"\n",
      "/Users/jrhs/miniforge3/envs/tf_mac/lib/python3.8/site-packages/deap/creator.py:138: RuntimeWarning: A class named 'individual' has already been created and it will be overwritten. Consider deleting previous creation of that class or rename it.\n",
      "  warnings.warn(\"A class named '{0}' has already been created and it \"\n"
     ]
    },
    {
     "output_type": "stream",
     "name": "stdout",
     "text": [
      "decision node 0 : (x [DiabetesPedigreeFunction] = 0.293645) <= 0.48239871859550476)\n",
      "decision node 1 : (x [BMI] = 30.1) <= 41.808881759643555)\n",
      "decision node 2 : (x [Age] = 35.0) <= 39.0)\n",
      "decision node 3 : (x [Glucose] = 85.0) <= 173.09410858154297)\n",
      "decision node 0 : (x [DiabetesPedigreeFunction] = 0.2936445474624634) <= 0.48239871859550476)\n",
      "decision node 1 : (x [BMI] = 30.100000381469727) <= 41.808881759643555)\n",
      "decision node 2 : (x [Age] = 35.0) <= 39.0)\n",
      "decision node 3 : (x [Glucose] = 105.45442962646484) <= 173.09410858154297)\n",
      "\n",
      "====================Index====================\n",
      "| 42 \n",
      "=============================================\n"
     ]
    },
    {
     "output_type": "stream",
     "name": "stderr",
     "text": [
      "/Users/jrhs/miniforge3/envs/tf_mac/lib/python3.8/site-packages/deap/creator.py:138: RuntimeWarning: A class named 'fitness' has already been created and it will be overwritten. Consider deleting previous creation of that class or rename it.\n",
      "  warnings.warn(\"A class named '{0}' has already been created and it \"\n",
      "/Users/jrhs/miniforge3/envs/tf_mac/lib/python3.8/site-packages/deap/creator.py:138: RuntimeWarning: A class named 'individual' has already been created and it will be overwritten. Consider deleting previous creation of that class or rename it.\n",
      "  warnings.warn(\"A class named '{0}' has already been created and it \"\n",
      "/Users/jrhs/miniforge3/envs/tf_mac/lib/python3.8/site-packages/deap/creator.py:138: RuntimeWarning: A class named 'fitness' has already been created and it will be overwritten. Consider deleting previous creation of that class or rename it.\n",
      "  warnings.warn(\"A class named '{0}' has already been created and it \"\n",
      "/Users/jrhs/miniforge3/envs/tf_mac/lib/python3.8/site-packages/deap/creator.py:138: RuntimeWarning: A class named 'individual' has already been created and it will be overwritten. Consider deleting previous creation of that class or rename it.\n",
      "  warnings.warn(\"A class named '{0}' has already been created and it \"\n"
     ]
    },
    {
     "output_type": "stream",
     "name": "stdout",
     "text": [
      "decision node 0 : (x [Glucose] = 71.0) <= 84.0)\n",
      "decision node 1 : (x [DiabetesPedigreeFunction] = 0.316713) <= 1.7635329365730286)\n",
      "decision node 0 : (x [Glucose] = 99.16352081298828) > 84.0)\n",
      "decision node 4 : (x [DiabetesPedigreeFunction] = 0.3167134821414947) > -0.02068306040018797)\n",
      "decision node 10 : (x [Age] = 38.02443313598633) > 14.37047815322876)\n",
      "decision node 14 : (x [Age] = 38.02443313598633) <= 54.80075454711914)\n",
      "decision node 15 : (x [DiabetesPedigreeFunction] = 0.3167134821414947) <= 0.5550785660743713)\n",
      "decision node 16 : (x [Glucose] = 99.16352081298828) <= 128.02054595947266)\n",
      "decision node 17 : (x [Age] = 38.02443313598633) > 31.5)\n",
      "\n",
      "====================Index====================\n",
      "| 43 \n",
      "=============================================\n"
     ]
    },
    {
     "output_type": "stream",
     "name": "stderr",
     "text": [
      "/Users/jrhs/miniforge3/envs/tf_mac/lib/python3.8/site-packages/deap/creator.py:138: RuntimeWarning: A class named 'fitness' has already been created and it will be overwritten. Consider deleting previous creation of that class or rename it.\n",
      "  warnings.warn(\"A class named '{0}' has already been created and it \"\n",
      "/Users/jrhs/miniforge3/envs/tf_mac/lib/python3.8/site-packages/deap/creator.py:138: RuntimeWarning: A class named 'individual' has already been created and it will be overwritten. Consider deleting previous creation of that class or rename it.\n",
      "  warnings.warn(\"A class named '{0}' has already been created and it \"\n",
      "/Users/jrhs/miniforge3/envs/tf_mac/lib/python3.8/site-packages/deap/creator.py:138: RuntimeWarning: A class named 'fitness' has already been created and it will be overwritten. Consider deleting previous creation of that class or rename it.\n",
      "  warnings.warn(\"A class named '{0}' has already been created and it \"\n",
      "/Users/jrhs/miniforge3/envs/tf_mac/lib/python3.8/site-packages/deap/creator.py:138: RuntimeWarning: A class named 'individual' has already been created and it will be overwritten. Consider deleting previous creation of that class or rename it.\n",
      "  warnings.warn(\"A class named '{0}' has already been created and it \"\n"
     ]
    },
    {
     "output_type": "stream",
     "name": "stdout",
     "text": [
      "decision node 0 : (x [Glucose] = 99.0) <= 110.9743537902832)\n",
      "decision node 1 : (x [DiabetesPedigreeFunction] = 0.493241) <= 1.041530728340149)\n",
      "decision node 2 : (x [BMI] = 34.0) <= 47.40067100524902)\n",
      "decision node 0 : (x [Glucose] = 104.68595123291016) <= 110.9743537902832)\n",
      "decision node 1 : (x [DiabetesPedigreeFunction] = 0.4932411313056946) <= 1.041530728340149)\n",
      "decision node 2 : (x [BMI] = 34.0) <= 47.40067100524902)\n",
      "\n",
      "====================Index====================\n",
      "| 44 \n",
      "=============================================\n"
     ]
    },
    {
     "output_type": "stream",
     "name": "stderr",
     "text": [
      "/Users/jrhs/miniforge3/envs/tf_mac/lib/python3.8/site-packages/deap/creator.py:138: RuntimeWarning: A class named 'fitness' has already been created and it will be overwritten. Consider deleting previous creation of that class or rename it.\n",
      "  warnings.warn(\"A class named '{0}' has already been created and it \"\n",
      "/Users/jrhs/miniforge3/envs/tf_mac/lib/python3.8/site-packages/deap/creator.py:138: RuntimeWarning: A class named 'individual' has already been created and it will be overwritten. Consider deleting previous creation of that class or rename it.\n",
      "  warnings.warn(\"A class named '{0}' has already been created and it \"\n",
      "/Users/jrhs/miniforge3/envs/tf_mac/lib/python3.8/site-packages/deap/creator.py:138: RuntimeWarning: A class named 'fitness' has already been created and it will be overwritten. Consider deleting previous creation of that class or rename it.\n",
      "  warnings.warn(\"A class named '{0}' has already been created and it \"\n",
      "/Users/jrhs/miniforge3/envs/tf_mac/lib/python3.8/site-packages/deap/creator.py:138: RuntimeWarning: A class named 'individual' has already been created and it will be overwritten. Consider deleting previous creation of that class or rename it.\n",
      "  warnings.warn(\"A class named '{0}' has already been created and it \"\n"
     ]
    },
    {
     "output_type": "stream",
     "name": "stdout",
     "text": [
      "decision node 0 : (x [Glucose] = 87.0) <= 103.6357307434082)\n",
      "decision node 0 : (x [Glucose] = 101.78729248046876) <= 103.6357307434082)\n",
      "\n",
      "====================Index====================\n",
      "| 45 \n",
      "=============================================\n"
     ]
    },
    {
     "output_type": "stream",
     "name": "stderr",
     "text": [
      "/Users/jrhs/miniforge3/envs/tf_mac/lib/python3.8/site-packages/deap/creator.py:138: RuntimeWarning: A class named 'fitness' has already been created and it will be overwritten. Consider deleting previous creation of that class or rename it.\n",
      "  warnings.warn(\"A class named '{0}' has already been created and it \"\n",
      "/Users/jrhs/miniforge3/envs/tf_mac/lib/python3.8/site-packages/deap/creator.py:138: RuntimeWarning: A class named 'individual' has already been created and it will be overwritten. Consider deleting previous creation of that class or rename it.\n",
      "  warnings.warn(\"A class named '{0}' has already been created and it \"\n",
      "/Users/jrhs/miniforge3/envs/tf_mac/lib/python3.8/site-packages/deap/creator.py:138: RuntimeWarning: A class named 'fitness' has already been created and it will be overwritten. Consider deleting previous creation of that class or rename it.\n",
      "  warnings.warn(\"A class named '{0}' has already been created and it \"\n",
      "/Users/jrhs/miniforge3/envs/tf_mac/lib/python3.8/site-packages/deap/creator.py:138: RuntimeWarning: A class named 'individual' has already been created and it will be overwritten. Consider deleting previous creation of that class or rename it.\n",
      "  warnings.warn(\"A class named '{0}' has already been created and it \"\n"
     ]
    },
    {
     "output_type": "stream",
     "name": "stdout",
     "text": [
      "decision node 0 : (x [Glucose] = 109.0) <= 124.97668075561523)\n",
      "decision node 1 : (x [BMI] = 25.0) <= 37.650001525878906)\n",
      "decision node 2 : (x [Age] = 27.0) <= 38.72138977050781)\n",
      "decision node 0 : (x [Glucose] = 160.26441955566406) > 124.97668075561523)\n",
      "decision node 12 : (x [Age] = 27.4168758392334) > 22.08552646636963)\n",
      "decision node 16 : (x [DiabetesPedigreeFunction] = 0.1993627548217773) > 0.11965673416852951)\n",
      "\n",
      "====================Index====================\n",
      "| 46 \n",
      "=============================================\n"
     ]
    },
    {
     "output_type": "stream",
     "name": "stderr",
     "text": [
      "/Users/jrhs/miniforge3/envs/tf_mac/lib/python3.8/site-packages/deap/creator.py:138: RuntimeWarning: A class named 'fitness' has already been created and it will be overwritten. Consider deleting previous creation of that class or rename it.\n",
      "  warnings.warn(\"A class named '{0}' has already been created and it \"\n",
      "/Users/jrhs/miniforge3/envs/tf_mac/lib/python3.8/site-packages/deap/creator.py:138: RuntimeWarning: A class named 'individual' has already been created and it will be overwritten. Consider deleting previous creation of that class or rename it.\n",
      "  warnings.warn(\"A class named '{0}' has already been created and it \"\n",
      "/Users/jrhs/miniforge3/envs/tf_mac/lib/python3.8/site-packages/deap/creator.py:138: RuntimeWarning: A class named 'fitness' has already been created and it will be overwritten. Consider deleting previous creation of that class or rename it.\n",
      "  warnings.warn(\"A class named '{0}' has already been created and it \"\n",
      "/Users/jrhs/miniforge3/envs/tf_mac/lib/python3.8/site-packages/deap/creator.py:138: RuntimeWarning: A class named 'individual' has already been created and it will be overwritten. Consider deleting previous creation of that class or rename it.\n",
      "  warnings.warn(\"A class named '{0}' has already been created and it \"\n"
     ]
    },
    {
     "output_type": "stream",
     "name": "stdout",
     "text": [
      "decision node 0 : (x [Glucose] = 107.0) <= 136.5545883178711)\n",
      "decision node 1 : (x [DiabetesPedigreeFunction] = 0.816206) > 0.7441710233688354)\n",
      "decision node 3 : (x [Age] = 24.0) <= 27.5)\n",
      "decision node 0 : (x [Glucose] = 117.28351593017578) <= 136.5545883178711)\n",
      "decision node 1 : (x [DiabetesPedigreeFunction] = 0.8162064552307129) > 0.7441710233688354)\n",
      "decision node 3 : (x [Age] = 26.806568145751957) <= 27.5)\n",
      "\n",
      "====================Index====================\n",
      "| 47 \n",
      "=============================================\n"
     ]
    },
    {
     "output_type": "stream",
     "name": "stderr",
     "text": [
      "/Users/jrhs/miniforge3/envs/tf_mac/lib/python3.8/site-packages/deap/creator.py:138: RuntimeWarning: A class named 'fitness' has already been created and it will be overwritten. Consider deleting previous creation of that class or rename it.\n",
      "  warnings.warn(\"A class named '{0}' has already been created and it \"\n",
      "/Users/jrhs/miniforge3/envs/tf_mac/lib/python3.8/site-packages/deap/creator.py:138: RuntimeWarning: A class named 'individual' has already been created and it will be overwritten. Consider deleting previous creation of that class or rename it.\n",
      "  warnings.warn(\"A class named '{0}' has already been created and it \"\n",
      "/Users/jrhs/miniforge3/envs/tf_mac/lib/python3.8/site-packages/deap/creator.py:138: RuntimeWarning: A class named 'fitness' has already been created and it will be overwritten. Consider deleting previous creation of that class or rename it.\n",
      "  warnings.warn(\"A class named '{0}' has already been created and it \"\n",
      "/Users/jrhs/miniforge3/envs/tf_mac/lib/python3.8/site-packages/deap/creator.py:138: RuntimeWarning: A class named 'individual' has already been created and it will be overwritten. Consider deleting previous creation of that class or rename it.\n",
      "  warnings.warn(\"A class named '{0}' has already been created and it \"\n"
     ]
    },
    {
     "output_type": "stream",
     "name": "stdout",
     "text": [
      "decision node 0 : (x [Age] = 22.0) > 20.409042358398438)\n",
      "decision node 2 : (x [DiabetesPedigreeFunction] = 0.249513) <= 0.2538449615240097)\n",
      "decision node 3 : (x [Age] = 22.0) <= 32.98601531982422)\n",
      "decision node 0 : (x [Age] = 27.92284774780273) > 20.409042358398438)\n",
      "decision node 2 : (x [DiabetesPedigreeFunction] = 0.249512642621994) <= 0.2538449615240097)\n",
      "decision node 3 : (x [Age] = 27.92284774780273) <= 32.98601531982422)\n",
      "\n",
      "====================Index====================\n",
      "| 48 \n",
      "=============================================\n"
     ]
    },
    {
     "output_type": "stream",
     "name": "stderr",
     "text": [
      "/Users/jrhs/miniforge3/envs/tf_mac/lib/python3.8/site-packages/deap/creator.py:138: RuntimeWarning: A class named 'fitness' has already been created and it will be overwritten. Consider deleting previous creation of that class or rename it.\n",
      "  warnings.warn(\"A class named '{0}' has already been created and it \"\n",
      "/Users/jrhs/miniforge3/envs/tf_mac/lib/python3.8/site-packages/deap/creator.py:138: RuntimeWarning: A class named 'individual' has already been created and it will be overwritten. Consider deleting previous creation of that class or rename it.\n",
      "  warnings.warn(\"A class named '{0}' has already been created and it \"\n",
      "/Users/jrhs/miniforge3/envs/tf_mac/lib/python3.8/site-packages/deap/creator.py:138: RuntimeWarning: A class named 'fitness' has already been created and it will be overwritten. Consider deleting previous creation of that class or rename it.\n",
      "  warnings.warn(\"A class named '{0}' has already been created and it \"\n",
      "/Users/jrhs/miniforge3/envs/tf_mac/lib/python3.8/site-packages/deap/creator.py:138: RuntimeWarning: A class named 'individual' has already been created and it will be overwritten. Consider deleting previous creation of that class or rename it.\n",
      "  warnings.warn(\"A class named '{0}' has already been created and it \"\n"
     ]
    },
    {
     "output_type": "stream",
     "name": "stdout",
     "text": [
      "decision node 0 : (x [Glucose] = 98.0) <= 102.551025390625)\n",
      "decision node 1 : (x [DiabetesPedigreeFunction] = 0.292642) <= 0.9641257524490356)\n",
      "decision node 2 : (x [DiabetesPedigreeFunction] = 0.292642) <= 0.5699282288551331)\n",
      "decision node 0 : (x [Glucose] = 114.75547790527344) > 102.551025390625)\n",
      "decision node 8 : (x [Age] = 41.255615234375) > 22.389436721801758)\n",
      "decision node 10 : (x [Glucose] = 114.75547790527344) <= 138.1011505126953)\n",
      "decision node 11 : (x [Age] = 41.255615234375) > 33.20576858520508)\n",
      "\n",
      "====================Index====================\n",
      "| 49 \n",
      "=============================================\n"
     ]
    },
    {
     "output_type": "stream",
     "name": "stderr",
     "text": [
      "/Users/jrhs/miniforge3/envs/tf_mac/lib/python3.8/site-packages/deap/creator.py:138: RuntimeWarning: A class named 'fitness' has already been created and it will be overwritten. Consider deleting previous creation of that class or rename it.\n",
      "  warnings.warn(\"A class named '{0}' has already been created and it \"\n",
      "/Users/jrhs/miniforge3/envs/tf_mac/lib/python3.8/site-packages/deap/creator.py:138: RuntimeWarning: A class named 'individual' has already been created and it will be overwritten. Consider deleting previous creation of that class or rename it.\n",
      "  warnings.warn(\"A class named '{0}' has already been created and it \"\n",
      "/Users/jrhs/miniforge3/envs/tf_mac/lib/python3.8/site-packages/deap/creator.py:138: RuntimeWarning: A class named 'fitness' has already been created and it will be overwritten. Consider deleting previous creation of that class or rename it.\n",
      "  warnings.warn(\"A class named '{0}' has already been created and it \"\n",
      "/Users/jrhs/miniforge3/envs/tf_mac/lib/python3.8/site-packages/deap/creator.py:138: RuntimeWarning: A class named 'individual' has already been created and it will be overwritten. Consider deleting previous creation of that class or rename it.\n",
      "  warnings.warn(\"A class named '{0}' has already been created and it \"\n"
     ]
    },
    {
     "output_type": "stream",
     "name": "stdout",
     "text": [
      "decision node 0 : (x [Age] = 22.0) > 15.636301040649414)\n",
      "decision node 2 : (x [Glucose] = 130.0) <= 137.5244903564453)\n",
      "decision node 3 : (x [BloodPressure] = 65.409836) <= 74.3399772644043)\n",
      "decision node 4 : (x [Age] = 22.0) <= 46.68010139465332)\n",
      "decision node 5 : (x [Glucose] = 130.0) > 102.57248306274414)\n",
      "decision node 0 : (x [Age] = 29.63865852355957) > 15.636301040649414)\n",
      "decision node 2 : (x [Glucose] = 130.0) <= 137.5244903564453)\n",
      "decision node 3 : (x [BloodPressure] = 65.40983581542969) <= 74.3399772644043)\n",
      "decision node 4 : (x [Age] = 29.63865852355957) <= 46.68010139465332)\n",
      "decision node 5 : (x [Glucose] = 130.0) > 102.57248306274414)\n",
      "\n",
      "====================Index====================\n",
      "| 50 \n",
      "=============================================\n"
     ]
    },
    {
     "output_type": "stream",
     "name": "stderr",
     "text": [
      "/Users/jrhs/miniforge3/envs/tf_mac/lib/python3.8/site-packages/deap/creator.py:138: RuntimeWarning: A class named 'fitness' has already been created and it will be overwritten. Consider deleting previous creation of that class or rename it.\n",
      "  warnings.warn(\"A class named '{0}' has already been created and it \"\n",
      "/Users/jrhs/miniforge3/envs/tf_mac/lib/python3.8/site-packages/deap/creator.py:138: RuntimeWarning: A class named 'individual' has already been created and it will be overwritten. Consider deleting previous creation of that class or rename it.\n",
      "  warnings.warn(\"A class named '{0}' has already been created and it \"\n",
      "/Users/jrhs/miniforge3/envs/tf_mac/lib/python3.8/site-packages/deap/creator.py:138: RuntimeWarning: A class named 'fitness' has already been created and it will be overwritten. Consider deleting previous creation of that class or rename it.\n",
      "  warnings.warn(\"A class named '{0}' has already been created and it \"\n",
      "/Users/jrhs/miniforge3/envs/tf_mac/lib/python3.8/site-packages/deap/creator.py:138: RuntimeWarning: A class named 'individual' has already been created and it will be overwritten. Consider deleting previous creation of that class or rename it.\n",
      "  warnings.warn(\"A class named '{0}' has already been created and it \"\n"
     ]
    },
    {
     "output_type": "stream",
     "name": "stdout",
     "text": [
      "decision node 0 : (x [Glucose] = 83.0) <= 85.0)\n",
      "decision node 0 : (x [Glucose] = 133.1688690185547) > 85.0)\n",
      "decision node 2 : (x [Age] = 34.0) > 20.51271343231201)\n",
      "decision node 6 : (x [Glucose] = 133.1688690185547) > 96.86672592163086)\n",
      "decision node 10 : (x [DiabetesPedigreeFunction] = 0.3106955289840698) > 0.062417058274149895)\n",
      "decision node 14 : (x [Age] = 34.0) > 23.147432327270508)\n",
      "\n",
      "====================Index====================\n",
      "| 51 \n",
      "=============================================\n"
     ]
    },
    {
     "output_type": "stream",
     "name": "stderr",
     "text": [
      "/Users/jrhs/miniforge3/envs/tf_mac/lib/python3.8/site-packages/deap/creator.py:138: RuntimeWarning: A class named 'fitness' has already been created and it will be overwritten. Consider deleting previous creation of that class or rename it.\n",
      "  warnings.warn(\"A class named '{0}' has already been created and it \"\n",
      "/Users/jrhs/miniforge3/envs/tf_mac/lib/python3.8/site-packages/deap/creator.py:138: RuntimeWarning: A class named 'individual' has already been created and it will be overwritten. Consider deleting previous creation of that class or rename it.\n",
      "  warnings.warn(\"A class named '{0}' has already been created and it \"\n",
      "/Users/jrhs/miniforge3/envs/tf_mac/lib/python3.8/site-packages/deap/creator.py:138: RuntimeWarning: A class named 'fitness' has already been created and it will be overwritten. Consider deleting previous creation of that class or rename it.\n",
      "  warnings.warn(\"A class named '{0}' has already been created and it \"\n",
      "/Users/jrhs/miniforge3/envs/tf_mac/lib/python3.8/site-packages/deap/creator.py:138: RuntimeWarning: A class named 'individual' has already been created and it will be overwritten. Consider deleting previous creation of that class or rename it.\n",
      "  warnings.warn(\"A class named '{0}' has already been created and it \"\n"
     ]
    },
    {
     "output_type": "stream",
     "name": "stdout",
     "text": [
      "decision node 0 : (x [BloodPressure] = 56.065574) <= 70.32821273803711)\n",
      "decision node 1 : (x [Age] = 22.0) > 18.462364673614502)\n",
      "decision node 5 : (x [DiabetesPedigreeFunction] = 0.172282) > -0.3897049240767956)\n",
      "decision node 7 : (x [Glucose] = 151.0) > 128.6366424560547)\n",
      "decision node 0 : (x [BloodPressure] = 56.065574645996094) <= 70.32821273803711)\n",
      "decision node 1 : (x [Age] = 22.0) > 18.462364673614502)\n",
      "decision node 5 : (x [DiabetesPedigreeFunction] = 0.1722817867994308) > -0.3897049240767956)\n",
      "decision node 7 : (x [Glucose] = 151.0) > 128.6366424560547)\n",
      "\n",
      "====================Index====================\n",
      "| 52 \n",
      "=============================================\n"
     ]
    },
    {
     "output_type": "stream",
     "name": "stderr",
     "text": [
      "/Users/jrhs/miniforge3/envs/tf_mac/lib/python3.8/site-packages/deap/creator.py:138: RuntimeWarning: A class named 'fitness' has already been created and it will be overwritten. Consider deleting previous creation of that class or rename it.\n",
      "  warnings.warn(\"A class named '{0}' has already been created and it \"\n",
      "/Users/jrhs/miniforge3/envs/tf_mac/lib/python3.8/site-packages/deap/creator.py:138: RuntimeWarning: A class named 'individual' has already been created and it will be overwritten. Consider deleting previous creation of that class or rename it.\n",
      "  warnings.warn(\"A class named '{0}' has already been created and it \"\n",
      "/Users/jrhs/miniforge3/envs/tf_mac/lib/python3.8/site-packages/deap/creator.py:138: RuntimeWarning: A class named 'fitness' has already been created and it will be overwritten. Consider deleting previous creation of that class or rename it.\n",
      "  warnings.warn(\"A class named '{0}' has already been created and it \"\n",
      "/Users/jrhs/miniforge3/envs/tf_mac/lib/python3.8/site-packages/deap/creator.py:138: RuntimeWarning: A class named 'individual' has already been created and it will be overwritten. Consider deleting previous creation of that class or rename it.\n",
      "  warnings.warn(\"A class named '{0}' has already been created and it \"\n"
     ]
    },
    {
     "output_type": "stream",
     "name": "stdout",
     "text": [
      "decision node 0 : (x [Age] = 21.0) <= 21.100725173950195)\n",
      "decision node 1 : (x [Glucose] = 117.0) <= 187.5)\n",
      "decision node 0 : (x [Age] = 36.70904922485352) > 21.100725173950195)\n",
      "decision node 4 : (x [Glucose] = 155.89064025878906) > 121.55179214477539)\n",
      "decision node 14 : (x [Age] = 36.70904922485352) > 23.377142906188965)\n",
      "decision node 18 : (x [DiabetesPedigreeFunction] = 0.3066835105419159) > 0.1051117368042469)\n",
      "\n",
      "====================Index====================\n",
      "| 53 \n",
      "=============================================\n"
     ]
    },
    {
     "output_type": "stream",
     "name": "stderr",
     "text": [
      "/Users/jrhs/miniforge3/envs/tf_mac/lib/python3.8/site-packages/deap/creator.py:138: RuntimeWarning: A class named 'fitness' has already been created and it will be overwritten. Consider deleting previous creation of that class or rename it.\n",
      "  warnings.warn(\"A class named '{0}' has already been created and it \"\n",
      "/Users/jrhs/miniforge3/envs/tf_mac/lib/python3.8/site-packages/deap/creator.py:138: RuntimeWarning: A class named 'individual' has already been created and it will be overwritten. Consider deleting previous creation of that class or rename it.\n",
      "  warnings.warn(\"A class named '{0}' has already been created and it \"\n",
      "/Users/jrhs/miniforge3/envs/tf_mac/lib/python3.8/site-packages/deap/creator.py:138: RuntimeWarning: A class named 'fitness' has already been created and it will be overwritten. Consider deleting previous creation of that class or rename it.\n",
      "  warnings.warn(\"A class named '{0}' has already been created and it \"\n",
      "/Users/jrhs/miniforge3/envs/tf_mac/lib/python3.8/site-packages/deap/creator.py:138: RuntimeWarning: A class named 'individual' has already been created and it will be overwritten. Consider deleting previous creation of that class or rename it.\n",
      "  warnings.warn(\"A class named '{0}' has already been created and it \"\n"
     ]
    },
    {
     "output_type": "stream",
     "name": "stdout",
     "text": [
      "decision node 0 : (x [Age] = 23.0) <= 31.111074447631836)\n",
      "decision node 1 : (x [Glucose] = 101.0) <= 176.80168914794922)\n",
      "decision node 0 : (x [Age] = 29.86110115051269) <= 31.111074447631836)\n",
      "decision node 1 : (x [Glucose] = 100.99999237060548) <= 176.80168914794922)\n",
      "\n",
      "====================Index====================\n",
      "| 54 \n",
      "=============================================\n"
     ]
    },
    {
     "output_type": "stream",
     "name": "stderr",
     "text": [
      "/Users/jrhs/miniforge3/envs/tf_mac/lib/python3.8/site-packages/deap/creator.py:138: RuntimeWarning: A class named 'fitness' has already been created and it will be overwritten. Consider deleting previous creation of that class or rename it.\n",
      "  warnings.warn(\"A class named '{0}' has already been created and it \"\n",
      "/Users/jrhs/miniforge3/envs/tf_mac/lib/python3.8/site-packages/deap/creator.py:138: RuntimeWarning: A class named 'individual' has already been created and it will be overwritten. Consider deleting previous creation of that class or rename it.\n",
      "  warnings.warn(\"A class named '{0}' has already been created and it \"\n",
      "/Users/jrhs/miniforge3/envs/tf_mac/lib/python3.8/site-packages/deap/creator.py:138: RuntimeWarning: A class named 'fitness' has already been created and it will be overwritten. Consider deleting previous creation of that class or rename it.\n",
      "  warnings.warn(\"A class named '{0}' has already been created and it \"\n",
      "/Users/jrhs/miniforge3/envs/tf_mac/lib/python3.8/site-packages/deap/creator.py:138: RuntimeWarning: A class named 'individual' has already been created and it will be overwritten. Consider deleting previous creation of that class or rename it.\n",
      "  warnings.warn(\"A class named '{0}' has already been created and it \"\n"
     ]
    },
    {
     "output_type": "stream",
     "name": "stdout",
     "text": [
      "decision node 0 : (x [Glucose] = 93.0) <= 135.40178680419922)\n",
      "decision node 1 : (x [BMI] = 28.7) <= 42.49064064025879)\n",
      "decision node 2 : (x [Age] = 22.0) <= 40.24190711975098)\n",
      "decision node 3 : (x [SkinThickness] = 25.0) <= 43.323251724243164)\n",
      "decision node 0 : (x [Glucose] = 106.77561950683594) <= 135.40178680419922)\n",
      "decision node 1 : (x [BMI] = 28.700000762939453) <= 42.49064064025879)\n",
      "decision node 2 : (x [Age] = 30.416534423828125) <= 40.24190711975098)\n",
      "decision node 3 : (x [SkinThickness] = 24.999998092651367) <= 43.323251724243164)\n",
      "\n",
      "====================Index====================\n",
      "| 55 \n",
      "=============================================\n"
     ]
    },
    {
     "output_type": "stream",
     "name": "stderr",
     "text": [
      "/Users/jrhs/miniforge3/envs/tf_mac/lib/python3.8/site-packages/deap/creator.py:138: RuntimeWarning: A class named 'fitness' has already been created and it will be overwritten. Consider deleting previous creation of that class or rename it.\n",
      "  warnings.warn(\"A class named '{0}' has already been created and it \"\n",
      "/Users/jrhs/miniforge3/envs/tf_mac/lib/python3.8/site-packages/deap/creator.py:138: RuntimeWarning: A class named 'individual' has already been created and it will be overwritten. Consider deleting previous creation of that class or rename it.\n",
      "  warnings.warn(\"A class named '{0}' has already been created and it \"\n",
      "/Users/jrhs/miniforge3/envs/tf_mac/lib/python3.8/site-packages/deap/creator.py:138: RuntimeWarning: A class named 'fitness' has already been created and it will be overwritten. Consider deleting previous creation of that class or rename it.\n",
      "  warnings.warn(\"A class named '{0}' has already been created and it \"\n",
      "/Users/jrhs/miniforge3/envs/tf_mac/lib/python3.8/site-packages/deap/creator.py:138: RuntimeWarning: A class named 'individual' has already been created and it will be overwritten. Consider deleting previous creation of that class or rename it.\n",
      "  warnings.warn(\"A class named '{0}' has already been created and it \"\n"
     ]
    },
    {
     "output_type": "stream",
     "name": "stdout",
     "text": [
      "decision node 0 : (x [Glucose] = 102.0) <= 115.75769805908203)\n",
      "decision node 1 : (x [DiabetesPedigreeFunction] = 0.56646) <= 1.2231498956680298)\n",
      "decision node 2 : (x [BMI] = 0.0) <= 44.999685287475586)\n",
      "decision node 3 : (x [DiabetesPedigreeFunction] = 0.56646) <= 0.7294931411743164)\n",
      "decision node 0 : (x [Glucose] = 102.0) <= 115.75769805908203)\n",
      "decision node 1 : (x [DiabetesPedigreeFunction] = 0.5664599537849426) <= 1.2231498956680298)\n",
      "decision node 2 : (x [BMI] = 0.0) <= 44.999685287475586)\n",
      "decision node 3 : (x [DiabetesPedigreeFunction] = 0.5664599537849426) <= 0.7294931411743164)\n",
      "\n",
      "====================Index====================\n",
      "| 56 \n",
      "=============================================\n"
     ]
    },
    {
     "output_type": "stream",
     "name": "stderr",
     "text": [
      "/Users/jrhs/miniforge3/envs/tf_mac/lib/python3.8/site-packages/deap/creator.py:138: RuntimeWarning: A class named 'fitness' has already been created and it will be overwritten. Consider deleting previous creation of that class or rename it.\n",
      "  warnings.warn(\"A class named '{0}' has already been created and it \"\n",
      "/Users/jrhs/miniforge3/envs/tf_mac/lib/python3.8/site-packages/deap/creator.py:138: RuntimeWarning: A class named 'individual' has already been created and it will be overwritten. Consider deleting previous creation of that class or rename it.\n",
      "  warnings.warn(\"A class named '{0}' has already been created and it \"\n",
      "/Users/jrhs/miniforge3/envs/tf_mac/lib/python3.8/site-packages/deap/creator.py:138: RuntimeWarning: A class named 'fitness' has already been created and it will be overwritten. Consider deleting previous creation of that class or rename it.\n",
      "  warnings.warn(\"A class named '{0}' has already been created and it \"\n",
      "/Users/jrhs/miniforge3/envs/tf_mac/lib/python3.8/site-packages/deap/creator.py:138: RuntimeWarning: A class named 'individual' has already been created and it will be overwritten. Consider deleting previous creation of that class or rename it.\n",
      "  warnings.warn(\"A class named '{0}' has already been created and it \"\n"
     ]
    },
    {
     "output_type": "stream",
     "name": "stdout",
     "text": [
      "decision node 0 : (x [Glucose] = 130.0) <= 141.53353118896484)\n",
      "decision node 1 : (x [DiabetesPedigreeFunction] = 0.261549) <= 0.749746561050415)\n",
      "decision node 2 : (x [Age] = 21.0) <= 40.49744987487793)\n",
      "decision node 0 : (x [Glucose] = 141.0904998779297) <= 141.53353118896484)\n",
      "decision node 1 : (x [DiabetesPedigreeFunction] = 0.2615486085414886) <= 0.749746561050415)\n",
      "decision node 2 : (x [Age] = 27.359249114990234) <= 40.49744987487793)\n",
      "\n",
      "====================Index====================\n",
      "| 57 \n",
      "=============================================\n"
     ]
    },
    {
     "output_type": "stream",
     "name": "stderr",
     "text": [
      "/Users/jrhs/miniforge3/envs/tf_mac/lib/python3.8/site-packages/deap/creator.py:138: RuntimeWarning: A class named 'fitness' has already been created and it will be overwritten. Consider deleting previous creation of that class or rename it.\n",
      "  warnings.warn(\"A class named '{0}' has already been created and it \"\n",
      "/Users/jrhs/miniforge3/envs/tf_mac/lib/python3.8/site-packages/deap/creator.py:138: RuntimeWarning: A class named 'individual' has already been created and it will be overwritten. Consider deleting previous creation of that class or rename it.\n",
      "  warnings.warn(\"A class named '{0}' has already been created and it \"\n",
      "/Users/jrhs/miniforge3/envs/tf_mac/lib/python3.8/site-packages/deap/creator.py:138: RuntimeWarning: A class named 'fitness' has already been created and it will be overwritten. Consider deleting previous creation of that class or rename it.\n",
      "  warnings.warn(\"A class named '{0}' has already been created and it \"\n",
      "/Users/jrhs/miniforge3/envs/tf_mac/lib/python3.8/site-packages/deap/creator.py:138: RuntimeWarning: A class named 'individual' has already been created and it will be overwritten. Consider deleting previous creation of that class or rename it.\n",
      "  warnings.warn(\"A class named '{0}' has already been created and it \"\n"
     ]
    },
    {
     "output_type": "stream",
     "name": "stdout",
     "text": [
      "decision node 0 : (x [Glucose] = 86.0) <= 100.08137130737305)\n",
      "decision node 1 : (x [DiabetesPedigreeFunction] = 0.231459) <= 1.220463216304779)\n",
      "decision node 0 : (x [Glucose] = 106.4585418701172) > 100.08137130737305)\n",
      "decision node 4 : (x [Age] = 36.100399017333984) > 22.5)\n",
      "decision node 8 : (x [DiabetesPedigreeFunction] = 0.2314586788415908) > -0.08596266340464354)\n",
      "decision node 10 : (x [BloodPressure] = 63.54098129272461) <= 93.25764465332031)\n",
      "decision node 11 : (x [BMI] = 35.79999923706055) > 28.3782377243042)\n",
      "\n",
      "====================Index====================\n",
      "| 58 \n",
      "=============================================\n"
     ]
    },
    {
     "output_type": "stream",
     "name": "stderr",
     "text": [
      "/Users/jrhs/miniforge3/envs/tf_mac/lib/python3.8/site-packages/deap/creator.py:138: RuntimeWarning: A class named 'fitness' has already been created and it will be overwritten. Consider deleting previous creation of that class or rename it.\n",
      "  warnings.warn(\"A class named '{0}' has already been created and it \"\n",
      "/Users/jrhs/miniforge3/envs/tf_mac/lib/python3.8/site-packages/deap/creator.py:138: RuntimeWarning: A class named 'individual' has already been created and it will be overwritten. Consider deleting previous creation of that class or rename it.\n",
      "  warnings.warn(\"A class named '{0}' has already been created and it \"\n",
      "/Users/jrhs/miniforge3/envs/tf_mac/lib/python3.8/site-packages/deap/creator.py:138: RuntimeWarning: A class named 'fitness' has already been created and it will be overwritten. Consider deleting previous creation of that class or rename it.\n",
      "  warnings.warn(\"A class named '{0}' has already been created and it \"\n",
      "/Users/jrhs/miniforge3/envs/tf_mac/lib/python3.8/site-packages/deap/creator.py:138: RuntimeWarning: A class named 'individual' has already been created and it will be overwritten. Consider deleting previous creation of that class or rename it.\n",
      "  warnings.warn(\"A class named '{0}' has already been created and it \"\n"
     ]
    },
    {
     "output_type": "stream",
     "name": "stdout",
     "text": [
      "decision node 0 : (x [Glucose] = 101.0) <= 115.47406005859375)\n",
      "decision node 1 : (x [BMI] = 21.9) <= 35.88131141662598)\n",
      "decision node 2 : (x [Pregnancies] = 0.0) <= 9.0)\n",
      "decision node 0 : (x [Glucose] = 126.56948852539062) > 115.47406005859375)\n",
      "decision node 8 : (x [Age] = 36.75529861450195) > 17.511500358581543)\n",
      "decision node 10 : (x [Age] = 36.75529861450195) > 24.39445209503174)\n",
      "\n",
      "====================Index====================\n",
      "| 59 \n",
      "=============================================\n"
     ]
    },
    {
     "output_type": "stream",
     "name": "stderr",
     "text": [
      "/Users/jrhs/miniforge3/envs/tf_mac/lib/python3.8/site-packages/deap/creator.py:138: RuntimeWarning: A class named 'fitness' has already been created and it will be overwritten. Consider deleting previous creation of that class or rename it.\n",
      "  warnings.warn(\"A class named '{0}' has already been created and it \"\n",
      "/Users/jrhs/miniforge3/envs/tf_mac/lib/python3.8/site-packages/deap/creator.py:138: RuntimeWarning: A class named 'individual' has already been created and it will be overwritten. Consider deleting previous creation of that class or rename it.\n",
      "  warnings.warn(\"A class named '{0}' has already been created and it \"\n",
      "/Users/jrhs/miniforge3/envs/tf_mac/lib/python3.8/site-packages/deap/creator.py:138: RuntimeWarning: A class named 'fitness' has already been created and it will be overwritten. Consider deleting previous creation of that class or rename it.\n",
      "  warnings.warn(\"A class named '{0}' has already been created and it \"\n",
      "/Users/jrhs/miniforge3/envs/tf_mac/lib/python3.8/site-packages/deap/creator.py:138: RuntimeWarning: A class named 'individual' has already been created and it will be overwritten. Consider deleting previous creation of that class or rename it.\n",
      "  warnings.warn(\"A class named '{0}' has already been created and it \"\n"
     ]
    },
    {
     "output_type": "stream",
     "name": "stdout",
     "text": [
      "decision node 0 : (x [Age] = 25.0) > 13.699337482452393)\n",
      "decision node 2 : (x [DiabetesPedigreeFunction] = 0.620622) > -0.24706735461950302)\n",
      "decision node 4 : (x [Glucose] = 113.0) <= 141.53012084960938)\n",
      "decision node 5 : (x [BloodPressure] = 46.721311) <= 64.0)\n",
      "decision node 0 : (x [Age] = 25.0) > 13.699337482452393)\n",
      "decision node 2 : (x [DiabetesPedigreeFunction] = 0.6206218004226685) > -0.24706735461950302)\n",
      "decision node 4 : (x [Glucose] = 105.30503845214844) <= 141.53012084960938)\n",
      "decision node 5 : (x [BloodPressure] = 46.721309661865234) <= 64.0)\n",
      "\n",
      "====================Index====================\n",
      "| 60 \n",
      "=============================================\n"
     ]
    },
    {
     "output_type": "stream",
     "name": "stderr",
     "text": [
      "/Users/jrhs/miniforge3/envs/tf_mac/lib/python3.8/site-packages/deap/creator.py:138: RuntimeWarning: A class named 'fitness' has already been created and it will be overwritten. Consider deleting previous creation of that class or rename it.\n",
      "  warnings.warn(\"A class named '{0}' has already been created and it \"\n",
      "/Users/jrhs/miniforge3/envs/tf_mac/lib/python3.8/site-packages/deap/creator.py:138: RuntimeWarning: A class named 'individual' has already been created and it will be overwritten. Consider deleting previous creation of that class or rename it.\n",
      "  warnings.warn(\"A class named '{0}' has already been created and it \"\n",
      "/Users/jrhs/miniforge3/envs/tf_mac/lib/python3.8/site-packages/deap/creator.py:138: RuntimeWarning: A class named 'fitness' has already been created and it will be overwritten. Consider deleting previous creation of that class or rename it.\n",
      "  warnings.warn(\"A class named '{0}' has already been created and it \"\n",
      "/Users/jrhs/miniforge3/envs/tf_mac/lib/python3.8/site-packages/deap/creator.py:138: RuntimeWarning: A class named 'individual' has already been created and it will be overwritten. Consider deleting previous creation of that class or rename it.\n",
      "  warnings.warn(\"A class named '{0}' has already been created and it \"\n"
     ]
    },
    {
     "output_type": "stream",
     "name": "stdout",
     "text": [
      "decision node 0 : (x [Age] = 57.0) > 29.294501304626465)\n",
      "decision node 0 : (x [Age] = 57.388702392578125) > 29.294501304626465)\n",
      "\n",
      "====================Index====================\n",
      "| 61 \n",
      "=============================================\n"
     ]
    },
    {
     "output_type": "stream",
     "name": "stderr",
     "text": [
      "/Users/jrhs/miniforge3/envs/tf_mac/lib/python3.8/site-packages/deap/creator.py:138: RuntimeWarning: A class named 'fitness' has already been created and it will be overwritten. Consider deleting previous creation of that class or rename it.\n",
      "  warnings.warn(\"A class named '{0}' has already been created and it \"\n",
      "/Users/jrhs/miniforge3/envs/tf_mac/lib/python3.8/site-packages/deap/creator.py:138: RuntimeWarning: A class named 'individual' has already been created and it will be overwritten. Consider deleting previous creation of that class or rename it.\n",
      "  warnings.warn(\"A class named '{0}' has already been created and it \"\n",
      "/Users/jrhs/miniforge3/envs/tf_mac/lib/python3.8/site-packages/deap/creator.py:138: RuntimeWarning: A class named 'fitness' has already been created and it will be overwritten. Consider deleting previous creation of that class or rename it.\n",
      "  warnings.warn(\"A class named '{0}' has already been created and it \"\n",
      "/Users/jrhs/miniforge3/envs/tf_mac/lib/python3.8/site-packages/deap/creator.py:138: RuntimeWarning: A class named 'individual' has already been created and it will be overwritten. Consider deleting previous creation of that class or rename it.\n",
      "  warnings.warn(\"A class named '{0}' has already been created and it \"\n"
     ]
    },
    {
     "output_type": "stream",
     "name": "stdout",
     "text": [
      "decision node 0 : (x [Glucose] = 141.0) <= 144.3790740966797)\n",
      "decision node 1 : (x [BloodPressure] = 54.196721) > 50.35568046569824)\n",
      "decision node 3 : (x [Age] = 24.0) > 22.5)\n",
      "decision node 5 : (x [BloodPressure] = 54.196721) <= 54.98080825805664)\n",
      "decision node 6 : (x [Glucose] = 141.0) > 112.4877700805664)\n",
      "decision node 0 : (x [Glucose] = 123.43283081054688) <= 144.3790740966797)\n",
      "decision node 1 : (x [BloodPressure] = 54.196720123291016) > 50.35568046569824)\n",
      "decision node 3 : (x [Age] = 24.0) > 22.5)\n",
      "decision node 5 : (x [BloodPressure] = 54.196720123291016) <= 54.98080825805664)\n",
      "decision node 6 : (x [Glucose] = 123.43283081054688) > 112.4877700805664)\n",
      "\n",
      "====================Index====================\n",
      "| 62 \n",
      "=============================================\n"
     ]
    },
    {
     "output_type": "stream",
     "name": "stderr",
     "text": [
      "/Users/jrhs/miniforge3/envs/tf_mac/lib/python3.8/site-packages/deap/creator.py:138: RuntimeWarning: A class named 'fitness' has already been created and it will be overwritten. Consider deleting previous creation of that class or rename it.\n",
      "  warnings.warn(\"A class named '{0}' has already been created and it \"\n",
      "/Users/jrhs/miniforge3/envs/tf_mac/lib/python3.8/site-packages/deap/creator.py:138: RuntimeWarning: A class named 'individual' has already been created and it will be overwritten. Consider deleting previous creation of that class or rename it.\n",
      "  warnings.warn(\"A class named '{0}' has already been created and it \"\n",
      "/Users/jrhs/miniforge3/envs/tf_mac/lib/python3.8/site-packages/deap/creator.py:138: RuntimeWarning: A class named 'fitness' has already been created and it will be overwritten. Consider deleting previous creation of that class or rename it.\n",
      "  warnings.warn(\"A class named '{0}' has already been created and it \"\n",
      "/Users/jrhs/miniforge3/envs/tf_mac/lib/python3.8/site-packages/deap/creator.py:138: RuntimeWarning: A class named 'individual' has already been created and it will be overwritten. Consider deleting previous creation of that class or rename it.\n",
      "  warnings.warn(\"A class named '{0}' has already been created and it \"\n"
     ]
    },
    {
     "output_type": "stream",
     "name": "stdout",
     "text": [
      "decision node 0 : (x [Glucose] = 111.0) <= 142.1298370361328)\n",
      "decision node 1 : (x [Age] = 31.0) > 30.0)\n",
      "decision node 7 : (x [DiabetesPedigreeFunction] = 0.654724) > 0.48529815673828125)\n",
      "decision node 9 : (x [Age] = 31.0) <= 51.89620018005371)\n",
      "decision node 0 : (x [Glucose] = 105.35595703125) <= 142.1298370361328)\n",
      "decision node 1 : (x [Age] = 31.000001907348636) > 30.0)\n",
      "decision node 7 : (x [DiabetesPedigreeFunction] = 0.6547237038612366) > 0.48529815673828125)\n",
      "decision node 9 : (x [Age] = 31.000001907348636) <= 51.89620018005371)\n",
      "\n",
      "====================Index====================\n",
      "| 63 \n",
      "=============================================\n"
     ]
    },
    {
     "output_type": "stream",
     "name": "stderr",
     "text": [
      "/Users/jrhs/miniforge3/envs/tf_mac/lib/python3.8/site-packages/deap/creator.py:138: RuntimeWarning: A class named 'fitness' has already been created and it will be overwritten. Consider deleting previous creation of that class or rename it.\n",
      "  warnings.warn(\"A class named '{0}' has already been created and it \"\n",
      "/Users/jrhs/miniforge3/envs/tf_mac/lib/python3.8/site-packages/deap/creator.py:138: RuntimeWarning: A class named 'individual' has already been created and it will be overwritten. Consider deleting previous creation of that class or rename it.\n",
      "  warnings.warn(\"A class named '{0}' has already been created and it \"\n",
      "/Users/jrhs/miniforge3/envs/tf_mac/lib/python3.8/site-packages/deap/creator.py:138: RuntimeWarning: A class named 'fitness' has already been created and it will be overwritten. Consider deleting previous creation of that class or rename it.\n",
      "  warnings.warn(\"A class named '{0}' has already been created and it \"\n",
      "/Users/jrhs/miniforge3/envs/tf_mac/lib/python3.8/site-packages/deap/creator.py:138: RuntimeWarning: A class named 'individual' has already been created and it will be overwritten. Consider deleting previous creation of that class or rename it.\n",
      "  warnings.warn(\"A class named '{0}' has already been created and it \"\n"
     ]
    },
    {
     "output_type": "stream",
     "name": "stdout",
     "text": [
      "decision node 0 : (x [Age] = 24.0) > 21.36687660217285)\n",
      "decision node 4 : (x [DiabetesPedigreeFunction] = 0.296654) <= 0.3117389976978302)\n",
      "decision node 5 : (x [Age] = 24.0) <= 33.79873847961426)\n",
      "decision node 6 : (x [Glucose] = 128.0) <= 150.76688385009766)\n",
      "decision node 0 : (x [Age] = 24.0) > 21.36687660217285)\n",
      "decision node 4 : (x [DiabetesPedigreeFunction] = 0.296653538942337) <= 0.3117389976978302)\n",
      "decision node 5 : (x [Age] = 24.0) <= 33.79873847961426)\n",
      "decision node 6 : (x [Glucose] = 127.49980926513672) <= 150.76688385009766)\n",
      "\n",
      "====================Index====================\n",
      "| 64 \n",
      "=============================================\n"
     ]
    },
    {
     "output_type": "stream",
     "name": "stderr",
     "text": [
      "/Users/jrhs/miniforge3/envs/tf_mac/lib/python3.8/site-packages/deap/creator.py:138: RuntimeWarning: A class named 'fitness' has already been created and it will be overwritten. Consider deleting previous creation of that class or rename it.\n",
      "  warnings.warn(\"A class named '{0}' has already been created and it \"\n",
      "/Users/jrhs/miniforge3/envs/tf_mac/lib/python3.8/site-packages/deap/creator.py:138: RuntimeWarning: A class named 'individual' has already been created and it will be overwritten. Consider deleting previous creation of that class or rename it.\n",
      "  warnings.warn(\"A class named '{0}' has already been created and it \"\n",
      "/Users/jrhs/miniforge3/envs/tf_mac/lib/python3.8/site-packages/deap/creator.py:138: RuntimeWarning: A class named 'fitness' has already been created and it will be overwritten. Consider deleting previous creation of that class or rename it.\n",
      "  warnings.warn(\"A class named '{0}' has already been created and it \"\n",
      "/Users/jrhs/miniforge3/envs/tf_mac/lib/python3.8/site-packages/deap/creator.py:138: RuntimeWarning: A class named 'individual' has already been created and it will be overwritten. Consider deleting previous creation of that class or rename it.\n",
      "  warnings.warn(\"A class named '{0}' has already been created and it \"\n"
     ]
    },
    {
     "output_type": "stream",
     "name": "stdout",
     "text": [
      "decision node 0 : (x [Age] = 32.0) > 28.44005012512207)\n",
      "decision node 4 : (x [Glucose] = 81.0) <= 113.5)\n",
      "decision node 5 : (x [DiabetesPedigreeFunction] = 1.092031) > 0.6913710832595825)\n",
      "decision node 0 : (x [Age] = 36.223819732666016) > 28.44005012512207)\n",
      "decision node 4 : (x [Glucose] = 38.87881851196289) <= 113.5)\n",
      "decision node 5 : (x [DiabetesPedigreeFunction] = 1.690312385559082) > 0.6913710832595825)\n",
      "\n",
      "====================Index====================\n",
      "| 65 \n",
      "=============================================\n"
     ]
    },
    {
     "output_type": "stream",
     "name": "stderr",
     "text": [
      "/Users/jrhs/miniforge3/envs/tf_mac/lib/python3.8/site-packages/deap/creator.py:138: RuntimeWarning: A class named 'fitness' has already been created and it will be overwritten. Consider deleting previous creation of that class or rename it.\n",
      "  warnings.warn(\"A class named '{0}' has already been created and it \"\n",
      "/Users/jrhs/miniforge3/envs/tf_mac/lib/python3.8/site-packages/deap/creator.py:138: RuntimeWarning: A class named 'individual' has already been created and it will be overwritten. Consider deleting previous creation of that class or rename it.\n",
      "  warnings.warn(\"A class named '{0}' has already been created and it \"\n",
      "/Users/jrhs/miniforge3/envs/tf_mac/lib/python3.8/site-packages/deap/creator.py:138: RuntimeWarning: A class named 'fitness' has already been created and it will be overwritten. Consider deleting previous creation of that class or rename it.\n",
      "  warnings.warn(\"A class named '{0}' has already been created and it \"\n",
      "/Users/jrhs/miniforge3/envs/tf_mac/lib/python3.8/site-packages/deap/creator.py:138: RuntimeWarning: A class named 'individual' has already been created and it will be overwritten. Consider deleting previous creation of that class or rename it.\n",
      "  warnings.warn(\"A class named '{0}' has already been created and it \"\n"
     ]
    },
    {
     "output_type": "stream",
     "name": "stdout",
     "text": [
      "decision node 0 : (x [Age] = 34.0) > 33.453325271606445)\n",
      "decision node 6 : (x [DiabetesPedigreeFunction] = 1.017809) > 0.13753581792116165)\n",
      "decision node 8 : (x [Age] = 34.0) <= 67.02356719970703)\n",
      "decision node 9 : (x [DiabetesPedigreeFunction] = 1.017809) > 0.26250000298023224)\n",
      "decision node 0 : (x [Age] = 34.0) > 33.453325271606445)\n",
      "decision node 6 : (x [DiabetesPedigreeFunction] = 1.0877373218536377) > 0.13753581792116165)\n",
      "decision node 8 : (x [Age] = 34.0) <= 67.02356719970703)\n",
      "decision node 9 : (x [DiabetesPedigreeFunction] = 1.0877373218536377) > 0.26250000298023224)\n",
      "\n",
      "====================Index====================\n",
      "| 66 \n",
      "=============================================\n"
     ]
    },
    {
     "output_type": "stream",
     "name": "stderr",
     "text": [
      "/Users/jrhs/miniforge3/envs/tf_mac/lib/python3.8/site-packages/deap/creator.py:138: RuntimeWarning: A class named 'fitness' has already been created and it will be overwritten. Consider deleting previous creation of that class or rename it.\n",
      "  warnings.warn(\"A class named '{0}' has already been created and it \"\n",
      "/Users/jrhs/miniforge3/envs/tf_mac/lib/python3.8/site-packages/deap/creator.py:138: RuntimeWarning: A class named 'individual' has already been created and it will be overwritten. Consider deleting previous creation of that class or rename it.\n",
      "  warnings.warn(\"A class named '{0}' has already been created and it \"\n",
      "/Users/jrhs/miniforge3/envs/tf_mac/lib/python3.8/site-packages/deap/creator.py:138: RuntimeWarning: A class named 'fitness' has already been created and it will be overwritten. Consider deleting previous creation of that class or rename it.\n",
      "  warnings.warn(\"A class named '{0}' has already been created and it \"\n",
      "/Users/jrhs/miniforge3/envs/tf_mac/lib/python3.8/site-packages/deap/creator.py:138: RuntimeWarning: A class named 'individual' has already been created and it will be overwritten. Consider deleting previous creation of that class or rename it.\n",
      "  warnings.warn(\"A class named '{0}' has already been created and it \"\n"
     ]
    },
    {
     "output_type": "stream",
     "name": "stdout",
     "text": [
      "decision node 0 : (x [Glucose] = 82.0) <= 86.88895416259766)\n",
      "decision node 1 : (x [DiabetesPedigreeFunction] = 1.696839) > 0.8543557822704315)\n",
      "decision node 0 : (x [Glucose] = 38.48486709594727) <= 86.88895416259766)\n",
      "decision node 1 : (x [DiabetesPedigreeFunction] = 1.696838617324829) > 0.8543557822704315)\n",
      "\n",
      "====================Index====================\n",
      "| 67 \n",
      "=============================================\n"
     ]
    },
    {
     "output_type": "stream",
     "name": "stderr",
     "text": [
      "/Users/jrhs/miniforge3/envs/tf_mac/lib/python3.8/site-packages/deap/creator.py:138: RuntimeWarning: A class named 'fitness' has already been created and it will be overwritten. Consider deleting previous creation of that class or rename it.\n",
      "  warnings.warn(\"A class named '{0}' has already been created and it \"\n",
      "/Users/jrhs/miniforge3/envs/tf_mac/lib/python3.8/site-packages/deap/creator.py:138: RuntimeWarning: A class named 'individual' has already been created and it will be overwritten. Consider deleting previous creation of that class or rename it.\n",
      "  warnings.warn(\"A class named '{0}' has already been created and it \"\n",
      "/Users/jrhs/miniforge3/envs/tf_mac/lib/python3.8/site-packages/deap/creator.py:138: RuntimeWarning: A class named 'fitness' has already been created and it will be overwritten. Consider deleting previous creation of that class or rename it.\n",
      "  warnings.warn(\"A class named '{0}' has already been created and it \"\n",
      "/Users/jrhs/miniforge3/envs/tf_mac/lib/python3.8/site-packages/deap/creator.py:138: RuntimeWarning: A class named 'individual' has already been created and it will be overwritten. Consider deleting previous creation of that class or rename it.\n",
      "  warnings.warn(\"A class named '{0}' has already been created and it \"\n"
     ]
    },
    {
     "output_type": "stream",
     "name": "stdout",
     "text": [
      "decision node 0 : (x [Glucose] = 193.0) > 126.68606567382812)\n",
      "decision node 10 : (x [BloodPressure] = 46.721311) <= 91.70512771606445)\n",
      "decision node 0 : (x [Glucose] = 102.99742889404295) <= 126.68606567382812)\n",
      "decision node 1 : (x [BloodPressure] = 45.9388542175293) <= 50.22795867919922)\n",
      "decision node 2 : (x [DiabetesPedigreeFunction] = 0.6497087478637695) > 0.2653414458036423)\n",
      "\n",
      "====================Index====================\n",
      "| 68 \n",
      "=============================================\n"
     ]
    },
    {
     "output_type": "stream",
     "name": "stderr",
     "text": [
      "/Users/jrhs/miniforge3/envs/tf_mac/lib/python3.8/site-packages/deap/creator.py:138: RuntimeWarning: A class named 'fitness' has already been created and it will be overwritten. Consider deleting previous creation of that class or rename it.\n",
      "  warnings.warn(\"A class named '{0}' has already been created and it \"\n",
      "/Users/jrhs/miniforge3/envs/tf_mac/lib/python3.8/site-packages/deap/creator.py:138: RuntimeWarning: A class named 'individual' has already been created and it will be overwritten. Consider deleting previous creation of that class or rename it.\n",
      "  warnings.warn(\"A class named '{0}' has already been created and it \"\n",
      "/Users/jrhs/miniforge3/envs/tf_mac/lib/python3.8/site-packages/deap/creator.py:138: RuntimeWarning: A class named 'fitness' has already been created and it will be overwritten. Consider deleting previous creation of that class or rename it.\n",
      "  warnings.warn(\"A class named '{0}' has already been created and it \"\n",
      "/Users/jrhs/miniforge3/envs/tf_mac/lib/python3.8/site-packages/deap/creator.py:138: RuntimeWarning: A class named 'individual' has already been created and it will be overwritten. Consider deleting previous creation of that class or rename it.\n",
      "  warnings.warn(\"A class named '{0}' has already been created and it \"\n"
     ]
    },
    {
     "output_type": "stream",
     "name": "stdout",
     "text": [
      "decision node 0 : (x [Age] = 41.0) > 40.970787048339844)\n",
      "decision node 8 : (x [Glucose] = 129.0) <= 155.73046112060547)\n",
      "decision node 9 : (x [BloodPressure] = 0.0) <= 47.515560150146484)\n",
      "decision node 0 : (x [Age] = 41.0) > 40.970787048339844)\n",
      "decision node 8 : (x [Glucose] = 126.61631774902344) <= 155.73046112060547)\n",
      "decision node 9 : (x [BloodPressure] = 0.0) <= 47.515560150146484)\n",
      "\n",
      "====================Index====================\n",
      "| 69 \n",
      "=============================================\n"
     ]
    },
    {
     "output_type": "stream",
     "name": "stderr",
     "text": [
      "/Users/jrhs/miniforge3/envs/tf_mac/lib/python3.8/site-packages/deap/creator.py:138: RuntimeWarning: A class named 'fitness' has already been created and it will be overwritten. Consider deleting previous creation of that class or rename it.\n",
      "  warnings.warn(\"A class named '{0}' has already been created and it \"\n",
      "/Users/jrhs/miniforge3/envs/tf_mac/lib/python3.8/site-packages/deap/creator.py:138: RuntimeWarning: A class named 'individual' has already been created and it will be overwritten. Consider deleting previous creation of that class or rename it.\n",
      "  warnings.warn(\"A class named '{0}' has already been created and it \"\n",
      "/Users/jrhs/miniforge3/envs/tf_mac/lib/python3.8/site-packages/deap/creator.py:138: RuntimeWarning: A class named 'fitness' has already been created and it will be overwritten. Consider deleting previous creation of that class or rename it.\n",
      "  warnings.warn(\"A class named '{0}' has already been created and it \"\n",
      "/Users/jrhs/miniforge3/envs/tf_mac/lib/python3.8/site-packages/deap/creator.py:138: RuntimeWarning: A class named 'individual' has already been created and it will be overwritten. Consider deleting previous creation of that class or rename it.\n",
      "  warnings.warn(\"A class named '{0}' has already been created and it \"\n"
     ]
    },
    {
     "output_type": "stream",
     "name": "stdout",
     "text": [
      "decision node 0 : (x [DiabetesPedigreeFunction] = 0.193345) <= 0.5252805054187775)\n",
      "decision node 1 : (x [BMI] = 35.1) <= 41.19623565673828)\n",
      "decision node 2 : (x [Glucose] = 179.0) <= 192.5)\n",
      "decision node 3 : (x [Age] = 37.0) <= 42.32731246948242)\n",
      "decision node 4 : (x [BloodPressure] = 65.409836) > 49.21585273742676)\n",
      "decision node 8 : (x [Glucose] = 179.0) > 138.09078216552734)\n",
      "decision node 10 : (x [Glucose] = 179.0) > 148.47488403320312)\n",
      "decision node 0 : (x [DiabetesPedigreeFunction] = 0.1933447569608688) <= 0.5252805054187775)\n",
      "decision node 1 : (x [BMI] = 35.099998474121094) <= 41.19623565673828)\n",
      "decision node 2 : (x [Glucose] = 100.7726821899414) <= 192.5)\n",
      "decision node 3 : (x [Age] = 37.0) <= 42.32731246948242)\n",
      "decision node 4 : (x [BloodPressure] = 65.40983581542969) > 49.21585273742676)\n",
      "decision node 8 : (x [Glucose] = 100.7726821899414) <= 138.09078216552734)\n",
      "\n",
      "====================Index====================\n",
      "| 70 \n",
      "=============================================\n"
     ]
    },
    {
     "output_type": "stream",
     "name": "stderr",
     "text": [
      "/Users/jrhs/miniforge3/envs/tf_mac/lib/python3.8/site-packages/deap/creator.py:138: RuntimeWarning: A class named 'fitness' has already been created and it will be overwritten. Consider deleting previous creation of that class or rename it.\n",
      "  warnings.warn(\"A class named '{0}' has already been created and it \"\n",
      "/Users/jrhs/miniforge3/envs/tf_mac/lib/python3.8/site-packages/deap/creator.py:138: RuntimeWarning: A class named 'individual' has already been created and it will be overwritten. Consider deleting previous creation of that class or rename it.\n",
      "  warnings.warn(\"A class named '{0}' has already been created and it \"\n",
      "/Users/jrhs/miniforge3/envs/tf_mac/lib/python3.8/site-packages/deap/creator.py:138: RuntimeWarning: A class named 'fitness' has already been created and it will be overwritten. Consider deleting previous creation of that class or rename it.\n",
      "  warnings.warn(\"A class named '{0}' has already been created and it \"\n",
      "/Users/jrhs/miniforge3/envs/tf_mac/lib/python3.8/site-packages/deap/creator.py:138: RuntimeWarning: A class named 'individual' has already been created and it will be overwritten. Consider deleting previous creation of that class or rename it.\n",
      "  warnings.warn(\"A class named '{0}' has already been created and it \"\n"
     ]
    },
    {
     "output_type": "stream",
     "name": "stdout",
     "text": [
      "decision node 0 : (x [Age] = 40.0) > 28.899934768676758)\n",
      "decision node 14 : (x [BloodPressure] = 59.803279) <= 89.0)\n",
      "decision node 15 : (x [Age] = 40.0) > 33.55518913269043)\n",
      "decision node 0 : (x [Age] = 40.0) > 28.899934768676758)\n",
      "decision node 14 : (x [BloodPressure] = 59.80327606201172) <= 89.0)\n",
      "decision node 15 : (x [Age] = 40.0) > 33.55518913269043)\n",
      "\n",
      "====================Index====================\n",
      "| 71 \n",
      "=============================================\n"
     ]
    },
    {
     "output_type": "stream",
     "name": "stderr",
     "text": [
      "/Users/jrhs/miniforge3/envs/tf_mac/lib/python3.8/site-packages/deap/creator.py:138: RuntimeWarning: A class named 'fitness' has already been created and it will be overwritten. Consider deleting previous creation of that class or rename it.\n",
      "  warnings.warn(\"A class named '{0}' has already been created and it \"\n",
      "/Users/jrhs/miniforge3/envs/tf_mac/lib/python3.8/site-packages/deap/creator.py:138: RuntimeWarning: A class named 'individual' has already been created and it will be overwritten. Consider deleting previous creation of that class or rename it.\n",
      "  warnings.warn(\"A class named '{0}' has already been created and it \"\n",
      "/Users/jrhs/miniforge3/envs/tf_mac/lib/python3.8/site-packages/deap/creator.py:138: RuntimeWarning: A class named 'fitness' has already been created and it will be overwritten. Consider deleting previous creation of that class or rename it.\n",
      "  warnings.warn(\"A class named '{0}' has already been created and it \"\n",
      "/Users/jrhs/miniforge3/envs/tf_mac/lib/python3.8/site-packages/deap/creator.py:138: RuntimeWarning: A class named 'individual' has already been created and it will be overwritten. Consider deleting previous creation of that class or rename it.\n",
      "  warnings.warn(\"A class named '{0}' has already been created and it \"\n"
     ]
    },
    {
     "output_type": "stream",
     "name": "stdout",
     "text": [
      "decision node 0 : (x [BloodPressure] = 59.803279) <= 67.56997680664062)\n",
      "decision node 1 : (x [Glucose] = 180.0) > 139.0)\n",
      "decision node 0 : (x [BloodPressure] = 59.80327606201172) <= 67.56997680664062)\n",
      "decision node 1 : (x [Glucose] = 150.54991149902344) > 139.0)\n",
      "\n",
      "====================Index====================\n",
      "| 72 \n",
      "=============================================\n"
     ]
    },
    {
     "output_type": "stream",
     "name": "stderr",
     "text": [
      "/Users/jrhs/miniforge3/envs/tf_mac/lib/python3.8/site-packages/deap/creator.py:138: RuntimeWarning: A class named 'fitness' has already been created and it will be overwritten. Consider deleting previous creation of that class or rename it.\n",
      "  warnings.warn(\"A class named '{0}' has already been created and it \"\n",
      "/Users/jrhs/miniforge3/envs/tf_mac/lib/python3.8/site-packages/deap/creator.py:138: RuntimeWarning: A class named 'individual' has already been created and it will be overwritten. Consider deleting previous creation of that class or rename it.\n",
      "  warnings.warn(\"A class named '{0}' has already been created and it \"\n",
      "/Users/jrhs/miniforge3/envs/tf_mac/lib/python3.8/site-packages/deap/creator.py:138: RuntimeWarning: A class named 'fitness' has already been created and it will be overwritten. Consider deleting previous creation of that class or rename it.\n",
      "  warnings.warn(\"A class named '{0}' has already been created and it \"\n",
      "/Users/jrhs/miniforge3/envs/tf_mac/lib/python3.8/site-packages/deap/creator.py:138: RuntimeWarning: A class named 'individual' has already been created and it will be overwritten. Consider deleting previous creation of that class or rename it.\n",
      "  warnings.warn(\"A class named '{0}' has already been created and it \"\n"
     ]
    },
    {
     "output_type": "stream",
     "name": "stdout",
     "text": [
      "decision node 0 : (x [Glucose] = 140.0) <= 150.31546783447266)\n",
      "decision node 1 : (x [DiabetesPedigreeFunction] = 0.823227) <= 1.1937572360038757)\n",
      "decision node 2 : (x [Age] = 23.0) > 22.0)\n",
      "decision node 4 : (x [DiabetesPedigreeFunction] = 0.823227) > 0.6998139023780823)\n",
      "decision node 0 : (x [Glucose] = 135.52903747558594) <= 150.31546783447266)\n",
      "decision node 1 : (x [DiabetesPedigreeFunction] = 0.8232274055480957) <= 1.1937572360038757)\n",
      "decision node 2 : (x [Age] = 23.0) > 22.0)\n",
      "decision node 4 : (x [DiabetesPedigreeFunction] = 0.8232274055480957) > 0.6998139023780823)\n",
      "\n",
      "====================Index====================\n",
      "| 73 \n",
      "=============================================\n"
     ]
    },
    {
     "output_type": "stream",
     "name": "stderr",
     "text": [
      "/Users/jrhs/miniforge3/envs/tf_mac/lib/python3.8/site-packages/deap/creator.py:138: RuntimeWarning: A class named 'fitness' has already been created and it will be overwritten. Consider deleting previous creation of that class or rename it.\n",
      "  warnings.warn(\"A class named '{0}' has already been created and it \"\n",
      "/Users/jrhs/miniforge3/envs/tf_mac/lib/python3.8/site-packages/deap/creator.py:138: RuntimeWarning: A class named 'individual' has already been created and it will be overwritten. Consider deleting previous creation of that class or rename it.\n",
      "  warnings.warn(\"A class named '{0}' has already been created and it \"\n",
      "/Users/jrhs/miniforge3/envs/tf_mac/lib/python3.8/site-packages/deap/creator.py:138: RuntimeWarning: A class named 'fitness' has already been created and it will be overwritten. Consider deleting previous creation of that class or rename it.\n",
      "  warnings.warn(\"A class named '{0}' has already been created and it \"\n",
      "/Users/jrhs/miniforge3/envs/tf_mac/lib/python3.8/site-packages/deap/creator.py:138: RuntimeWarning: A class named 'individual' has already been created and it will be overwritten. Consider deleting previous creation of that class or rename it.\n",
      "  warnings.warn(\"A class named '{0}' has already been created and it \"\n"
     ]
    },
    {
     "output_type": "stream",
     "name": "stdout",
     "text": [
      "decision node 0 : (x [Age] = 31.0) > 23.322062492370605)\n",
      "decision node 4 : (x [DiabetesPedigreeFunction] = 0.634664) > 0.10340584442019463)\n",
      "decision node 8 : (x [Glucose] = 109.0) > 96.48148727416992)\n",
      "decision node 12 : (x [Age] = 31.0) > 27.10276508331299)\n",
      "decision node 0 : (x [Age] = 35.26307678222656) > 23.322062492370605)\n",
      "decision node 4 : (x [DiabetesPedigreeFunction] = 0.6346637606620789) > 0.10340584442019463)\n",
      "decision node 8 : (x [Glucose] = 108.99999237060548) > 96.48148727416992)\n",
      "decision node 12 : (x [Age] = 35.26307678222656) > 27.10276508331299)\n",
      "\n",
      "====================Index====================\n",
      "| 74 \n",
      "=============================================\n"
     ]
    },
    {
     "output_type": "stream",
     "name": "stderr",
     "text": [
      "/Users/jrhs/miniforge3/envs/tf_mac/lib/python3.8/site-packages/deap/creator.py:138: RuntimeWarning: A class named 'fitness' has already been created and it will be overwritten. Consider deleting previous creation of that class or rename it.\n",
      "  warnings.warn(\"A class named '{0}' has already been created and it \"\n",
      "/Users/jrhs/miniforge3/envs/tf_mac/lib/python3.8/site-packages/deap/creator.py:138: RuntimeWarning: A class named 'individual' has already been created and it will be overwritten. Consider deleting previous creation of that class or rename it.\n",
      "  warnings.warn(\"A class named '{0}' has already been created and it \"\n",
      "/Users/jrhs/miniforge3/envs/tf_mac/lib/python3.8/site-packages/deap/creator.py:138: RuntimeWarning: A class named 'fitness' has already been created and it will be overwritten. Consider deleting previous creation of that class or rename it.\n",
      "  warnings.warn(\"A class named '{0}' has already been created and it \"\n",
      "/Users/jrhs/miniforge3/envs/tf_mac/lib/python3.8/site-packages/deap/creator.py:138: RuntimeWarning: A class named 'individual' has already been created and it will be overwritten. Consider deleting previous creation of that class or rename it.\n",
      "  warnings.warn(\"A class named '{0}' has already been created and it \"\n"
     ]
    },
    {
     "output_type": "stream",
     "name": "stdout",
     "text": [
      "decision node 0 : (x [Age] = 21.0) > 17.8894624710083)\n",
      "decision node 2 : (x [DiabetesPedigreeFunction] = 0.537373) > 0.22942835837602615)\n",
      "decision node 6 : (x [DiabetesPedigreeFunction] = 0.537373) <= 0.5547270774841309)\n",
      "decision node 7 : (x [Glucose] = 113.0) <= 159.46892547607422)\n",
      "decision node 8 : (x [BloodPressure] = 59.803279) <= 63.83063507080078)\n",
      "decision node 9 : (x [Age] = 21.0) <= 26.143168449401855)\n",
      "decision node 0 : (x [Age] = 29.011240005493164) > 17.8894624710083)\n",
      "decision node 2 : (x [DiabetesPedigreeFunction] = 0.5373730063438416) > 0.22942835837602615)\n",
      "decision node 6 : (x [DiabetesPedigreeFunction] = 0.5373730063438416) <= 0.5547270774841309)\n",
      "decision node 7 : (x [Glucose] = 113.0) <= 159.46892547607422)\n",
      "decision node 8 : (x [BloodPressure] = 59.80327606201172) <= 63.83063507080078)\n",
      "decision node 9 : (x [Age] = 29.011240005493164) > 26.143168449401855)\n",
      "\n",
      "====================Index====================\n",
      "| 75 \n",
      "=============================================\n"
     ]
    },
    {
     "output_type": "stream",
     "name": "stderr",
     "text": [
      "/Users/jrhs/miniforge3/envs/tf_mac/lib/python3.8/site-packages/deap/creator.py:138: RuntimeWarning: A class named 'fitness' has already been created and it will be overwritten. Consider deleting previous creation of that class or rename it.\n",
      "  warnings.warn(\"A class named '{0}' has already been created and it \"\n",
      "/Users/jrhs/miniforge3/envs/tf_mac/lib/python3.8/site-packages/deap/creator.py:138: RuntimeWarning: A class named 'individual' has already been created and it will be overwritten. Consider deleting previous creation of that class or rename it.\n",
      "  warnings.warn(\"A class named '{0}' has already been created and it \"\n",
      "/Users/jrhs/miniforge3/envs/tf_mac/lib/python3.8/site-packages/deap/creator.py:138: RuntimeWarning: A class named 'fitness' has already been created and it will be overwritten. Consider deleting previous creation of that class or rename it.\n",
      "  warnings.warn(\"A class named '{0}' has already been created and it \"\n",
      "/Users/jrhs/miniforge3/envs/tf_mac/lib/python3.8/site-packages/deap/creator.py:138: RuntimeWarning: A class named 'individual' has already been created and it will be overwritten. Consider deleting previous creation of that class or rename it.\n",
      "  warnings.warn(\"A class named '{0}' has already been created and it \"\n"
     ]
    },
    {
     "output_type": "stream",
     "name": "stdout",
     "text": [
      "decision node 0 : (x [Glucose] = 147.0) <= 148.40042877197266)\n",
      "decision node 1 : (x [BloodPressure] = 87.836066) > 63.061622619628906)\n",
      "decision node 9 : (x [BloodPressure] = 87.836066) > 71.0)\n",
      "decision node 0 : (x [Glucose] = 154.39002990722656) > 148.40042877197266)\n",
      "decision node 14 : (x [Age] = 28.31342124938965) > 14.09058427810669)\n",
      "\n",
      "====================Index====================\n",
      "| 76 \n",
      "=============================================\n"
     ]
    },
    {
     "output_type": "stream",
     "name": "stderr",
     "text": [
      "/Users/jrhs/miniforge3/envs/tf_mac/lib/python3.8/site-packages/deap/creator.py:138: RuntimeWarning: A class named 'fitness' has already been created and it will be overwritten. Consider deleting previous creation of that class or rename it.\n",
      "  warnings.warn(\"A class named '{0}' has already been created and it \"\n",
      "/Users/jrhs/miniforge3/envs/tf_mac/lib/python3.8/site-packages/deap/creator.py:138: RuntimeWarning: A class named 'individual' has already been created and it will be overwritten. Consider deleting previous creation of that class or rename it.\n",
      "  warnings.warn(\"A class named '{0}' has already been created and it \"\n",
      "/Users/jrhs/miniforge3/envs/tf_mac/lib/python3.8/site-packages/deap/creator.py:138: RuntimeWarning: A class named 'fitness' has already been created and it will be overwritten. Consider deleting previous creation of that class or rename it.\n",
      "  warnings.warn(\"A class named '{0}' has already been created and it \"\n",
      "/Users/jrhs/miniforge3/envs/tf_mac/lib/python3.8/site-packages/deap/creator.py:138: RuntimeWarning: A class named 'individual' has already been created and it will be overwritten. Consider deleting previous creation of that class or rename it.\n",
      "  warnings.warn(\"A class named '{0}' has already been created and it \"\n"
     ]
    },
    {
     "output_type": "stream",
     "name": "stdout",
     "text": [
      "decision node 0 : (x [Glucose] = 129.0) <= 141.28031158447266)\n",
      "decision node 1 : (x [Age] = 26.0) <= 37.166988372802734)\n",
      "decision node 2 : (x [BMI] = 67.1) > 56.44999885559082)\n",
      "decision node 4 : (x [Glucose] = 129.0) > 119.5)\n",
      "decision node 0 : (x [Glucose] = 129.0) <= 141.28031158447266)\n",
      "decision node 1 : (x [Age] = 29.565170288085938) <= 37.166988372802734)\n",
      "decision node 2 : (x [BMI] = 64.87004852294922) > 56.44999885559082)\n",
      "decision node 4 : (x [Glucose] = 129.0) > 119.5)\n",
      "\n",
      "====================Index====================\n",
      "| 77 \n",
      "=============================================\n"
     ]
    },
    {
     "output_type": "stream",
     "name": "stderr",
     "text": [
      "/Users/jrhs/miniforge3/envs/tf_mac/lib/python3.8/site-packages/deap/creator.py:138: RuntimeWarning: A class named 'fitness' has already been created and it will be overwritten. Consider deleting previous creation of that class or rename it.\n",
      "  warnings.warn(\"A class named '{0}' has already been created and it \"\n",
      "/Users/jrhs/miniforge3/envs/tf_mac/lib/python3.8/site-packages/deap/creator.py:138: RuntimeWarning: A class named 'individual' has already been created and it will be overwritten. Consider deleting previous creation of that class or rename it.\n",
      "  warnings.warn(\"A class named '{0}' has already been created and it \"\n",
      "/Users/jrhs/miniforge3/envs/tf_mac/lib/python3.8/site-packages/deap/creator.py:138: RuntimeWarning: A class named 'fitness' has already been created and it will be overwritten. Consider deleting previous creation of that class or rename it.\n",
      "  warnings.warn(\"A class named '{0}' has already been created and it \"\n",
      "/Users/jrhs/miniforge3/envs/tf_mac/lib/python3.8/site-packages/deap/creator.py:138: RuntimeWarning: A class named 'individual' has already been created and it will be overwritten. Consider deleting previous creation of that class or rename it.\n",
      "  warnings.warn(\"A class named '{0}' has already been created and it \"\n"
     ]
    },
    {
     "output_type": "stream",
     "name": "stdout",
     "text": [
      "decision node 0 : (x [Glucose] = 103.0) <= 116.91161727905273)\n",
      "decision node 1 : (x [DiabetesPedigreeFunction] = 0.337776) <= 0.8484762609004974)\n",
      "decision node 2 : (x [Age] = 31.0) <= 44.16152381896973)\n",
      "decision node 3 : (x [SkinThickness] = 32.0) > -6.080249786376953)\n",
      "decision node 0 : (x [Glucose] = 116.5955047607422) <= 116.91161727905273)\n",
      "decision node 1 : (x [DiabetesPedigreeFunction] = 0.3377764523029327) <= 0.8484762609004974)\n",
      "decision node 2 : (x [Age] = 31.000001907348636) <= 44.16152381896973)\n",
      "decision node 3 : (x [SkinThickness] = 32.0) > -6.080249786376953)\n",
      "\n",
      "====================Index====================\n",
      "| 78 \n",
      "=============================================\n"
     ]
    },
    {
     "output_type": "stream",
     "name": "stderr",
     "text": [
      "/Users/jrhs/miniforge3/envs/tf_mac/lib/python3.8/site-packages/deap/creator.py:138: RuntimeWarning: A class named 'fitness' has already been created and it will be overwritten. Consider deleting previous creation of that class or rename it.\n",
      "  warnings.warn(\"A class named '{0}' has already been created and it \"\n",
      "/Users/jrhs/miniforge3/envs/tf_mac/lib/python3.8/site-packages/deap/creator.py:138: RuntimeWarning: A class named 'individual' has already been created and it will be overwritten. Consider deleting previous creation of that class or rename it.\n",
      "  warnings.warn(\"A class named '{0}' has already been created and it \"\n",
      "/Users/jrhs/miniforge3/envs/tf_mac/lib/python3.8/site-packages/deap/creator.py:138: RuntimeWarning: A class named 'fitness' has already been created and it will be overwritten. Consider deleting previous creation of that class or rename it.\n",
      "  warnings.warn(\"A class named '{0}' has already been created and it \"\n",
      "/Users/jrhs/miniforge3/envs/tf_mac/lib/python3.8/site-packages/deap/creator.py:138: RuntimeWarning: A class named 'individual' has already been created and it will be overwritten. Consider deleting previous creation of that class or rename it.\n",
      "  warnings.warn(\"A class named '{0}' has already been created and it \"\n"
     ]
    },
    {
     "output_type": "stream",
     "name": "stdout",
     "text": [
      "decision node 0 : (x [Glucose] = 97.0) <= 111.9286117553711)\n",
      "decision node 1 : (x [BMI] = 35.6) <= 48.60195732116699)\n",
      "decision node 2 : (x [DiabetesPedigreeFunction] = 0.371878) <= 1.08408722281456)\n",
      "decision node 3 : (x [Age] = 52.0) <= 52.65092468261719)\n",
      "decision node 0 : (x [Glucose] = 98.13294219970705) <= 111.9286117553711)\n",
      "decision node 1 : (x [BMI] = 35.60000228881836) <= 48.60195732116699)\n",
      "decision node 2 : (x [DiabetesPedigreeFunction] = 0.3718783855438232) <= 1.08408722281456)\n",
      "decision node 3 : (x [Age] = 52.00000381469727) <= 52.65092468261719)\n",
      "\n",
      "====================Index====================\n",
      "| 79 \n",
      "=============================================\n"
     ]
    },
    {
     "output_type": "stream",
     "name": "stderr",
     "text": [
      "/Users/jrhs/miniforge3/envs/tf_mac/lib/python3.8/site-packages/deap/creator.py:138: RuntimeWarning: A class named 'fitness' has already been created and it will be overwritten. Consider deleting previous creation of that class or rename it.\n",
      "  warnings.warn(\"A class named '{0}' has already been created and it \"\n",
      "/Users/jrhs/miniforge3/envs/tf_mac/lib/python3.8/site-packages/deap/creator.py:138: RuntimeWarning: A class named 'individual' has already been created and it will be overwritten. Consider deleting previous creation of that class or rename it.\n",
      "  warnings.warn(\"A class named '{0}' has already been created and it \"\n",
      "/Users/jrhs/miniforge3/envs/tf_mac/lib/python3.8/site-packages/deap/creator.py:138: RuntimeWarning: A class named 'fitness' has already been created and it will be overwritten. Consider deleting previous creation of that class or rename it.\n",
      "  warnings.warn(\"A class named '{0}' has already been created and it \"\n",
      "/Users/jrhs/miniforge3/envs/tf_mac/lib/python3.8/site-packages/deap/creator.py:138: RuntimeWarning: A class named 'individual' has already been created and it will be overwritten. Consider deleting previous creation of that class or rename it.\n",
      "  warnings.warn(\"A class named '{0}' has already been created and it \"\n"
     ]
    },
    {
     "output_type": "stream",
     "name": "stdout",
     "text": [
      "decision node 0 : (x [Glucose] = 93.0) <= 107.17633819580078)\n",
      "decision node 1 : (x [DiabetesPedigreeFunction] = 0.668766) <= 1.8240954875946045)\n",
      "decision node 0 : (x [Glucose] = 99.88169860839844) <= 107.17633819580078)\n",
      "decision node 1 : (x [DiabetesPedigreeFunction] = 0.6687657833099365) <= 1.8240954875946045)\n",
      "0:42:15.858570\n"
     ]
    }
   ],
   "metadata": {}
  },
  {
   "cell_type": "code",
   "execution_count": 10,
   "source": [
    "result_df.to_csv('surrogate_proto.csv')"
   ],
   "outputs": [],
   "metadata": {}
  }
 ]
}