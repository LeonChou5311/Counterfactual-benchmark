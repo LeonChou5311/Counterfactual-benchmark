{
 "cells": [
  {
   "cell_type": "code",
   "execution_count": 1,
   "metadata": {},
   "outputs": [
    {
     "name": "stdout",
     "output_type": "stream",
     "text": [
      "TF version:  2.0.0\n",
      "Eager execution enabled:  False\n"
     ]
    }
   ],
   "source": [
    "import tensorflow as tf\n",
    "import pandas as pd\n",
    "import numpy as np\n",
    "\n",
    "from utils.df_loader import load_adult_df, load_compas_df, load_german_df, load_diabetes_df, load_breast_cancer_df\n",
    "from sklearn.model_selection import train_test_split\n",
    "from utils.preprocessing import preprocess_df\n",
    "from utils.models import train_three_models, evaluation_test, save_three_models, load_three_models\n",
    "from utils.cf_proto import  generate_cf_proto_result, process_result\n",
    "\n",
    "from utils.save import save_result_as_csv\n",
    "\n",
    "### Disable TF2 and enable TF1 for alibi.\n",
    "tf.get_logger().setLevel(40) \n",
    "tf.compat.v1.disable_v2_behavior()\n",
    "tf.keras.backend.clear_session()\n",
    "pd.options.mode.chained_assignment = None \n",
    "tf.compat.v1.disable_eager_execution()\n",
    "print('TF version: ', tf.__version__)\n",
    "print('Eager execution enabled: ', tf.executing_eagerly()) # False\n",
    "\n",
    "\n",
    "seed = 123\n",
    "# tf.random.set_seed(seed)\n",
    "# np.random.seed(seed)\n"
   ]
  },
  {
   "cell_type": "code",
   "execution_count": 2,
   "metadata": {},
   "outputs": [],
   "source": [
    "# pip install alibi"
   ]
  },
  {
   "cell_type": "code",
   "execution_count": 3,
   "metadata": {},
   "outputs": [],
   "source": [
    "#### Select dataset ####\n",
    "\n",
    "dataset_name = 'compas' # [adult, german, compas]\n",
    "\n",
    "if dataset_name == 'adult':\n",
    "    dataset_loading_fn = load_adult_df\n",
    "elif dataset_name == 'german':\n",
    "    dataset_loading_fn = load_german_df\n",
    "elif dataset_name == 'compas':\n",
    "    dataset_loading_fn = load_compas_df\n",
    "elif dataset_name == 'diabetes':\n",
    "    dataset_loading_fn = load_diabetes_df\n",
    "elif dataset_name == 'breast_cancer':\n",
    "    dataset_loading_fn = load_breast_cancer_df\n",
    "else:\n",
    "    raise Exception(\"Unsupported dataset\")"
   ]
  },
  {
   "cell_type": "code",
   "execution_count": 4,
   "metadata": {},
   "outputs": [],
   "source": [
    "#### Load datafram info.\n",
    "df_info = preprocess_df(dataset_loading_fn)"
   ]
  },
  {
   "cell_type": "code",
   "execution_count": 5,
   "metadata": {},
   "outputs": [
    {
     "data": {
      "text/plain": [
       "['age_cat',\n",
       " 'sex',\n",
       " 'race',\n",
       " 'c_charge_degree',\n",
       " 'is_recid',\n",
       " 'is_violent_recid',\n",
       " 'two_year_recid',\n",
       " 'class']"
      ]
     },
     "execution_count": 5,
     "metadata": {},
     "output_type": "execute_result"
    }
   ],
   "source": [
    "df_info.categorical_cols"
   ]
  },
  {
   "cell_type": "code",
   "execution_count": 6,
   "metadata": {},
   "outputs": [
    {
     "data": {
      "text/plain": [
       "['age', 'priors_count', 'days_b_screening_arrest', 'length_of_stay']"
      ]
     },
     "execution_count": 6,
     "metadata": {},
     "output_type": "execute_result"
    }
   ],
   "source": [
    "df_info.numerical_cols"
   ]
  },
  {
   "cell_type": "code",
   "execution_count": 7,
   "metadata": {},
   "outputs": [],
   "source": [
    "### Seperate to train and test set.\n",
    "train_df, test_df = train_test_split(df_info.dummy_df, train_size=.8, random_state=seed, shuffle=True)"
   ]
  },
  {
   "cell_type": "code",
   "execution_count": 8,
   "metadata": {},
   "outputs": [
    {
     "data": {
      "text/html": [
       "<div>\n",
       "<style scoped>\n",
       "    .dataframe tbody tr th:only-of-type {\n",
       "        vertical-align: middle;\n",
       "    }\n",
       "\n",
       "    .dataframe tbody tr th {\n",
       "        vertical-align: top;\n",
       "    }\n",
       "\n",
       "    .dataframe thead th {\n",
       "        text-align: right;\n",
       "    }\n",
       "</style>\n",
       "<table border=\"1\" class=\"dataframe\">\n",
       "  <thead>\n",
       "    <tr style=\"text-align: right;\">\n",
       "      <th></th>\n",
       "      <th>age</th>\n",
       "      <th>age_cat</th>\n",
       "      <th>sex</th>\n",
       "      <th>race</th>\n",
       "      <th>priors_count</th>\n",
       "      <th>days_b_screening_arrest</th>\n",
       "      <th>c_charge_degree</th>\n",
       "      <th>is_recid</th>\n",
       "      <th>is_violent_recid</th>\n",
       "      <th>two_year_recid</th>\n",
       "      <th>length_of_stay</th>\n",
       "      <th>class</th>\n",
       "    </tr>\n",
       "  </thead>\n",
       "  <tbody>\n",
       "    <tr>\n",
       "      <th>4855</th>\n",
       "      <td>28</td>\n",
       "      <td>25 - 45</td>\n",
       "      <td>Female</td>\n",
       "      <td>Other</td>\n",
       "      <td>1</td>\n",
       "      <td>0</td>\n",
       "      <td>F</td>\n",
       "      <td>0</td>\n",
       "      <td>0</td>\n",
       "      <td>0</td>\n",
       "      <td>0</td>\n",
       "      <td>Medium-Low</td>\n",
       "    </tr>\n",
       "    <tr>\n",
       "      <th>540</th>\n",
       "      <td>22</td>\n",
       "      <td>Less than 25</td>\n",
       "      <td>Male</td>\n",
       "      <td>Caucasian</td>\n",
       "      <td>6</td>\n",
       "      <td>168</td>\n",
       "      <td>F</td>\n",
       "      <td>1</td>\n",
       "      <td>0</td>\n",
       "      <td>1</td>\n",
       "      <td>62</td>\n",
       "      <td>High</td>\n",
       "    </tr>\n",
       "    <tr>\n",
       "      <th>4018</th>\n",
       "      <td>44</td>\n",
       "      <td>25 - 45</td>\n",
       "      <td>Male</td>\n",
       "      <td>African-American</td>\n",
       "      <td>0</td>\n",
       "      <td>1</td>\n",
       "      <td>M</td>\n",
       "      <td>0</td>\n",
       "      <td>0</td>\n",
       "      <td>0</td>\n",
       "      <td>2</td>\n",
       "      <td>Medium-Low</td>\n",
       "    </tr>\n",
       "    <tr>\n",
       "      <th>2384</th>\n",
       "      <td>29</td>\n",
       "      <td>25 - 45</td>\n",
       "      <td>Male</td>\n",
       "      <td>African-American</td>\n",
       "      <td>0</td>\n",
       "      <td>0</td>\n",
       "      <td>M</td>\n",
       "      <td>0</td>\n",
       "      <td>0</td>\n",
       "      <td>0</td>\n",
       "      <td>0</td>\n",
       "      <td>Medium-Low</td>\n",
       "    </tr>\n",
       "    <tr>\n",
       "      <th>2149</th>\n",
       "      <td>29</td>\n",
       "      <td>25 - 45</td>\n",
       "      <td>Male</td>\n",
       "      <td>African-American</td>\n",
       "      <td>0</td>\n",
       "      <td>0</td>\n",
       "      <td>F</td>\n",
       "      <td>0</td>\n",
       "      <td>0</td>\n",
       "      <td>0</td>\n",
       "      <td>0</td>\n",
       "      <td>Medium-Low</td>\n",
       "    </tr>\n",
       "    <tr>\n",
       "      <th>5234</th>\n",
       "      <td>24</td>\n",
       "      <td>Less than 25</td>\n",
       "      <td>Male</td>\n",
       "      <td>African-American</td>\n",
       "      <td>2</td>\n",
       "      <td>1</td>\n",
       "      <td>M</td>\n",
       "      <td>0</td>\n",
       "      <td>0</td>\n",
       "      <td>0</td>\n",
       "      <td>3</td>\n",
       "      <td>Medium-Low</td>\n",
       "    </tr>\n",
       "    <tr>\n",
       "      <th>3499</th>\n",
       "      <td>24</td>\n",
       "      <td>Less than 25</td>\n",
       "      <td>Male</td>\n",
       "      <td>African-American</td>\n",
       "      <td>0</td>\n",
       "      <td>0</td>\n",
       "      <td>M</td>\n",
       "      <td>1</td>\n",
       "      <td>0</td>\n",
       "      <td>1</td>\n",
       "      <td>1</td>\n",
       "      <td>Medium-Low</td>\n",
       "    </tr>\n",
       "    <tr>\n",
       "      <th>5013</th>\n",
       "      <td>32</td>\n",
       "      <td>25 - 45</td>\n",
       "      <td>Male</td>\n",
       "      <td>African-American</td>\n",
       "      <td>0</td>\n",
       "      <td>0</td>\n",
       "      <td>F</td>\n",
       "      <td>0</td>\n",
       "      <td>0</td>\n",
       "      <td>0</td>\n",
       "      <td>1</td>\n",
       "      <td>Medium-Low</td>\n",
       "    </tr>\n",
       "    <tr>\n",
       "      <th>5153</th>\n",
       "      <td>25</td>\n",
       "      <td>25 - 45</td>\n",
       "      <td>Male</td>\n",
       "      <td>Hispanic</td>\n",
       "      <td>2</td>\n",
       "      <td>1</td>\n",
       "      <td>F</td>\n",
       "      <td>1</td>\n",
       "      <td>0</td>\n",
       "      <td>1</td>\n",
       "      <td>0</td>\n",
       "      <td>Medium-Low</td>\n",
       "    </tr>\n",
       "    <tr>\n",
       "      <th>3648</th>\n",
       "      <td>37</td>\n",
       "      <td>25 - 45</td>\n",
       "      <td>Female</td>\n",
       "      <td>African-American</td>\n",
       "      <td>4</td>\n",
       "      <td>1</td>\n",
       "      <td>M</td>\n",
       "      <td>0</td>\n",
       "      <td>0</td>\n",
       "      <td>0</td>\n",
       "      <td>0</td>\n",
       "      <td>Medium-Low</td>\n",
       "    </tr>\n",
       "    <tr>\n",
       "      <th>1906</th>\n",
       "      <td>27</td>\n",
       "      <td>25 - 45</td>\n",
       "      <td>Male</td>\n",
       "      <td>African-American</td>\n",
       "      <td>4</td>\n",
       "      <td>1</td>\n",
       "      <td>F</td>\n",
       "      <td>0</td>\n",
       "      <td>0</td>\n",
       "      <td>0</td>\n",
       "      <td>33</td>\n",
       "      <td>High</td>\n",
       "    </tr>\n",
       "    <tr>\n",
       "      <th>3401</th>\n",
       "      <td>33</td>\n",
       "      <td>25 - 45</td>\n",
       "      <td>Male</td>\n",
       "      <td>Hispanic</td>\n",
       "      <td>1</td>\n",
       "      <td>1</td>\n",
       "      <td>F</td>\n",
       "      <td>0</td>\n",
       "      <td>0</td>\n",
       "      <td>0</td>\n",
       "      <td>0</td>\n",
       "      <td>Medium-Low</td>\n",
       "    </tr>\n",
       "    <tr>\n",
       "      <th>309</th>\n",
       "      <td>27</td>\n",
       "      <td>25 - 45</td>\n",
       "      <td>Male</td>\n",
       "      <td>African-American</td>\n",
       "      <td>4</td>\n",
       "      <td>300</td>\n",
       "      <td>M</td>\n",
       "      <td>1</td>\n",
       "      <td>0</td>\n",
       "      <td>1</td>\n",
       "      <td>0</td>\n",
       "      <td>High</td>\n",
       "    </tr>\n",
       "    <tr>\n",
       "      <th>5952</th>\n",
       "      <td>26</td>\n",
       "      <td>25 - 45</td>\n",
       "      <td>Male</td>\n",
       "      <td>Caucasian</td>\n",
       "      <td>2</td>\n",
       "      <td>1</td>\n",
       "      <td>F</td>\n",
       "      <td>0</td>\n",
       "      <td>0</td>\n",
       "      <td>0</td>\n",
       "      <td>0</td>\n",
       "      <td>Medium-Low</td>\n",
       "    </tr>\n",
       "    <tr>\n",
       "      <th>5012</th>\n",
       "      <td>34</td>\n",
       "      <td>25 - 45</td>\n",
       "      <td>Male</td>\n",
       "      <td>Hispanic</td>\n",
       "      <td>2</td>\n",
       "      <td>0</td>\n",
       "      <td>M</td>\n",
       "      <td>1</td>\n",
       "      <td>0</td>\n",
       "      <td>1</td>\n",
       "      <td>1</td>\n",
       "      <td>Medium-Low</td>\n",
       "    </tr>\n",
       "    <tr>\n",
       "      <th>1355</th>\n",
       "      <td>43</td>\n",
       "      <td>25 - 45</td>\n",
       "      <td>Male</td>\n",
       "      <td>Caucasian</td>\n",
       "      <td>4</td>\n",
       "      <td>0</td>\n",
       "      <td>F</td>\n",
       "      <td>1</td>\n",
       "      <td>1</td>\n",
       "      <td>1</td>\n",
       "      <td>2</td>\n",
       "      <td>Medium-Low</td>\n",
       "    </tr>\n",
       "    <tr>\n",
       "      <th>4037</th>\n",
       "      <td>37</td>\n",
       "      <td>25 - 45</td>\n",
       "      <td>Male</td>\n",
       "      <td>Caucasian</td>\n",
       "      <td>4</td>\n",
       "      <td>0</td>\n",
       "      <td>M</td>\n",
       "      <td>0</td>\n",
       "      <td>0</td>\n",
       "      <td>0</td>\n",
       "      <td>0</td>\n",
       "      <td>Medium-Low</td>\n",
       "    </tr>\n",
       "    <tr>\n",
       "      <th>1309</th>\n",
       "      <td>30</td>\n",
       "      <td>25 - 45</td>\n",
       "      <td>Male</td>\n",
       "      <td>Caucasian</td>\n",
       "      <td>0</td>\n",
       "      <td>1</td>\n",
       "      <td>M</td>\n",
       "      <td>0</td>\n",
       "      <td>0</td>\n",
       "      <td>0</td>\n",
       "      <td>0</td>\n",
       "      <td>Medium-Low</td>\n",
       "    </tr>\n",
       "    <tr>\n",
       "      <th>1344</th>\n",
       "      <td>53</td>\n",
       "      <td>Greater than 45</td>\n",
       "      <td>Male</td>\n",
       "      <td>African-American</td>\n",
       "      <td>8</td>\n",
       "      <td>1</td>\n",
       "      <td>F</td>\n",
       "      <td>1</td>\n",
       "      <td>0</td>\n",
       "      <td>1</td>\n",
       "      <td>5</td>\n",
       "      <td>Medium-Low</td>\n",
       "    </tr>\n",
       "    <tr>\n",
       "      <th>882</th>\n",
       "      <td>50</td>\n",
       "      <td>Greater than 45</td>\n",
       "      <td>Male</td>\n",
       "      <td>Caucasian</td>\n",
       "      <td>1</td>\n",
       "      <td>1</td>\n",
       "      <td>F</td>\n",
       "      <td>1</td>\n",
       "      <td>0</td>\n",
       "      <td>0</td>\n",
       "      <td>1</td>\n",
       "      <td>Medium-Low</td>\n",
       "    </tr>\n",
       "  </tbody>\n",
       "</table>\n",
       "</div>"
      ],
      "text/plain": [
       "      age          age_cat     sex              race  priors_count  \\\n",
       "4855   28          25 - 45  Female             Other             1   \n",
       "540    22     Less than 25    Male         Caucasian             6   \n",
       "4018   44          25 - 45    Male  African-American             0   \n",
       "2384   29          25 - 45    Male  African-American             0   \n",
       "2149   29          25 - 45    Male  African-American             0   \n",
       "5234   24     Less than 25    Male  African-American             2   \n",
       "3499   24     Less than 25    Male  African-American             0   \n",
       "5013   32          25 - 45    Male  African-American             0   \n",
       "5153   25          25 - 45    Male          Hispanic             2   \n",
       "3648   37          25 - 45  Female  African-American             4   \n",
       "1906   27          25 - 45    Male  African-American             4   \n",
       "3401   33          25 - 45    Male          Hispanic             1   \n",
       "309    27          25 - 45    Male  African-American             4   \n",
       "5952   26          25 - 45    Male         Caucasian             2   \n",
       "5012   34          25 - 45    Male          Hispanic             2   \n",
       "1355   43          25 - 45    Male         Caucasian             4   \n",
       "4037   37          25 - 45    Male         Caucasian             4   \n",
       "1309   30          25 - 45    Male         Caucasian             0   \n",
       "1344   53  Greater than 45    Male  African-American             8   \n",
       "882    50  Greater than 45    Male         Caucasian             1   \n",
       "\n",
       "      days_b_screening_arrest c_charge_degree is_recid is_violent_recid  \\\n",
       "4855                        0               F        0                0   \n",
       "540                       168               F        1                0   \n",
       "4018                        1               M        0                0   \n",
       "2384                        0               M        0                0   \n",
       "2149                        0               F        0                0   \n",
       "5234                        1               M        0                0   \n",
       "3499                        0               M        1                0   \n",
       "5013                        0               F        0                0   \n",
       "5153                        1               F        1                0   \n",
       "3648                        1               M        0                0   \n",
       "1906                        1               F        0                0   \n",
       "3401                        1               F        0                0   \n",
       "309                       300               M        1                0   \n",
       "5952                        1               F        0                0   \n",
       "5012                        0               M        1                0   \n",
       "1355                        0               F        1                1   \n",
       "4037                        0               M        0                0   \n",
       "1309                        1               M        0                0   \n",
       "1344                        1               F        1                0   \n",
       "882                         1               F        1                0   \n",
       "\n",
       "     two_year_recid  length_of_stay       class  \n",
       "4855              0               0  Medium-Low  \n",
       "540               1              62        High  \n",
       "4018              0               2  Medium-Low  \n",
       "2384              0               0  Medium-Low  \n",
       "2149              0               0  Medium-Low  \n",
       "5234              0               3  Medium-Low  \n",
       "3499              1               1  Medium-Low  \n",
       "5013              0               1  Medium-Low  \n",
       "5153              1               0  Medium-Low  \n",
       "3648              0               0  Medium-Low  \n",
       "1906              0              33        High  \n",
       "3401              0               0  Medium-Low  \n",
       "309               1               0        High  \n",
       "5952              0               0  Medium-Low  \n",
       "5012              1               1  Medium-Low  \n",
       "1355              1               2  Medium-Low  \n",
       "4037              0               0  Medium-Low  \n",
       "1309              0               0  Medium-Low  \n",
       "1344              1               5  Medium-Low  \n",
       "882               0               1  Medium-Low  "
      ]
     },
     "execution_count": 8,
     "metadata": {},
     "output_type": "execute_result"
    }
   ],
   "source": [
    "### Input queries for generating counterfactuals\n",
    "df_info.df.iloc[test_df[:20].index]"
   ]
  },
  {
   "cell_type": "code",
   "execution_count": 9,
   "metadata": {},
   "outputs": [],
   "source": [
    "### Get training and testing array.\n",
    "X_train = np.array(train_df[df_info.ohe_feature_names])\n",
    "y_train = np.array(train_df[df_info.target_name])\n",
    "X_test = np.array(test_df[df_info.ohe_feature_names])\n",
    "y_test = np.array(test_df[df_info.target_name])"
   ]
  },
  {
   "cell_type": "code",
   "execution_count": 10,
   "metadata": {},
   "outputs": [
    {
     "name": "stdout",
     "output_type": "stream",
     "text": [
      "Train on 5771 samples\n",
      "Epoch 1/20\n"
     ]
    },
    {
     "name": "stderr",
     "output_type": "stream",
     "text": [
      "2022-07-11 11:26:08.074992: I tensorflow/core/platform/cpu_feature_guard.cc:145] This TensorFlow binary is optimized with Intel(R) MKL-DNN to use the following CPU instructions in performance critical operations:  SSE4.1 SSE4.2\n",
      "To enable them in non-MKL-DNN operations, rebuild TensorFlow with the appropriate compiler flags.\n",
      "2022-07-11 11:26:08.075493: I tensorflow/core/common_runtime/process_util.cc:115] Creating new thread pool with default inter op setting: 8. Tune using inter_op_parallelism_threads for best performance.\n"
     ]
    },
    {
     "name": "stdout",
     "output_type": "stream",
     "text": [
      "5771/5771 [==============================] - 0s 81us/sample - loss: 0.6370 - acc: 0.6621\n",
      "Epoch 2/20\n",
      "5771/5771 [==============================] - 0s 23us/sample - loss: 0.5255 - acc: 0.7266\n",
      "Epoch 3/20\n",
      "5771/5771 [==============================] - 0s 23us/sample - loss: 0.4930 - acc: 0.7543\n",
      "Epoch 4/20\n",
      "5771/5771 [==============================] - 0s 22us/sample - loss: 0.4705 - acc: 0.7718\n",
      "Epoch 5/20\n",
      "5771/5771 [==============================] - 0s 22us/sample - loss: 0.4614 - acc: 0.7777\n",
      "Epoch 6/20\n",
      "5771/5771 [==============================] - 0s 22us/sample - loss: 0.4482 - acc: 0.7895\n",
      "Epoch 7/20\n",
      "5771/5771 [==============================] - 0s 22us/sample - loss: 0.4444 - acc: 0.7915\n",
      "Epoch 8/20\n",
      "5771/5771 [==============================] - 0s 22us/sample - loss: 0.4425 - acc: 0.7905\n",
      "Epoch 9/20\n",
      "5771/5771 [==============================] - 0s 22us/sample - loss: 0.4433 - acc: 0.7919\n",
      "Epoch 10/20\n",
      "5771/5771 [==============================] - 0s 22us/sample - loss: 0.4394 - acc: 0.7952\n",
      "Epoch 11/20\n",
      "5771/5771 [==============================] - 0s 21us/sample - loss: 0.4379 - acc: 0.7959\n",
      "Epoch 12/20\n",
      "5771/5771 [==============================] - 0s 22us/sample - loss: 0.4369 - acc: 0.7967\n",
      "Epoch 13/20\n",
      "5771/5771 [==============================] - 0s 22us/sample - loss: 0.4367 - acc: 0.7962\n",
      "Epoch 14/20\n",
      "5771/5771 [==============================] - 0s 22us/sample - loss: 0.4368 - acc: 0.7940\n",
      "Epoch 15/20\n",
      "5771/5771 [==============================] - 0s 22us/sample - loss: 0.4357 - acc: 0.7948\n",
      "Epoch 16/20\n",
      "5771/5771 [==============================] - 0s 22us/sample - loss: 0.4337 - acc: 0.7959\n",
      "Epoch 17/20\n",
      "5771/5771 [==============================] - 0s 22us/sample - loss: 0.4348 - acc: 0.7948\n",
      "Epoch 18/20\n",
      "5771/5771 [==============================] - 0s 24us/sample - loss: 0.4332 - acc: 0.8004\n",
      "Epoch 19/20\n",
      "5771/5771 [==============================] - 0s 21us/sample - loss: 0.4351 - acc: 0.7966\n",
      "Epoch 20/20\n",
      "5771/5771 [==============================] - 0s 23us/sample - loss: 0.4318 - acc: 0.8032\n"
     ]
    }
   ],
   "source": [
    "## Train models.\n",
    "models = train_three_models(X_train, y_train)\n",
    "\n",
    "## Save models.\n",
    "save_three_models(models, dataset_name)"
   ]
  },
  {
   "cell_type": "code",
   "execution_count": 11,
   "metadata": {},
   "outputs": [],
   "source": [
    "### Load models\n",
    "models = load_three_models(X_train.shape[-1], dataset_name)"
   ]
  },
  {
   "cell_type": "code",
   "execution_count": 12,
   "metadata": {},
   "outputs": [
    {
     "name": "stdout",
     "output_type": "stream",
     "text": [
      "DT: [0.7332] | RF [0.7852] | NN [0.8094]\n"
     ]
    }
   ],
   "source": [
    "### Print out accuracy on testset.\n",
    "evaluation_test(models, X_test, y_test)"
   ]
  },
  {
   "cell_type": "markdown",
   "metadata": {},
   "source": [
    "# Alibi"
   ]
  },
  {
   "cell_type": "markdown",
   "metadata": {},
   "source": [
    "## 1. Counterfactual Prototype"
   ]
  },
  {
   "cell_type": "code",
   "execution_count": 13,
   "metadata": {},
   "outputs": [],
   "source": [
    "from utils.cf_proto import Recorder"
   ]
  },
  {
   "cell_type": "code",
   "execution_count": 14,
   "metadata": {},
   "outputs": [],
   "source": [
    "### Setting up the CF generating amount.\n",
    "num_instances = 3\n",
    "num_cf_per_instance = 1"
   ]
  },
  {
   "cell_type": "code",
   "execution_count": 15,
   "metadata": {},
   "outputs": [
    {
     "name": "stdout",
     "output_type": "stream",
     "text": [
      "Finding counterfactual for rfc\n",
      "instance 0\n",
      "CF 0\n"
     ]
    },
    {
     "name": "stderr",
     "output_type": "stream",
     "text": [
      "No counterfactual found!\n"
     ]
    },
    {
     "name": "stdout",
     "output_type": "stream",
     "text": [
      "CF not found\n",
      "instance 1\n",
      "CF 0\n",
      "Found CF\n",
      "instance 2\n",
      "CF 0\n"
     ]
    },
    {
     "name": "stderr",
     "output_type": "stream",
     "text": [
      "No counterfactual found!\n"
     ]
    },
    {
     "name": "stdout",
     "output_type": "stream",
     "text": [
      "CF not found\n",
      "Finding counterfactual for nn\n",
      "instance 0\n",
      "CF 0\n"
     ]
    },
    {
     "name": "stderr",
     "output_type": "stream",
     "text": [
      "No counterfactual found!\n"
     ]
    },
    {
     "name": "stdout",
     "output_type": "stream",
     "text": [
      "CF not found\n",
      "instance 1\n",
      "CF 0\n",
      "Found CF\n",
      "instance 2\n",
      "CF 0\n"
     ]
    },
    {
     "name": "stderr",
     "output_type": "stream",
     "text": [
      "No counterfactual found!\n"
     ]
    },
    {
     "name": "stdout",
     "output_type": "stream",
     "text": [
      "CF not found\n"
     ]
    }
   ],
   "source": [
    "# Generate CF\n",
    "results = generate_cf_proto_result(\n",
    "    df_info,\n",
    "    train_df,\n",
    "    models,\n",
    "    num_instances,\n",
    "    num_cf_per_instance,\n",
    "    X_train,\n",
    "    X_test,\n",
    "    y_test,\n",
    "    max_iters=1000,\n",
    "    models_to_run=['rfc', 'nn'],\n",
    "    output_int=True\n",
    ")\n",
    "result_dfs = process_result(results, df_info)\n"
   ]
  },
  {
   "cell_type": "code",
   "execution_count": 16,
   "metadata": {},
   "outputs": [],
   "source": [
    "i = 0\n",
    "example_input = X_test[i:i+1]"
   ]
  },
  {
   "cell_type": "code",
   "execution_count": 17,
   "metadata": {},
   "outputs": [
    {
     "name": "stdout",
     "output_type": "stream",
     "text": [
      "[[1]]\n",
      "[[1]]\n",
      "[[1]]\n"
     ]
    }
   ],
   "source": [
    "print(Recorder.wrapped_models['nn'].predict(example_input))\n",
    "print(Recorder.wrapped_models['dt'].predict(example_input))\n",
    "print(Recorder.wrapped_models['rfc'].predict(example_input))"
   ]
  },
  {
   "cell_type": "code",
   "execution_count": 18,
   "metadata": {},
   "outputs": [
    {
     "name": "stdout",
     "output_type": "stream",
     "text": [
      "[[0 1]]\n",
      "[[0 1]]\n",
      "[[0 1]]\n"
     ]
    }
   ],
   "source": [
    "print(Recorder.wrapped_models['nn'].predict_proba(example_input))\n",
    "print(Recorder.wrapped_models['dt'].predict_proba(example_input))\n",
    "print(Recorder.wrapped_models['rfc'].predict_proba(example_input))"
   ]
  },
  {
   "cell_type": "code",
   "execution_count": 19,
   "metadata": {},
   "outputs": [],
   "source": [
    "# result_dfs['nn']['Found']"
   ]
  },
  {
   "cell_type": "code",
   "execution_count": 20,
   "metadata": {},
   "outputs": [],
   "source": [
    "#  [Proto] learning_rate_init=0.01\n",
    "#  [Watcher] learning_rate = 0.1"
   ]
  },
  {
   "cell_type": "code",
   "execution_count": 21,
   "metadata": {},
   "outputs": [
    {
     "name": "stdout",
     "output_type": "stream",
     "text": [
      "Result has been saved to ./results/proto_compas\n"
     ]
    }
   ],
   "source": [
    "### Save result as file.\n",
    "save_result_as_csv(\"proto\", dataset_name, result_dfs)"
   ]
  }
 ],
 "metadata": {
  "kernelspec": {
   "display_name": "Python 3.7.11 ('cf_2022_final')",
   "language": "python",
   "name": "python3"
  },
  "language_info": {
   "codemirror_mode": {
    "name": "ipython",
    "version": 3
   },
   "file_extension": ".py",
   "mimetype": "text/x-python",
   "name": "python",
   "nbconvert_exporter": "python",
   "pygments_lexer": "ipython3",
   "version": "3.7.11"
  },
  "orig_nbformat": 4,
  "vscode": {
   "interpreter": {
    "hash": "ddbd05a1a14a3b0def6fc051a52a025c8773943fa7dc1baab0b936f7bf6828c8"
   }
  }
 },
 "nbformat": 4,
 "nbformat_minor": 2
}
