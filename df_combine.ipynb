{
 "cells": [
  {
   "cell_type": "code",
   "execution_count": 41,
   "source": [
    "import pandas as pd\n",
    "import os"
   ],
   "outputs": [],
   "metadata": {}
  },
  {
   "cell_type": "code",
   "execution_count": 45,
   "source": [
    "folder = \"./DiCE_ad\"\n",
    "dataset_name = \"adult\"\n",
    "model_names = ['dt', 'nn', 'rfc']\n",
    "algorithm_name = \"dice\"\n",
    "# model_name = model_names[0]\n",
    "\n",
    "## Read dfs\n",
    "for model_name in model_names:\n",
    "    dfs = []\n",
    "    for i in range(5):\n",
    "        dataset_path = f\"{algorithm_name}_{dataset_name}_{model_name}_result{i}.csv\"\n",
    "        destination_path = f\"{algorithm_name}_{dataset_name}_{model_name}_result.csv\"\n",
    "        dfs.append(pd.read_csv(os.path.join(folder, dataset_path)))\n",
    "\n",
    "    ### Combine dfs\n",
    "    complete_df = pd.DataFrame([], columns=dfs[0].columns)\n",
    "    for l in range(len(dfs[0])):\n",
    "        for df in dfs:\n",
    "            complete_df = complete_df.append(df.iloc[l:l+1])\n",
    "\n",
    "\n",
    "    ### Save dfs\n",
    "    complete_df.to_csv(os.path.join(folder, destination_path))\n",
    "        "
   ],
   "outputs": [],
   "metadata": {}
  },
  {
   "cell_type": "code",
   "execution_count": 47,
   "source": [
    "os.path.join(folder, destination_path)"
   ],
   "outputs": [
    {
     "output_type": "execute_result",
     "data": {
      "text/plain": [
       "'./DiCE_ad/dice_adult_rfc_result.csv'"
      ]
     },
     "metadata": {},
     "execution_count": 47
    }
   ],
   "metadata": {}
  },
  {
   "cell_type": "code",
   "execution_count": null,
   "source": [],
   "outputs": [],
   "metadata": {}
  }
 ],
 "metadata": {
  "orig_nbformat": 4,
  "language_info": {
   "name": "python",
   "version": "3.8.10",
   "mimetype": "text/x-python",
   "codemirror_mode": {
    "name": "ipython",
    "version": 3
   },
   "pygments_lexer": "ipython3",
   "nbconvert_exporter": "python",
   "file_extension": ".py"
  },
  "kernelspec": {
   "name": "python3",
   "display_name": "Python 3.8.10 64-bit ('tf_mac': conda)"
  },
  "interpreter": {
   "hash": "5c622353f32ef24c8d83e5c3e334107c074e82d7c3e8ca52c56b9fc900ce33e6"
  }
 },
 "nbformat": 4,
 "nbformat_minor": 2
}