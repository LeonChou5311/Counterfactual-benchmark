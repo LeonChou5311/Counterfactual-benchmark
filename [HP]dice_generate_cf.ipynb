{
 "cells": [
  {
   "cell_type": "code",
   "execution_count": 1,
   "metadata": {},
   "outputs": [
    {
     "name": "stdout",
     "output_type": "stream",
     "text": [
      "TF version:  2.0.0\n",
      "Eager execution enabled:  True\n"
     ]
    }
   ],
   "source": [
    "import tensorflow as tf\n",
    "import pandas as pd\n",
    "import numpy as np\n",
    "\n",
    "from utils.df_loader import load_adult_df, load_compas_df, load_german_df, load_diabetes_df, load_breast_cancer_df\n",
    "from utils.preprocessing import preprocess_df\n",
    "from sklearn.model_selection import train_test_split\n",
    "from utils.dice import generate_dice_result, process_results\n",
    "from utils.models import train_three_models, evaluation_test, save_three_models, load_three_models\n",
    "from utils.save import save_result_as_csv\n",
    "\n",
    "pd.options.mode.chained_assignment = None \n",
    "\n",
    "print('TF version: ', tf.__version__)\n",
    "print('Eager execution enabled: ', tf.executing_eagerly()) # False\n",
    "\n",
    "seed = 123\n",
    "tf.random.set_seed(seed)\n",
    "np.random.seed(seed)\n"
   ]
  },
  {
   "cell_type": "code",
   "execution_count": 2,
   "metadata": {},
   "outputs": [],
   "source": [
    "#### Select dataset ####'\n",
    "\n",
    "dataset_name = 'breast_cancer' # [adult, german, compas]\n",
    "\n",
    "if dataset_name == 'adult':\n",
    "    dataset_loading_fn = load_adult_df\n",
    "elif dataset_name == 'german':\n",
    "    dataset_loading_fn = load_german_df\n",
    "elif dataset_name == 'compas':\n",
    "    dataset_loading_fn = load_compas_df\n",
    "elif dataset_name == 'diabetes':\n",
    "    dataset_loading_fn = load_diabetes_df\n",
    "elif dataset_name == 'breast_cancer':\n",
    "    dataset_loading_fn = load_breast_cancer_df\n",
    "else:\n",
    "    raise Exception(\"Unsupported dataset\")"
   ]
  },
  {
   "cell_type": "code",
   "execution_count": 3,
   "metadata": {},
   "outputs": [],
   "source": [
    "#### Load datafram info.\n",
    "df_info = preprocess_df(dataset_loading_fn)"
   ]
  },
  {
   "cell_type": "code",
   "execution_count": 4,
   "metadata": {},
   "outputs": [],
   "source": [
    "### Seperate to train and test set.\n",
    "train_df, test_df = train_test_split(df_info.dummy_df, train_size=.8, random_state=seed, shuffle=True)"
   ]
  },
  {
   "cell_type": "code",
   "execution_count": 5,
   "metadata": {},
   "outputs": [
    {
     "data": {
      "text/html": [
       "<div>\n",
       "<style scoped>\n",
       "    .dataframe tbody tr th:only-of-type {\n",
       "        vertical-align: middle;\n",
       "    }\n",
       "\n",
       "    .dataframe tbody tr th {\n",
       "        vertical-align: top;\n",
       "    }\n",
       "\n",
       "    .dataframe thead th {\n",
       "        text-align: right;\n",
       "    }\n",
       "</style>\n",
       "<table border=\"1\" class=\"dataframe\">\n",
       "  <thead>\n",
       "    <tr style=\"text-align: right;\">\n",
       "      <th></th>\n",
       "      <th>radius_mean</th>\n",
       "      <th>texture_mean</th>\n",
       "      <th>perimeter_mean</th>\n",
       "      <th>area_mean</th>\n",
       "      <th>smoothness_mean</th>\n",
       "      <th>compactness_mean</th>\n",
       "      <th>concavity_mean</th>\n",
       "      <th>concave points_mean</th>\n",
       "      <th>symmetry_mean</th>\n",
       "      <th>fractal_dimension_mean</th>\n",
       "      <th>...</th>\n",
       "      <th>texture_worst</th>\n",
       "      <th>perimeter_worst</th>\n",
       "      <th>area_worst</th>\n",
       "      <th>smoothness_worst</th>\n",
       "      <th>compactness_worst</th>\n",
       "      <th>concavity_worst</th>\n",
       "      <th>concave points_worst</th>\n",
       "      <th>symmetry_worst</th>\n",
       "      <th>fractal_dimension_worst</th>\n",
       "      <th>diagnosis</th>\n",
       "    </tr>\n",
       "  </thead>\n",
       "  <tbody>\n",
       "    <tr>\n",
       "      <th>333</th>\n",
       "      <td>0.202045</td>\n",
       "      <td>0.171458</td>\n",
       "      <td>0.190657</td>\n",
       "      <td>0.104560</td>\n",
       "      <td>0.274713</td>\n",
       "      <td>0.077296</td>\n",
       "      <td>0.002281</td>\n",
       "      <td>0.014617</td>\n",
       "      <td>0.360101</td>\n",
       "      <td>0.228517</td>\n",
       "      <td>...</td>\n",
       "      <td>0.267591</td>\n",
       "      <td>0.157727</td>\n",
       "      <td>0.075575</td>\n",
       "      <td>0.300007</td>\n",
       "      <td>0.068545</td>\n",
       "      <td>0.004407</td>\n",
       "      <td>0.057285</td>\n",
       "      <td>0.246403</td>\n",
       "      <td>0.125541</td>\n",
       "      <td>0</td>\n",
       "    </tr>\n",
       "    <tr>\n",
       "      <th>273</th>\n",
       "      <td>0.130673</td>\n",
       "      <td>0.201556</td>\n",
       "      <td>0.122383</td>\n",
       "      <td>0.062100</td>\n",
       "      <td>0.340706</td>\n",
       "      <td>0.084381</td>\n",
       "      <td>0.025843</td>\n",
       "      <td>0.069930</td>\n",
       "      <td>0.515657</td>\n",
       "      <td>0.277169</td>\n",
       "      <td>...</td>\n",
       "      <td>0.236141</td>\n",
       "      <td>0.088052</td>\n",
       "      <td>0.041781</td>\n",
       "      <td>0.498778</td>\n",
       "      <td>0.064431</td>\n",
       "      <td>0.032292</td>\n",
       "      <td>0.177285</td>\n",
       "      <td>0.251528</td>\n",
       "      <td>0.175193</td>\n",
       "      <td>0</td>\n",
       "    </tr>\n",
       "    <tr>\n",
       "      <th>201</th>\n",
       "      <td>0.499740</td>\n",
       "      <td>0.324992</td>\n",
       "      <td>0.492779</td>\n",
       "      <td>0.342778</td>\n",
       "      <td>0.334477</td>\n",
       "      <td>0.308018</td>\n",
       "      <td>0.242737</td>\n",
       "      <td>0.372167</td>\n",
       "      <td>0.225253</td>\n",
       "      <td>0.104254</td>\n",
       "      <td>...</td>\n",
       "      <td>0.368337</td>\n",
       "      <td>0.443697</td>\n",
       "      <td>0.258995</td>\n",
       "      <td>0.441986</td>\n",
       "      <td>0.305333</td>\n",
       "      <td>0.280192</td>\n",
       "      <td>0.666323</td>\n",
       "      <td>0.268677</td>\n",
       "      <td>0.154991</td>\n",
       "      <td>1</td>\n",
       "    </tr>\n",
       "    <tr>\n",
       "      <th>178</th>\n",
       "      <td>0.285342</td>\n",
       "      <td>0.423064</td>\n",
       "      <td>0.264114</td>\n",
       "      <td>0.162418</td>\n",
       "      <td>0.089194</td>\n",
       "      <td>0.000000</td>\n",
       "      <td>0.003737</td>\n",
       "      <td>0.009205</td>\n",
       "      <td>0.169192</td>\n",
       "      <td>0.050126</td>\n",
       "      <td>...</td>\n",
       "      <td>0.453092</td>\n",
       "      <td>0.188107</td>\n",
       "      <td>0.104109</td>\n",
       "      <td>0.066565</td>\n",
       "      <td>0.006821</td>\n",
       "      <td>0.006371</td>\n",
       "      <td>0.031818</td>\n",
       "      <td>0.143899</td>\n",
       "      <td>0.022235</td>\n",
       "      <td>0</td>\n",
       "    </tr>\n",
       "    <tr>\n",
       "      <th>85</th>\n",
       "      <td>0.543282</td>\n",
       "      <td>0.297937</td>\n",
       "      <td>0.534241</td>\n",
       "      <td>0.395122</td>\n",
       "      <td>0.416268</td>\n",
       "      <td>0.263542</td>\n",
       "      <td>0.312793</td>\n",
       "      <td>0.437127</td>\n",
       "      <td>0.541414</td>\n",
       "      <td>0.216091</td>\n",
       "      <td>...</td>\n",
       "      <td>0.417377</td>\n",
       "      <td>0.506948</td>\n",
       "      <td>0.348457</td>\n",
       "      <td>0.453213</td>\n",
       "      <td>0.176199</td>\n",
       "      <td>0.252157</td>\n",
       "      <td>0.564261</td>\n",
       "      <td>0.419870</td>\n",
       "      <td>0.201692</td>\n",
       "      <td>1</td>\n",
       "    </tr>\n",
       "    <tr>\n",
       "      <th>...</th>\n",
       "      <td>...</td>\n",
       "      <td>...</td>\n",
       "      <td>...</td>\n",
       "      <td>...</td>\n",
       "      <td>...</td>\n",
       "      <td>...</td>\n",
       "      <td>...</td>\n",
       "      <td>...</td>\n",
       "      <td>...</td>\n",
       "      <td>...</td>\n",
       "      <td>...</td>\n",
       "      <td>...</td>\n",
       "      <td>...</td>\n",
       "      <td>...</td>\n",
       "      <td>...</td>\n",
       "      <td>...</td>\n",
       "      <td>...</td>\n",
       "      <td>...</td>\n",
       "      <td>...</td>\n",
       "      <td>...</td>\n",
       "      <td>...</td>\n",
       "    </tr>\n",
       "    <tr>\n",
       "      <th>179</th>\n",
       "      <td>0.275877</td>\n",
       "      <td>0.113290</td>\n",
       "      <td>0.259139</td>\n",
       "      <td>0.154952</td>\n",
       "      <td>0.313803</td>\n",
       "      <td>0.056316</td>\n",
       "      <td>0.021539</td>\n",
       "      <td>0.066103</td>\n",
       "      <td>0.205051</td>\n",
       "      <td>0.239469</td>\n",
       "      <td>...</td>\n",
       "      <td>0.110075</td>\n",
       "      <td>0.180736</td>\n",
       "      <td>0.094745</td>\n",
       "      <td>0.297365</td>\n",
       "      <td>0.026351</td>\n",
       "      <td>0.022029</td>\n",
       "      <td>0.137113</td>\n",
       "      <td>0.042973</td>\n",
       "      <td>0.119048</td>\n",
       "      <td>0</td>\n",
       "    </tr>\n",
       "    <tr>\n",
       "      <th>192</th>\n",
       "      <td>0.129632</td>\n",
       "      <td>0.287792</td>\n",
       "      <td>0.117062</td>\n",
       "      <td>0.061336</td>\n",
       "      <td>0.152298</td>\n",
       "      <td>0.012453</td>\n",
       "      <td>0.000000</td>\n",
       "      <td>0.000000</td>\n",
       "      <td>0.299495</td>\n",
       "      <td>0.305602</td>\n",
       "      <td>...</td>\n",
       "      <td>0.234808</td>\n",
       "      <td>0.058967</td>\n",
       "      <td>0.029149</td>\n",
       "      <td>0.000000</td>\n",
       "      <td>0.000000</td>\n",
       "      <td>0.000000</td>\n",
       "      <td>0.000000</td>\n",
       "      <td>0.067810</td>\n",
       "      <td>0.069198</td>\n",
       "      <td>0</td>\n",
       "    </tr>\n",
       "    <tr>\n",
       "      <th>246</th>\n",
       "      <td>0.294335</td>\n",
       "      <td>0.261075</td>\n",
       "      <td>0.278764</td>\n",
       "      <td>0.168865</td>\n",
       "      <td>0.176221</td>\n",
       "      <td>0.079320</td>\n",
       "      <td>0.101593</td>\n",
       "      <td>0.054920</td>\n",
       "      <td>0.215657</td>\n",
       "      <td>0.134583</td>\n",
       "      <td>...</td>\n",
       "      <td>0.421109</td>\n",
       "      <td>0.188605</td>\n",
       "      <td>0.102438</td>\n",
       "      <td>0.257082</td>\n",
       "      <td>0.119830</td>\n",
       "      <td>0.183546</td>\n",
       "      <td>0.170790</td>\n",
       "      <td>0.236941</td>\n",
       "      <td>0.111111</td>\n",
       "      <td>0</td>\n",
       "    </tr>\n",
       "    <tr>\n",
       "      <th>211</th>\n",
       "      <td>0.229968</td>\n",
       "      <td>0.312141</td>\n",
       "      <td>0.219197</td>\n",
       "      <td>0.120679</td>\n",
       "      <td>0.325720</td>\n",
       "      <td>0.152199</td>\n",
       "      <td>0.062535</td>\n",
       "      <td>0.069235</td>\n",
       "      <td>0.238889</td>\n",
       "      <td>0.223463</td>\n",
       "      <td>...</td>\n",
       "      <td>0.345682</td>\n",
       "      <td>0.173365</td>\n",
       "      <td>0.088749</td>\n",
       "      <td>0.375289</td>\n",
       "      <td>0.155922</td>\n",
       "      <td>0.117492</td>\n",
       "      <td>0.237560</td>\n",
       "      <td>0.191208</td>\n",
       "      <td>0.163256</td>\n",
       "      <td>0</td>\n",
       "    </tr>\n",
       "    <tr>\n",
       "      <th>72</th>\n",
       "      <td>0.483648</td>\n",
       "      <td>0.500845</td>\n",
       "      <td>0.486559</td>\n",
       "      <td>0.333362</td>\n",
       "      <td>0.491740</td>\n",
       "      <td>0.501871</td>\n",
       "      <td>0.396439</td>\n",
       "      <td>0.394831</td>\n",
       "      <td>0.437879</td>\n",
       "      <td>0.314027</td>\n",
       "      <td>...</td>\n",
       "      <td>0.581023</td>\n",
       "      <td>0.503959</td>\n",
       "      <td>0.367627</td>\n",
       "      <td>0.576702</td>\n",
       "      <td>0.690893</td>\n",
       "      <td>0.524441</td>\n",
       "      <td>0.652577</td>\n",
       "      <td>0.344569</td>\n",
       "      <td>0.517250</td>\n",
       "      <td>1</td>\n",
       "    </tr>\n",
       "  </tbody>\n",
       "</table>\n",
       "<p>114 rows × 31 columns</p>\n",
       "</div>"
      ],
      "text/plain": [
       "     radius_mean  texture_mean  perimeter_mean  area_mean  smoothness_mean  \\\n",
       "333     0.202045      0.171458        0.190657   0.104560         0.274713   \n",
       "273     0.130673      0.201556        0.122383   0.062100         0.340706   \n",
       "201     0.499740      0.324992        0.492779   0.342778         0.334477   \n",
       "178     0.285342      0.423064        0.264114   0.162418         0.089194   \n",
       "85      0.543282      0.297937        0.534241   0.395122         0.416268   \n",
       "..           ...           ...             ...        ...              ...   \n",
       "179     0.275877      0.113290        0.259139   0.154952         0.313803   \n",
       "192     0.129632      0.287792        0.117062   0.061336         0.152298   \n",
       "246     0.294335      0.261075        0.278764   0.168865         0.176221   \n",
       "211     0.229968      0.312141        0.219197   0.120679         0.325720   \n",
       "72      0.483648      0.500845        0.486559   0.333362         0.491740   \n",
       "\n",
       "     compactness_mean  concavity_mean  concave points_mean  symmetry_mean  \\\n",
       "333          0.077296        0.002281             0.014617       0.360101   \n",
       "273          0.084381        0.025843             0.069930       0.515657   \n",
       "201          0.308018        0.242737             0.372167       0.225253   \n",
       "178          0.000000        0.003737             0.009205       0.169192   \n",
       "85           0.263542        0.312793             0.437127       0.541414   \n",
       "..                ...             ...                  ...            ...   \n",
       "179          0.056316        0.021539             0.066103       0.205051   \n",
       "192          0.012453        0.000000             0.000000       0.299495   \n",
       "246          0.079320        0.101593             0.054920       0.215657   \n",
       "211          0.152199        0.062535             0.069235       0.238889   \n",
       "72           0.501871        0.396439             0.394831       0.437879   \n",
       "\n",
       "     fractal_dimension_mean  ...  texture_worst  perimeter_worst  area_worst  \\\n",
       "333                0.228517  ...       0.267591         0.157727    0.075575   \n",
       "273                0.277169  ...       0.236141         0.088052    0.041781   \n",
       "201                0.104254  ...       0.368337         0.443697    0.258995   \n",
       "178                0.050126  ...       0.453092         0.188107    0.104109   \n",
       "85                 0.216091  ...       0.417377         0.506948    0.348457   \n",
       "..                      ...  ...            ...              ...         ...   \n",
       "179                0.239469  ...       0.110075         0.180736    0.094745   \n",
       "192                0.305602  ...       0.234808         0.058967    0.029149   \n",
       "246                0.134583  ...       0.421109         0.188605    0.102438   \n",
       "211                0.223463  ...       0.345682         0.173365    0.088749   \n",
       "72                 0.314027  ...       0.581023         0.503959    0.367627   \n",
       "\n",
       "     smoothness_worst  compactness_worst  concavity_worst  \\\n",
       "333          0.300007           0.068545         0.004407   \n",
       "273          0.498778           0.064431         0.032292   \n",
       "201          0.441986           0.305333         0.280192   \n",
       "178          0.066565           0.006821         0.006371   \n",
       "85           0.453213           0.176199         0.252157   \n",
       "..                ...                ...              ...   \n",
       "179          0.297365           0.026351         0.022029   \n",
       "192          0.000000           0.000000         0.000000   \n",
       "246          0.257082           0.119830         0.183546   \n",
       "211          0.375289           0.155922         0.117492   \n",
       "72           0.576702           0.690893         0.524441   \n",
       "\n",
       "     concave points_worst  symmetry_worst  fractal_dimension_worst  diagnosis  \n",
       "333              0.057285        0.246403                 0.125541          0  \n",
       "273              0.177285        0.251528                 0.175193          0  \n",
       "201              0.666323        0.268677                 0.154991          1  \n",
       "178              0.031818        0.143899                 0.022235          0  \n",
       "85               0.564261        0.419870                 0.201692          1  \n",
       "..                    ...             ...                      ...        ...  \n",
       "179              0.137113        0.042973                 0.119048          0  \n",
       "192              0.000000        0.067810                 0.069198          0  \n",
       "246              0.170790        0.236941                 0.111111          0  \n",
       "211              0.237560        0.191208                 0.163256          0  \n",
       "72               0.652577        0.344569                 0.517250          1  \n",
       "\n",
       "[114 rows x 31 columns]"
      ]
     },
     "execution_count": 5,
     "metadata": {},
     "output_type": "execute_result"
    }
   ],
   "source": [
    "test_df"
   ]
  },
  {
   "cell_type": "code",
   "execution_count": 6,
   "metadata": {},
   "outputs": [],
   "source": [
    "### Get training and testing array.\n",
    "X_train = np.array(train_df[df_info.ohe_feature_names])\n",
    "y_train = np.array(train_df[df_info.target_name])\n",
    "X_test = np.array(test_df[df_info.ohe_feature_names])\n",
    "y_test = np.array(test_df[df_info.target_name])"
   ]
  },
  {
   "cell_type": "code",
   "execution_count": 7,
   "metadata": {},
   "outputs": [],
   "source": [
    "### Train models.\n",
    "# models = train_three_models(X_train, y_train)\n",
    "\n",
    "### Save models.\n",
    "# save_three_models(models, dataset_name)"
   ]
  },
  {
   "cell_type": "code",
   "execution_count": 8,
   "metadata": {},
   "outputs": [
    {
     "name": "stdout",
     "output_type": "stream",
     "text": [
      "WARNING:tensorflow:Sequential models without an `input_shape` passed to the first layer cannot reload their optimizer state. As a result, your model isstarting with a freshly initialized optimizer.\n"
     ]
    },
    {
     "name": "stderr",
     "output_type": "stream",
     "text": [
      "2022-07-20 22:48:05.521745: I tensorflow/core/platform/cpu_feature_guard.cc:145] This TensorFlow binary is optimized with Intel(R) MKL-DNN to use the following CPU instructions in performance critical operations:  SSE4.1 SSE4.2\n",
      "To enable them in non-MKL-DNN operations, rebuild TensorFlow with the appropriate compiler flags.\n",
      "2022-07-20 22:48:05.522177: I tensorflow/core/common_runtime/process_util.cc:115] Creating new thread pool with default inter op setting: 8. Tune using inter_op_parallelism_threads for best performance.\n"
     ]
    }
   ],
   "source": [
    "### Load models.\n",
    "models = load_three_models(X_train.shape[-1], dataset_name)"
   ]
  },
  {
   "cell_type": "code",
   "execution_count": 9,
   "metadata": {},
   "outputs": [
    {
     "name": "stdout",
     "output_type": "stream",
     "text": [
      "DT: [0.9649] | RF [0.9912] | NN [0.9737]\n"
     ]
    }
   ],
   "source": [
    "### Print out accuracy on testset.\n",
    "evaluation_test(models, X_test, y_test)"
   ]
  },
  {
   "cell_type": "markdown",
   "metadata": {},
   "source": [
    "# DiCE"
   ]
  },
  {
   "cell_type": "code",
   "execution_count": 10,
   "metadata": {},
   "outputs": [],
   "source": [
    "### Setting up the CF generating amount.\n",
    "num_instances = 20\n",
    "num_cf_per_instance = 1"
   ]
  },
  {
   "cell_type": "code",
   "execution_count": 11,
   "metadata": {},
   "outputs": [],
   "source": [
    "import dice_ml"
   ]
  },
  {
   "cell_type": "code",
   "execution_count": 12,
   "metadata": {},
   "outputs": [],
   "source": [
    "from utils.dice import Recorder"
   ]
  },
  {
   "cell_type": "code",
   "execution_count": 13,
   "metadata": {},
   "outputs": [
    {
     "name": "stdout",
     "output_type": "stream",
     "text": [
      "Finding counterfactual for nn\n",
      "instance 0\n",
      "CF 0\n",
      "Before generating cf\n",
      "Ground Truth is N\n"
     ]
    },
    {
     "name": "stderr",
     "output_type": "stream",
     "text": [
      "  0%|          | 0/1 [00:00<?, ?it/s]"
     ]
    },
    {
     "name": "stdout",
     "output_type": "stream",
     "text": [
      "Counterfactaul generating initial phase in the 3rd package lib.\n",
      "WARNING:tensorflow:Layer sequential is casting an input tensor from dtype float64 to the layer's dtype of float32, which is new behavior in TensorFlow 2.  The layer has dtype float32 because it's dtype defaults to floatx.\n",
      "\n",
      "If you intended to run this layer in float32, you can safely ignore this warning. If in doubt, this warning is likely only an issue if you are porting a TensorFlow 1.X model to TensorFlow 2.\n",
      "\n",
      "To change all layers to have dtype float64 by default, call `tf.keras.backend.set_floatx('float64')`. To change just this layer, pass dtype='float64' to the layer constructor. If you are the author of this layer, you can disable autocasting by passing autocast=False to the base Layer constructor.\n",
      "\n",
      "cp1\n",
      "cp2\n",
      "cp3\n",
      "cp4\n",
      "cp5\n",
      "cp5.1\n",
      "cp5.2\n",
      "cp5.3\n",
      "cp5.4\n",
      "cp5.5\n",
      "cp5.6\n",
      "cp5 - sparsity true\n"
     ]
    },
    {
     "name": "stderr",
     "output_type": "stream",
     "text": [
      "100%|██████████| 1/1 [00:00<00:00,  1.63it/s]\n"
     ]
    },
    {
     "name": "stdout",
     "output_type": "stream",
     "text": [
      "cp6\n",
      "Diverse Counterfactuals found! total time taken: 00 min 00 sec\n",
      "cp7\n",
      "After generating cf\n",
      "instance 1\n",
      "CF 0\n",
      "Before generating cf\n",
      "Ground Truth is N\n"
     ]
    },
    {
     "name": "stderr",
     "output_type": "stream",
     "text": [
      "100%|██████████| 1/1 [00:00<00:00,  8.48it/s]\n"
     ]
    },
    {
     "name": "stdout",
     "output_type": "stream",
     "text": [
      "Counterfactaul generating initial phase in the 3rd package lib.\n",
      "cp1\n",
      "cp2\n",
      "cp3\n",
      "cp4\n",
      "cp5\n",
      "cp5.1\n",
      "cp5.2\n",
      "cp5.3\n",
      "cp5.4\n",
      "cp5.5\n",
      "cp5.6\n",
      "cp5 - sparsity true\n",
      "cp6\n",
      "Diverse Counterfactuals found! total time taken: 00 min 00 sec\n",
      "cp7\n",
      "After generating cf\n",
      "instance 2\n",
      "CF 0\n",
      "Before generating cf\n",
      "Ground Truth is Y\n"
     ]
    },
    {
     "name": "stderr",
     "output_type": "stream",
     "text": [
      "  0%|          | 0/1 [00:00<?, ?it/s]"
     ]
    },
    {
     "name": "stdout",
     "output_type": "stream",
     "text": [
      "Counterfactaul generating initial phase in the 3rd package lib.\n",
      "cp1\n",
      "cp2\n",
      "cp3\n",
      "cp4\n",
      "cp5\n",
      "cp5.1\n",
      "cp5.2\n",
      "cp5.3\n",
      "cp5.4\n",
      "cp5.5\n",
      "cp5.6\n",
      "cp5 - sparsity true\n"
     ]
    },
    {
     "name": "stderr",
     "output_type": "stream",
     "text": [
      "100%|██████████| 1/1 [00:00<00:00,  8.64it/s]\n"
     ]
    },
    {
     "name": "stdout",
     "output_type": "stream",
     "text": [
      "cp6\n",
      "Diverse Counterfactuals found! total time taken: 00 min 00 sec\n",
      "cp7\n",
      "After generating cf\n",
      "instance 3\n",
      "CF 0\n",
      "Before generating cf\n",
      "Ground Truth is N\n"
     ]
    },
    {
     "name": "stderr",
     "output_type": "stream",
     "text": [
      "  0%|          | 0/1 [00:00<?, ?it/s]"
     ]
    },
    {
     "name": "stdout",
     "output_type": "stream",
     "text": [
      "Counterfactaul generating initial phase in the 3rd package lib.\n",
      "cp1\n",
      "cp2\n",
      "cp3\n",
      "cp4\n",
      "cp5\n",
      "cp5.1\n",
      "cp5.2\n",
      "cp5.3\n",
      "cp5.4\n",
      "cp5.5\n",
      "cp5.6\n",
      "cp5 - sparsity true\n"
     ]
    },
    {
     "name": "stderr",
     "output_type": "stream",
     "text": [
      "  0%|          | 0/1 [00:54<?, ?it/s]\n"
     ]
    },
    {
     "ename": "KeyboardInterrupt",
     "evalue": "",
     "output_type": "error",
     "traceback": [
      "\u001b[0;31m---------------------------------------------------------------------------\u001b[0m",
      "\u001b[0;31mKeyboardInterrupt\u001b[0m                         Traceback (most recent call last)",
      "\u001b[0;32m/var/folders/cj/76jxqn71757384mssvb297jw0000gn/T/ipykernel_15124/221715573.py\u001b[0m in \u001b[0;36m<module>\u001b[0;34m\u001b[0m\n\u001b[1;32m      7\u001b[0m     \u001b[0mnum_cf_per_instance\u001b[0m\u001b[0;34m,\u001b[0m\u001b[0;34m\u001b[0m\u001b[0;34m\u001b[0m\u001b[0m\n\u001b[1;32m      8\u001b[0m     \u001b[0msample_size\u001b[0m\u001b[0;34m=\u001b[0m\u001b[0;36m50\u001b[0m\u001b[0;34m,\u001b[0m\u001b[0;34m\u001b[0m\u001b[0;34m\u001b[0m\u001b[0m\n\u001b[0;32m----> 9\u001b[0;31m     \u001b[0mmodels_to_run\u001b[0m\u001b[0;34m=\u001b[0m\u001b[0;34m[\u001b[0m\u001b[0;34m'nn'\u001b[0m\u001b[0;34m]\u001b[0m\u001b[0;34m\u001b[0m\u001b[0;34m\u001b[0m\u001b[0m\n\u001b[0m\u001b[1;32m     10\u001b[0m )\n\u001b[1;32m     11\u001b[0m \u001b[0;34m\u001b[0m\u001b[0m\n",
      "\u001b[0;32m~/Documents/GitHub/Counterfactual-benchmark/utils/dice.py\u001b[0m in \u001b[0;36mgenerate_dice_result\u001b[0;34m(df_info, test_df, models, num_instances, num_cf_per_instance, sample_size, test_start_idx, models_to_run)\u001b[0m\n\u001b[1;32m    167\u001b[0m \u001b[0;34m\u001b[0m\u001b[0m\n\u001b[1;32m    168\u001b[0m                 exp = dice_cfs[k].generate_counterfactuals(\n\u001b[0;32m--> 169\u001b[0;31m                     input_query[df_info.feature_names], total_CFs=2, sample_size=sample_size, desired_class=\"opposite\", verbose=True)\n\u001b[0m\u001b[1;32m    170\u001b[0m \u001b[0;34m\u001b[0m\u001b[0m\n\u001b[1;32m    171\u001b[0m \u001b[0;34m\u001b[0m\u001b[0m\n",
      "\u001b[0;32m~/opt/anaconda3/envs/cf_2022_final/lib/python3.7/site-packages/dice_ml/explainer_interfaces/explainer_base.py\u001b[0m in \u001b[0;36mgenerate_counterfactuals\u001b[0;34m(self, query_instances, total_CFs, desired_class, desired_range, permitted_range, features_to_vary, stopping_threshold, posthoc_sparsity_param, posthoc_sparsity_algorithm, verbose, **kwargs)\u001b[0m\n\u001b[1;32m    100\u001b[0m                 \u001b[0mposthoc_sparsity_algorithm\u001b[0m\u001b[0;34m=\u001b[0m\u001b[0mposthoc_sparsity_algorithm\u001b[0m\u001b[0;34m,\u001b[0m\u001b[0;34m\u001b[0m\u001b[0;34m\u001b[0m\u001b[0m\n\u001b[1;32m    101\u001b[0m                 \u001b[0mverbose\u001b[0m\u001b[0;34m=\u001b[0m\u001b[0mverbose\u001b[0m\u001b[0;34m,\u001b[0m\u001b[0;34m\u001b[0m\u001b[0;34m\u001b[0m\u001b[0m\n\u001b[0;32m--> 102\u001b[0;31m                 **kwargs)\n\u001b[0m\u001b[1;32m    103\u001b[0m             \u001b[0mcf_examples_arr\u001b[0m\u001b[0;34m.\u001b[0m\u001b[0mappend\u001b[0m\u001b[0;34m(\u001b[0m\u001b[0mres\u001b[0m\u001b[0;34m)\u001b[0m\u001b[0;34m\u001b[0m\u001b[0;34m\u001b[0m\u001b[0m\n\u001b[1;32m    104\u001b[0m         \u001b[0;32mreturn\u001b[0m \u001b[0mCounterfactualExplanations\u001b[0m\u001b[0;34m(\u001b[0m\u001b[0mcf_examples_list\u001b[0m\u001b[0;34m=\u001b[0m\u001b[0mcf_examples_arr\u001b[0m\u001b[0;34m)\u001b[0m\u001b[0;34m\u001b[0m\u001b[0;34m\u001b[0m\u001b[0m\n",
      "\u001b[0;32m~/opt/anaconda3/envs/cf_2022_final/lib/python3.7/site-packages/dice_ml/explainer_interfaces/dice_random.py\u001b[0m in \u001b[0;36m_generate_counterfactuals\u001b[0;34m(self, query_instance, total_CFs, desired_range, desired_class, permitted_range, features_to_vary, stopping_threshold, posthoc_sparsity_param, posthoc_sparsity_algorithm, sample_size, random_seed, verbose)\u001b[0m\n\u001b[1;32m    197\u001b[0m             \u001b[0mfinal_cfs_df_sparse\u001b[0m \u001b[0;34m=\u001b[0m \u001b[0mfinal_cfs_df\u001b[0m\u001b[0;34m.\u001b[0m\u001b[0mcopy\u001b[0m\u001b[0;34m(\u001b[0m\u001b[0;34m)\u001b[0m\u001b[0;34m\u001b[0m\u001b[0;34m\u001b[0m\u001b[0m\n\u001b[1;32m    198\u001b[0m             final_cfs_df_sparse = self.do_posthoc_sparsity_enhancement(\n\u001b[0;32m--> 199\u001b[0;31m                 final_cfs_df_sparse, test_instance_df, posthoc_sparsity_param, posthoc_sparsity_algorithm)\n\u001b[0m\u001b[1;32m    200\u001b[0m         \u001b[0;32melse\u001b[0m\u001b[0;34m:\u001b[0m\u001b[0;34m\u001b[0m\u001b[0;34m\u001b[0m\u001b[0m\n\u001b[1;32m    201\u001b[0m             \u001b[0mprint\u001b[0m\u001b[0;34m(\u001b[0m\u001b[0;34m\"cp5 - sparsity false\"\u001b[0m\u001b[0;34m)\u001b[0m\u001b[0;34m\u001b[0m\u001b[0;34m\u001b[0m\u001b[0m\n",
      "\u001b[0;32m~/opt/anaconda3/envs/cf_2022_final/lib/python3.7/site-packages/dice_ml/explainer_interfaces/explainer_base.py\u001b[0m in \u001b[0;36mdo_posthoc_sparsity_enhancement\u001b[0;34m(self, final_cfs_sparse, query_instance, posthoc_sparsity_param, posthoc_sparsity_algorithm)\u001b[0m\n\u001b[1;32m    422\u001b[0m                     \u001b[0;32mif\u001b[0m \u001b[0mposthoc_sparsity_algorithm\u001b[0m \u001b[0;34m==\u001b[0m \u001b[0;34m\"linear\"\u001b[0m\u001b[0;34m:\u001b[0m\u001b[0;34m\u001b[0m\u001b[0;34m\u001b[0m\u001b[0m\n\u001b[1;32m    423\u001b[0m                         final_cfs_sparse = self.do_linear_search(diff, decimal_prec, query_instance, cf_ix,\n\u001b[0;32m--> 424\u001b[0;31m                                                                  feature, final_cfs_sparse, current_pred)\n\u001b[0m\u001b[1;32m    425\u001b[0m \u001b[0;34m\u001b[0m\u001b[0m\n\u001b[1;32m    426\u001b[0m                     \u001b[0;32melif\u001b[0m \u001b[0mposthoc_sparsity_algorithm\u001b[0m \u001b[0;34m==\u001b[0m \u001b[0;34m\"binary\"\u001b[0m\u001b[0;34m:\u001b[0m\u001b[0;34m\u001b[0m\u001b[0;34m\u001b[0m\u001b[0m\n",
      "\u001b[0;32m~/opt/anaconda3/envs/cf_2022_final/lib/python3.7/site-packages/dice_ml/explainer_interfaces/explainer_base.py\u001b[0m in \u001b[0;36mdo_linear_search\u001b[0;34m(self, diff, decimal_prec, query_instance, cf_ix, feature, final_cfs_sparse, current_pred_orig)\u001b[0m\n\u001b[1;32m    454\u001b[0m                     \u001b[0;32mreturn\u001b[0m \u001b[0mfinal_cfs_sparse\u001b[0m\u001b[0;34m\u001b[0m\u001b[0;34m\u001b[0m\u001b[0m\n\u001b[1;32m    455\u001b[0m \u001b[0;34m\u001b[0m\u001b[0m\n\u001b[0;32m--> 456\u001b[0;31m                 \u001b[0mdiff\u001b[0m \u001b[0;34m=\u001b[0m \u001b[0mquery_instance\u001b[0m\u001b[0;34m[\u001b[0m\u001b[0mfeature\u001b[0m\u001b[0;34m]\u001b[0m\u001b[0;34m.\u001b[0m\u001b[0miat\u001b[0m\u001b[0;34m[\u001b[0m\u001b[0;36m0\u001b[0m\u001b[0;34m]\u001b[0m \u001b[0;34m-\u001b[0m \u001b[0mint\u001b[0m\u001b[0;34m(\u001b[0m\u001b[0mfinal_cfs_sparse\u001b[0m\u001b[0;34m.\u001b[0m\u001b[0mat\u001b[0m\u001b[0;34m[\u001b[0m\u001b[0mcf_ix\u001b[0m\u001b[0;34m,\u001b[0m \u001b[0mfeature\u001b[0m\u001b[0;34m]\u001b[0m\u001b[0;34m)\u001b[0m\u001b[0;34m\u001b[0m\u001b[0;34m\u001b[0m\u001b[0m\n\u001b[0m\u001b[1;32m    457\u001b[0m \u001b[0;34m\u001b[0m\u001b[0m\n\u001b[1;32m    458\u001b[0m         \u001b[0;32mreturn\u001b[0m \u001b[0mfinal_cfs_sparse\u001b[0m\u001b[0;34m\u001b[0m\u001b[0;34m\u001b[0m\u001b[0m\n",
      "\u001b[0;32m~/opt/anaconda3/envs/cf_2022_final/lib/python3.7/site-packages/pandas/core/frame.py\u001b[0m in \u001b[0;36m__getitem__\u001b[0;34m(self, key)\u001b[0m\n\u001b[1;32m   3422\u001b[0m         \u001b[0;32mif\u001b[0m \u001b[0mis_hashable\u001b[0m\u001b[0;34m(\u001b[0m\u001b[0mkey\u001b[0m\u001b[0;34m)\u001b[0m\u001b[0;34m:\u001b[0m\u001b[0;34m\u001b[0m\u001b[0;34m\u001b[0m\u001b[0m\n\u001b[1;32m   3423\u001b[0m             \u001b[0;31m# shortcut if the key is in columns\u001b[0m\u001b[0;34m\u001b[0m\u001b[0;34m\u001b[0m\u001b[0;34m\u001b[0m\u001b[0m\n\u001b[0;32m-> 3424\u001b[0;31m             \u001b[0;32mif\u001b[0m \u001b[0mself\u001b[0m\u001b[0;34m.\u001b[0m\u001b[0mcolumns\u001b[0m\u001b[0;34m.\u001b[0m\u001b[0mis_unique\u001b[0m \u001b[0;32mand\u001b[0m \u001b[0mkey\u001b[0m \u001b[0;32min\u001b[0m \u001b[0mself\u001b[0m\u001b[0;34m.\u001b[0m\u001b[0mcolumns\u001b[0m\u001b[0;34m:\u001b[0m\u001b[0;34m\u001b[0m\u001b[0;34m\u001b[0m\u001b[0m\n\u001b[0m\u001b[1;32m   3425\u001b[0m                 \u001b[0;32mif\u001b[0m \u001b[0misinstance\u001b[0m\u001b[0;34m(\u001b[0m\u001b[0mself\u001b[0m\u001b[0;34m.\u001b[0m\u001b[0mcolumns\u001b[0m\u001b[0;34m,\u001b[0m \u001b[0mMultiIndex\u001b[0m\u001b[0;34m)\u001b[0m\u001b[0;34m:\u001b[0m\u001b[0;34m\u001b[0m\u001b[0;34m\u001b[0m\u001b[0m\n\u001b[1;32m   3426\u001b[0m                     \u001b[0;32mreturn\u001b[0m \u001b[0mself\u001b[0m\u001b[0;34m.\u001b[0m\u001b[0m_getitem_multilevel\u001b[0m\u001b[0;34m(\u001b[0m\u001b[0mkey\u001b[0m\u001b[0;34m)\u001b[0m\u001b[0;34m\u001b[0m\u001b[0;34m\u001b[0m\u001b[0m\n",
      "\u001b[0;32m~/opt/anaconda3/envs/cf_2022_final/lib/python3.7/site-packages/pandas/core/indexes/base.py\u001b[0m in \u001b[0;36m__contains__\u001b[0;34m(self, key)\u001b[0m\n\u001b[1;32m   4572\u001b[0m         \u001b[0mhash\u001b[0m\u001b[0;34m(\u001b[0m\u001b[0mkey\u001b[0m\u001b[0;34m)\u001b[0m\u001b[0;34m\u001b[0m\u001b[0;34m\u001b[0m\u001b[0m\n\u001b[1;32m   4573\u001b[0m         \u001b[0;32mtry\u001b[0m\u001b[0;34m:\u001b[0m\u001b[0;34m\u001b[0m\u001b[0;34m\u001b[0m\u001b[0m\n\u001b[0;32m-> 4574\u001b[0;31m             \u001b[0;32mreturn\u001b[0m \u001b[0mkey\u001b[0m \u001b[0;32min\u001b[0m \u001b[0mself\u001b[0m\u001b[0;34m.\u001b[0m\u001b[0m_engine\u001b[0m\u001b[0;34m\u001b[0m\u001b[0;34m\u001b[0m\u001b[0m\n\u001b[0m\u001b[1;32m   4575\u001b[0m         \u001b[0;32mexcept\u001b[0m \u001b[0;34m(\u001b[0m\u001b[0mOverflowError\u001b[0m\u001b[0;34m,\u001b[0m \u001b[0mTypeError\u001b[0m\u001b[0;34m,\u001b[0m \u001b[0mValueError\u001b[0m\u001b[0;34m)\u001b[0m\u001b[0;34m:\u001b[0m\u001b[0;34m\u001b[0m\u001b[0;34m\u001b[0m\u001b[0m\n\u001b[1;32m   4576\u001b[0m             \u001b[0;32mreturn\u001b[0m \u001b[0;32mFalse\u001b[0m\u001b[0;34m\u001b[0m\u001b[0;34m\u001b[0m\u001b[0m\n",
      "\u001b[0;31mKeyboardInterrupt\u001b[0m: "
     ]
    }
   ],
   "source": [
    "# Generate CF\n",
    "results = generate_dice_result(\n",
    "    df_info,\n",
    "    test_df,\n",
    "    models,\n",
    "    num_instances,\n",
    "    num_cf_per_instance,\n",
    "    sample_size=50,\n",
    "    models_to_run=['nn']\n",
    ")\n",
    "\n",
    "## 1.  diabetes - freeze at 4th instance.\n",
    "## 2.  breast cancer - freeze at 3rd instance.\n",
    "\n",
    "result_dfs = process_results(df_info, results)\n"
   ]
  },
  {
   "cell_type": "code",
   "execution_count": 14,
   "metadata": {},
   "outputs": [],
   "source": [
    "dice_cfs = Recorder.dice_cfs\n",
    "input_query = Recorder.input_query\n",
    "sample_size = 50\n",
    "k=\"nn\""
   ]
  },
  {
   "cell_type": "code",
   "execution_count": 15,
   "metadata": {},
   "outputs": [
    {
     "data": {
      "text/plain": [
       "Index(['diagnosis', 'radius_mean', 'texture_mean', 'perimeter_mean',\n",
       "       'area_mean', 'smoothness_mean', 'compactness_mean', 'concavity_mean',\n",
       "       'concave points_mean', 'symmetry_mean', 'fractal_dimension_mean',\n",
       "       'radius_se', 'texture_se', 'perimeter_se', 'area_se', 'smoothness_se',\n",
       "       'compactness_se', 'concavity_se', 'concave points_se', 'symmetry_se',\n",
       "       'fractal_dimension_se', 'radius_worst', 'texture_worst',\n",
       "       'perimeter_worst', 'area_worst', 'smoothness_worst',\n",
       "       'compactness_worst', 'concavity_worst', 'concave points_worst',\n",
       "       'symmetry_worst', 'fractal_dimension_worst'],\n",
       "      dtype='object')"
      ]
     },
     "execution_count": 15,
     "metadata": {},
     "output_type": "execute_result"
    }
   ],
   "source": [
    "input_query.columns"
   ]
  },
  {
   "cell_type": "code",
   "execution_count": 17,
   "metadata": {},
   "outputs": [
    {
     "data": {
      "text/html": [
       "<div>\n",
       "<style scoped>\n",
       "    .dataframe tbody tr th:only-of-type {\n",
       "        vertical-align: middle;\n",
       "    }\n",
       "\n",
       "    .dataframe tbody tr th {\n",
       "        vertical-align: top;\n",
       "    }\n",
       "\n",
       "    .dataframe thead th {\n",
       "        text-align: right;\n",
       "    }\n",
       "</style>\n",
       "<table border=\"1\" class=\"dataframe\">\n",
       "  <thead>\n",
       "    <tr style=\"text-align: right;\">\n",
       "      <th></th>\n",
       "      <th>radius_mean</th>\n",
       "      <th>texture_mean</th>\n",
       "      <th>perimeter_mean</th>\n",
       "      <th>area_mean</th>\n",
       "      <th>smoothness_mean</th>\n",
       "      <th>compactness_mean</th>\n",
       "      <th>concavity_mean</th>\n",
       "      <th>concave points_mean</th>\n",
       "      <th>symmetry_mean</th>\n",
       "      <th>fractal_dimension_mean</th>\n",
       "      <th>...</th>\n",
       "      <th>radius_worst</th>\n",
       "      <th>texture_worst</th>\n",
       "      <th>perimeter_worst</th>\n",
       "      <th>area_worst</th>\n",
       "      <th>smoothness_worst</th>\n",
       "      <th>compactness_worst</th>\n",
       "      <th>concavity_worst</th>\n",
       "      <th>concave points_worst</th>\n",
       "      <th>symmetry_worst</th>\n",
       "      <th>fractal_dimension_worst</th>\n",
       "    </tr>\n",
       "  </thead>\n",
       "  <tbody>\n",
       "    <tr>\n",
       "      <th>0</th>\n",
       "      <td>0.285342</td>\n",
       "      <td>0.423064</td>\n",
       "      <td>0.264114</td>\n",
       "      <td>0.162418</td>\n",
       "      <td>0.089194</td>\n",
       "      <td>0.0</td>\n",
       "      <td>0.003737</td>\n",
       "      <td>0.009205</td>\n",
       "      <td>0.169192</td>\n",
       "      <td>0.050126</td>\n",
       "      <td>...</td>\n",
       "      <td>0.215937</td>\n",
       "      <td>0.453092</td>\n",
       "      <td>0.188107</td>\n",
       "      <td>0.104109</td>\n",
       "      <td>0.066565</td>\n",
       "      <td>0.006821</td>\n",
       "      <td>0.006371</td>\n",
       "      <td>0.031818</td>\n",
       "      <td>0.143899</td>\n",
       "      <td>0.022235</td>\n",
       "    </tr>\n",
       "  </tbody>\n",
       "</table>\n",
       "<p>1 rows × 30 columns</p>\n",
       "</div>"
      ],
      "text/plain": [
       "   radius_mean  texture_mean  perimeter_mean  area_mean  smoothness_mean  \\\n",
       "0     0.285342      0.423064        0.264114   0.162418         0.089194   \n",
       "\n",
       "   compactness_mean  concavity_mean  concave points_mean  symmetry_mean  \\\n",
       "0               0.0        0.003737             0.009205       0.169192   \n",
       "\n",
       "   fractal_dimension_mean  ...  radius_worst  texture_worst  perimeter_worst  \\\n",
       "0                0.050126  ...      0.215937       0.453092         0.188107   \n",
       "\n",
       "   area_worst  smoothness_worst  compactness_worst  concavity_worst  \\\n",
       "0    0.104109          0.066565           0.006821         0.006371   \n",
       "\n",
       "   concave points_worst  symmetry_worst  fractal_dimension_worst  \n",
       "0              0.031818        0.143899                 0.022235  \n",
       "\n",
       "[1 rows x 30 columns]"
      ]
     },
     "execution_count": 17,
     "metadata": {},
     "output_type": "execute_result"
    }
   ],
   "source": [
    "# 2nd instance.\n",
    "input_query[df_info.feature_names]"
   ]
  },
  {
   "cell_type": "code",
   "execution_count": 27,
   "metadata": {},
   "outputs": [
    {
     "name": "stderr",
     "output_type": "stream",
     "text": [
      "100%|██████████| 1/1 [00:00<00:00,  9.33it/s]"
     ]
    },
    {
     "name": "stdout",
     "output_type": "stream",
     "text": [
      "Counterfactaul generating initial phase in the 3rd package lib.\n",
      "cp1\n",
      "cp2\n",
      "cp3\n",
      "cp4\n",
      "cp5\n",
      "cp5.1\n",
      "cp5.2\n",
      "cp5.3\n",
      "cp5.4\n",
      "cp5.5\n",
      "cp5.6\n",
      "cp5 - sparsity true\n",
      "cp6\n",
      "Diverse Counterfactuals found! total time taken: 00 min 00 sec\n",
      "cp7\n"
     ]
    },
    {
     "name": "stderr",
     "output_type": "stream",
     "text": [
      "\n"
     ]
    }
   ],
   "source": [
    "exp = dice_cfs[k].generate_counterfactuals(\n",
    "    input_query[df_info.feature_names], total_CFs=2, sample_size=sample_size, desired_class=\"opposite\", verbose=True, posthoc_sparsity_param=1e-2)"
   ]
  },
  {
   "cell_type": "code",
   "execution_count": null,
   "metadata": {},
   "outputs": [
    {
     "data": {
      "text/html": [
       "<div>\n",
       "<style scoped>\n",
       "    .dataframe tbody tr th:only-of-type {\n",
       "        vertical-align: middle;\n",
       "    }\n",
       "\n",
       "    .dataframe tbody tr th {\n",
       "        vertical-align: top;\n",
       "    }\n",
       "\n",
       "    .dataframe thead th {\n",
       "        text-align: right;\n",
       "    }\n",
       "</style>\n",
       "<table border=\"1\" class=\"dataframe\">\n",
       "  <thead>\n",
       "    <tr style=\"text-align: right;\">\n",
       "      <th></th>\n",
       "      <th>radius_mean</th>\n",
       "      <th>texture_mean</th>\n",
       "      <th>perimeter_mean</th>\n",
       "      <th>area_mean</th>\n",
       "      <th>smoothness_mean</th>\n",
       "      <th>compactness_mean</th>\n",
       "      <th>concavity_mean</th>\n",
       "      <th>concave points_mean</th>\n",
       "      <th>symmetry_mean</th>\n",
       "      <th>fractal_dimension_mean</th>\n",
       "      <th>...</th>\n",
       "      <th>texture_worst</th>\n",
       "      <th>perimeter_worst</th>\n",
       "      <th>area_worst</th>\n",
       "      <th>smoothness_worst</th>\n",
       "      <th>compactness_worst</th>\n",
       "      <th>concavity_worst</th>\n",
       "      <th>concave points_worst</th>\n",
       "      <th>symmetry_worst</th>\n",
       "      <th>fractal_dimension_worst</th>\n",
       "      <th>diagnosis</th>\n",
       "    </tr>\n",
       "  </thead>\n",
       "  <tbody>\n",
       "    <tr>\n",
       "      <th>0</th>\n",
       "      <td>0.727737</td>\n",
       "      <td>0.324992</td>\n",
       "      <td>0.492779</td>\n",
       "      <td>0.342778</td>\n",
       "      <td>0.334477</td>\n",
       "      <td>0.308018</td>\n",
       "      <td>0.242737</td>\n",
       "      <td>0.372167</td>\n",
       "      <td>0.225253</td>\n",
       "      <td>0.104254</td>\n",
       "      <td>...</td>\n",
       "      <td>0.359238</td>\n",
       "      <td>0.443697</td>\n",
       "      <td>0.258995</td>\n",
       "      <td>0.441986</td>\n",
       "      <td>0.305333</td>\n",
       "      <td>0.280192</td>\n",
       "      <td>0.666323</td>\n",
       "      <td>0.268677</td>\n",
       "      <td>0.154991</td>\n",
       "      <td>0</td>\n",
       "    </tr>\n",
       "    <tr>\n",
       "      <th>1</th>\n",
       "      <td>0.727737</td>\n",
       "      <td>0.324992</td>\n",
       "      <td>0.492779</td>\n",
       "      <td>0.342778</td>\n",
       "      <td>0.654119</td>\n",
       "      <td>0.308018</td>\n",
       "      <td>0.242737</td>\n",
       "      <td>0.372167</td>\n",
       "      <td>0.225253</td>\n",
       "      <td>0.104254</td>\n",
       "      <td>...</td>\n",
       "      <td>0.359238</td>\n",
       "      <td>0.443697</td>\n",
       "      <td>0.258995</td>\n",
       "      <td>0.441986</td>\n",
       "      <td>0.305333</td>\n",
       "      <td>0.280192</td>\n",
       "      <td>0.666323</td>\n",
       "      <td>0.268677</td>\n",
       "      <td>0.154991</td>\n",
       "      <td>0</td>\n",
       "    </tr>\n",
       "  </tbody>\n",
       "</table>\n",
       "<p>2 rows × 31 columns</p>\n",
       "</div>"
      ],
      "text/plain": [
       "   radius_mean  texture_mean  perimeter_mean  area_mean  smoothness_mean  \\\n",
       "0     0.727737      0.324992        0.492779   0.342778         0.334477   \n",
       "1     0.727737      0.324992        0.492779   0.342778         0.654119   \n",
       "\n",
       "   compactness_mean  concavity_mean  concave points_mean  symmetry_mean  \\\n",
       "0          0.308018        0.242737             0.372167       0.225253   \n",
       "1          0.308018        0.242737             0.372167       0.225253   \n",
       "\n",
       "   fractal_dimension_mean  ...  texture_worst  perimeter_worst  area_worst  \\\n",
       "0                0.104254  ...       0.359238         0.443697    0.258995   \n",
       "1                0.104254  ...       0.359238         0.443697    0.258995   \n",
       "\n",
       "   smoothness_worst  compactness_worst  concavity_worst  concave points_worst  \\\n",
       "0          0.441986           0.305333         0.280192              0.666323   \n",
       "1          0.441986           0.305333         0.280192              0.666323   \n",
       "\n",
       "   symmetry_worst  fractal_dimension_worst  diagnosis  \n",
       "0        0.268677                 0.154991          0  \n",
       "1        0.268677                 0.154991          0  \n",
       "\n",
       "[2 rows x 31 columns]"
      ]
     },
     "execution_count": 28,
     "metadata": {},
     "output_type": "execute_result"
    }
   ],
   "source": [
    "exp.cf_examples_list[0].final_cfs_df"
   ]
  },
  {
   "cell_type": "code",
   "execution_count": null,
   "metadata": {},
   "outputs": [
    {
     "data": {
      "text/plain": [
       "<dice_ml.diverse_counterfactuals.CounterfactualExamples at 0x7fb7b040a890>"
      ]
     },
     "execution_count": 31,
     "metadata": {},
     "output_type": "execute_result"
    }
   ],
   "source": [
    "exp.cf_examples_list[0].final_cfs_df"
   ]
  },
  {
   "cell_type": "code",
   "execution_count": null,
   "metadata": {},
   "outputs": [],
   "source": []
  },
  {
   "cell_type": "code",
   "execution_count": null,
   "metadata": {},
   "outputs": [],
   "source": []
  },
  {
   "cell_type": "code",
   "execution_count": null,
   "metadata": {},
   "outputs": [],
   "source": []
  },
  {
   "cell_type": "code",
   "execution_count": null,
   "metadata": {},
   "outputs": [],
   "source": [
    "i = 0\n",
    "example_input = df_info.scaled_df.iloc[test_df[i:i+1].index].iloc[0:1]"
   ]
  },
  {
   "cell_type": "code",
   "execution_count": null,
   "metadata": {},
   "outputs": [
    {
     "data": {
      "text/html": [
       "<div>\n",
       "<style scoped>\n",
       "    .dataframe tbody tr th:only-of-type {\n",
       "        vertical-align: middle;\n",
       "    }\n",
       "\n",
       "    .dataframe tbody tr th {\n",
       "        vertical-align: top;\n",
       "    }\n",
       "\n",
       "    .dataframe thead th {\n",
       "        text-align: right;\n",
       "    }\n",
       "</style>\n",
       "<table border=\"1\" class=\"dataframe\">\n",
       "  <thead>\n",
       "    <tr style=\"text-align: right;\">\n",
       "      <th></th>\n",
       "      <th>default</th>\n",
       "      <th>account_check_status</th>\n",
       "      <th>duration_in_month</th>\n",
       "      <th>credit_history</th>\n",
       "      <th>purpose</th>\n",
       "      <th>credit_amount</th>\n",
       "      <th>savings</th>\n",
       "      <th>present_emp_since</th>\n",
       "      <th>installment_as_income_perc</th>\n",
       "      <th>personal_status_sex</th>\n",
       "      <th>...</th>\n",
       "      <th>present_res_since</th>\n",
       "      <th>property</th>\n",
       "      <th>age</th>\n",
       "      <th>other_installment_plans</th>\n",
       "      <th>housing</th>\n",
       "      <th>credits_this_bank</th>\n",
       "      <th>job</th>\n",
       "      <th>people_under_maintenance</th>\n",
       "      <th>telephone</th>\n",
       "      <th>foreign_worker</th>\n",
       "    </tr>\n",
       "  </thead>\n",
       "  <tbody>\n",
       "    <tr>\n",
       "      <th>131</th>\n",
       "      <td>Y</td>\n",
       "      <td>&lt; 0 DM</td>\n",
       "      <td>0.470588</td>\n",
       "      <td>delay in paying off in the past</td>\n",
       "      <td>(vacation - does not exist?)</td>\n",
       "      <td>0.365192</td>\n",
       "      <td>... &lt; 100 DM</td>\n",
       "      <td>1 &lt;= ... &lt; 4 years</td>\n",
       "      <td>1.0</td>\n",
       "      <td>male : single</td>\n",
       "      <td>...</td>\n",
       "      <td>0.666667</td>\n",
       "      <td>if not A121 : building society savings agreeme...</td>\n",
       "      <td>0.178571</td>\n",
       "      <td>stores</td>\n",
       "      <td>own</td>\n",
       "      <td>1</td>\n",
       "      <td>skilled employee / official</td>\n",
       "      <td>1</td>\n",
       "      <td>yes, registered under the customers name</td>\n",
       "      <td>yes</td>\n",
       "    </tr>\n",
       "  </tbody>\n",
       "</table>\n",
       "<p>1 rows × 21 columns</p>\n",
       "</div>"
      ],
      "text/plain": [
       "    default account_check_status  duration_in_month  \\\n",
       "131       Y               < 0 DM           0.470588   \n",
       "\n",
       "                      credit_history                       purpose  \\\n",
       "131  delay in paying off in the past  (vacation - does not exist?)   \n",
       "\n",
       "     credit_amount       savings   present_emp_since  \\\n",
       "131       0.365192  ... < 100 DM  1 <= ... < 4 years   \n",
       "\n",
       "     installment_as_income_perc personal_status_sex  ... present_res_since  \\\n",
       "131                         1.0       male : single  ...          0.666667   \n",
       "\n",
       "                                              property       age  \\\n",
       "131  if not A121 : building society savings agreeme...  0.178571   \n",
       "\n",
       "     other_installment_plans housing credits_this_bank  \\\n",
       "131                   stores     own                 1   \n",
       "\n",
       "                             job people_under_maintenance  \\\n",
       "131  skilled employee / official                        1   \n",
       "\n",
       "                                     telephone foreign_worker  \n",
       "131  yes, registered under the customers name             yes  \n",
       "\n",
       "[1 rows x 21 columns]"
      ]
     },
     "execution_count": 14,
     "metadata": {},
     "output_type": "execute_result"
    }
   ],
   "source": [
    "example_input"
   ]
  },
  {
   "cell_type": "code",
   "execution_count": null,
   "metadata": {},
   "outputs": [
    {
     "name": "stdout",
     "output_type": "stream",
     "text": [
      "[1]\n"
     ]
    },
    {
     "ename": "AttributeError",
     "evalue": "type object 'Recorder' has no attribute 'wrapped_msodels'",
     "output_type": "error",
     "traceback": [
      "\u001b[0;31m---------------------------------------------------------------------------\u001b[0m",
      "\u001b[0;31mAttributeError\u001b[0m                            Traceback (most recent call last)",
      "\u001b[0;32m/var/folders/cj/76jxqn71757384mssvb297jw0000gn/T/ipykernel_3268/4261075846.py\u001b[0m in \u001b[0;36m<module>\u001b[0;34m\u001b[0m\n\u001b[1;32m      1\u001b[0m \u001b[0mprint\u001b[0m\u001b[0;34m(\u001b[0m\u001b[0mRecorder\u001b[0m\u001b[0;34m.\u001b[0m\u001b[0mwrapped_models\u001b[0m\u001b[0;34m[\u001b[0m\u001b[0;34m'nn'\u001b[0m\u001b[0;34m]\u001b[0m\u001b[0;34m.\u001b[0m\u001b[0mpredict\u001b[0m\u001b[0;34m(\u001b[0m\u001b[0mexample_input\u001b[0m\u001b[0;34m)\u001b[0m\u001b[0;34m)\u001b[0m\u001b[0;34m\u001b[0m\u001b[0;34m\u001b[0m\u001b[0m\n\u001b[0;32m----> 2\u001b[0;31m \u001b[0mprint\u001b[0m\u001b[0;34m(\u001b[0m\u001b[0mRecorder\u001b[0m\u001b[0;34m.\u001b[0m\u001b[0mwrapped_msodels\u001b[0m\u001b[0;34m[\u001b[0m\u001b[0;34m'dt'\u001b[0m\u001b[0;34m]\u001b[0m\u001b[0;34m.\u001b[0m\u001b[0mpredict\u001b[0m\u001b[0;34m(\u001b[0m\u001b[0mexample_input\u001b[0m\u001b[0;34m)\u001b[0m\u001b[0;34m)\u001b[0m\u001b[0;34m\u001b[0m\u001b[0;34m\u001b[0m\u001b[0m\n\u001b[0m\u001b[1;32m      3\u001b[0m \u001b[0mprint\u001b[0m\u001b[0;34m(\u001b[0m\u001b[0mRecorder\u001b[0m\u001b[0;34m.\u001b[0m\u001b[0mwrapped_models\u001b[0m\u001b[0;34m[\u001b[0m\u001b[0;34m'rfc'\u001b[0m\u001b[0;34m]\u001b[0m\u001b[0;34m.\u001b[0m\u001b[0mpredict\u001b[0m\u001b[0;34m(\u001b[0m\u001b[0mexample_input\u001b[0m\u001b[0;34m)\u001b[0m\u001b[0;34m)\u001b[0m\u001b[0;34m\u001b[0m\u001b[0;34m\u001b[0m\u001b[0m\n",
      "\u001b[0;31mAttributeError\u001b[0m: type object 'Recorder' has no attribute 'wrapped_msodels'"
     ]
    }
   ],
   "source": [
    "print(Recorder.wrapped_models['nn'].predict(example_input))\n",
    "print(Recorder.wrapped_msodels['dt'].predict(example_input))\n",
    "print(Recorder.wrapped_models['rfc'].predict(example_input))"
   ]
  },
  {
   "cell_type": "code",
   "execution_count": null,
   "metadata": {},
   "outputs": [
    {
     "name": "stdout",
     "output_type": "stream",
     "text": [
      "[[0.35511744 0.64488256]]\n",
      "[[0. 1.]]\n",
      "[[0.14 0.86]]\n"
     ]
    }
   ],
   "source": [
    "print(Recorder.wrapped_models['nn'].predict_proba(example_input))\n",
    "print(Recorder.wrapped_models['dt'].predict_proba(example_input))\n",
    "print(Recorder.wrapped_models['rfc'].predict_proba(example_input))"
   ]
  },
  {
   "cell_type": "code",
   "execution_count": null,
   "metadata": {},
   "outputs": [
    {
     "name": "stdout",
     "output_type": "stream",
     "text": [
      "Result has been saved to ./results/dice_diabetes\n"
     ]
    }
   ],
   "source": [
    "### Save result as file.\n",
    "save_result_as_csv(\"dice\", dataset_name, result_dfs)"
   ]
  },
  {
   "cell_type": "code",
   "execution_count": null,
   "metadata": {},
   "outputs": [],
   "source": [
    "import pandas as pd"
   ]
  },
  {
   "cell_type": "code",
   "execution_count": null,
   "metadata": {},
   "outputs": [],
   "source": [
    "dice_dt = pd.read_csv(r'./datasets/eval_dice_diabetes_dt_result.csv')"
   ]
  },
  {
   "cell_type": "code",
   "execution_count": null,
   "metadata": {},
   "outputs": [
    {
     "data": {
      "text/plain": [
       "1.303840481"
      ]
     },
     "execution_count": 20,
     "metadata": {},
     "output_type": "execute_result"
    }
   ],
   "source": [
    "dice_dt.L2.max()"
   ]
  },
  {
   "cell_type": "code",
   "execution_count": null,
   "metadata": {},
   "outputs": [
    {
     "data": {
      "text/plain": [
       "0.066562646"
      ]
     },
     "execution_count": 21,
     "metadata": {},
     "output_type": "execute_result"
    }
   ],
   "source": [
    "dice_dt.L2.min()"
   ]
  },
  {
   "cell_type": "code",
   "execution_count": null,
   "metadata": {},
   "outputs": [
    {
     "data": {
      "text/plain": [
       "Unnamed: 0                                     72.0\n",
       "Unnamed: 0.1                                   14.0\n",
       "Unnamed: 0.1.1                                  0.0\n",
       "scaled_input_Pregnancies                   0.352941\n",
       "scaled_input_Glucose                         0.9799\n",
       "scaled_input_BloodPressure                  0.57377\n",
       "scaled_input_SkinThickness                      0.0\n",
       "scaled_input_Insulin                            0.0\n",
       "scaled_input_BMI                           0.460507\n",
       "scaled_input_DiabetesPedigreeFunction      0.106746\n",
       "scaled_input_Age                           0.166667\n",
       "scaled_input_Outcome                              Y\n",
       "origin_input_Pregnancies                        6.0\n",
       "origin_input_Glucose                     195.000006\n",
       "origin_input_BloodPressure                69.999997\n",
       "origin_input_SkinThickness                      0.0\n",
       "origin_input_Insulin                            0.0\n",
       "origin_input_BMI                               30.9\n",
       "origin_input_DiabetesPedigreeFunction         0.328\n",
       "origin_input_Age                               31.0\n",
       "origin_input_Outcome                              Y\n",
       "scaled_cf_Pregnancies                      0.352941\n",
       "scaled_cf_Glucose                            0.9799\n",
       "scaled_cf_BloodPressure                     0.57377\n",
       "scaled_cf_SkinThickness                         0.7\n",
       "scaled_cf_Insulin                               0.8\n",
       "scaled_cf_BMI                              0.460507\n",
       "scaled_cf_DiabetesPedigreeFunction         0.106746\n",
       "scaled_cf_Age                              0.166667\n",
       "scaled_cf_Outcome                                 N\n",
       "origin_cf_Pregnancies                           6.0\n",
       "origin_cf_Glucose                        195.000006\n",
       "origin_cf_BloodPressure                   69.999997\n",
       "origin_cf_SkinThickness                        69.3\n",
       "origin_cf_Insulin                             676.8\n",
       "origin_cf_BMI                                  30.9\n",
       "origin_cf_DiabetesPedigreeFunction            0.328\n",
       "origin_cf_Age                                  31.0\n",
       "origin_cf_Outcome                                 N\n",
       "running_time                               0.021936\n",
       "Found                                             Y\n",
       "ground_truth                                      Y\n",
       "prediction                                        Y\n",
       "L1                                              1.5\n",
       "L2                                         1.063015\n",
       "Sparsity                                        2.0\n",
       "Realistic                                      True\n",
       "MAD                                        1.635291\n",
       "Mahalanobis                                 0.18798\n",
       "Name: 72, dtype: object"
      ]
     },
     "execution_count": 22,
     "metadata": {},
     "output_type": "execute_result"
    }
   ],
   "source": [
    "dice_dt_highl2_row73 = dice_dt.iloc[72]\n",
    "dice_dt_highl2_row73"
   ]
  },
  {
   "cell_type": "code",
   "execution_count": null,
   "metadata": {},
   "outputs": [
    {
     "data": {
      "text/plain": [
       "Unnamed: 0                                     72.0\n",
       "Unnamed: 0.1                                   14.0\n",
       "Unnamed: 0.1.1                                  0.0\n",
       "scaled_input_Pregnancies                   0.352941\n",
       "scaled_input_Glucose                         0.9799\n",
       "scaled_input_BloodPressure                  0.57377\n",
       "scaled_input_SkinThickness                      0.0\n",
       "scaled_input_Insulin                            0.0\n",
       "scaled_input_BMI                           0.460507\n",
       "scaled_input_DiabetesPedigreeFunction      0.106746\n",
       "scaled_input_Age                           0.166667\n",
       "scaled_input_Outcome                              Y\n",
       "origin_input_Pregnancies                        6.0\n",
       "origin_input_Glucose                     195.000006\n",
       "origin_input_BloodPressure                69.999997\n",
       "origin_input_SkinThickness                      0.0\n",
       "origin_input_Insulin                            0.0\n",
       "origin_input_BMI                               30.9\n",
       "origin_input_DiabetesPedigreeFunction         0.328\n",
       "origin_input_Age                               31.0\n",
       "origin_input_Outcome                              Y\n",
       "scaled_cf_Pregnancies                      0.352941\n",
       "scaled_cf_Glucose                            0.9799\n",
       "scaled_cf_BloodPressure                     0.57377\n",
       "scaled_cf_SkinThickness                         0.7\n",
       "scaled_cf_Insulin                               0.8\n",
       "scaled_cf_BMI                              0.460507\n",
       "scaled_cf_DiabetesPedigreeFunction         0.106746\n",
       "scaled_cf_Age                              0.166667\n",
       "scaled_cf_Outcome                                 N\n",
       "origin_cf_Pregnancies                           6.0\n",
       "origin_cf_Glucose                        195.000006\n",
       "origin_cf_BloodPressure                   69.999997\n",
       "origin_cf_SkinThickness                        69.3\n",
       "origin_cf_Insulin                             676.8\n",
       "origin_cf_BMI                                  30.9\n",
       "origin_cf_DiabetesPedigreeFunction            0.328\n",
       "origin_cf_Age                                  31.0\n",
       "origin_cf_Outcome                                 N\n",
       "running_time                               0.021936\n",
       "Found                                             Y\n",
       "ground_truth                                      Y\n",
       "prediction                                        Y\n",
       "L1                                              1.5\n",
       "L2                                         1.063015\n",
       "Sparsity                                        2.0\n",
       "Realistic                                      True\n",
       "MAD                                        1.635291\n",
       "Mahalanobis                                 0.18798\n",
       "Name: 72, dtype: object"
      ]
     },
     "execution_count": 23,
     "metadata": {},
     "output_type": "execute_result"
    }
   ],
   "source": [
    "dice_dt_highl2_row73"
   ]
  },
  {
   "cell_type": "code",
   "execution_count": null,
   "metadata": {},
   "outputs": [
    {
     "data": {
      "text/plain": [
       "Unnamed: 0                                     97.0\n",
       "Unnamed: 0.1                                   19.0\n",
       "Unnamed: 0.1.1                                  0.0\n",
       "scaled_input_Pregnancies                        0.0\n",
       "scaled_input_Glucose                       0.502513\n",
       "scaled_input_BloodPressure                 0.721311\n",
       "scaled_input_SkinThickness                 0.606061\n",
       "scaled_input_Insulin                       0.130024\n",
       "scaled_input_BMI                           0.697466\n",
       "scaled_input_DiabetesPedigreeFunction      0.377455\n",
       "scaled_input_Age                           0.166667\n",
       "scaled_input_Outcome                              N\n",
       "origin_input_Pregnancies                        0.0\n",
       "origin_input_Glucose                     100.000002\n",
       "origin_input_BloodPressure                87.999997\n",
       "origin_input_SkinThickness                60.000002\n",
       "origin_input_Insulin                     110.000002\n",
       "origin_input_BMI                          46.800002\n",
       "origin_input_DiabetesPedigreeFunction         0.962\n",
       "origin_input_Age                               31.0\n",
       "origin_input_Outcome                              N\n",
       "scaled_cf_Pregnancies                           0.0\n",
       "scaled_cf_Glucose                          0.569075\n",
       "scaled_cf_BloodPressure                    0.721311\n",
       "scaled_cf_SkinThickness                    0.606061\n",
       "scaled_cf_Insulin                          0.130024\n",
       "scaled_cf_BMI                              0.697466\n",
       "scaled_cf_DiabetesPedigreeFunction         0.377455\n",
       "scaled_cf_Age                              0.166667\n",
       "scaled_cf_Outcome                                 Y\n",
       "origin_cf_Pregnancies                           0.0\n",
       "origin_cf_Glucose                        113.245969\n",
       "origin_cf_BloodPressure                   87.999997\n",
       "origin_cf_SkinThickness                   60.000002\n",
       "origin_cf_Insulin                        110.000002\n",
       "origin_cf_BMI                             46.800002\n",
       "origin_cf_DiabetesPedigreeFunction            0.962\n",
       "origin_cf_Age                                  31.0\n",
       "origin_cf_Outcome                                 Y\n",
       "running_time                               0.022941\n",
       "Found                                             Y\n",
       "ground_truth                                      N\n",
       "prediction                                        N\n",
       "L1                                         0.066563\n",
       "L2                                         0.066563\n",
       "Sparsity                                        1.0\n",
       "Realistic                                      True\n",
       "MAD                                        0.065752\n",
       "Mahalanobis                                0.010694\n",
       "Name: 97, dtype: object"
      ]
     },
     "execution_count": 24,
     "metadata": {},
     "output_type": "execute_result"
    }
   ],
   "source": [
    "dice_dt_highl2_row97 = dice_dt.iloc[97]\n",
    "dice_dt_highl2_row97"
   ]
  },
  {
   "cell_type": "code",
   "execution_count": null,
   "metadata": {},
   "outputs": [],
   "source": []
  }
 ],
 "metadata": {
  "kernelspec": {
   "display_name": "Python 3.7.11 ('cf_2022_final')",
   "language": "python",
   "name": "python3"
  },
  "language_info": {
   "codemirror_mode": {
    "name": "ipython",
    "version": 3
   },
   "file_extension": ".py",
   "mimetype": "text/x-python",
   "name": "python",
   "nbconvert_exporter": "python",
   "pygments_lexer": "ipython3",
   "version": "3.7.11"
  },
  "orig_nbformat": 4,
  "vscode": {
   "interpreter": {
    "hash": "ddbd05a1a14a3b0def6fc051a52a025c8773943fa7dc1baab0b936f7bf6828c8"
   }
  }
 },
 "nbformat": 4,
 "nbformat_minor": 2
}
