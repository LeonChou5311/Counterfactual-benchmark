{
 "cells": [
  {
   "cell_type": "code",
   "execution_count": 1,
   "source": [
    "import pandas as pd\n",
    "\n",
    "from utils.df_loader import load_adult_df\n",
    "from utils.preprocessing import remove_missing_values\n",
    "\n",
    "pd.options.mode.chained_assignment = None "
   ],
   "outputs": [],
   "metadata": {}
  },
  {
   "cell_type": "code",
   "execution_count": 2,
   "source": [
    "df, feature_names, numerical_cols, categorical_cols, columns_type, target_name, possible_outcomes = load_adult_df()"
   ],
   "outputs": [],
   "metadata": {}
  },
  {
   "cell_type": "markdown",
   "source": [],
   "metadata": {}
  },
  {
   "cell_type": "code",
   "execution_count": 3,
   "source": [
    "from sklearn.tree import DecisionTreeClassifier"
   ],
   "outputs": [],
   "metadata": {}
  },
  {
   "cell_type": "code",
   "execution_count": 4,
   "source": [],
   "outputs": [],
   "metadata": {}
  },
  {
   "cell_type": "code",
   "execution_count": 5,
   "source": [
    "from utils.preprocessing import label_encode\n",
    "from sklearn.model_selection import train_test_split"
   ],
   "outputs": [],
   "metadata": {}
  },
  {
   "cell_type": "code",
   "execution_count": 6,
   "source": [
    "enconded_df, encoder_dict = label_encode(df, categorical_cols)"
   ],
   "outputs": [],
   "metadata": {}
  },
  {
   "cell_type": "code",
   "execution_count": 7,
   "source": [
    "train_df, test_df = train_test_split(enconded_df, train_size=.8, random_state=123, shuffle=True)"
   ],
   "outputs": [],
   "metadata": {}
  },
  {
   "cell_type": "code",
   "execution_count": 45,
   "source": [
    "import numpy as np\n",
    "import pickle\n",
    "X_train = np.array(train_df[feature_names])\n",
    "y_train = np.array(train_df[target_name])\n"
   ],
   "outputs": [],
   "metadata": {}
  },
  {
   "cell_type": "code",
   "execution_count": 20,
   "source": [
    "dt = DecisionTreeClassifier()\n",
    "dt = dct.fit(X_train,y_train)"
   ],
   "outputs": [],
   "metadata": {}
  },
  {
   "cell_type": "code",
   "execution_count": 21,
   "source": [
    "X_test = np.array(test_df[feature_names])\n",
    "y_test = np.array(test_df[target_name])"
   ],
   "outputs": [],
   "metadata": {}
  },
  {
   "cell_type": "code",
   "execution_count": 22,
   "source": [
    "dt.predict(X_test[0, :].reshape(1,-1))"
   ],
   "outputs": [
    {
     "output_type": "execute_result",
     "data": {
      "text/plain": [
       "array([0])"
      ]
     },
     "metadata": {},
     "execution_count": 22
    }
   ],
   "metadata": {}
  },
  {
   "cell_type": "code",
   "execution_count": 52,
   "source": [
    "pickle.dump(dt, open('./saved_models/dt.p', 'wb'))\n",
    "dt = pickle.load(open('./saved_models/dt.p', 'rb'))"
   ],
   "outputs": [],
   "metadata": {}
  },
  {
   "cell_type": "code",
   "execution_count": 53,
   "source": [],
   "outputs": [],
   "metadata": {}
  },
  {
   "cell_type": "code",
   "execution_count": 46,
   "source": [
    "from sklearn.ensemble import RandomForestClassifier"
   ],
   "outputs": [],
   "metadata": {}
  },
  {
   "cell_type": "code",
   "execution_count": 23,
   "source": [
    "rfc = RandomForestClassifier()\n",
    "rfc = rfc.fit(X_train,y_train)"
   ],
   "outputs": [],
   "metadata": {}
  },
  {
   "cell_type": "code",
   "execution_count": 56,
   "source": [
    "rfc.predict(X_test[0, :].reshape(1,-1))"
   ],
   "outputs": [
    {
     "output_type": "execute_result",
     "data": {
      "text/plain": [
       "array([0])"
      ]
     },
     "metadata": {},
     "execution_count": 56
    }
   ],
   "metadata": {}
  },
  {
   "cell_type": "code",
   "execution_count": 58,
   "source": [
    "pickle.dump(rfc, open('./saved_models/rfc.p', 'wb'))\n",
    "rfc = pickle.load(open('./saved_models/rfc.p', 'rb'))"
   ],
   "outputs": [],
   "metadata": {}
  },
  {
   "cell_type": "code",
   "execution_count": 59,
   "source": [
    "rfc.predict(X_test[0, :].reshape(1,-1))"
   ],
   "outputs": [
    {
     "output_type": "execute_result",
     "data": {
      "text/plain": [
       "array([0])"
      ]
     },
     "metadata": {},
     "execution_count": 59
    }
   ],
   "metadata": {}
  },
  {
   "cell_type": "code",
   "execution_count": 26,
   "source": [
    "import tensorflow as tf"
   ],
   "outputs": [],
   "metadata": {}
  },
  {
   "cell_type": "code",
   "execution_count": 35,
   "source": [
    "nn_model = model= tf.keras.models.Sequential(\n",
    "            [\n",
    "                tf.keras.layers.Dense(24,activation='relu'),\n",
    "                tf.keras.layers.Dense(12,activation='relu'),\n",
    "                tf.keras.layers.Dense(12,activation='relu'),\n",
    "                tf.keras.layers.Dense(12,activation='relu'),\n",
    "                tf.keras.layers.Dense(12,activation='relu'),\n",
    "                tf.keras.layers.Dense(1),\n",
    "                tf.keras.layers.Activation(tf.nn.sigmoid),\n",
    "            ])"
   ],
   "outputs": [],
   "metadata": {}
  },
  {
   "cell_type": "code",
   "execution_count": 36,
   "source": [
    "nn_model.compile(optimizer=\"Adam\", loss='binary_crossentropy', metrics=['accuracy'])"
   ],
   "outputs": [],
   "metadata": {}
  },
  {
   "cell_type": "code",
   "execution_count": 37,
   "source": [
    "nn_model.fit(X_train, y_train, batch_size=64, epochs=20, shuffle=True)"
   ],
   "outputs": [
    {
     "output_type": "stream",
     "name": "stdout",
     "text": [
      "Epoch 1/20\n",
      "407/407 [==============================] - 0s 469us/step - loss: 5.4162 - accuracy: 0.7415\n",
      "Epoch 2/20\n",
      "407/407 [==============================] - 0s 403us/step - loss: 0.6115 - accuracy: 0.7920\n",
      "Epoch 3/20\n",
      "407/407 [==============================] - 0s 434us/step - loss: 0.7552 - accuracy: 0.7947\n",
      "Epoch 4/20\n",
      "407/407 [==============================] - 0s 449us/step - loss: 0.5762 - accuracy: 0.7896\n",
      "Epoch 5/20\n",
      "407/407 [==============================] - 0s 403us/step - loss: 1.0686 - accuracy: 0.7889\n",
      "Epoch 6/20\n",
      "407/407 [==============================] - 0s 398us/step - loss: 0.7514 - accuracy: 0.7799\n",
      "Epoch 7/20\n",
      "407/407 [==============================] - 0s 397us/step - loss: 0.4342 - accuracy: 0.7974\n",
      "Epoch 8/20\n",
      "407/407 [==============================] - 0s 399us/step - loss: 0.6007 - accuracy: 0.7939\n",
      "Epoch 9/20\n",
      "407/407 [==============================] - 0s 400us/step - loss: 0.4264 - accuracy: 0.7963\n",
      "Epoch 10/20\n",
      "407/407 [==============================] - 0s 399us/step - loss: 0.4149 - accuracy: 0.8015\n",
      "Epoch 11/20\n",
      "407/407 [==============================] - 0s 397us/step - loss: 0.4110 - accuracy: 0.8037\n",
      "Epoch 12/20\n",
      "407/407 [==============================] - 0s 401us/step - loss: 0.4012 - accuracy: 0.8077\n",
      "Epoch 13/20\n",
      "407/407 [==============================] - 0s 399us/step - loss: 0.4097 - accuracy: 0.8021\n",
      "Epoch 14/20\n",
      "407/407 [==============================] - 0s 581us/step - loss: 0.4029 - accuracy: 0.8081\n",
      "Epoch 15/20\n",
      "407/407 [==============================] - 0s 396us/step - loss: 0.3873 - accuracy: 0.8121\n",
      "Epoch 16/20\n",
      "407/407 [==============================] - 0s 396us/step - loss: 0.4940 - accuracy: 0.7943\n",
      "Epoch 17/20\n",
      "407/407 [==============================] - 0s 394us/step - loss: 0.3796 - accuracy: 0.8106\n",
      "Epoch 18/20\n",
      "407/407 [==============================] - 0s 397us/step - loss: 0.4042 - accuracy: 0.7981\n",
      "Epoch 19/20\n",
      "407/407 [==============================] - 0s 396us/step - loss: 0.3752 - accuracy: 0.8144\n",
      "Epoch 20/20\n",
      "407/407 [==============================] - 0s 405us/step - loss: 0.3659 - accuracy: 0.8142\n"
     ]
    },
    {
     "output_type": "execute_result",
     "data": {
      "text/plain": [
       "<tensorflow.python.keras.callbacks.History at 0x15ecff4c0>"
      ]
     },
     "metadata": {},
     "execution_count": 37
    }
   ],
   "metadata": {}
  },
  {
   "cell_type": "code",
   "execution_count": 42,
   "source": [
    "nn_model.save('./saved_models/nn.h5',overwrite=True)"
   ],
   "outputs": [],
   "metadata": {}
  },
  {
   "cell_type": "code",
   "execution_count": 43,
   "source": [
    "nn_model = tf.keras.models.load_model('./saved_models/nn.h5')"
   ],
   "outputs": [],
   "metadata": {}
  },
  {
   "cell_type": "code",
   "execution_count": 60,
   "source": [
    "nn_model.predict(X_test[0, :].reshape(1,-1))"
   ],
   "outputs": [
    {
     "output_type": "execute_result",
     "data": {
      "text/plain": [
       "array([[0.2322611]], dtype=float32)"
      ]
     },
     "metadata": {},
     "execution_count": 60
    }
   ],
   "metadata": {}
  },
  {
   "cell_type": "code",
   "execution_count": null,
   "source": [],
   "outputs": [],
   "metadata": {}
  }
 ],
 "metadata": {
  "orig_nbformat": 4,
  "language_info": {
   "name": "python",
   "version": "3.8.10",
   "mimetype": "text/x-python",
   "codemirror_mode": {
    "name": "ipython",
    "version": 3
   },
   "pygments_lexer": "ipython3",
   "nbconvert_exporter": "python",
   "file_extension": ".py"
  },
  "kernelspec": {
   "name": "python3",
   "display_name": "Python 3.8.10 64-bit ('tf_mac': conda)"
  },
  "interpreter": {
   "hash": "5c622353f32ef24c8d83e5c3e334107c074e82d7c3e8ca52c56b9fc900ce33e6"
  }
 },
 "nbformat": 4,
 "nbformat_minor": 2
}