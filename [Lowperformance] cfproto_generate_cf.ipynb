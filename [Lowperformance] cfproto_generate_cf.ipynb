{
 "cells": [
  {
   "cell_type": "code",
   "execution_count": 1,
   "metadata": {},
   "outputs": [
    {
     "name": "stdout",
     "output_type": "stream",
     "text": [
      "TF version:  2.4.0-rc0\n",
      "Eager execution enabled:  False\n"
     ]
    }
   ],
   "source": [
    "import tensorflow as tf\n",
    "import pandas as pd\n",
    "import numpy as np\n",
    "\n",
    "from utils.df_loader import load_adult_df, load_compas_df, load_german_df, load_diabetes_df, load_breast_cancer_df\n",
    "from sklearn.model_selection import train_test_split\n",
    "from utils.preprocessing import preprocess_df\n",
    "from utils.models import train_three_models, train_three_models_lp, save_lp_three_models, load_lp_three_models, evaluation_test, save_three_models, load_three_models\n",
    "from utils.cf_proto import generate_cf_proto_result, process_result\n",
    "\n",
    "from utils.save import save_result_as_csv\n",
    "\n",
    "# Disable TF2 and enable TF1 for alibi.\n",
    "tf.get_logger().setLevel(40)\n",
    "tf.compat.v1.disable_v2_behavior()\n",
    "tf.keras.backend.clear_session()\n",
    "pd.options.mode.chained_assignment = None\n",
    "\n",
    "print('TF version: ', tf.__version__)\n",
    "print('Eager execution enabled: ', tf.executing_eagerly())  # False\n",
    "\n",
    "\n",
    "seed = 123\n",
    "# tf.random.set_seed(seed)\n",
    "# np.random.seed(seed)\n"
   ]
  },
  {
   "cell_type": "code",
   "execution_count": 2,
   "metadata": {},
   "outputs": [],
   "source": [
    "#### Select dataset ####\n",
    "\n",
    "dataset_name = 'diabetes' # [adult, german, compas]\n",
    "\n",
    "if dataset_name == 'adult':\n",
    "    dataset_loading_fn = load_adult_df\n",
    "elif dataset_name == 'german':\n",
    "    dataset_loading_fn = load_german_df\n",
    "elif dataset_name == 'compas':\n",
    "    dataset_loading_fn = load_compas_df\n",
    "elif dataset_name == 'diabetes':\n",
    "    dataset_loading_fn = load_diabetes_df\n",
    "elif dataset_name == 'breast_cancer':\n",
    "    dataset_loading_fn = load_breast_cancer_df\n",
    "else:\n",
    "    raise Exception(\"Unsupported dataset\")"
   ]
  },
  {
   "cell_type": "code",
   "execution_count": 3,
   "metadata": {},
   "outputs": [],
   "source": [
    "#### Load datafram info.\n",
    "df_info = preprocess_df(dataset_loading_fn)"
   ]
  },
  {
   "cell_type": "code",
   "execution_count": 4,
   "metadata": {},
   "outputs": [],
   "source": [
    "### Seperate to train and test set.\n",
    "train_df, test_df = train_test_split(df_info.dummy_df, train_size=.8, random_state=seed, shuffle=True)"
   ]
  },
  {
   "cell_type": "code",
   "execution_count": 5,
   "metadata": {},
   "outputs": [
    {
     "data": {
      "text/html": [
       "<div>\n",
       "<style scoped>\n",
       "    .dataframe tbody tr th:only-of-type {\n",
       "        vertical-align: middle;\n",
       "    }\n",
       "\n",
       "    .dataframe tbody tr th {\n",
       "        vertical-align: top;\n",
       "    }\n",
       "\n",
       "    .dataframe thead th {\n",
       "        text-align: right;\n",
       "    }\n",
       "</style>\n",
       "<table border=\"1\" class=\"dataframe\">\n",
       "  <thead>\n",
       "    <tr style=\"text-align: right;\">\n",
       "      <th></th>\n",
       "      <th>Pregnancies</th>\n",
       "      <th>Glucose</th>\n",
       "      <th>BloodPressure</th>\n",
       "      <th>SkinThickness</th>\n",
       "      <th>Insulin</th>\n",
       "      <th>BMI</th>\n",
       "      <th>DiabetesPedigreeFunction</th>\n",
       "      <th>Age</th>\n",
       "      <th>Outcome</th>\n",
       "    </tr>\n",
       "  </thead>\n",
       "  <tbody>\n",
       "    <tr>\n",
       "      <th>236</th>\n",
       "      <td>7</td>\n",
       "      <td>181</td>\n",
       "      <td>84</td>\n",
       "      <td>21</td>\n",
       "      <td>192</td>\n",
       "      <td>35.9</td>\n",
       "      <td>0.586</td>\n",
       "      <td>51</td>\n",
       "      <td>Y</td>\n",
       "    </tr>\n",
       "    <tr>\n",
       "      <th>395</th>\n",
       "      <td>2</td>\n",
       "      <td>127</td>\n",
       "      <td>58</td>\n",
       "      <td>24</td>\n",
       "      <td>275</td>\n",
       "      <td>27.7</td>\n",
       "      <td>1.600</td>\n",
       "      <td>25</td>\n",
       "      <td>N</td>\n",
       "    </tr>\n",
       "    <tr>\n",
       "      <th>36</th>\n",
       "      <td>11</td>\n",
       "      <td>138</td>\n",
       "      <td>76</td>\n",
       "      <td>0</td>\n",
       "      <td>0</td>\n",
       "      <td>33.2</td>\n",
       "      <td>0.420</td>\n",
       "      <td>35</td>\n",
       "      <td>N</td>\n",
       "    </tr>\n",
       "    <tr>\n",
       "      <th>210</th>\n",
       "      <td>2</td>\n",
       "      <td>81</td>\n",
       "      <td>60</td>\n",
       "      <td>22</td>\n",
       "      <td>0</td>\n",
       "      <td>27.7</td>\n",
       "      <td>0.290</td>\n",
       "      <td>25</td>\n",
       "      <td>N</td>\n",
       "    </tr>\n",
       "    <tr>\n",
       "      <th>483</th>\n",
       "      <td>0</td>\n",
       "      <td>84</td>\n",
       "      <td>82</td>\n",
       "      <td>31</td>\n",
       "      <td>125</td>\n",
       "      <td>38.2</td>\n",
       "      <td>0.233</td>\n",
       "      <td>23</td>\n",
       "      <td>N</td>\n",
       "    </tr>\n",
       "    <tr>\n",
       "      <th>743</th>\n",
       "      <td>9</td>\n",
       "      <td>140</td>\n",
       "      <td>94</td>\n",
       "      <td>0</td>\n",
       "      <td>0</td>\n",
       "      <td>32.7</td>\n",
       "      <td>0.734</td>\n",
       "      <td>45</td>\n",
       "      <td>Y</td>\n",
       "    </tr>\n",
       "    <tr>\n",
       "      <th>408</th>\n",
       "      <td>8</td>\n",
       "      <td>197</td>\n",
       "      <td>74</td>\n",
       "      <td>0</td>\n",
       "      <td>0</td>\n",
       "      <td>25.9</td>\n",
       "      <td>1.191</td>\n",
       "      <td>39</td>\n",
       "      <td>Y</td>\n",
       "    </tr>\n",
       "    <tr>\n",
       "      <th>468</th>\n",
       "      <td>8</td>\n",
       "      <td>120</td>\n",
       "      <td>0</td>\n",
       "      <td>0</td>\n",
       "      <td>0</td>\n",
       "      <td>30.0</td>\n",
       "      <td>0.183</td>\n",
       "      <td>38</td>\n",
       "      <td>Y</td>\n",
       "    </tr>\n",
       "    <tr>\n",
       "      <th>283</th>\n",
       "      <td>7</td>\n",
       "      <td>161</td>\n",
       "      <td>86</td>\n",
       "      <td>0</td>\n",
       "      <td>0</td>\n",
       "      <td>30.4</td>\n",
       "      <td>0.165</td>\n",
       "      <td>47</td>\n",
       "      <td>Y</td>\n",
       "    </tr>\n",
       "    <tr>\n",
       "      <th>167</th>\n",
       "      <td>4</td>\n",
       "      <td>120</td>\n",
       "      <td>68</td>\n",
       "      <td>0</td>\n",
       "      <td>0</td>\n",
       "      <td>29.6</td>\n",
       "      <td>0.709</td>\n",
       "      <td>34</td>\n",
       "      <td>N</td>\n",
       "    </tr>\n",
       "    <tr>\n",
       "      <th>715</th>\n",
       "      <td>7</td>\n",
       "      <td>187</td>\n",
       "      <td>50</td>\n",
       "      <td>33</td>\n",
       "      <td>392</td>\n",
       "      <td>33.9</td>\n",
       "      <td>0.826</td>\n",
       "      <td>34</td>\n",
       "      <td>Y</td>\n",
       "    </tr>\n",
       "    <tr>\n",
       "      <th>172</th>\n",
       "      <td>2</td>\n",
       "      <td>87</td>\n",
       "      <td>0</td>\n",
       "      <td>23</td>\n",
       "      <td>0</td>\n",
       "      <td>28.9</td>\n",
       "      <td>0.773</td>\n",
       "      <td>25</td>\n",
       "      <td>N</td>\n",
       "    </tr>\n",
       "    <tr>\n",
       "      <th>416</th>\n",
       "      <td>1</td>\n",
       "      <td>97</td>\n",
       "      <td>68</td>\n",
       "      <td>21</td>\n",
       "      <td>0</td>\n",
       "      <td>27.2</td>\n",
       "      <td>1.095</td>\n",
       "      <td>22</td>\n",
       "      <td>N</td>\n",
       "    </tr>\n",
       "    <tr>\n",
       "      <th>91</th>\n",
       "      <td>4</td>\n",
       "      <td>123</td>\n",
       "      <td>80</td>\n",
       "      <td>15</td>\n",
       "      <td>176</td>\n",
       "      <td>32.0</td>\n",
       "      <td>0.443</td>\n",
       "      <td>34</td>\n",
       "      <td>N</td>\n",
       "    </tr>\n",
       "    <tr>\n",
       "      <th>675</th>\n",
       "      <td>6</td>\n",
       "      <td>195</td>\n",
       "      <td>70</td>\n",
       "      <td>0</td>\n",
       "      <td>0</td>\n",
       "      <td>30.9</td>\n",
       "      <td>0.328</td>\n",
       "      <td>31</td>\n",
       "      <td>Y</td>\n",
       "    </tr>\n",
       "    <tr>\n",
       "      <th>367</th>\n",
       "      <td>0</td>\n",
       "      <td>101</td>\n",
       "      <td>64</td>\n",
       "      <td>17</td>\n",
       "      <td>0</td>\n",
       "      <td>21.0</td>\n",
       "      <td>0.252</td>\n",
       "      <td>21</td>\n",
       "      <td>N</td>\n",
       "    </tr>\n",
       "    <tr>\n",
       "      <th>254</th>\n",
       "      <td>12</td>\n",
       "      <td>92</td>\n",
       "      <td>62</td>\n",
       "      <td>7</td>\n",
       "      <td>258</td>\n",
       "      <td>27.6</td>\n",
       "      <td>0.926</td>\n",
       "      <td>44</td>\n",
       "      <td>Y</td>\n",
       "    </tr>\n",
       "    <tr>\n",
       "      <th>553</th>\n",
       "      <td>1</td>\n",
       "      <td>88</td>\n",
       "      <td>62</td>\n",
       "      <td>24</td>\n",
       "      <td>44</td>\n",
       "      <td>29.9</td>\n",
       "      <td>0.422</td>\n",
       "      <td>23</td>\n",
       "      <td>N</td>\n",
       "    </tr>\n",
       "    <tr>\n",
       "      <th>348</th>\n",
       "      <td>3</td>\n",
       "      <td>99</td>\n",
       "      <td>62</td>\n",
       "      <td>19</td>\n",
       "      <td>74</td>\n",
       "      <td>21.8</td>\n",
       "      <td>0.279</td>\n",
       "      <td>26</td>\n",
       "      <td>N</td>\n",
       "    </tr>\n",
       "    <tr>\n",
       "      <th>57</th>\n",
       "      <td>0</td>\n",
       "      <td>100</td>\n",
       "      <td>88</td>\n",
       "      <td>60</td>\n",
       "      <td>110</td>\n",
       "      <td>46.8</td>\n",
       "      <td>0.962</td>\n",
       "      <td>31</td>\n",
       "      <td>N</td>\n",
       "    </tr>\n",
       "  </tbody>\n",
       "</table>\n",
       "</div>"
      ],
      "text/plain": [
       "     Pregnancies  Glucose  BloodPressure  SkinThickness  Insulin   BMI  \\\n",
       "236            7      181             84             21      192  35.9   \n",
       "395            2      127             58             24      275  27.7   \n",
       "36            11      138             76              0        0  33.2   \n",
       "210            2       81             60             22        0  27.7   \n",
       "483            0       84             82             31      125  38.2   \n",
       "743            9      140             94              0        0  32.7   \n",
       "408            8      197             74              0        0  25.9   \n",
       "468            8      120              0              0        0  30.0   \n",
       "283            7      161             86              0        0  30.4   \n",
       "167            4      120             68              0        0  29.6   \n",
       "715            7      187             50             33      392  33.9   \n",
       "172            2       87              0             23        0  28.9   \n",
       "416            1       97             68             21        0  27.2   \n",
       "91             4      123             80             15      176  32.0   \n",
       "675            6      195             70              0        0  30.9   \n",
       "367            0      101             64             17        0  21.0   \n",
       "254           12       92             62              7      258  27.6   \n",
       "553            1       88             62             24       44  29.9   \n",
       "348            3       99             62             19       74  21.8   \n",
       "57             0      100             88             60      110  46.8   \n",
       "\n",
       "     DiabetesPedigreeFunction  Age Outcome  \n",
       "236                     0.586   51       Y  \n",
       "395                     1.600   25       N  \n",
       "36                      0.420   35       N  \n",
       "210                     0.290   25       N  \n",
       "483                     0.233   23       N  \n",
       "743                     0.734   45       Y  \n",
       "408                     1.191   39       Y  \n",
       "468                     0.183   38       Y  \n",
       "283                     0.165   47       Y  \n",
       "167                     0.709   34       N  \n",
       "715                     0.826   34       Y  \n",
       "172                     0.773   25       N  \n",
       "416                     1.095   22       N  \n",
       "91                      0.443   34       N  \n",
       "675                     0.328   31       Y  \n",
       "367                     0.252   21       N  \n",
       "254                     0.926   44       Y  \n",
       "553                     0.422   23       N  \n",
       "348                     0.279   26       N  \n",
       "57                      0.962   31       N  "
      ]
     },
     "execution_count": 5,
     "metadata": {},
     "output_type": "execute_result"
    }
   ],
   "source": [
    "### Input queries for generating counterfactuals\n",
    "df_info.df.iloc[test_df[:20].index]"
   ]
  },
  {
   "cell_type": "code",
   "execution_count": 6,
   "metadata": {},
   "outputs": [],
   "source": [
    "### Get training and testing array.\n",
    "X_train = np.array(train_df[df_info.ohe_feature_names])\n",
    "y_train = np.array(train_df[df_info.target_name])\n",
    "X_test = np.array(test_df[df_info.ohe_feature_names])\n",
    "y_test = np.array(test_df[df_info.target_name])"
   ]
  },
  {
   "cell_type": "code",
   "execution_count": 7,
   "metadata": {},
   "outputs": [],
   "source": [
    "#\n",
    "# ## Train models.\n",
    "# models = train_three_models(X_train, y_train)\n",
    "\n",
    "### Save models.\n",
    "# save_three_models(models, dataset_name)"
   ]
  },
  {
   "cell_type": "code",
   "execution_count": null,
   "metadata": {},
   "outputs": [],
   "source": [
    "models = train_three_models_lp(X_train, y_train)\n",
    "\n",
    "### Save models.\n",
    "save_lp_three_models(models, dataset_name)"
   ]
  },
  {
   "cell_type": "code",
   "execution_count": null,
   "metadata": {},
   "outputs": [],
   "source": []
  },
  {
   "cell_type": "code",
   "execution_count": 8,
   "metadata": {},
   "outputs": [
    {
     "name": "stderr",
     "output_type": "stream",
     "text": [
      "/Users/jrhs/miniforge3/envs/tf_mac/lib/python3.8/site-packages/tensorflow/python/keras/engine/training.py:2325: UserWarning: `Model.state_updates` will be removed in a future version. This property should not be used in TensorFlow 2.0, as `updates` are applied automatically.\n",
      "  warnings.warn('`Model.state_updates` will be removed in a future version. '\n"
     ]
    }
   ],
   "source": [
    "### Load models\n",
    "#models = load_lp_three_models(X_train.shape[-1], dataset_name)"
   ]
  },
  {
   "cell_type": "code",
   "execution_count": 9,
   "metadata": {},
   "outputs": [
    {
     "name": "stdout",
     "output_type": "stream",
     "text": [
      "DT: [0.7727] | RF [0.7987] | NN [0.7662]\n"
     ]
    }
   ],
   "source": [
    "### Print out accuracy on testset.\n",
    "evaluation_test(models, X_test, y_test)"
   ]
  },
  {
   "cell_type": "markdown",
   "metadata": {},
   "source": [
    "# Alibi"
   ]
  },
  {
   "cell_type": "markdown",
   "metadata": {},
   "source": [
    "## 1. Counterfactual Prototype"
   ]
  },
  {
   "cell_type": "code",
   "execution_count": 10,
   "metadata": {},
   "outputs": [],
   "source": [
    "from utils.cf_proto import Recorder"
   ]
  },
  {
   "cell_type": "code",
   "execution_count": 11,
   "metadata": {},
   "outputs": [],
   "source": [
    "### Setting up the CF generating amount.\n",
    "num_instances = 3\n",
    "num_cf_per_instance = 1"
   ]
  },
  {
   "cell_type": "code",
   "execution_count": 12,
   "metadata": {},
   "outputs": [
    {
     "name": "stdout",
     "output_type": "stream",
     "text": [
      "Finding counterfactual for rfc\n",
      "instance 0\n",
      "CF 0\n",
      "Found CF\n",
      "instance 1\n",
      "CF 0\n",
      "CF not found\n",
      "instance 2\n",
      "CF 0\n",
      "Found CF\n",
      "Finding counterfactual for nn\n",
      "instance 0\n",
      "CF 0\n",
      "Found CF\n",
      "instance 1\n",
      "CF 0\n",
      "CF not found\n",
      "instance 2\n",
      "CF 0\n",
      "CF not found\n"
     ]
    }
   ],
   "source": [
    "# Generate CF\n",
    "results = generate_cf_proto_result(\n",
    "    df_info,\n",
    "    train_df,\n",
    "    models,\n",
    "    num_instances,\n",
    "    num_cf_per_instance,\n",
    "    X_train,\n",
    "    X_test,\n",
    "    y_test,\n",
    "    max_iters=1000,\n",
    "    models_to_run=['rfc', 'nn'],\n",
    "    output_int=True\n",
    ")\n",
    "result_dfs = process_result(results, df_info)\n"
   ]
  },
  {
   "cell_type": "code",
   "execution_count": 13,
   "metadata": {},
   "outputs": [],
   "source": [
    "i = 0\n",
    "example_input = X_test[i:i+1]"
   ]
  },
  {
   "cell_type": "code",
   "execution_count": 14,
   "metadata": {},
   "outputs": [
    {
     "name": "stdout",
     "output_type": "stream",
     "text": [
      "[[1]]\n",
      "[[1]]\n",
      "[[1]]\n"
     ]
    }
   ],
   "source": [
    "print(Recorder.wrapped_models['nn'].predict(example_input))\n",
    "print(Recorder.wrapped_models['dt'].predict(example_input))\n",
    "print(Recorder.wrapped_models['rfc'].predict(example_input))"
   ]
  },
  {
   "cell_type": "code",
   "execution_count": 15,
   "metadata": {},
   "outputs": [
    {
     "name": "stdout",
     "output_type": "stream",
     "text": [
      "[[0 1]]\n",
      "[[0 1]]\n",
      "[[0 1]]\n"
     ]
    }
   ],
   "source": [
    "print(Recorder.wrapped_models['nn'].predict_proba(example_input))\n",
    "print(Recorder.wrapped_models['dt'].predict_proba(example_input))\n",
    "print(Recorder.wrapped_models['rfc'].predict_proba(example_input))"
   ]
  },
  {
   "cell_type": "code",
   "execution_count": 16,
   "metadata": {},
   "outputs": [],
   "source": [
    "# result_dfs['nn']['Found']"
   ]
  },
  {
   "cell_type": "code",
   "execution_count": 17,
   "metadata": {},
   "outputs": [],
   "source": [
    "#  [Proto] learning_rate_init=0.01\n",
    "#  [Watcher] learning_rate = 0.1"
   ]
  },
  {
   "cell_type": "code",
   "execution_count": 18,
   "metadata": {},
   "outputs": [
    {
     "name": "stdout",
     "output_type": "stream",
     "text": [
      "Result has been saved to ./results/proto_diabetes\n"
     ]
    }
   ],
   "source": [
    "### Save result as file.\n",
    "save_result_as_csv(\"proto\", dataset_name, result_dfs)"
   ]
  }
 ],
 "metadata": {
  "interpreter": {
   "hash": "5c622353f32ef24c8d83e5c3e334107c074e82d7c3e8ca52c56b9fc900ce33e6"
  },
  "kernelspec": {
   "display_name": "Python 3.8.10 64-bit ('tf_mac': conda)",
   "name": "python3"
  },
  "language_info": {
   "codemirror_mode": {
    "name": "ipython",
    "version": 3
   },
   "file_extension": ".py",
   "mimetype": "text/x-python",
   "name": "python",
   "nbconvert_exporter": "python",
   "pygments_lexer": "ipython3",
   "version": "3.8.10"
  },
  "orig_nbformat": 4
 },
 "nbformat": 4,
 "nbformat_minor": 2
}
