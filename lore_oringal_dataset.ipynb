{
 "cells": [
  {
   "cell_type": "code",
   "execution_count": 1,
   "source": [
    "### Colab define cell\n",
    "FOLDER_PATH = '/content/gdrive/MyDrive/Counterfactual-prototype-main/LORE/LORE-master'\n",
    "\n",
    "try:\n",
    "    import google.colab\n",
    "    RUNNING_ON_COLAB = True\n",
    "except: \n",
    "    RUNNING_ON_COLAB = False\n",
    "\n",
    "if RUNNING_ON_COLAB: \n",
    "    import sys\n",
    "    from google.colab import drive\n",
    "    from pydrive.auth import GoogleAuth\n",
    "    from pydrive.drive import GoogleDrive\n",
    "    from google.colab import auth\n",
    "    from oauth2client.client import GoogleCredentials\n",
    "    from pydrive.auth import GoogleAuth\n",
    "    from pydrive.drive import GoogleDrive\n",
    "    from google.colab import auth\n",
    "    from oauth2client.client import GoogleCredentials \n",
    "    drive.mount('/content/gdrive', force_remount=True)\n",
    "    auth.authenticate_user()\n",
    "    gauth = GoogleAuth()\n",
    "    gauth.credentials = GoogleCredentials.get_application_default()\n",
    "    gdrive = GoogleDrive(gauth)\n",
    "    sys.path.append(FOLDER_PATH)"
   ],
   "outputs": [],
   "metadata": {}
  },
  {
   "cell_type": "code",
   "execution_count": 2,
   "source": [
    "## test the original code here.\n",
    "## sudo apt-get install libtbb2 // needed for ubuntu\n",
    "\n",
    "import lore\n",
    "\n",
    "from lore.prepare_dataset import *\n",
    "from lore.neighbor_generator import *\n",
    "\n",
    "from sklearn.ensemble import RandomForestClassifier\n",
    "from sklearn.model_selection import train_test_split\n",
    "\n",
    "\n",
    "# dataset_name = 'german_credit.csv'\n",
    "path_data = './lore/datasets/'\n",
    "# dataset = prepare_german_dataset(dataset_name, path_data)\n",
    "\n",
    "dataset_name = 'compas-scores-two-years.csv'\n",
    "dataset = prepare_compass_dataset(dataset_name, path_data)\n",
    "print(dataset['label_encoder'][dataset['class_name']].classes_)\n",
    "print(dataset['possible_outcomes'])\n",
    "\n",
    "# dataset_name = 'adult.csv'\n",
    "# dataset = prepare_adult_dataset(dataset_name, path_data)\n",
    "\n",
    "X, y = dataset['X'], dataset['y']\n",
    "X_train, X_test, y_train, y_test = train_test_split(X, y, test_size=0.2, random_state=0)\n",
    "\n",
    "blackbox = RandomForestClassifier(n_estimators=20)\n",
    "blackbox.fit(X_train, y_train)\n",
    "\n",
    "X2E = X_test\n",
    "y2E = blackbox.predict(X2E)\n",
    "y2E = np.asarray([dataset['possible_outcomes'][i] for i in y2E])\n",
    "\n",
    "idx_record2explain = 0\n",
    "\n",
    "explanation, infos = lore.explain(idx_record2explain, X2E, dataset, blackbox,\n",
    "                                  ng_function=genetic_neighborhood,\n",
    "                                  discrete_use_probabilities=True,\n",
    "                                  continuous_function_estimation=False,\n",
    "                                  returns_infos=True,\n",
    "                                  path=path_data, sep=';', log=False)\n",
    "\n",
    "dfX2E = build_df2explain(blackbox, X2E, dataset).to_dict('records')\n",
    "dfx = dfX2E[idx_record2explain]\n",
    "# x = build_df2explain(blackbox, X2E[idx_record2explain].reshape(1, -1), dataset).to_dict('records')[0]\n",
    "\n",
    "print('x = %s' % dfx)\n",
    "print('r = %s --> %s' % (explanation[0][1], explanation[0][0]))\n",
    "for delta in explanation[1]:\n",
    "    print('delta', delta)\n",
    "\n",
    "covered = lore.get_covered(explanation[0][1], dfX2E, dataset)\n",
    "print(len(covered))\n",
    "print(covered)\n",
    "\n",
    "print(explanation[0][0][dataset['class_name']], '<<<<')\n",
    "\n",
    "def eval(x, y):\n",
    "    return 1 if x == y else 0\n",
    "\n",
    "precision = [1-eval(v, explanation[0][0][dataset['class_name']]) for v in y2E[covered]]\n",
    "print(precision)\n",
    "print(np.mean(precision), np.std(precision))\n"
   ],
   "outputs": [
    {
     "output_type": "stream",
     "name": "stdout",
     "text": [
      "['High' 'Medium-Low']\n",
      "['Medium-Low', 'High']\n"
     ]
    },
    {
     "output_type": "stream",
     "name": "stderr",
     "text": [
      "/home/jrhs/.pyenv/versions/3.8.11/envs/tf/lib/python3.8/site-packages/deap/creator.py:138: RuntimeWarning: A class named 'fitness' has already been created and it will be overwritten. Consider deleting previous creation of that class or rename it.\n",
      "  warnings.warn(\"A class named '{0}' has already been created and it \"\n",
      "/home/jrhs/.pyenv/versions/3.8.11/envs/tf/lib/python3.8/site-packages/deap/creator.py:138: RuntimeWarning: A class named 'individual' has already been created and it will be overwritten. Consider deleting previous creation of that class or rename it.\n",
      "  warnings.warn(\"A class named '{0}' has already been created and it \"\n"
     ]
    },
    {
     "output_type": "stream",
     "name": "stdout",
     "text": [
      "x = {'class': 'Medium-Low', 'age': 28, 'age_cat': '25 - 45', 'sex': 'Male', 'race': 'African-American', 'priors_count': 5, 'days_b_screening_arrest': 0, 'c_charge_degree': 'F', 'is_recid': 1, 'is_violent_recid': 0, 'two_year_recid': 0, 'length_of_stay': 51}\n",
      "r = {'age': '>25', 'priors_count': '<=8', 'length_of_stay': '>44'} --> {'class': 'Medium-Low'}\n",
      "delta {}\n",
      "73\n",
      "[0, 3, 16, 82, 97, 145, 175, 185, 188, 223, 241, 300, 316, 319, 326, 389, 406, 425, 437, 451, 478, 501, 511, 526, 531, 586, 595, 602, 607, 617, 638, 645, 650, 682, 698, 701, 719, 733, 809, 842, 846, 857, 859, 870, 871, 890, 891, 893, 898, 899, 908, 919, 937, 941, 948, 953, 985, 999, 1009, 1060, 1092, 1122, 1183, 1208, 1253, 1324, 1340, 1363, 1366, 1368, 1384, 1414, 1432]\n",
      "Medium-Low <<<<\n",
      "[1, 0, 0, 1, 1, 0, 1, 0, 1, 0, 1, 0, 1, 1, 1, 1, 0, 1, 0, 1, 1, 1, 0, 1, 1, 0, 1, 1, 1, 1, 1, 1, 0, 1, 1, 1, 0, 1, 0, 1, 1, 0, 1, 1, 1, 1, 1, 1, 1, 1, 1, 1, 1, 1, 1, 0, 0, 1, 1, 1, 1, 0, 1, 0, 1, 1, 1, 0, 1, 1, 1, 0, 1]\n",
      "0.726027397260274 0.44599508482464956\n"
     ]
    }
   ],
   "metadata": {}
  },
  {
   "cell_type": "code",
   "execution_count": null,
   "source": [],
   "outputs": [],
   "metadata": {}
  }
 ],
 "metadata": {
  "kernelspec": {
   "name": "python3",
   "display_name": "Python 3.9.4 64-bit ('dl': pyenv)"
  },
  "language_info": {
   "codemirror_mode": {
    "name": "ipython",
    "version": 3
   },
   "file_extension": ".py",
   "mimetype": "text/x-python",
   "name": "python",
   "nbconvert_exporter": "python",
   "pygments_lexer": "ipython3",
   "version": "3.9.4"
  },
  "interpreter": {
   "hash": "ce84662d2f539e4595bb685d63d62db000d81e5edf3f86cfc940c024e0f53738"
  }
 },
 "nbformat": 4,
 "nbformat_minor": 5
}