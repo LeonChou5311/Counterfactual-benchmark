{
 "cells": [
  {
   "cell_type": "code",
   "execution_count": 1,
   "source": [
    "import tensorflow as tf\n",
    "import pandas as pd\n",
    "import numpy as np\n",
    "\n",
    "from utils.df_loader import load_adult_df, load_compas_df, load_german_df\n",
    "from utils.preprocessing import preprocess_df\n",
    "from sklearn.model_selection import train_test_split\n",
    "from utils.dice import generate_dice_result, process_results\n",
    "from utils.models import train_three_models, evaluation_test, save_three_models, load_three_models\n",
    "from utils.save import save_result_as_csv\n",
    "\n",
    "pd.options.mode.chained_assignment = None \n",
    "\n",
    "print('TF version: ', tf.__version__)\n",
    "print('Eager execution enabled: ', tf.executing_eagerly()) # False\n",
    "\n",
    "\n",
    "seed = 123\n",
    "tf.random.set_seed(seed)\n",
    "np.random.seed(seed)\n"
   ],
   "outputs": [
    {
     "output_type": "stream",
     "name": "stdout",
     "text": [
      "TF version:  2.4.0-rc0\n",
      "Eager execution enabled:  True\n"
     ]
    }
   ],
   "metadata": {}
  },
  {
   "cell_type": "code",
   "execution_count": 2,
   "source": [
    "dataset_name = 'adult'\n",
    "\n",
    "if dataset_name == 'adult':\n",
    "    dataset_loading_fn = load_adult_df\n",
    "elif dataset_name == 'german':\n",
    "    dataset_loading_fn = load_german_df\n",
    "elif dataset_name == 'compas':\n",
    "    dataset_loading_fn = load_compas_df\n",
    "else:\n",
    "    raise Exception(\"Unsupported dataset\")"
   ],
   "outputs": [],
   "metadata": {}
  },
  {
   "cell_type": "code",
   "execution_count": 3,
   "source": [
    "df_info = preprocess_df(dataset_loading_fn)"
   ],
   "outputs": [],
   "metadata": {}
  },
  {
   "cell_type": "code",
   "execution_count": 4,
   "source": [
    "train_df, test_df = train_test_split(df_info.dummy_df, train_size=.8, random_state=seed, shuffle=True)"
   ],
   "outputs": [],
   "metadata": {}
  },
  {
   "cell_type": "code",
   "execution_count": 5,
   "source": [
    "X_train = np.array(train_df[df_info.ohe_feature_names])\n",
    "y_train = np.array(train_df[df_info.target_name])\n",
    "X_test = np.array(test_df[df_info.ohe_feature_names])\n",
    "y_test = np.array(test_df[df_info.target_name])"
   ],
   "outputs": [],
   "metadata": {}
  },
  {
   "cell_type": "code",
   "execution_count": 6,
   "source": [
    "models = train_three_models(X_train, y_train)"
   ],
   "outputs": [
    {
     "output_type": "stream",
     "name": "stdout",
     "text": [
      "Epoch 1/20\n",
      "407/407 [==============================] - 0s 389us/step - loss: 0.4766 - accuracy: 0.7755\n",
      "Epoch 2/20\n",
      "407/407 [==============================] - 0s 385us/step - loss: 0.3505 - accuracy: 0.8335\n",
      "Epoch 3/20\n",
      "407/407 [==============================] - 0s 382us/step - loss: 0.3362 - accuracy: 0.8426\n",
      "Epoch 4/20\n",
      "407/407 [==============================] - 0s 379us/step - loss: 0.3238 - accuracy: 0.8501\n",
      "Epoch 5/20\n",
      "407/407 [==============================] - 0s 380us/step - loss: 0.3148 - accuracy: 0.8546\n",
      "Epoch 6/20\n",
      "407/407 [==============================] - 0s 377us/step - loss: 0.3212 - accuracy: 0.8515\n",
      "Epoch 7/20\n",
      "407/407 [==============================] - 0s 379us/step - loss: 0.3105 - accuracy: 0.8558\n",
      "Epoch 8/20\n",
      "407/407 [==============================] - 0s 382us/step - loss: 0.3123 - accuracy: 0.8543\n",
      "Epoch 9/20\n",
      "407/407 [==============================] - 0s 378us/step - loss: 0.3051 - accuracy: 0.8575\n",
      "Epoch 10/20\n",
      "407/407 [==============================] - 0s 378us/step - loss: 0.3048 - accuracy: 0.8565\n",
      "Epoch 11/20\n",
      "407/407 [==============================] - 0s 378us/step - loss: 0.3031 - accuracy: 0.8611\n",
      "Epoch 12/20\n",
      "407/407 [==============================] - 0s 378us/step - loss: 0.3105 - accuracy: 0.8519\n",
      "Epoch 13/20\n",
      "407/407 [==============================] - 0s 379us/step - loss: 0.3053 - accuracy: 0.8575\n",
      "Epoch 14/20\n",
      "407/407 [==============================] - 0s 380us/step - loss: 0.3059 - accuracy: 0.8563\n",
      "Epoch 15/20\n",
      "407/407 [==============================] - 0s 380us/step - loss: 0.3045 - accuracy: 0.8561\n",
      "Epoch 16/20\n",
      "407/407 [==============================] - 0s 376us/step - loss: 0.3008 - accuracy: 0.8576\n",
      "Epoch 17/20\n",
      "407/407 [==============================] - 0s 379us/step - loss: 0.2944 - accuracy: 0.8599\n",
      "Epoch 18/20\n",
      "407/407 [==============================] - 0s 377us/step - loss: 0.2932 - accuracy: 0.8665\n",
      "Epoch 19/20\n",
      "407/407 [==============================] - 0s 376us/step - loss: 0.2938 - accuracy: 0.8621\n",
      "Epoch 20/20\n",
      "407/407 [==============================] - 0s 376us/step - loss: 0.2978 - accuracy: 0.8611\n"
     ]
    }
   ],
   "metadata": {}
  },
  {
   "cell_type": "code",
   "execution_count": 7,
   "source": [
    "### Print out accuracy on testset.\n",
    "evaluation_test(models, X_test, y_test)"
   ],
   "outputs": [
    {
     "output_type": "stream",
     "name": "stdout",
     "text": [
      "DT: [0.8216] | RF [0.8465] | NN [0.8508]\n"
     ]
    }
   ],
   "metadata": {}
  },
  {
   "cell_type": "code",
   "execution_count": 8,
   "source": [
    "save_three_models(models, dataset_name)"
   ],
   "outputs": [],
   "metadata": {}
  },
  {
   "cell_type": "code",
   "execution_count": 9,
   "source": [
    "models = load_three_models(X_train.shape[-1], dataset_name)"
   ],
   "outputs": [],
   "metadata": {}
  },
  {
   "cell_type": "markdown",
   "source": [
    "# DiCE"
   ],
   "metadata": {}
  },
  {
   "cell_type": "code",
   "execution_count": 10,
   "source": [
    "num_instances = 5\n",
    "num_cf_per_instance = 1\n",
    "\n",
    "results = generate_dice_result(df_info, test_df, models, num_instances, num_cf_per_instance, 50)\n",
    "result_dfs = process_results(df_info, results)\n",
    "save_result_as_csv(\"dice\", dataset_name, result_dfs)"
   ],
   "outputs": [
    {
     "output_type": "stream",
     "name": "stderr",
     "text": [
      "100%|██████████| 1/1 [00:00<00:00,  6.52it/s]\n",
      "  0%|          | 0/1 [00:00<?, ?it/s]"
     ]
    },
    {
     "output_type": "stream",
     "name": "stdout",
     "text": [
      "Finding counterfactual for dt\n",
      "instance 0\n",
      "CF 0\n",
      "instance 1\n",
      "CF 0\n"
     ]
    },
    {
     "output_type": "stream",
     "name": "stderr",
     "text": [
      "100%|██████████| 1/1 [00:00<00:00,  6.85it/s]\n",
      "100%|██████████| 1/1 [00:00<00:00,  6.84it/s]\n",
      "  0%|          | 0/1 [00:00<?, ?it/s]"
     ]
    },
    {
     "output_type": "stream",
     "name": "stdout",
     "text": [
      "instance 2\n",
      "CF 0\n",
      "instance 3\n",
      "CF 0\n"
     ]
    },
    {
     "output_type": "stream",
     "name": "stderr",
     "text": [
      "100%|██████████| 1/1 [00:00<00:00,  6.76it/s]\n",
      "100%|██████████| 1/1 [00:00<00:00,  6.89it/s]\n",
      "  0%|          | 0/1 [00:00<?, ?it/s]"
     ]
    },
    {
     "output_type": "stream",
     "name": "stdout",
     "text": [
      "instance 4\n",
      "CF 0\n",
      "Finding counterfactual for rfc\n",
      "instance 0\n",
      "CF 0\n"
     ]
    },
    {
     "output_type": "stream",
     "name": "stderr",
     "text": [
      "100%|██████████| 1/1 [00:00<00:00,  5.78it/s]\n",
      "100%|██████████| 1/1 [00:00<00:00,  5.97it/s]\n",
      "  0%|          | 0/1 [00:00<?, ?it/s]"
     ]
    },
    {
     "output_type": "stream",
     "name": "stdout",
     "text": [
      "instance 1\n",
      "CF 0\n",
      "instance 2\n",
      "CF 0\n"
     ]
    },
    {
     "output_type": "stream",
     "name": "stderr",
     "text": [
      "100%|██████████| 1/1 [00:00<00:00,  6.08it/s]\n",
      "100%|██████████| 1/1 [00:00<00:00,  6.09it/s]\n",
      "  0%|          | 0/1 [00:00<?, ?it/s]"
     ]
    },
    {
     "output_type": "stream",
     "name": "stdout",
     "text": [
      "instance 3\n",
      "CF 0\n",
      "instance 4\n",
      "CF 0\n"
     ]
    },
    {
     "output_type": "stream",
     "name": "stderr",
     "text": [
      "100%|██████████| 1/1 [00:00<00:00,  6.12it/s]\n",
      "  0%|          | 0/1 [00:00<?, ?it/s]"
     ]
    },
    {
     "output_type": "stream",
     "name": "stdout",
     "text": [
      "Finding counterfactual for nn\n",
      "instance 0\n",
      "CF 0\n"
     ]
    },
    {
     "output_type": "stream",
     "name": "stderr",
     "text": [
      "100%|██████████| 1/1 [00:00<00:00,  2.03it/s]\n",
      "  0%|          | 0/1 [00:00<?, ?it/s]"
     ]
    },
    {
     "output_type": "stream",
     "name": "stdout",
     "text": [
      "No Counterfactuals found for the given configuration, perhaps try with different parameters... ; total time taken: 00 min 00 sec\n",
      "instance 1\n",
      "CF 0\n"
     ]
    },
    {
     "output_type": "stream",
     "name": "stderr",
     "text": [
      "100%|██████████| 1/1 [00:00<00:00,  2.14it/s]\n",
      "  0%|          | 0/1 [00:00<?, ?it/s]"
     ]
    },
    {
     "output_type": "stream",
     "name": "stdout",
     "text": [
      "No Counterfactuals found for the given configuration, perhaps try with different parameters... ; total time taken: 00 min 00 sec\n",
      "instance 2\n",
      "CF 0\n"
     ]
    },
    {
     "output_type": "stream",
     "name": "stderr",
     "text": [
      "100%|██████████| 1/1 [00:00<00:00,  2.16it/s]\n",
      "  0%|          | 0/1 [00:00<?, ?it/s]"
     ]
    },
    {
     "output_type": "stream",
     "name": "stdout",
     "text": [
      "No Counterfactuals found for the given configuration, perhaps try with different parameters... ; total time taken: 00 min 00 sec\n",
      "instance 3\n",
      "CF 0\n"
     ]
    },
    {
     "output_type": "stream",
     "name": "stderr",
     "text": [
      "100%|██████████| 1/1 [00:00<00:00,  2.15it/s]\n",
      "  0%|          | 0/1 [00:00<?, ?it/s]"
     ]
    },
    {
     "output_type": "stream",
     "name": "stdout",
     "text": [
      "No Counterfactuals found for the given configuration, perhaps try with different parameters... ; total time taken: 00 min 00 sec\n",
      "instance 4\n",
      "CF 0\n"
     ]
    },
    {
     "output_type": "stream",
     "name": "stderr",
     "text": [
      "100%|██████████| 1/1 [00:00<00:00,  2.14it/s]"
     ]
    },
    {
     "output_type": "stream",
     "name": "stdout",
     "text": [
      "No Counterfactuals found for the given configuration, perhaps try with different parameters... ; total time taken: 00 min 00 sec\n"
     ]
    },
    {
     "output_type": "stream",
     "name": "stderr",
     "text": [
      "\n"
     ]
    }
   ],
   "metadata": {}
  },
  {
   "cell_type": "code",
   "execution_count": null,
   "source": [],
   "outputs": [],
   "metadata": {}
  }
 ],
 "metadata": {
  "orig_nbformat": 4,
  "language_info": {
   "name": "python",
   "version": "3.8.10",
   "mimetype": "text/x-python",
   "codemirror_mode": {
    "name": "ipython",
    "version": 3
   },
   "pygments_lexer": "ipython3",
   "nbconvert_exporter": "python",
   "file_extension": ".py"
  },
  "kernelspec": {
   "name": "python3",
   "display_name": "Python 3.8.10 64-bit ('tf_mac': conda)"
  },
  "interpreter": {
   "hash": "5c622353f32ef24c8d83e5c3e334107c074e82d7c3e8ca52c56b9fc900ce33e6"
  }
 },
 "nbformat": 4,
 "nbformat_minor": 2
}