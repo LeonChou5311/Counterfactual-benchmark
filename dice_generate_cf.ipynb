{
 "cells": [
  {
   "cell_type": "code",
   "execution_count": 1,
   "metadata": {},
   "outputs": [
    {
     "name": "stdout",
     "output_type": "stream",
     "text": [
      "TF version:  2.0.0\n",
      "Eager execution enabled:  True\n"
     ]
    }
   ],
   "source": [
    "import tensorflow as tf\n",
    "import pandas as pd\n",
    "import numpy as np\n",
    "\n",
    "from utils.df_loader import load_adult_df, load_compas_df, load_german_df, load_diabetes_df, load_breast_cancer_df\n",
    "from utils.preprocessing import preprocess_df\n",
    "from sklearn.model_selection import train_test_split\n",
    "from utils.dice import generate_dice_result, process_results\n",
    "from utils.models import train_three_models, evaluation_test, save_three_models, load_three_models\n",
    "from utils.save import save_result_as_csv\n",
    "\n",
    "pd.options.mode.chained_assignment = None \n",
    "\n",
    "print('TF version: ', tf.__version__)\n",
    "print('Eager execution enabled: ', tf.executing_eagerly()) # False\n",
    "\n",
    "seed = 123\n",
    "tf.random.set_seed(seed)\n",
    "np.random.seed(seed)\n"
   ]
  },
  {
   "cell_type": "code",
   "execution_count": 2,
   "metadata": {},
   "outputs": [],
   "source": [
    "#### Select dataset ####'\n",
    "\n",
    "dataset_name = 'diabetes' # [adult, german, compas]\n",
    "\n",
    "if dataset_name == 'adult':\n",
    "    dataset_loading_fn = load_adult_df\n",
    "elif dataset_name == 'german':\n",
    "    dataset_loading_fn = load_german_df\n",
    "elif dataset_name == 'compas':\n",
    "    dataset_loading_fn = load_compas_df\n",
    "elif dataset_name == 'diabetes':\n",
    "    dataset_loading_fn = load_diabetes_df\n",
    "elif dataset_name == 'breast_cancer':\n",
    "    dataset_loading_fn = load_breast_cancer_df\n",
    "else:\n",
    "    raise Exception(\"Unsupported dataset\")"
   ]
  },
  {
   "cell_type": "code",
   "execution_count": 3,
   "metadata": {},
   "outputs": [],
   "source": [
    "#### Load datafram info.\n",
    "df_info = preprocess_df(dataset_loading_fn)"
   ]
  },
  {
   "cell_type": "code",
   "execution_count": 4,
   "metadata": {},
   "outputs": [],
   "source": [
    "### Seperate to train and test set.\n",
    "train_df, test_df = train_test_split(df_info.dummy_df, train_size=.8, random_state=seed, shuffle=True)"
   ]
  },
  {
   "cell_type": "code",
   "execution_count": 5,
   "metadata": {},
   "outputs": [
    {
     "data": {
      "text/html": [
       "<div>\n",
       "<style scoped>\n",
       "    .dataframe tbody tr th:only-of-type {\n",
       "        vertical-align: middle;\n",
       "    }\n",
       "\n",
       "    .dataframe tbody tr th {\n",
       "        vertical-align: top;\n",
       "    }\n",
       "\n",
       "    .dataframe thead th {\n",
       "        text-align: right;\n",
       "    }\n",
       "</style>\n",
       "<table border=\"1\" class=\"dataframe\">\n",
       "  <thead>\n",
       "    <tr style=\"text-align: right;\">\n",
       "      <th></th>\n",
       "      <th>Pregnancies</th>\n",
       "      <th>Glucose</th>\n",
       "      <th>BloodPressure</th>\n",
       "      <th>SkinThickness</th>\n",
       "      <th>Insulin</th>\n",
       "      <th>BMI</th>\n",
       "      <th>DiabetesPedigreeFunction</th>\n",
       "      <th>Age</th>\n",
       "      <th>Outcome</th>\n",
       "    </tr>\n",
       "  </thead>\n",
       "  <tbody>\n",
       "    <tr>\n",
       "      <th>236</th>\n",
       "      <td>0.411765</td>\n",
       "      <td>0.909548</td>\n",
       "      <td>0.688525</td>\n",
       "      <td>0.212121</td>\n",
       "      <td>0.226950</td>\n",
       "      <td>0.535022</td>\n",
       "      <td>0.216909</td>\n",
       "      <td>0.500000</td>\n",
       "      <td>1</td>\n",
       "    </tr>\n",
       "    <tr>\n",
       "      <th>395</th>\n",
       "      <td>0.117647</td>\n",
       "      <td>0.638191</td>\n",
       "      <td>0.475410</td>\n",
       "      <td>0.242424</td>\n",
       "      <td>0.325059</td>\n",
       "      <td>0.412817</td>\n",
       "      <td>0.649872</td>\n",
       "      <td>0.066667</td>\n",
       "      <td>0</td>\n",
       "    </tr>\n",
       "    <tr>\n",
       "      <th>36</th>\n",
       "      <td>0.647059</td>\n",
       "      <td>0.693467</td>\n",
       "      <td>0.622951</td>\n",
       "      <td>0.000000</td>\n",
       "      <td>0.000000</td>\n",
       "      <td>0.494784</td>\n",
       "      <td>0.146029</td>\n",
       "      <td>0.233333</td>\n",
       "      <td>0</td>\n",
       "    </tr>\n",
       "    <tr>\n",
       "      <th>210</th>\n",
       "      <td>0.117647</td>\n",
       "      <td>0.407035</td>\n",
       "      <td>0.491803</td>\n",
       "      <td>0.222222</td>\n",
       "      <td>0.000000</td>\n",
       "      <td>0.412817</td>\n",
       "      <td>0.090521</td>\n",
       "      <td>0.066667</td>\n",
       "      <td>0</td>\n",
       "    </tr>\n",
       "    <tr>\n",
       "      <th>483</th>\n",
       "      <td>0.000000</td>\n",
       "      <td>0.422111</td>\n",
       "      <td>0.672131</td>\n",
       "      <td>0.313131</td>\n",
       "      <td>0.147754</td>\n",
       "      <td>0.569300</td>\n",
       "      <td>0.066183</td>\n",
       "      <td>0.033333</td>\n",
       "      <td>0</td>\n",
       "    </tr>\n",
       "    <tr>\n",
       "      <th>...</th>\n",
       "      <td>...</td>\n",
       "      <td>...</td>\n",
       "      <td>...</td>\n",
       "      <td>...</td>\n",
       "      <td>...</td>\n",
       "      <td>...</td>\n",
       "      <td>...</td>\n",
       "      <td>...</td>\n",
       "      <td>...</td>\n",
       "    </tr>\n",
       "    <tr>\n",
       "      <th>650</th>\n",
       "      <td>0.058824</td>\n",
       "      <td>0.457286</td>\n",
       "      <td>0.442623</td>\n",
       "      <td>0.252525</td>\n",
       "      <td>0.118203</td>\n",
       "      <td>0.375559</td>\n",
       "      <td>0.066610</td>\n",
       "      <td>0.033333</td>\n",
       "      <td>0</td>\n",
       "    </tr>\n",
       "    <tr>\n",
       "      <th>579</th>\n",
       "      <td>0.117647</td>\n",
       "      <td>0.989950</td>\n",
       "      <td>0.573770</td>\n",
       "      <td>1.000000</td>\n",
       "      <td>0.000000</td>\n",
       "      <td>0.517139</td>\n",
       "      <td>0.212212</td>\n",
       "      <td>0.683333</td>\n",
       "      <td>1</td>\n",
       "    </tr>\n",
       "    <tr>\n",
       "      <th>119</th>\n",
       "      <td>0.235294</td>\n",
       "      <td>0.497487</td>\n",
       "      <td>0.622951</td>\n",
       "      <td>0.151515</td>\n",
       "      <td>0.060284</td>\n",
       "      <td>0.345753</td>\n",
       "      <td>0.061913</td>\n",
       "      <td>0.000000</td>\n",
       "      <td>0</td>\n",
       "    </tr>\n",
       "    <tr>\n",
       "      <th>593</th>\n",
       "      <td>0.117647</td>\n",
       "      <td>0.412060</td>\n",
       "      <td>0.426230</td>\n",
       "      <td>0.222222</td>\n",
       "      <td>0.135934</td>\n",
       "      <td>0.424739</td>\n",
       "      <td>0.692143</td>\n",
       "      <td>0.066667</td>\n",
       "      <td>0</td>\n",
       "    </tr>\n",
       "    <tr>\n",
       "      <th>310</th>\n",
       "      <td>0.352941</td>\n",
       "      <td>0.402010</td>\n",
       "      <td>0.540984</td>\n",
       "      <td>0.303030</td>\n",
       "      <td>0.000000</td>\n",
       "      <td>0.390462</td>\n",
       "      <td>0.100342</td>\n",
       "      <td>0.333333</td>\n",
       "      <td>0</td>\n",
       "    </tr>\n",
       "  </tbody>\n",
       "</table>\n",
       "<p>154 rows × 9 columns</p>\n",
       "</div>"
      ],
      "text/plain": [
       "     Pregnancies   Glucose  BloodPressure  SkinThickness   Insulin       BMI  \\\n",
       "236     0.411765  0.909548       0.688525       0.212121  0.226950  0.535022   \n",
       "395     0.117647  0.638191       0.475410       0.242424  0.325059  0.412817   \n",
       "36      0.647059  0.693467       0.622951       0.000000  0.000000  0.494784   \n",
       "210     0.117647  0.407035       0.491803       0.222222  0.000000  0.412817   \n",
       "483     0.000000  0.422111       0.672131       0.313131  0.147754  0.569300   \n",
       "..           ...       ...            ...            ...       ...       ...   \n",
       "650     0.058824  0.457286       0.442623       0.252525  0.118203  0.375559   \n",
       "579     0.117647  0.989950       0.573770       1.000000  0.000000  0.517139   \n",
       "119     0.235294  0.497487       0.622951       0.151515  0.060284  0.345753   \n",
       "593     0.117647  0.412060       0.426230       0.222222  0.135934  0.424739   \n",
       "310     0.352941  0.402010       0.540984       0.303030  0.000000  0.390462   \n",
       "\n",
       "     DiabetesPedigreeFunction       Age  Outcome  \n",
       "236                  0.216909  0.500000        1  \n",
       "395                  0.649872  0.066667        0  \n",
       "36                   0.146029  0.233333        0  \n",
       "210                  0.090521  0.066667        0  \n",
       "483                  0.066183  0.033333        0  \n",
       "..                        ...       ...      ...  \n",
       "650                  0.066610  0.033333        0  \n",
       "579                  0.212212  0.683333        1  \n",
       "119                  0.061913  0.000000        0  \n",
       "593                  0.692143  0.066667        0  \n",
       "310                  0.100342  0.333333        0  \n",
       "\n",
       "[154 rows x 9 columns]"
      ]
     },
     "execution_count": 5,
     "metadata": {},
     "output_type": "execute_result"
    }
   ],
   "source": [
    "test_df"
   ]
  },
  {
   "cell_type": "code",
   "execution_count": 6,
   "metadata": {},
   "outputs": [],
   "source": [
    "### Get training and testing array.\n",
    "X_train = np.array(train_df[df_info.ohe_feature_names])\n",
    "y_train = np.array(train_df[df_info.target_name])\n",
    "X_test = np.array(test_df[df_info.ohe_feature_names])\n",
    "y_test = np.array(test_df[df_info.target_name])"
   ]
  },
  {
   "cell_type": "code",
   "execution_count": 7,
   "metadata": {},
   "outputs": [],
   "source": [
    "### Train models.\n",
    "# models = train_three_models(X_train, y_train)\n",
    "\n",
    "### Save models.\n",
    "# save_three_models(models, dataset_name)"
   ]
  },
  {
   "cell_type": "code",
   "execution_count": 8,
   "metadata": {},
   "outputs": [
    {
     "name": "stdout",
     "output_type": "stream",
     "text": [
      "WARNING:tensorflow:Sequential models without an `input_shape` passed to the first layer cannot reload their optimizer state. As a result, your model isstarting with a freshly initialized optimizer.\n"
     ]
    },
    {
     "name": "stderr",
     "output_type": "stream",
     "text": [
      "/Users/yu-liangchou/opt/anaconda3/envs/cf_2022_final/lib/python3.7/site-packages/sklearn/base.py:338: UserWarning: Trying to unpickle estimator DecisionTreeClassifier from version 0.24.2 when using version 1.0.2. This might lead to breaking code or invalid results. Use at your own risk. For more info please refer to:\n",
      "https://scikit-learn.org/stable/modules/model_persistence.html#security-maintainability-limitations\n",
      "  UserWarning,\n",
      "/Users/yu-liangchou/opt/anaconda3/envs/cf_2022_final/lib/python3.7/site-packages/sklearn/base.py:338: UserWarning: Trying to unpickle estimator RandomForestClassifier from version 0.24.2 when using version 1.0.2. This might lead to breaking code or invalid results. Use at your own risk. For more info please refer to:\n",
      "https://scikit-learn.org/stable/modules/model_persistence.html#security-maintainability-limitations\n",
      "  UserWarning,\n",
      "2022-03-07 16:12:55.985293: I tensorflow/core/platform/cpu_feature_guard.cc:145] This TensorFlow binary is optimized with Intel(R) MKL-DNN to use the following CPU instructions in performance critical operations:  SSE4.1 SSE4.2\n",
      "To enable them in non-MKL-DNN operations, rebuild TensorFlow with the appropriate compiler flags.\n",
      "2022-03-07 16:12:55.985671: I tensorflow/core/common_runtime/process_util.cc:115] Creating new thread pool with default inter op setting: 8. Tune using inter_op_parallelism_threads for best performance.\n"
     ]
    }
   ],
   "source": [
    "### Load models.\n",
    "models = load_three_models(X_train.shape[-1], dataset_name)"
   ]
  },
  {
   "cell_type": "code",
   "execution_count": 9,
   "metadata": {},
   "outputs": [
    {
     "name": "stdout",
     "output_type": "stream",
     "text": [
      "DT: [0.7727] | RF [0.7987] | NN [0.7662]\n"
     ]
    }
   ],
   "source": [
    "### Print out accuracy on testset.\n",
    "evaluation_test(models, X_test, y_test)"
   ]
  },
  {
   "cell_type": "markdown",
   "metadata": {},
   "source": [
    "# DiCE"
   ]
  },
  {
   "cell_type": "code",
   "execution_count": 10,
   "metadata": {},
   "outputs": [],
   "source": [
    "### Setting up the CF generating amount.\n",
    "num_instances = 3\n",
    "num_cf_per_instance = 1"
   ]
  },
  {
   "cell_type": "code",
   "execution_count": 11,
   "metadata": {},
   "outputs": [
    {
     "name": "stdout",
     "output_type": "stream",
     "text": [
      "Finding counterfactual for nn\n",
      "instance 0\n",
      "CF 0\n"
     ]
    },
    {
     "name": "stderr",
     "output_type": "stream",
     "text": [
      "  0%|          | 0/1 [00:00<?, ?it/s]"
     ]
    },
    {
     "name": "stdout",
     "output_type": "stream",
     "text": [
      "WARNING:tensorflow:Layer sequential is casting an input tensor from dtype float64 to the layer's dtype of float32, which is new behavior in TensorFlow 2.  The layer has dtype float32 because it's dtype defaults to floatx.\n",
      "\n",
      "If you intended to run this layer in float32, you can safely ignore this warning. If in doubt, this warning is likely only an issue if you are porting a TensorFlow 1.X model to TensorFlow 2.\n",
      "\n",
      "To change all layers to have dtype float64 by default, call `tf.keras.backend.set_floatx('float64')`. To change just this layer, pass dtype='float64' to the layer constructor. If you are the author of this layer, you can disable autocasting by passing autocast=False to the base Layer constructor.\n",
      "\n"
     ]
    },
    {
     "name": "stderr",
     "output_type": "stream",
     "text": [
      "100%|██████████| 1/1 [00:00<00:00, 16.95it/s]\n"
     ]
    },
    {
     "name": "stdout",
     "output_type": "stream",
     "text": [
      "instance 1\n",
      "CF 0\n"
     ]
    },
    {
     "name": "stderr",
     "output_type": "stream",
     "text": [
      "100%|██████████| 1/1 [00:00<00:00, 19.18it/s]\n"
     ]
    },
    {
     "name": "stdout",
     "output_type": "stream",
     "text": [
      "instance 2\n",
      "CF 0\n"
     ]
    },
    {
     "name": "stderr",
     "output_type": "stream",
     "text": [
      "100%|██████████| 1/1 [00:00<00:00, 18.55it/s]\n"
     ]
    }
   ],
   "source": [
    "# Generate CF\n",
    "results = generate_dice_result(\n",
    "    df_info,\n",
    "    test_df,\n",
    "    models,\n",
    "    num_instances,\n",
    "    num_cf_per_instance,\n",
    "    sample_size=50,\n",
    "    models_to_run=['nn']\n",
    ")\n",
    "result_dfs = process_results(df_info, results)\n"
   ]
  },
  {
   "cell_type": "code",
   "execution_count": 12,
   "metadata": {},
   "outputs": [],
   "source": [
    "from utils.dice import Recorder"
   ]
  },
  {
   "cell_type": "code",
   "execution_count": 13,
   "metadata": {},
   "outputs": [],
   "source": [
    "i = 0\n",
    "example_input = df_info.scaled_df.iloc[test_df[i:i+1].index].iloc[0:1]"
   ]
  },
  {
   "cell_type": "code",
   "execution_count": 14,
   "metadata": {},
   "outputs": [
    {
     "data": {
      "text/html": [
       "<div>\n",
       "<style scoped>\n",
       "    .dataframe tbody tr th:only-of-type {\n",
       "        vertical-align: middle;\n",
       "    }\n",
       "\n",
       "    .dataframe tbody tr th {\n",
       "        vertical-align: top;\n",
       "    }\n",
       "\n",
       "    .dataframe thead th {\n",
       "        text-align: right;\n",
       "    }\n",
       "</style>\n",
       "<table border=\"1\" class=\"dataframe\">\n",
       "  <thead>\n",
       "    <tr style=\"text-align: right;\">\n",
       "      <th></th>\n",
       "      <th>Pregnancies</th>\n",
       "      <th>Glucose</th>\n",
       "      <th>BloodPressure</th>\n",
       "      <th>SkinThickness</th>\n",
       "      <th>Insulin</th>\n",
       "      <th>BMI</th>\n",
       "      <th>DiabetesPedigreeFunction</th>\n",
       "      <th>Age</th>\n",
       "      <th>Outcome</th>\n",
       "    </tr>\n",
       "  </thead>\n",
       "  <tbody>\n",
       "    <tr>\n",
       "      <th>236</th>\n",
       "      <td>0.411765</td>\n",
       "      <td>0.909548</td>\n",
       "      <td>0.688525</td>\n",
       "      <td>0.212121</td>\n",
       "      <td>0.22695</td>\n",
       "      <td>0.535022</td>\n",
       "      <td>0.216909</td>\n",
       "      <td>0.5</td>\n",
       "      <td>Y</td>\n",
       "    </tr>\n",
       "  </tbody>\n",
       "</table>\n",
       "</div>"
      ],
      "text/plain": [
       "     Pregnancies   Glucose  BloodPressure  SkinThickness  Insulin       BMI  \\\n",
       "236     0.411765  0.909548       0.688525       0.212121  0.22695  0.535022   \n",
       "\n",
       "     DiabetesPedigreeFunction  Age Outcome  \n",
       "236                  0.216909  0.5       Y  "
      ]
     },
     "execution_count": 14,
     "metadata": {},
     "output_type": "execute_result"
    }
   ],
   "source": [
    "example_input"
   ]
  },
  {
   "cell_type": "code",
   "execution_count": 15,
   "metadata": {},
   "outputs": [
    {
     "name": "stdout",
     "output_type": "stream",
     "text": [
      "[1]\n",
      "[1]\n",
      "[1]\n"
     ]
    }
   ],
   "source": [
    "print(Recorder.wrapped_models['nn'].predict(example_input))\n",
    "print(Recorder.wrapped_models['dt'].predict(example_input))\n",
    "print(Recorder.wrapped_models['rfc'].predict(example_input))"
   ]
  },
  {
   "cell_type": "code",
   "execution_count": 16,
   "metadata": {},
   "outputs": [
    {
     "name": "stdout",
     "output_type": "stream",
     "text": [
      "[[0.2315318 0.7684682]]\n",
      "[[0. 1.]]\n",
      "[[0.16 0.84]]\n"
     ]
    }
   ],
   "source": [
    "print(Recorder.wrapped_models['nn'].predict_proba(example_input))\n",
    "print(Recorder.wrapped_models['dt'].predict_proba(example_input))\n",
    "print(Recorder.wrapped_models['rfc'].predict_proba(example_input))"
   ]
  },
  {
   "cell_type": "code",
   "execution_count": 17,
   "metadata": {},
   "outputs": [
    {
     "name": "stdout",
     "output_type": "stream",
     "text": [
      "Result has been saved to ./results/dice_diabetes\n"
     ]
    }
   ],
   "source": [
    "### Save result as file.\n",
    "save_result_as_csv(\"dice\", dataset_name, result_dfs)"
   ]
  },
  {
   "cell_type": "code",
   "execution_count": 3,
   "metadata": {},
   "outputs": [],
   "source": [
    "import pandas as pd"
   ]
  },
  {
   "cell_type": "code",
   "execution_count": 4,
   "metadata": {},
   "outputs": [],
   "source": [
    "dice_dt = pd.read_csv(r'./datasets/eval_dice_diabetes_dt_result.csv')"
   ]
  },
  {
   "cell_type": "code",
   "execution_count": 6,
   "metadata": {},
   "outputs": [
    {
     "data": {
      "text/plain": [
       "1.303840481"
      ]
     },
     "execution_count": 6,
     "metadata": {},
     "output_type": "execute_result"
    }
   ],
   "source": [
    "dice_dt.L2.max()"
   ]
  },
  {
   "cell_type": "code",
   "execution_count": 7,
   "metadata": {},
   "outputs": [
    {
     "data": {
      "text/plain": [
       "0.066562646"
      ]
     },
     "execution_count": 7,
     "metadata": {},
     "output_type": "execute_result"
    }
   ],
   "source": [
    "dice_dt.L2.min()"
   ]
  },
  {
   "cell_type": "code",
   "execution_count": 13,
   "metadata": {},
   "outputs": [
    {
     "data": {
      "text/plain": [
       "Unnamed: 0                                     72.0\n",
       "Unnamed: 0.1                                   14.0\n",
       "Unnamed: 0.1.1                                  0.0\n",
       "scaled_input_Pregnancies                   0.352941\n",
       "scaled_input_Glucose                         0.9799\n",
       "scaled_input_BloodPressure                  0.57377\n",
       "scaled_input_SkinThickness                      0.0\n",
       "scaled_input_Insulin                            0.0\n",
       "scaled_input_BMI                           0.460507\n",
       "scaled_input_DiabetesPedigreeFunction      0.106746\n",
       "scaled_input_Age                           0.166667\n",
       "scaled_input_Outcome                              Y\n",
       "origin_input_Pregnancies                        6.0\n",
       "origin_input_Glucose                     195.000006\n",
       "origin_input_BloodPressure                69.999997\n",
       "origin_input_SkinThickness                      0.0\n",
       "origin_input_Insulin                            0.0\n",
       "origin_input_BMI                               30.9\n",
       "origin_input_DiabetesPedigreeFunction         0.328\n",
       "origin_input_Age                               31.0\n",
       "origin_input_Outcome                              Y\n",
       "scaled_cf_Pregnancies                      0.352941\n",
       "scaled_cf_Glucose                            0.9799\n",
       "scaled_cf_BloodPressure                     0.57377\n",
       "scaled_cf_SkinThickness                         0.7\n",
       "scaled_cf_Insulin                               0.8\n",
       "scaled_cf_BMI                              0.460507\n",
       "scaled_cf_DiabetesPedigreeFunction         0.106746\n",
       "scaled_cf_Age                              0.166667\n",
       "scaled_cf_Outcome                                 N\n",
       "origin_cf_Pregnancies                           6.0\n",
       "origin_cf_Glucose                        195.000006\n",
       "origin_cf_BloodPressure                   69.999997\n",
       "origin_cf_SkinThickness                        69.3\n",
       "origin_cf_Insulin                             676.8\n",
       "origin_cf_BMI                                  30.9\n",
       "origin_cf_DiabetesPedigreeFunction            0.328\n",
       "origin_cf_Age                                  31.0\n",
       "origin_cf_Outcome                                 N\n",
       "running_time                               0.021936\n",
       "Found                                             Y\n",
       "ground_truth                                      Y\n",
       "prediction                                        Y\n",
       "L1                                              1.5\n",
       "L2                                         1.063015\n",
       "Sparsity                                        2.0\n",
       "Realistic                                      True\n",
       "MAD                                        1.635291\n",
       "Mahalanobis                                 0.18798\n",
       "Name: 72, dtype: object"
      ]
     },
     "execution_count": 13,
     "metadata": {},
     "output_type": "execute_result"
    }
   ],
   "source": [
    "dice_dt_highl2_row73 = dice_dt.iloc[72]\n",
    "dice_dt_highl2_row73"
   ]
  },
  {
   "cell_type": "code",
   "execution_count": 14,
   "metadata": {},
   "outputs": [
    {
     "data": {
      "text/plain": [
       "Unnamed: 0                                     72.0\n",
       "Unnamed: 0.1                                   14.0\n",
       "Unnamed: 0.1.1                                  0.0\n",
       "scaled_input_Pregnancies                   0.352941\n",
       "scaled_input_Glucose                         0.9799\n",
       "scaled_input_BloodPressure                  0.57377\n",
       "scaled_input_SkinThickness                      0.0\n",
       "scaled_input_Insulin                            0.0\n",
       "scaled_input_BMI                           0.460507\n",
       "scaled_input_DiabetesPedigreeFunction      0.106746\n",
       "scaled_input_Age                           0.166667\n",
       "scaled_input_Outcome                              Y\n",
       "origin_input_Pregnancies                        6.0\n",
       "origin_input_Glucose                     195.000006\n",
       "origin_input_BloodPressure                69.999997\n",
       "origin_input_SkinThickness                      0.0\n",
       "origin_input_Insulin                            0.0\n",
       "origin_input_BMI                               30.9\n",
       "origin_input_DiabetesPedigreeFunction         0.328\n",
       "origin_input_Age                               31.0\n",
       "origin_input_Outcome                              Y\n",
       "scaled_cf_Pregnancies                      0.352941\n",
       "scaled_cf_Glucose                            0.9799\n",
       "scaled_cf_BloodPressure                     0.57377\n",
       "scaled_cf_SkinThickness                         0.7\n",
       "scaled_cf_Insulin                               0.8\n",
       "scaled_cf_BMI                              0.460507\n",
       "scaled_cf_DiabetesPedigreeFunction         0.106746\n",
       "scaled_cf_Age                              0.166667\n",
       "scaled_cf_Outcome                                 N\n",
       "origin_cf_Pregnancies                           6.0\n",
       "origin_cf_Glucose                        195.000006\n",
       "origin_cf_BloodPressure                   69.999997\n",
       "origin_cf_SkinThickness                        69.3\n",
       "origin_cf_Insulin                             676.8\n",
       "origin_cf_BMI                                  30.9\n",
       "origin_cf_DiabetesPedigreeFunction            0.328\n",
       "origin_cf_Age                                  31.0\n",
       "origin_cf_Outcome                                 N\n",
       "running_time                               0.021936\n",
       "Found                                             Y\n",
       "ground_truth                                      Y\n",
       "prediction                                        Y\n",
       "L1                                              1.5\n",
       "L2                                         1.063015\n",
       "Sparsity                                        2.0\n",
       "Realistic                                      True\n",
       "MAD                                        1.635291\n",
       "Mahalanobis                                 0.18798\n",
       "Name: 72, dtype: object"
      ]
     },
     "execution_count": 14,
     "metadata": {},
     "output_type": "execute_result"
    }
   ],
   "source": [
    "dice_dt_highl2_row73"
   ]
  },
  {
   "cell_type": "code",
   "execution_count": 11,
   "metadata": {},
   "outputs": [
    {
     "data": {
      "text/plain": [
       "Unnamed: 0                                     97.0\n",
       "Unnamed: 0.1                                   19.0\n",
       "Unnamed: 0.1.1                                  0.0\n",
       "scaled_input_Pregnancies                        0.0\n",
       "scaled_input_Glucose                       0.502513\n",
       "scaled_input_BloodPressure                 0.721311\n",
       "scaled_input_SkinThickness                 0.606061\n",
       "scaled_input_Insulin                       0.130024\n",
       "scaled_input_BMI                           0.697466\n",
       "scaled_input_DiabetesPedigreeFunction      0.377455\n",
       "scaled_input_Age                           0.166667\n",
       "scaled_input_Outcome                              N\n",
       "origin_input_Pregnancies                        0.0\n",
       "origin_input_Glucose                     100.000002\n",
       "origin_input_BloodPressure                87.999997\n",
       "origin_input_SkinThickness                60.000002\n",
       "origin_input_Insulin                     110.000002\n",
       "origin_input_BMI                          46.800002\n",
       "origin_input_DiabetesPedigreeFunction         0.962\n",
       "origin_input_Age                               31.0\n",
       "origin_input_Outcome                              N\n",
       "scaled_cf_Pregnancies                           0.0\n",
       "scaled_cf_Glucose                          0.569075\n",
       "scaled_cf_BloodPressure                    0.721311\n",
       "scaled_cf_SkinThickness                    0.606061\n",
       "scaled_cf_Insulin                          0.130024\n",
       "scaled_cf_BMI                              0.697466\n",
       "scaled_cf_DiabetesPedigreeFunction         0.377455\n",
       "scaled_cf_Age                              0.166667\n",
       "scaled_cf_Outcome                                 Y\n",
       "origin_cf_Pregnancies                           0.0\n",
       "origin_cf_Glucose                        113.245969\n",
       "origin_cf_BloodPressure                   87.999997\n",
       "origin_cf_SkinThickness                   60.000002\n",
       "origin_cf_Insulin                        110.000002\n",
       "origin_cf_BMI                             46.800002\n",
       "origin_cf_DiabetesPedigreeFunction            0.962\n",
       "origin_cf_Age                                  31.0\n",
       "origin_cf_Outcome                                 Y\n",
       "running_time                               0.022941\n",
       "Found                                             Y\n",
       "ground_truth                                      N\n",
       "prediction                                        N\n",
       "L1                                         0.066563\n",
       "L2                                         0.066563\n",
       "Sparsity                                        1.0\n",
       "Realistic                                      True\n",
       "MAD                                        0.065752\n",
       "Mahalanobis                                0.010694\n",
       "Name: 97, dtype: object"
      ]
     },
     "execution_count": 11,
     "metadata": {},
     "output_type": "execute_result"
    }
   ],
   "source": [
    "dice_dt_highl2_row97 = dice_dt.iloc[97]\n",
    "dice_dt_highl2_row97"
   ]
  },
  {
   "cell_type": "code",
   "execution_count": null,
   "metadata": {},
   "outputs": [],
   "source": [
    "from sklearn import tree"
   ]
  },
  {
   "cell_type": "code",
   "execution_count": 15,
   "metadata": {},
   "outputs": [
    {
     "ename": "NameError",
     "evalue": "name 'y_test' is not defined",
     "output_type": "error",
     "traceback": [
      "\u001b[0;31m---------------------------------------------------------------------------\u001b[0m",
      "\u001b[0;31mNameError\u001b[0m                                 Traceback (most recent call last)",
      "\u001b[0;32m/var/folders/cj/76jxqn71757384mssvb297jw0000gn/T/ipykernel_86619/2437420512.py\u001b[0m in \u001b[0;36m<module>\u001b[0;34m\u001b[0m\n\u001b[0;32m----> 1\u001b[0;31m \u001b[0mX\u001b[0m\u001b[0;34m,\u001b[0m\u001b[0my\u001b[0m \u001b[0;34m=\u001b[0m \u001b[0mdice_dt_highl2_row73\u001b[0m\u001b[0;34m,\u001b[0m \u001b[0my_test\u001b[0m\u001b[0;34m\u001b[0m\u001b[0;34m\u001b[0m\u001b[0m\n\u001b[0m\u001b[1;32m      2\u001b[0m \u001b[0mclf\u001b[0m \u001b[0;34m=\u001b[0m \u001b[0mtree\u001b[0m\u001b[0;34m.\u001b[0m\u001b[0mDecisionTreeClassifier\u001b[0m\u001b[0;34m(\u001b[0m\u001b[0;34m)\u001b[0m\u001b[0;34m\u001b[0m\u001b[0;34m\u001b[0m\u001b[0m\n\u001b[1;32m      3\u001b[0m \u001b[0mclf\u001b[0m \u001b[0;34m=\u001b[0m \u001b[0mclf\u001b[0m\u001b[0;34m.\u001b[0m\u001b[0mfit\u001b[0m\u001b[0;34m(\u001b[0m\u001b[0mX\u001b[0m\u001b[0;34m,\u001b[0m\u001b[0my\u001b[0m\u001b[0;34m)\u001b[0m\u001b[0;34m\u001b[0m\u001b[0;34m\u001b[0m\u001b[0m\n",
      "\u001b[0;31mNameError\u001b[0m: name 'y_test' is not defined"
     ]
    }
   ],
   "source": [
    "X,y = dice_dt_highl2_row73, y_test\n",
    "clf = tree.DecisionTreeClassifier()\n",
    "clf = clf.fit(X,y)"
   ]
  },
  {
   "cell_type": "code",
   "execution_count": null,
   "metadata": {},
   "outputs": [],
   "source": []
  }
 ],
 "metadata": {
  "interpreter": {
   "hash": "5c622353f32ef24c8d83e5c3e334107c074e82d7c3e8ca52c56b9fc900ce33e6"
  },
  "kernelspec": {
   "display_name": "Python 3.8.10 64-bit ('tf_mac': conda)",
   "name": "python3"
  },
  "language_info": {
   "codemirror_mode": {
    "name": "ipython",
    "version": 3
   },
   "file_extension": ".py",
   "mimetype": "text/x-python",
   "name": "python",
   "nbconvert_exporter": "python",
   "pygments_lexer": "ipython3",
   "version": "3.7.11"
  },
  "orig_nbformat": 4
 },
 "nbformat": 4,
 "nbformat_minor": 2
}
