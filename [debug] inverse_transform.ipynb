{
 "cells": [
  {
   "cell_type": "code",
   "execution_count": 1,
   "metadata": {},
   "outputs": [],
   "source": [
    "import tensorflow as tf\n",
    "import pandas as pd\n",
    "import numpy as np\n",
    "from utils.df_loader import load_adult_df, load_compas_df, load_german_df, load_diabetes_df, load_breast_cancer_df\n",
    "from sklearn.model_selection import train_test_split\n",
    "from utils.preprocessing import preprocess_df\n",
    "from utils.save import save_result_as_csv\n",
    "\n",
    "#### Select dataset ####\n",
    "dataset_name = 'compas' # [adult, german, compas]\n",
    "\n",
    "if dataset_name == 'adult':\n",
    "    dataset_loading_fn = load_adult_df\n",
    "elif dataset_name == 'german':\n",
    "    dataset_loading_fn = load_german_df\n",
    "elif dataset_name == 'compas':\n",
    "    dataset_loading_fn = load_compas_df\n",
    "elif dataset_name == 'diabetes':\n",
    "    dataset_loading_fn = load_diabetes_df\n",
    "elif dataset_name == 'breast_cancer':\n",
    "    dataset_loading_fn = load_breast_cancer_df\n",
    "else:\n",
    "    raise Exception(\"Unsupported dataset\")"
   ]
  },
  {
   "cell_type": "code",
   "execution_count": 2,
   "metadata": {},
   "outputs": [],
   "source": [
    "df, feature_names, numerical_cols, categorical_cols, columns_type, target_name, possible_outcomes = load_compas_df()"
   ]
  },
  {
   "cell_type": "code",
   "execution_count": 3,
   "metadata": {},
   "outputs": [
    {
     "data": {
      "text/plain": [
       "['age', 'priors_count', 'days_b_screening_arrest', 'length_of_stay']"
      ]
     },
     "execution_count": 3,
     "metadata": {},
     "output_type": "execute_result"
    }
   ],
   "source": [
    "numerical_cols"
   ]
  },
  {
   "cell_type": "code",
   "execution_count": 4,
   "metadata": {},
   "outputs": [],
   "source": [
    "df_info = preprocess_df(dataset_loading_fn)"
   ]
  },
  {
   "cell_type": "code",
   "execution_count": 5,
   "metadata": {},
   "outputs": [
    {
     "data": {
      "text/plain": [
       "['age', 'priors_count', 'days_b_screening_arrest', 'length_of_stay']"
      ]
     },
     "execution_count": 5,
     "metadata": {},
     "output_type": "execute_result"
    }
   ],
   "source": [
    "df_info.numerical_cols"
   ]
  },
  {
   "cell_type": "code",
   "execution_count": 6,
   "metadata": {},
   "outputs": [
    {
     "data": {
      "text/plain": [
       "['age_cat',\n",
       " 'sex',\n",
       " 'race',\n",
       " 'c_charge_degree',\n",
       " 'is_recid',\n",
       " 'is_violent_recid',\n",
       " 'two_year_recid',\n",
       " 'class']"
      ]
     },
     "execution_count": 6,
     "metadata": {},
     "output_type": "execute_result"
    }
   ],
   "source": [
    "df_info.categorical_cols"
   ]
  },
  {
   "cell_type": "code",
   "execution_count": 7,
   "metadata": {},
   "outputs": [
    {
     "data": {
      "text/plain": [
       "age                                 1.0\n",
       "age_cat                    Less than 25\n",
       "sex                                Male\n",
       "race                              Other\n",
       "priors_count                        1.0\n",
       "days_b_screening_arrest             1.0\n",
       "c_charge_degree                       M\n",
       "is_recid                              1\n",
       "is_violent_recid                      1\n",
       "two_year_recid                        1\n",
       "length_of_stay                      1.0\n",
       "class                        Medium-Low\n",
       "dtype: object"
      ]
     },
     "execution_count": 7,
     "metadata": {},
     "output_type": "execute_result"
    }
   ],
   "source": [
    "df_info.scaled_df.max()"
   ]
  },
  {
   "cell_type": "code",
   "execution_count": 8,
   "metadata": {},
   "outputs": [],
   "source": [
    "seed = 123 \n",
    "\n",
    "### Seperate to train and test set.\n",
    "train_df, test_df = train_test_split(df_info.dummy_df, train_size=.8, random_state=seed, shuffle=True)"
   ]
  },
  {
   "cell_type": "code",
   "execution_count": 9,
   "metadata": {},
   "outputs": [],
   "source": [
    "### Get training and testing array.\n",
    "X_train = np.array(train_df[df_info.ohe_feature_names])\n",
    "y_train = np.array(train_df[df_info.target_name])\n",
    "X_test = np.array(test_df[df_info.ohe_feature_names])\n",
    "y_test = np.array(test_df[df_info.target_name])"
   ]
  },
  {
   "cell_type": "code",
   "execution_count": 10,
   "metadata": {},
   "outputs": [
    {
     "data": {
      "text/plain": [
       "1.0"
      ]
     },
     "execution_count": 10,
     "metadata": {},
     "output_type": "execute_result"
    }
   ],
   "source": [
    "X_train.max()"
   ]
  },
  {
   "cell_type": "code",
   "execution_count": 11,
   "metadata": {},
   "outputs": [
    {
     "data": {
      "text/plain": [
       "1.0"
      ]
     },
     "execution_count": 11,
     "metadata": {},
     "output_type": "execute_result"
    }
   ],
   "source": [
    "X_test.max()"
   ]
  },
  {
   "cell_type": "code",
   "execution_count": 14,
   "metadata": {},
   "outputs": [
    {
     "data": {
      "text/plain": [
       "1057.0"
      ]
     },
     "execution_count": 14,
     "metadata": {},
     "output_type": "execute_result"
    }
   ],
   "source": [
    "X_train.max()"
   ]
  },
  {
   "cell_type": "code",
   "execution_count": 18,
   "metadata": {},
   "outputs": [],
   "source": [
    "integer_features = list(df.select_dtypes(include=['int64']).columns)"
   ]
  },
  {
   "cell_type": "code",
   "execution_count": 19,
   "metadata": {},
   "outputs": [
    {
     "data": {
      "text/plain": [
       "['age', 'priors_count', 'is_recid', 'is_violent_recid', 'two_year_recid']"
      ]
     },
     "execution_count": 19,
     "metadata": {},
     "output_type": "execute_result"
    }
   ],
   "source": [
    "integer_features"
   ]
  },
  {
   "cell_type": "code",
   "execution_count": 38,
   "metadata": {},
   "outputs": [
    {
     "data": {
      "text/plain": [
       "0       0\n",
       "1       1\n",
       "2       1\n",
       "3       0\n",
       "4       0\n",
       "       ..\n",
       "7209    0\n",
       "7210    0\n",
       "7211    0\n",
       "7212    0\n",
       "7213    1\n",
       "Name: is_recid, Length: 7214, dtype: object"
      ]
     },
     "execution_count": 38,
     "metadata": {},
     "output_type": "execute_result"
    }
   ],
   "source": [
    "df['is_recid'].apply(str)"
   ]
  },
  {
   "cell_type": "code",
   "execution_count": 28,
   "metadata": {},
   "outputs": [
    {
     "data": {
      "text/plain": [
       "0        0\n",
       "1       10\n",
       "2        1\n",
       "3        0\n",
       "4        0\n",
       "        ..\n",
       "7209     1\n",
       "7210     1\n",
       "7211     1\n",
       "7212     1\n",
       "7213     1\n",
       "Name: length_of_stay, Length: 7214, dtype: int32"
      ]
     },
     "execution_count": 28,
     "metadata": {},
     "output_type": "execute_result"
    }
   ],
   "source": [
    "df['length_of_stay']"
   ]
  },
  {
   "cell_type": "code",
   "execution_count": 29,
   "metadata": {},
   "outputs": [
    {
     "data": {
      "text/plain": [
       "0       0\n",
       "1       0\n",
       "2       4\n",
       "3       1\n",
       "4       2\n",
       "       ..\n",
       "7209    0\n",
       "7210    0\n",
       "7211    0\n",
       "7212    3\n",
       "7213    2\n",
       "Name: priors_count, Length: 7214, dtype: int64"
      ]
     },
     "execution_count": 29,
     "metadata": {},
     "output_type": "execute_result"
    }
   ],
   "source": [
    "df['priors_count']"
   ]
  },
  {
   "cell_type": "code",
   "execution_count": null,
   "metadata": {},
   "outputs": [],
   "source": []
  }
 ],
 "metadata": {
  "language_info": {
   "name": "python"
  },
  "orig_nbformat": 4
 },
 "nbformat": 4,
 "nbformat_minor": 2
}
