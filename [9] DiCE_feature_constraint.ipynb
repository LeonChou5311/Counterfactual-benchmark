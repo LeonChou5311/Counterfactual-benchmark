{
 "cells": [
  {
   "cell_type": "code",
   "execution_count": null,
   "metadata": {},
   "outputs": [],
   "source": [
    "import tensorflow as tf\n",
    "import pandas as pd\n",
    "import numpy as np\n",
    "\n",
    "from utils.df_loader import (\n",
    "    load_adult_df,\n",
    "    load_compas_df,\n",
    "    load_german_df,\n",
    "    load_diabetes_df,\n",
    "    load_breast_cancer_df,\n",
    ")\n",
    "from sklearn.model_selection import train_test_split\n",
    "from utils.preprocessing import preprocess_df\n",
    "from utils.models import (\n",
    "    train_three_models,\n",
    "    evaluation_test,\n",
    "    save_three_models,\n",
    "    load_three_models,\n",
    ")\n",
    "import utils.cf_proto as util_cf_proto\n",
    "import utils.dice as util_dice\n",
    "import utils.gs as util_gs\n",
    "import utils.watcher as util_watcher\n",
    "import utils.print as print_f\n",
    "\n",
    "\n",
    "from utils.save import save_result_as_csv\n",
    "\n",
    "### Only for alibi, to generate the results from GS and DiCE, commenting this section. ####\n",
    "\n",
    "seed = 123\n",
    "# tf.random.set_seed(seed)\n",
    "# np.random.seed(seed)\n"
   ]
  },
  {
   "cell_type": "code",
   "execution_count": null,
   "metadata": {},
   "outputs": [],
   "source": [
    "dataset_name =  \"adult\" # [\"adult\",\"german\", \"compas\",\"diabetes\",\"breast_cancer\"]\n",
    "\n",
    "print(f\"Dataset Name: [{dataset_name}]\")\n",
    "\n",
    "if dataset_name == \"adult\":\n",
    "    dataset_loading_fn = load_adult_df\n",
    "elif dataset_name == \"german\":\n",
    "    dataset_loading_fn = load_german_df\n",
    "elif dataset_name == \"compas\":\n",
    "    dataset_loading_fn = load_compas_df\n",
    "elif dataset_name == \"diabetes\":\n",
    "    dataset_loading_fn = load_diabetes_df\n",
    "elif dataset_name == \"breast_cancer\":\n",
    "    dataset_loading_fn = load_breast_cancer_df\n",
    "else:\n",
    "    raise Exception(\"Unsupported dataset\")\n",
    "\n",
    "df_info = preprocess_df(dataset_loading_fn)\n",
    "\n",
    "train_df, test_df = train_test_split(\n",
    "    df_info.dummy_df, train_size=0.8, random_state=seed, shuffle=True\n",
    ")\n",
    "X_train = np.array(train_df[df_info.ohe_feature_names])\n",
    "y_train = np.array(train_df[df_info.target_name])\n",
    "X_test = np.array(test_df[df_info.ohe_feature_names])\n",
    "y_test = np.array(test_df[df_info.target_name])"
   ]
  },
  {
   "cell_type": "code",
   "execution_count": null,
   "metadata": {},
   "outputs": [],
   "source": [
    "models = load_three_models(X_train.shape[-1], dataset_name)\n",
    "evaluation_test(models, X_test, y_test)"
   ]
  },
  {
   "cell_type": "code",
   "execution_count": null,
   "metadata": {},
   "outputs": [],
   "source": [
    "num_instances = 20 # (1)&(2) 20\n",
    "num_cf_per_instance = 1 # (1)&(2)5"
   ]
  },
  {
   "cell_type": "code",
   "execution_count": null,
   "metadata": {},
   "outputs": [],
   "source": [
    "# use this to know what're those features can be constrained in this dataset. \n",
    "df_info.feature_names "
   ]
  },
  {
   "cell_type": "code",
   "execution_count": null,
   "metadata": {},
   "outputs": [],
   "source": [
    "print_f.print_block(title=\"Counterfactual Algorithm\", content=\"DiCE\")\n",
    "results = util_dice.generate_dice_result(\n",
    "    df_info,\n",
    "    test_df,\n",
    "    models,\n",
    "    num_instances,\n",
    "    num_cf_per_instance,\n",
    "    sample_size=50,\n",
    "    models_to_run=[\"dt\", \"rfc\", \"nn\"],\n",
    "    features_to_vary=['age']\n",
    ")\n",
    "result_dfs = util_dice.process_results(df_info, results)\n",
    "save_result_as_csv(\"dice_feature_constraint\", dataset_name, result_dfs)"
   ]
  },
  {
   "cell_type": "code",
   "execution_count": null,
   "metadata": {},
   "outputs": [],
   "source": []
  },
  {
   "cell_type": "code",
   "execution_count": null,
   "metadata": {},
   "outputs": [],
   "source": []
  }
 ],
 "metadata": {
  "kernelspec": {
   "display_name": "Python 3.9.7 ('pytorch')",
   "language": "python",
   "name": "python3"
  },
  "language_info": {
   "codemirror_mode": {
    "name": "ipython",
    "version": 3
   },
   "file_extension": ".py",
   "mimetype": "text/x-python",
   "name": "python",
   "nbconvert_exporter": "python",
   "pygments_lexer": "ipython3",
   "version": "3.9.7"
  },
  "orig_nbformat": 4,
  "vscode": {
   "interpreter": {
    "hash": "52a48fdedee40b77eb251917c5aa239bf02f1ab8c93cc13fe7347f570eadc6b9"
   }
  }
 },
 "nbformat": 4,
 "nbformat_minor": 2
}
