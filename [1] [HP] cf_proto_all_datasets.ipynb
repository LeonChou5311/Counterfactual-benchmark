{
 "cells": [
  {
   "cell_type": "code",
   "execution_count": 1,
   "metadata": {},
   "outputs": [],
   "source": [
    "import tensorflow as tf\n",
    "import pandas as pd\n",
    "import numpy as np\n",
    "\n",
    "from utils.df_loader import (\n",
    "    load_adult_df,\n",
    "    load_compas_df,\n",
    "    load_german_df,\n",
    "    load_diabetes_df,\n",
    "    load_breast_cancer_df,\n",
    ")\n",
    "from sklearn.model_selection import train_test_split\n",
    "from utils.preprocessing import preprocess_df\n",
    "from utils.models import (\n",
    "    train_three_models,\n",
    "    evaluation_test,\n",
    "    save_three_models,\n",
    "    load_three_models,\n",
    ")\n",
    "import utils.cf_proto as util_cf_proto\n",
    "import utils.dice as util_dice\n",
    "import utils.gs as util_gs\n",
    "import utils.watcher as util_watcher\n",
    "import utils.print as print_f\n",
    "\n",
    "\n",
    "from utils.save import save_result_as_csv\n",
    "\n",
    "### Only for alibi, to generate the results from GS and DiCE, commenting this section. ####\n",
    "\n",
    "\n",
    "seed = 123\n",
    "# tf.random.set_seed(seed)\n",
    "# np.random.seed(seed)\n"
   ]
  },
  {
   "cell_type": "code",
   "execution_count": 2,
   "metadata": {},
   "outputs": [],
   "source": [
    "RUN_ALIBI = False # (1)True(2)False\n",
    "TRAIN_MODEL = False # (1)True(2)False\n",
    "num_instances = 20 # (1)&(2) 20\n",
    "num_cf_per_instance = 1 # (1)&(2)5"
   ]
  },
  {
   "cell_type": "code",
   "execution_count": 3,
   "metadata": {},
   "outputs": [],
   "source": [
    "#to ensure the consistency all the experiments was ran on single 3 1070 3090 GPU  M1 GPU. .... OS. \n",
    "\n",
    "# github (tf, alibi).\n",
    "if RUN_ALIBI:\n",
    "    tf.get_logger().setLevel(40)\n",
    "    tf.compat.v1.disable_v2_behavior()\n",
    "    tf.keras.backend.clear_session()\n",
    "    tf.compat.v1.disable_eager_execution()\n",
    "    #############################################\n",
    "\n",
    "    pd.options.mode.chained_assignment = None\n",
    "\n",
    "    print(\"TF version: \", tf.__version__)\n",
    "    print(\"Eager execution enabled: \", tf.executing_eagerly())  # False    "
   ]
  },
  {
   "cell_type": "code",
   "execution_count": 4,
   "metadata": {},
   "outputs": [],
   "source": [
    "#dataset_name"
   ]
  },
  {
   "cell_type": "code",
   "execution_count": 5,
   "metadata": {},
   "outputs": [
    {
     "name": "stdout",
     "output_type": "stream",
     "text": [
      "Dataset Name: [breast_cancer]\n",
      "WARNING:tensorflow:Sequential models without an `input_shape` passed to the first layer cannot reload their optimizer state. As a result, your model isstarting with a freshly initialized optimizer.\n"
     ]
    },
    {
     "name": "stderr",
     "output_type": "stream",
     "text": [
      "2022-07-20 23:13:59.320215: I tensorflow/core/platform/cpu_feature_guard.cc:145] This TensorFlow binary is optimized with Intel(R) MKL-DNN to use the following CPU instructions in performance critical operations:  SSE4.1 SSE4.2\n",
      "To enable them in non-MKL-DNN operations, rebuild TensorFlow with the appropriate compiler flags.\n",
      "2022-07-20 23:13:59.320598: I tensorflow/core/common_runtime/process_util.cc:115] Creating new thread pool with default inter op setting: 8. Tune using inter_op_parallelism_threads for best performance.\n"
     ]
    },
    {
     "name": "stdout",
     "output_type": "stream",
     "text": [
      "DT: [0.9649] | RF [0.9912] | NN [0.9737]\n",
      "\n",
      "====================Counterfactual Algorithm====================\n",
      "| GS \n",
      "================================================================\n",
      "Finding counterfactual for dt\n",
      "instance 0\n",
      "CF 0\n",
      "0 ennemies found in initial sphere. Zooming in...\n",
      "Exploring...\n",
      "Final number of iterations:  18\n",
      "Final radius:  (0.316, 0.334)\n",
      "Final number of ennemies:  2\n",
      "Feature selection...\n",
      "Reduced 28 coordinates\n",
      "instance 1\n",
      "CF 0\n",
      "0 ennemies found in initial sphere. Zooming in...\n",
      "Exploring...\n",
      "Final number of iterations:  21\n",
      "Final radius:  (0.37000000000000005, 0.38800000000000007)\n",
      "Final number of ennemies:  1\n",
      "Feature selection...\n",
      "Reduced 29 coordinates\n",
      "instance 2\n",
      "CF 0\n",
      "0 ennemies found in initial sphere. Zooming in...\n",
      "Exploring...\n",
      "Final number of iterations:  7\n",
      "Final radius:  (0.11800000000000001, 0.136)\n",
      "Final number of ennemies:  2\n",
      "Feature selection...\n",
      "Reduced 28 coordinates\n",
      "instance 3\n",
      "CF 0\n",
      "0 ennemies found in initial sphere. Zooming in...\n",
      "Exploring...\n",
      "Final number of iterations:  7\n",
      "Final radius:  (0.11800000000000001, 0.136)\n",
      "Final number of ennemies:  5\n",
      "Feature selection...\n",
      "Reduced 28 coordinates\n",
      "instance 4\n",
      "CF 0\n",
      "0 ennemies found in initial sphere. Zooming in...\n",
      "Exploring...\n",
      "Final number of iterations:  15\n",
      "Final radius:  (0.26199999999999996, 0.27999999999999997)\n",
      "Final number of ennemies:  3\n",
      "Feature selection...\n",
      "Reduced 29 coordinates\n",
      "instance 5\n",
      "CF 0\n",
      "701 ennemies found in initial sphere. Zooming in...\n",
      "508 ennemies found in initial sphere. Zooming in...\n",
      "0 ennemies found in initial sphere. Zooming in...\n",
      "Exploring...\n",
      "Final number of iterations:  13\n",
      "Final radius:  (0.0022600000000000003, 0.0024400000000000003)\n",
      "Final number of ennemies:  4\n",
      "Feature selection...\n",
      "Reduced 29 coordinates\n",
      "instance 6\n",
      "CF 0\n",
      "0 ennemies found in initial sphere. Zooming in...\n",
      "Exploring...\n",
      "Final number of iterations:  7\n",
      "Final radius:  (0.11800000000000001, 0.136)\n",
      "Final number of ennemies:  1\n",
      "Feature selection...\n",
      "Reduced 29 coordinates\n",
      "instance 7\n",
      "CF 0\n",
      "0 ennemies found in initial sphere. Zooming in...\n",
      "Exploring...\n",
      "Final number of iterations:  12\n",
      "Final radius:  (0.20799999999999996, 0.22599999999999995)\n",
      "Final number of ennemies:  3\n",
      "Feature selection...\n",
      "Reduced 29 coordinates\n",
      "instance 8\n",
      "CF 0\n",
      "59 ennemies found in initial sphere. Zooming in...\n",
      "0 ennemies found in initial sphere. Zooming in...\n",
      "Exploring...\n",
      "Final number of iterations:  27\n",
      "Final radius:  (0.04780000000000002, 0.049600000000000026)\n",
      "Final number of ennemies:  1\n",
      "Feature selection...\n",
      "Reduced 29 coordinates\n",
      "instance 9\n",
      "CF 0\n",
      "623 ennemies found in initial sphere. Zooming in...\n",
      "0 ennemies found in initial sphere. Zooming in...\n",
      "Exploring...\n",
      "Final number of iterations:  8\n",
      "Final radius:  (0.0136, 0.015399999999999999)\n",
      "Final number of ennemies:  4\n",
      "Feature selection...\n",
      "Reduced 29 coordinates\n",
      "instance 10\n",
      "CF 0\n",
      "0 ennemies found in initial sphere. Zooming in...\n",
      "Exploring...\n",
      "Final number of iterations:  10\n",
      "Final radius:  (0.172, 0.18999999999999997)\n",
      "Final number of ennemies:  1\n",
      "Feature selection...\n",
      "Reduced 28 coordinates\n",
      "instance 11\n",
      "CF 0\n",
      "0 ennemies found in initial sphere. Zooming in...\n",
      "Exploring...\n",
      "Final number of iterations:  20\n",
      "Final radius:  (0.35200000000000004, 0.37000000000000005)\n",
      "Final number of ennemies:  2\n",
      "Feature selection...\n",
      "Reduced 29 coordinates\n",
      "instance 12\n",
      "CF 0\n",
      "0 ennemies found in initial sphere. Zooming in...\n",
      "Exploring...\n",
      "Final number of iterations:  9\n",
      "Final radius:  (0.154, 0.172)\n",
      "Final number of ennemies:  3\n",
      "Feature selection...\n",
      "Reduced 28 coordinates\n",
      "instance 13\n",
      "CF 0\n",
      "0 ennemies found in initial sphere. Zooming in...\n",
      "Exploring...\n",
      "Final number of iterations:  14\n",
      "Final radius:  (0.24399999999999997, 0.26199999999999996)\n",
      "Final number of ennemies:  3\n",
      "Feature selection...\n",
      "Reduced 28 coordinates\n",
      "instance 14\n",
      "CF 0\n",
      "43 ennemies found in initial sphere. Zooming in...\n",
      "0 ennemies found in initial sphere. Zooming in...\n",
      "Exploring...\n",
      "Final number of iterations:  27\n",
      "Final radius:  (0.04780000000000002, 0.049600000000000026)\n",
      "Final number of ennemies:  2\n",
      "Feature selection...\n",
      "Reduced 28 coordinates\n",
      "instance 15\n",
      "CF 0\n",
      "2 ennemies found in initial sphere. Zooming in...\n",
      "0 ennemies found in initial sphere. Zooming in...\n",
      "Exploring...\n",
      "Final number of iterations:  49\n",
      "Final radius:  (0.08739999999999999, 0.08919999999999999)\n",
      "Final number of ennemies:  1\n",
      "Feature selection...\n",
      "Reduced 28 coordinates\n",
      "instance 16\n",
      "CF 0\n",
      "0 ennemies found in initial sphere. Zooming in...\n",
      "Exploring...\n",
      "Final number of iterations:  13\n",
      "Final radius:  (0.22599999999999995, 0.24399999999999994)\n",
      "Final number of ennemies:  4\n",
      "Feature selection...\n",
      "Reduced 27 coordinates\n",
      "instance 17\n",
      "CF 0\n",
      "2 ennemies found in initial sphere. Zooming in...\n",
      "0 ennemies found in initial sphere. Zooming in...\n",
      "Exploring...\n",
      "Final number of iterations:  46\n",
      "Final radius:  (0.082, 0.0838)\n",
      "Final number of ennemies:  1\n",
      "Feature selection...\n",
      "Reduced 28 coordinates\n",
      "instance 18\n",
      "CF 0\n",
      "0 ennemies found in initial sphere. Zooming in...\n",
      "Exploring...\n",
      "Final number of iterations:  11\n",
      "Final radius:  (0.18999999999999997, 0.20799999999999996)\n",
      "Final number of ennemies:  1\n",
      "Feature selection...\n",
      "Reduced 28 coordinates\n",
      "instance 19\n",
      "CF 0\n",
      "0 ennemies found in initial sphere. Zooming in...\n",
      "Exploring...\n",
      "Final number of iterations:  11\n",
      "Final radius:  (0.18999999999999997, 0.20799999999999996)\n",
      "Final number of ennemies:  1\n",
      "Feature selection...\n",
      "Reduced 28 coordinates\n",
      "Finding counterfactual for rfc\n",
      "instance 0\n",
      "CF 0\n",
      "0 ennemies found in initial sphere. Zooming in...\n",
      "Exploring...\n",
      "Final number of iterations:  26\n",
      "Final radius:  (0.46000000000000013, 0.47800000000000015)\n",
      "Final number of ennemies:  1\n",
      "Feature selection...\n",
      "Reduced 24 coordinates\n",
      "instance 1\n",
      "CF 0\n",
      "0 ennemies found in initial sphere. Zooming in...\n",
      "Exploring...\n",
      "Final number of iterations:  39\n",
      "Final radius:  (0.6940000000000003, 0.7120000000000003)\n",
      "Final number of ennemies:  1\n",
      "Feature selection...\n",
      "Reduced 24 coordinates\n",
      "instance 2\n",
      "CF 0\n",
      "0 ennemies found in initial sphere. Zooming in...\n",
      "Exploring...\n",
      "Final number of iterations:  25\n",
      "Final radius:  (0.4420000000000001, 0.46000000000000013)\n",
      "Final number of ennemies:  1\n",
      "Feature selection...\n",
      "Reduced 22 coordinates\n",
      "instance 3\n",
      "CF 0\n",
      "0 ennemies found in initial sphere. Zooming in...\n",
      "Exploring...\n",
      "Final number of iterations:  23\n",
      "Final radius:  (0.4060000000000001, 0.4240000000000001)\n",
      "Final number of ennemies:  3\n",
      "Feature selection...\n",
      "Reduced 23 coordinates\n",
      "instance 4\n",
      "CF 0\n",
      "0 ennemies found in initial sphere. Zooming in...\n",
      "Exploring...\n",
      "Final number of iterations:  36\n",
      "Final radius:  (0.6400000000000002, 0.6580000000000003)\n",
      "Final number of ennemies:  2\n",
      "Feature selection...\n",
      "Reduced 21 coordinates\n",
      "instance 5\n",
      "CF 0\n",
      "157 ennemies found in initial sphere. Zooming in...\n",
      "0 ennemies found in initial sphere. Zooming in...\n",
      "Exploring...\n",
      "Final number of iterations:  11\n",
      "Final radius:  (0.019, 0.0208)\n",
      "Final number of ennemies:  1\n",
      "Feature selection...\n",
      "Reduced 23 coordinates\n",
      "instance 6\n",
      "CF 0\n",
      "0 ennemies found in initial sphere. Zooming in...\n",
      "Exploring...\n",
      "Final number of iterations:  16\n",
      "Final radius:  (0.27999999999999997, 0.298)\n",
      "Final number of ennemies:  1\n",
      "Feature selection...\n",
      "Reduced 22 coordinates\n",
      "instance 7\n",
      "CF 0\n",
      "0 ennemies found in initial sphere. Zooming in...\n",
      "Exploring...\n",
      "Final number of iterations:  23\n",
      "Final radius:  (0.4060000000000001, 0.4240000000000001)\n",
      "Final number of ennemies:  1\n",
      "Feature selection...\n",
      "Reduced 24 coordinates\n",
      "instance 8\n",
      "CF 0\n",
      "0 ennemies found in initial sphere. Zooming in...\n",
      "Exploring...\n",
      "Final number of iterations:  7\n",
      "Final radius:  (0.11800000000000001, 0.136)\n",
      "Final number of ennemies:  1\n",
      "Feature selection...\n",
      "Reduced 23 coordinates\n",
      "instance 9\n",
      "CF 0\n",
      "52 ennemies found in initial sphere. Zooming in...\n",
      "0 ennemies found in initial sphere. Zooming in...\n",
      "Exploring...\n",
      "Final number of iterations:  19\n",
      "Final radius:  (0.0334, 0.0352)\n",
      "Final number of ennemies:  1\n",
      "Feature selection...\n",
      "Reduced 25 coordinates\n",
      "instance 10\n",
      "CF 0\n",
      "0 ennemies found in initial sphere. Zooming in...\n",
      "Exploring...\n",
      "Final number of iterations:  22\n",
      "Final radius:  (0.38800000000000007, 0.4060000000000001)\n",
      "Final number of ennemies:  1\n",
      "Feature selection...\n",
      "Reduced 17 coordinates\n",
      "instance 11\n",
      "CF 0\n",
      "0 ennemies found in initial sphere. Zooming in...\n",
      "Exploring...\n",
      "Final number of iterations:  40\n",
      "Final radius:  (0.7120000000000003, 0.7300000000000003)\n",
      "Final number of ennemies:  2\n",
      "Feature selection...\n",
      "Reduced 22 coordinates\n",
      "instance 12\n",
      "CF 0\n",
      "0 ennemies found in initial sphere. Zooming in...\n",
      "Exploring...\n",
      "Final number of iterations:  28\n",
      "Final radius:  (0.4960000000000001, 0.5140000000000001)\n",
      "Final number of ennemies:  3\n",
      "Feature selection...\n",
      "Reduced 20 coordinates\n",
      "instance 13\n",
      "CF 0\n",
      "0 ennemies found in initial sphere. Zooming in...\n",
      "Exploring...\n",
      "Final number of iterations:  26\n",
      "Final radius:  (0.46000000000000013, 0.47800000000000015)\n",
      "Final number of ennemies:  1\n",
      "Feature selection...\n",
      "Reduced 25 coordinates\n",
      "instance 14\n",
      "CF 0\n",
      "0 ennemies found in initial sphere. Zooming in...\n",
      "Exploring...\n",
      "Final number of iterations:  18\n",
      "Final radius:  (0.316, 0.334)\n",
      "Final number of ennemies:  1\n",
      "Feature selection...\n",
      "Reduced 24 coordinates\n",
      "instance 15\n",
      "CF 0\n",
      "0 ennemies found in initial sphere. Zooming in...\n",
      "Exploring...\n",
      "Final number of iterations:  16\n",
      "Final radius:  (0.27999999999999997, 0.298)\n",
      "Final number of ennemies:  2\n",
      "Feature selection...\n",
      "Reduced 21 coordinates\n",
      "instance 16\n",
      "CF 0\n",
      "0 ennemies found in initial sphere. Zooming in...\n",
      "Exploring...\n",
      "Final number of iterations:  26\n",
      "Final radius:  (0.46000000000000013, 0.47800000000000015)\n",
      "Final number of ennemies:  2\n",
      "Feature selection...\n",
      "Reduced 21 coordinates\n",
      "instance 17\n",
      "CF 0\n",
      "0 ennemies found in initial sphere. Zooming in...\n",
      "Exploring...\n",
      "Final number of iterations:  20\n",
      "Final radius:  (0.35200000000000004, 0.37000000000000005)\n",
      "Final number of ennemies:  1\n",
      "Feature selection...\n",
      "Reduced 17 coordinates\n",
      "instance 18\n",
      "CF 0\n",
      "0 ennemies found in initial sphere. Zooming in...\n",
      "Exploring...\n",
      "Final number of iterations:  18\n",
      "Final radius:  (0.316, 0.334)\n",
      "Final number of ennemies:  1\n",
      "Feature selection...\n",
      "Reduced 22 coordinates\n",
      "instance 19\n",
      "CF 0\n",
      "0 ennemies found in initial sphere. Zooming in...\n",
      "Exploring...\n",
      "Final number of iterations:  17\n",
      "Final radius:  (0.298, 0.316)\n",
      "Final number of ennemies:  1\n",
      "Feature selection...\n",
      "Reduced 22 coordinates\n",
      "Finding counterfactual for nn\n",
      "instance 0\n",
      "CF 0\n",
      "0 ennemies found in initial sphere. Zooming in...\n",
      "Exploring...\n",
      "Final number of iterations:  37\n",
      "Final radius:  (0.6580000000000003, 0.6760000000000003)\n",
      "Final number of ennemies:  1\n",
      "Feature selection...\n",
      "Reduced 19 coordinates\n",
      "instance 1\n",
      "CF 0\n",
      "0 ennemies found in initial sphere. Zooming in...\n",
      "Exploring...\n",
      "Final number of iterations:  40\n",
      "Final radius:  (0.7120000000000003, 0.7300000000000003)\n",
      "Final number of ennemies:  2\n",
      "Feature selection...\n",
      "Reduced 20 coordinates\n",
      "instance 2\n",
      "CF 0\n",
      "0 ennemies found in initial sphere. Zooming in...\n",
      "Exploring...\n",
      "Final number of iterations:  24\n",
      "Final radius:  (0.4240000000000001, 0.4420000000000001)\n",
      "Final number of ennemies:  1\n",
      "Feature selection...\n",
      "Reduced 16 coordinates\n",
      "instance 3\n",
      "CF 0\n",
      "0 ennemies found in initial sphere. Zooming in...\n",
      "Exploring...\n",
      "Final number of iterations:  28\n",
      "Final radius:  (0.4960000000000001, 0.5140000000000001)\n",
      "Final number of ennemies:  1\n",
      "Feature selection...\n",
      "Reduced 18 coordinates\n",
      "instance 4\n",
      "CF 0\n",
      "0 ennemies found in initial sphere. Zooming in...\n",
      "Exploring...\n",
      "Final number of iterations:  24\n",
      "Final radius:  (0.4240000000000001, 0.4420000000000001)\n",
      "Final number of ennemies:  1\n",
      "Feature selection...\n",
      "Reduced 20 coordinates\n",
      "instance 5\n",
      "CF 0\n",
      "29 ennemies found in initial sphere. Zooming in...\n",
      "0 ennemies found in initial sphere. Zooming in...\n",
      "Exploring...\n",
      "Final number of iterations:  37\n",
      "Final radius:  (0.06580000000000004, 0.06760000000000004)\n",
      "Final number of ennemies:  1\n",
      "Feature selection...\n",
      "Reduced 16 coordinates\n",
      "instance 6\n",
      "CF 0\n",
      "0 ennemies found in initial sphere. Zooming in...\n",
      "Exploring...\n",
      "Final number of iterations:  13\n",
      "Final radius:  (0.22599999999999995, 0.24399999999999994)\n",
      "Final number of ennemies:  1\n",
      "Feature selection...\n",
      "Reduced 13 coordinates\n",
      "instance 7\n",
      "CF 0\n",
      "0 ennemies found in initial sphere. Zooming in...\n",
      "Exploring...\n",
      "Final number of iterations:  15\n",
      "Final radius:  (0.26199999999999996, 0.27999999999999997)\n",
      "Final number of ennemies:  2\n",
      "Feature selection...\n",
      "Reduced 18 coordinates\n",
      "instance 8\n",
      "CF 0\n",
      "3 ennemies found in initial sphere. Zooming in...\n",
      "0 ennemies found in initial sphere. Zooming in...\n",
      "Exploring...\n",
      "Final number of iterations:  52\n",
      "Final radius:  (0.09279999999999998, 0.09459999999999998)\n",
      "Final number of ennemies:  1\n",
      "Feature selection...\n",
      "Reduced 22 coordinates\n",
      "instance 9\n",
      "CF 0\n",
      "0 ennemies found in initial sphere. Zooming in...\n",
      "Exploring...\n",
      "Final number of iterations:  8\n",
      "Final radius:  (0.136, 0.154)\n",
      "Final number of ennemies:  2\n",
      "Feature selection...\n",
      "Reduced 20 coordinates\n",
      "instance 10\n",
      "CF 0\n",
      "0 ennemies found in initial sphere. Zooming in...\n",
      "Exploring...\n",
      "Final number of iterations:  27\n",
      "Final radius:  (0.47800000000000015, 0.49600000000000016)\n",
      "Final number of ennemies:  1\n",
      "Feature selection...\n",
      "Reduced 18 coordinates\n",
      "instance 11\n",
      "CF 0\n",
      "0 ennemies found in initial sphere. Zooming in...\n",
      "Exploring...\n",
      "Final number of iterations:  30\n",
      "Final radius:  (0.5320000000000001, 0.5500000000000002)\n",
      "Final number of ennemies:  1\n",
      "Feature selection...\n",
      "Reduced 13 coordinates\n",
      "instance 12\n",
      "CF 0\n",
      "0 ennemies found in initial sphere. Zooming in...\n",
      "Exploring...\n",
      "Final number of iterations:  22\n",
      "Final radius:  (0.38800000000000007, 0.4060000000000001)\n",
      "Final number of ennemies:  2\n",
      "Feature selection...\n",
      "Reduced 16 coordinates\n",
      "instance 13\n",
      "CF 0\n",
      "0 ennemies found in initial sphere. Zooming in...\n",
      "Exploring...\n",
      "Final number of iterations:  39\n",
      "Final radius:  (0.6940000000000003, 0.7120000000000003)\n",
      "Final number of ennemies:  3\n",
      "Feature selection...\n",
      "Reduced 23 coordinates\n",
      "instance 14\n",
      "CF 0\n",
      "0 ennemies found in initial sphere. Zooming in...\n",
      "Exploring...\n",
      "Final number of iterations:  33\n",
      "Final radius:  (0.5860000000000002, 0.6040000000000002)\n",
      "Final number of ennemies:  1\n",
      "Feature selection...\n",
      "Reduced 21 coordinates\n",
      "instance 15\n",
      "CF 0\n",
      "0 ennemies found in initial sphere. Zooming in...\n",
      "Exploring...\n",
      "Final number of iterations:  11\n",
      "Final radius:  (0.18999999999999997, 0.20799999999999996)\n",
      "Final number of ennemies:  1\n",
      "Feature selection...\n",
      "Reduced 20 coordinates\n",
      "instance 16\n",
      "CF 0\n",
      "0 ennemies found in initial sphere. Zooming in...\n",
      "Exploring...\n",
      "Final number of iterations:  21\n",
      "Final radius:  (0.37000000000000005, 0.38800000000000007)\n",
      "Final number of ennemies:  1\n",
      "Feature selection...\n",
      "Reduced 15 coordinates\n",
      "instance 17\n",
      "CF 0\n",
      "0 ennemies found in initial sphere. Zooming in...\n",
      "Exploring...\n",
      "Final number of iterations:  17\n",
      "Final radius:  (0.298, 0.316)\n",
      "Final number of ennemies:  1\n",
      "Feature selection...\n",
      "Reduced 19 coordinates\n",
      "instance 18\n",
      "CF 0\n",
      "0 ennemies found in initial sphere. Zooming in...\n",
      "Exploring...\n",
      "Final number of iterations:  24\n",
      "Final radius:  (0.4240000000000001, 0.4420000000000001)\n",
      "Final number of ennemies:  4\n",
      "Feature selection...\n",
      "Reduced 19 coordinates\n",
      "instance 19\n",
      "CF 0\n",
      "0 ennemies found in initial sphere. Zooming in...\n",
      "Exploring...\n",
      "Final number of iterations:  14\n",
      "Final radius:  (0.24399999999999997, 0.26199999999999996)\n",
      "Final number of ennemies:  1\n",
      "Feature selection...\n",
      "Reduced 14 coordinates\n",
      "Result has been saved to ./results/GS_breast_cancer\n",
      "\n",
      "====================Counterfactual Algorithm====================\n",
      "| DiCE \n",
      "================================================================\n",
      "Finding counterfactual for dt\n",
      "instance 0\n",
      "CF 0\n"
     ]
    },
    {
     "name": "stderr",
     "output_type": "stream",
     "text": [
      "100%|██████████| 1/1 [00:00<00:00, 48.04it/s]\n"
     ]
    },
    {
     "name": "stdout",
     "output_type": "stream",
     "text": [
      "Diverse Counterfactuals found! total time taken: 00 min 00 sec\n",
      "cp7\n",
      "instance 1\n",
      "CF 0\n"
     ]
    },
    {
     "name": "stderr",
     "output_type": "stream",
     "text": [
      "100%|██████████| 1/1 [00:00<00:00, 45.45it/s]\n"
     ]
    },
    {
     "name": "stdout",
     "output_type": "stream",
     "text": [
      "Diverse Counterfactuals found! total time taken: 00 min 00 sec\n",
      "cp7\n",
      "instance 2\n",
      "CF 0\n"
     ]
    },
    {
     "name": "stderr",
     "output_type": "stream",
     "text": [
      "100%|██████████| 1/1 [00:00<00:00, 47.63it/s]\n"
     ]
    },
    {
     "name": "stdout",
     "output_type": "stream",
     "text": [
      "Diverse Counterfactuals found! total time taken: 00 min 00 sec\n",
      "cp7\n",
      "instance 3\n",
      "CF 0\n"
     ]
    },
    {
     "name": "stderr",
     "output_type": "stream",
     "text": [
      "100%|██████████| 1/1 [00:00<00:00, 47.47it/s]\n"
     ]
    },
    {
     "name": "stdout",
     "output_type": "stream",
     "text": [
      "Diverse Counterfactuals found! total time taken: 00 min 00 sec\n",
      "cp7\n",
      "instance 4\n",
      "CF 0\n"
     ]
    },
    {
     "name": "stderr",
     "output_type": "stream",
     "text": [
      "100%|██████████| 1/1 [00:00<00:00, 39.09it/s]\n"
     ]
    },
    {
     "name": "stdout",
     "output_type": "stream",
     "text": [
      "Diverse Counterfactuals found! total time taken: 00 min 00 sec\n",
      "cp7\n",
      "instance 5\n",
      "CF 0\n"
     ]
    },
    {
     "name": "stderr",
     "output_type": "stream",
     "text": [
      "100%|██████████| 1/1 [00:00<00:00, 45.57it/s]\n"
     ]
    },
    {
     "name": "stdout",
     "output_type": "stream",
     "text": [
      "Diverse Counterfactuals found! total time taken: 00 min 00 sec\n",
      "cp7\n",
      "instance 6\n",
      "CF 0\n"
     ]
    },
    {
     "name": "stderr",
     "output_type": "stream",
     "text": [
      "100%|██████████| 1/1 [00:00<00:00, 54.99it/s]\n"
     ]
    },
    {
     "name": "stdout",
     "output_type": "stream",
     "text": [
      "Diverse Counterfactuals found! total time taken: 00 min 00 sec\n",
      "cp7\n",
      "instance 7\n",
      "CF 0\n"
     ]
    },
    {
     "name": "stderr",
     "output_type": "stream",
     "text": [
      "100%|██████████| 1/1 [00:00<00:00, 47.14it/s]\n"
     ]
    },
    {
     "name": "stdout",
     "output_type": "stream",
     "text": [
      "Diverse Counterfactuals found! total time taken: 00 min 00 sec\n",
      "cp7\n",
      "instance 8\n",
      "CF 0\n"
     ]
    },
    {
     "name": "stderr",
     "output_type": "stream",
     "text": [
      "100%|██████████| 1/1 [00:00<00:00, 47.90it/s]"
     ]
    },
    {
     "name": "stdout",
     "output_type": "stream",
     "text": [
      "Diverse Counterfactuals found! total time taken: 00 min 00 sec\n",
      "cp7\n",
      "instance 9\n",
      "CF 0\n"
     ]
    },
    {
     "name": "stderr",
     "output_type": "stream",
     "text": [
      "\n",
      "100%|██████████| 1/1 [00:00<00:00, 48.38it/s]\n"
     ]
    },
    {
     "name": "stdout",
     "output_type": "stream",
     "text": [
      "Diverse Counterfactuals found! total time taken: 00 min 00 sec\n",
      "cp7\n",
      "instance 10\n",
      "CF 0\n"
     ]
    },
    {
     "name": "stderr",
     "output_type": "stream",
     "text": [
      "  0%|          | 0/1 [00:00<?, ?it/s]"
     ]
    },
    {
     "name": "stdout",
     "output_type": "stream",
     "text": [
      "Diverse Counterfactuals found! total time taken: 00"
     ]
    },
    {
     "name": "stderr",
     "output_type": "stream",
     "text": [
      "100%|██████████| 1/1 [00:00<00:00, 47.88it/s]\n"
     ]
    },
    {
     "name": "stdout",
     "output_type": "stream",
     "text": [
      " min 00 sec\n",
      "cp7\n",
      "instance 11\n",
      "CF 0\n"
     ]
    },
    {
     "name": "stderr",
     "output_type": "stream",
     "text": [
      "100%|██████████| 1/1 [00:00<00:00, 24.58it/s]\n"
     ]
    },
    {
     "name": "stdout",
     "output_type": "stream",
     "text": [
      "Diverse Counterfactuals found! total time taken: 00 min 00 sec\n",
      "cp7\n",
      "instance 12\n",
      "CF 0\n"
     ]
    },
    {
     "name": "stderr",
     "output_type": "stream",
     "text": [
      "100%|██████████| 1/1 [00:00<00:00, 43.61it/s]"
     ]
    },
    {
     "name": "stdout",
     "output_type": "stream",
     "text": [
      "Diverse Counterfactuals found! total time taken: 00 min 00 sec\n",
      "cp7\n"
     ]
    },
    {
     "name": "stderr",
     "output_type": "stream",
     "text": [
      "\n"
     ]
    },
    {
     "name": "stdout",
     "output_type": "stream",
     "text": [
      "instance 13\n",
      "CF 0\n"
     ]
    },
    {
     "name": "stderr",
     "output_type": "stream",
     "text": [
      "100%|██████████| 1/1 [00:00<00:00, 46.14it/s]"
     ]
    },
    {
     "name": "stdout",
     "output_type": "stream",
     "text": [
      "Diverse Counterfactuals found! total time taken: 00 min 00 sec\n",
      "cp7\n"
     ]
    },
    {
     "name": "stderr",
     "output_type": "stream",
     "text": [
      "\n"
     ]
    },
    {
     "name": "stdout",
     "output_type": "stream",
     "text": [
      "instance 14\n",
      "CF 0\n"
     ]
    },
    {
     "name": "stderr",
     "output_type": "stream",
     "text": [
      "100%|██████████| 1/1 [00:00<00:00, 47.84it/s]\n"
     ]
    },
    {
     "name": "stdout",
     "output_type": "stream",
     "text": [
      "Diverse Counterfactuals found! total time taken: 00 min 00 sec\n",
      "cp7\n",
      "instance 15\n",
      "CF 0\n"
     ]
    },
    {
     "name": "stderr",
     "output_type": "stream",
     "text": [
      "  0%|          | 0/1 [00:00<?, ?it/s]"
     ]
    },
    {
     "name": "stdout",
     "output_type": "stream",
     "text": [
      "Diverse Counterfactuals found! total time taken: 00"
     ]
    },
    {
     "name": "stderr",
     "output_type": "stream",
     "text": [
      "100%|██████████| 1/1 [00:00<00:00, 49.00it/s]\n"
     ]
    },
    {
     "name": "stdout",
     "output_type": "stream",
     "text": [
      " min 00 sec\n",
      "cp7\n",
      "instance 16\n",
      "CF 0\n"
     ]
    },
    {
     "name": "stderr",
     "output_type": "stream",
     "text": [
      "  0%|          | 0/1 [00:00<?, ?it/s]"
     ]
    },
    {
     "name": "stdout",
     "output_type": "stream",
     "text": [
      "Diverse Counterfactuals found! total time taken: 00"
     ]
    },
    {
     "name": "stderr",
     "output_type": "stream",
     "text": [
      "100%|██████████| 1/1 [00:00<00:00, 46.94it/s]\n"
     ]
    },
    {
     "name": "stdout",
     "output_type": "stream",
     "text": [
      " min 00 sec\n",
      "cp7\n",
      "instance 17\n",
      "CF 0\n"
     ]
    },
    {
     "name": "stderr",
     "output_type": "stream",
     "text": [
      "100%|██████████| 1/1 [00:00<00:00, 47.18it/s]"
     ]
    },
    {
     "name": "stdout",
     "output_type": "stream",
     "text": [
      "Diverse Counterfactuals found! total time taken: 00 min 00 sec\n",
      "cp7\n"
     ]
    },
    {
     "name": "stderr",
     "output_type": "stream",
     "text": [
      "\n"
     ]
    },
    {
     "name": "stdout",
     "output_type": "stream",
     "text": [
      "instance 18\n",
      "CF 0\n"
     ]
    },
    {
     "name": "stderr",
     "output_type": "stream",
     "text": [
      "  0%|          | 0/1 [00:00<?, ?it/s]"
     ]
    },
    {
     "name": "stdout",
     "output_type": "stream",
     "text": [
      "Diverse Counterfactuals found! total time taken: 00"
     ]
    },
    {
     "name": "stderr",
     "output_type": "stream",
     "text": [
      "100%|██████████| 1/1 [00:00<00:00, 47.69it/s]\n"
     ]
    },
    {
     "name": "stdout",
     "output_type": "stream",
     "text": [
      " min 00 sec\n",
      "cp7\n",
      "instance 19\n",
      "CF 0\n"
     ]
    },
    {
     "name": "stderr",
     "output_type": "stream",
     "text": [
      "100%|██████████| 1/1 [00:00<00:00, 46.16it/s]\n"
     ]
    },
    {
     "name": "stdout",
     "output_type": "stream",
     "text": [
      "Diverse Counterfactuals found! total time taken: 00 min 00 sec\n",
      "cp7\n",
      "Finding counterfactual for rfc\n",
      "instance 0\n",
      "CF 0\n"
     ]
    },
    {
     "name": "stderr",
     "output_type": "stream",
     "text": [
      "100%|██████████| 1/1 [00:00<00:00,  8.68it/s]\n"
     ]
    },
    {
     "name": "stdout",
     "output_type": "stream",
     "text": [
      "Diverse Counterfactuals found! total time taken: 00 min 00 sec\n",
      "cp7\n",
      "instance 1\n",
      "CF 0\n"
     ]
    },
    {
     "name": "stderr",
     "output_type": "stream",
     "text": [
      "  0%|          | 0/1 [00:00<?, ?it/s]"
     ]
    },
    {
     "name": "stdout",
     "output_type": "stream",
     "text": [
      "Diverse Counterfactuals found! total time taken: 00"
     ]
    },
    {
     "name": "stderr",
     "output_type": "stream",
     "text": [
      "100%|██████████| 1/1 [00:00<00:00, 11.64it/s]\n"
     ]
    },
    {
     "name": "stdout",
     "output_type": "stream",
     "text": [
      " min 00 sec\n",
      "cp7\n",
      "instance 2\n",
      "CF 0\n"
     ]
    },
    {
     "name": "stderr",
     "output_type": "stream",
     "text": [
      "100%|██████████| 1/1 [00:00<00:00,  4.32it/s]\n"
     ]
    },
    {
     "name": "stdout",
     "output_type": "stream",
     "text": [
      "Diverse Counterfactuals found! total time taken: 00 min 00 sec\n",
      "cp7\n",
      "instance 3\n",
      "CF 0\n"
     ]
    },
    {
     "name": "stderr",
     "output_type": "stream",
     "text": [
      "100%|██████████| 1/1 [00:00<00:00,  9.71it/s]\n"
     ]
    },
    {
     "name": "stdout",
     "output_type": "stream",
     "text": [
      "Diverse Counterfactuals found! total time taken: 00 min 00 sec\n",
      "cp7\n",
      "instance 4\n",
      "CF 0\n"
     ]
    },
    {
     "name": "stderr",
     "output_type": "stream",
     "text": [
      "100%|██████████| 1/1 [00:00<00:00,  3.92it/s]\n"
     ]
    },
    {
     "name": "stdout",
     "output_type": "stream",
     "text": [
      "No Counterfactuals found for the given configuration, perhaps try with different parameters... ; total time taken: 00 min 00 sec\n",
      "cp7\n",
      "instance 5\n",
      "CF 0\n"
     ]
    },
    {
     "name": "stderr",
     "output_type": "stream",
     "text": [
      "100%|██████████| 1/1 [00:00<00:00, 22.58it/s]\n"
     ]
    },
    {
     "name": "stdout",
     "output_type": "stream",
     "text": [
      "Diverse Counterfactuals found! total time taken: 00 min 00 sec\n",
      "cp7\n",
      "instance 6\n",
      "CF 0\n"
     ]
    },
    {
     "name": "stderr",
     "output_type": "stream",
     "text": [
      "100%|██████████| 1/1 [00:00<00:00, 17.68it/s]\n"
     ]
    },
    {
     "name": "stdout",
     "output_type": "stream",
     "text": [
      "Diverse Counterfactuals found! total time taken: 00 min 00 sec\n",
      "cp7\n",
      "instance 7\n",
      "CF 0\n"
     ]
    },
    {
     "name": "stderr",
     "output_type": "stream",
     "text": [
      "100%|██████████| 1/1 [00:00<00:00, 11.64it/s]\n"
     ]
    },
    {
     "name": "stdout",
     "output_type": "stream",
     "text": [
      "Diverse Counterfactuals found! total time taken: 00 min 00 sec\n",
      "cp7\n",
      "instance 8\n",
      "CF 0\n"
     ]
    },
    {
     "name": "stderr",
     "output_type": "stream",
     "text": [
      "100%|██████████| 1/1 [00:00<00:00, 19.55it/s]\n"
     ]
    },
    {
     "name": "stdout",
     "output_type": "stream",
     "text": [
      "Diverse Counterfactuals found! total time taken: 00 min 00 sec\n",
      "cp7\n",
      "instance 9\n",
      "CF 0\n"
     ]
    },
    {
     "name": "stderr",
     "output_type": "stream",
     "text": [
      "  0%|          | 0/1 [00:00<?, ?it/s]"
     ]
    },
    {
     "name": "stdout",
     "output_type": "stream",
     "text": [
      "Diverse Counterfactuals found! total time taken: 00"
     ]
    },
    {
     "name": "stderr",
     "output_type": "stream",
     "text": [
      "100%|██████████| 1/1 [00:00<00:00, 22.16it/s]\n"
     ]
    },
    {
     "name": "stdout",
     "output_type": "stream",
     "text": [
      " min 00 sec\n",
      "cp7\n",
      "instance 10\n",
      "CF 0\n"
     ]
    },
    {
     "name": "stderr",
     "output_type": "stream",
     "text": [
      "100%|██████████| 1/1 [00:00<00:00,  8.09it/s]\n"
     ]
    },
    {
     "name": "stdout",
     "output_type": "stream",
     "text": [
      "Diverse Counterfactuals found! total time taken: 00 min 00 sec\n",
      "cp7\n",
      "instance 11\n",
      "CF 0\n"
     ]
    },
    {
     "name": "stderr",
     "output_type": "stream",
     "text": [
      "100%|██████████| 1/1 [00:00<00:00,  5.32it/s]\n"
     ]
    },
    {
     "name": "stdout",
     "output_type": "stream",
     "text": [
      "Diverse Counterfactuals found! total time taken: 00 min 00 sec\n",
      "cp7\n",
      "instance 12\n",
      "CF 0\n"
     ]
    },
    {
     "name": "stderr",
     "output_type": "stream",
     "text": [
      "100%|██████████| 1/1 [00:00<00:00, 11.87it/s]\n"
     ]
    },
    {
     "name": "stdout",
     "output_type": "stream",
     "text": [
      "Diverse Counterfactuals found! total time taken: 00 min 00 sec\n",
      "cp7\n",
      "instance 13\n",
      "CF 0\n"
     ]
    },
    {
     "name": "stderr",
     "output_type": "stream",
     "text": [
      "100%|██████████| 1/1 [00:00<00:00, 10.70it/s]"
     ]
    },
    {
     "name": "stdout",
     "output_type": "stream",
     "text": [
      "Diverse Counterfactuals found! total time taken: 00 min 00 sec\n",
      "cp7\n",
      "instance 14"
     ]
    },
    {
     "name": "stderr",
     "output_type": "stream",
     "text": [
      "\n"
     ]
    },
    {
     "name": "stdout",
     "output_type": "stream",
     "text": [
      "\n",
      "CF 0\n"
     ]
    },
    {
     "name": "stderr",
     "output_type": "stream",
     "text": [
      "100%|██████████| 1/1 [00:00<00:00, 15.15it/s]\n"
     ]
    },
    {
     "name": "stdout",
     "output_type": "stream",
     "text": [
      "Diverse Counterfactuals found! total time taken: 00 min 00 sec\n",
      "cp7\n",
      "instance 15\n",
      "CF 0\n"
     ]
    },
    {
     "name": "stderr",
     "output_type": "stream",
     "text": [
      "100%|██████████| 1/1 [00:00<00:00, 11.22it/s]\n"
     ]
    },
    {
     "name": "stdout",
     "output_type": "stream",
     "text": [
      "Diverse Counterfactuals found! total time taken: 00 min 00 sec\n",
      "cp7\n",
      "instance 16\n",
      "CF 0\n"
     ]
    },
    {
     "name": "stderr",
     "output_type": "stream",
     "text": [
      "  0%|          | 0/1 [00:00<?, ?it/s]"
     ]
    },
    {
     "name": "stdout",
     "output_type": "stream",
     "text": [
      "Diverse Counterfactuals found! total time taken: 00"
     ]
    },
    {
     "name": "stderr",
     "output_type": "stream",
     "text": [
      "100%|██████████| 1/1 [00:00<00:00, 10.05it/s]\n"
     ]
    },
    {
     "name": "stdout",
     "output_type": "stream",
     "text": [
      " min 00 sec\n",
      "cp7\n",
      "instance 17\n",
      "CF 0\n"
     ]
    },
    {
     "name": "stderr",
     "output_type": "stream",
     "text": [
      "100%|██████████| 1/1 [00:00<00:00, 15.39it/s]\n"
     ]
    },
    {
     "name": "stdout",
     "output_type": "stream",
     "text": [
      "Diverse Counterfactuals found! total time taken: 00 min 00 sec\n",
      "cp7\n",
      "instance 18\n",
      "CF 0\n"
     ]
    },
    {
     "name": "stderr",
     "output_type": "stream",
     "text": [
      "100%|██████████| 1/1 [00:00<00:00, 11.95it/s]\n"
     ]
    },
    {
     "name": "stdout",
     "output_type": "stream",
     "text": [
      "Diverse Counterfactuals found! total time taken: 00 min 00 sec\n",
      "cp7\n",
      "instance 19\n",
      "CF 0\n"
     ]
    },
    {
     "name": "stderr",
     "output_type": "stream",
     "text": [
      "100%|██████████| 1/1 [00:00<00:00, 13.54it/s]\n"
     ]
    },
    {
     "name": "stdout",
     "output_type": "stream",
     "text": [
      "Diverse Counterfactuals found! total time taken: 00 min 00 sec\n",
      "cp7\n",
      "Finding counterfactual for nn\n",
      "instance 0\n",
      "CF 0\n"
     ]
    },
    {
     "name": "stderr",
     "output_type": "stream",
     "text": [
      "  0%|          | 0/1 [00:00<?, ?it/s]"
     ]
    },
    {
     "name": "stdout",
     "output_type": "stream",
     "text": [
      "WARNING:tensorflow:Layer sequential is casting an input tensor from dtype float64 to the layer's dtype of float32, which is new behavior in TensorFlow 2.  The layer has dtype float32 because it's dtype defaults to floatx.\n",
      "\n",
      "If you intended to run this layer in float32, you can safely ignore this warning. If in doubt, this warning is likely only an issue if you are porting a TensorFlow 1.X model to TensorFlow 2.\n",
      "\n",
      "To change all layers to have dtype float64 by default, call `tf.keras.backend.set_floatx('float64')`. To change just this layer, pass dtype='float64' to the layer constructor. If you are the author of this layer, you can disable autocasting by passing autocast=False to the base Layer constructor.\n",
      "\n"
     ]
    },
    {
     "name": "stderr",
     "output_type": "stream",
     "text": [
      "100%|██████████| 1/1 [00:00<00:00, 20.93it/s]\n"
     ]
    },
    {
     "name": "stdout",
     "output_type": "stream",
     "text": [
      "Diverse Counterfactuals found! total time taken: 00 min 00 sec\n",
      "cp7\n",
      "instance 1\n",
      "CF 0\n"
     ]
    },
    {
     "name": "stderr",
     "output_type": "stream",
     "text": [
      "100%|██████████| 1/1 [00:00<00:00, 18.20it/s]"
     ]
    },
    {
     "name": "stdout",
     "output_type": "stream",
     "text": [
      "Diverse Counterfactuals found! total time taken: 00 min 00 sec\n",
      "cp7\n"
     ]
    },
    {
     "name": "stderr",
     "output_type": "stream",
     "text": [
      "\n"
     ]
    },
    {
     "name": "stdout",
     "output_type": "stream",
     "text": [
      "instance 2\n",
      "CF 0\n"
     ]
    },
    {
     "name": "stderr",
     "output_type": "stream",
     "text": [
      "100%|██████████| 1/1 [00:00<00:00, 20.94it/s]\n"
     ]
    },
    {
     "name": "stdout",
     "output_type": "stream",
     "text": [
      "Diverse Counterfactuals found! total time taken: 00 min 00 sec\n",
      "cp7\n",
      "instance 3\n",
      "CF 0\n"
     ]
    },
    {
     "name": "stderr",
     "output_type": "stream",
     "text": [
      "100%|██████████| 1/1 [00:00<00:00, 18.57it/s]\n"
     ]
    },
    {
     "name": "stdout",
     "output_type": "stream",
     "text": [
      "Diverse Counterfactuals found! total time taken: 00 min 00 sec\n",
      "cp7\n",
      "instance 4\n",
      "CF 0\n"
     ]
    },
    {
     "name": "stderr",
     "output_type": "stream",
     "text": [
      "100%|██████████| 1/1 [00:00<00:00, 18.53it/s]\n"
     ]
    },
    {
     "name": "stdout",
     "output_type": "stream",
     "text": [
      "Diverse Counterfactuals found! total time taken: 00 min 00 sec\n",
      "cp7\n",
      "instance 5\n",
      "CF 0\n"
     ]
    },
    {
     "name": "stderr",
     "output_type": "stream",
     "text": [
      "100%|██████████| 1/1 [00:00<00:00, 21.32it/s]\n"
     ]
    },
    {
     "name": "stdout",
     "output_type": "stream",
     "text": [
      "Diverse Counterfactuals found! total time taken: 00 min 00 sec\n",
      "cp7\n",
      "instance 6\n",
      "CF 0\n"
     ]
    },
    {
     "name": "stderr",
     "output_type": "stream",
     "text": [
      "100%|██████████| 1/1 [00:00<00:00, 21.58it/s]\n"
     ]
    },
    {
     "name": "stdout",
     "output_type": "stream",
     "text": [
      "Diverse Counterfactuals found! total time taken: 00 min 00 sec\n",
      "cp7\n",
      "instance 7\n",
      "CF 0\n"
     ]
    },
    {
     "name": "stderr",
     "output_type": "stream",
     "text": [
      "100%|██████████| 1/1 [00:00<00:00, 21.88it/s]\n"
     ]
    },
    {
     "name": "stdout",
     "output_type": "stream",
     "text": [
      "Diverse Counterfactuals found! total time taken: 00 min 00 sec\n",
      "cp7\n",
      "instance 8\n",
      "CF 0\n"
     ]
    },
    {
     "name": "stderr",
     "output_type": "stream",
     "text": [
      "100%|██████████| 1/1 [00:00<00:00, 21.54it/s]\n"
     ]
    },
    {
     "name": "stdout",
     "output_type": "stream",
     "text": [
      "Diverse Counterfactuals found! total time taken: 00 min 00 sec\n",
      "cp7\n",
      "instance 9\n",
      "CF 0\n"
     ]
    },
    {
     "name": "stderr",
     "output_type": "stream",
     "text": [
      "100%|██████████| 1/1 [00:00<00:00, 21.08it/s]\n"
     ]
    },
    {
     "name": "stdout",
     "output_type": "stream",
     "text": [
      "Diverse Counterfactuals found! total time taken: 00 min 00 sec\n",
      "cp7\n",
      "instance 10\n",
      "CF 0\n"
     ]
    },
    {
     "name": "stderr",
     "output_type": "stream",
     "text": [
      "100%|██████████| 1/1 [00:00<00:00, 21.05it/s]\n"
     ]
    },
    {
     "name": "stdout",
     "output_type": "stream",
     "text": [
      "Diverse Counterfactuals found! total time taken: 00 min 00 sec\n",
      "cp7\n",
      "instance 11\n",
      "CF 0\n"
     ]
    },
    {
     "name": "stderr",
     "output_type": "stream",
     "text": [
      "100%|██████████| 1/1 [00:00<00:00, 14.56it/s]"
     ]
    },
    {
     "name": "stdout",
     "output_type": "stream",
     "text": [
      "Diverse Counterfactuals found! total time taken: 00 min 00 sec\n",
      "cp7\n"
     ]
    },
    {
     "name": "stderr",
     "output_type": "stream",
     "text": [
      "\n"
     ]
    },
    {
     "name": "stdout",
     "output_type": "stream",
     "text": [
      "instance 12\n",
      "CF 0\n"
     ]
    },
    {
     "name": "stderr",
     "output_type": "stream",
     "text": [
      "100%|██████████| 1/1 [00:00<00:00, 18.07it/s]"
     ]
    },
    {
     "name": "stdout",
     "output_type": "stream",
     "text": [
      "Diverse Counterfactuals found! total time taken: 00 min 00 sec\n",
      "cp7\n"
     ]
    },
    {
     "name": "stderr",
     "output_type": "stream",
     "text": [
      "\n"
     ]
    },
    {
     "name": "stdout",
     "output_type": "stream",
     "text": [
      "instance 13\n",
      "CF 0\n"
     ]
    },
    {
     "name": "stderr",
     "output_type": "stream",
     "text": [
      "100%|██████████| 1/1 [00:00<00:00, 18.05it/s]\n"
     ]
    },
    {
     "name": "stdout",
     "output_type": "stream",
     "text": [
      "Diverse Counterfactuals found! total time taken: 00 min 00 sec\n",
      "cp7\n",
      "instance 14\n",
      "CF 0\n"
     ]
    },
    {
     "name": "stderr",
     "output_type": "stream",
     "text": [
      "100%|██████████| 1/1 [00:00<00:00, 14.20it/s]\n"
     ]
    },
    {
     "name": "stdout",
     "output_type": "stream",
     "text": [
      "Diverse Counterfactuals found! total time taken: 00 min 00 sec\n",
      "cp7\n",
      "instance 15\n",
      "CF 0\n"
     ]
    },
    {
     "name": "stderr",
     "output_type": "stream",
     "text": [
      "100%|██████████| 1/1 [00:00<00:00, 21.63it/s]"
     ]
    },
    {
     "name": "stdout",
     "output_type": "stream",
     "text": [
      "Diverse Counterfactuals found! total time taken: 00 min 00 sec\n",
      "cp7\n"
     ]
    },
    {
     "name": "stderr",
     "output_type": "stream",
     "text": [
      "\n"
     ]
    },
    {
     "name": "stdout",
     "output_type": "stream",
     "text": [
      "instance 16\n",
      "CF 0\n"
     ]
    },
    {
     "name": "stderr",
     "output_type": "stream",
     "text": [
      "100%|██████████| 1/1 [00:00<00:00, 21.32it/s]"
     ]
    },
    {
     "name": "stdout",
     "output_type": "stream",
     "text": [
      "Diverse Counterfactuals found! total time taken: 00 min 00 sec\n",
      "cp7\n"
     ]
    },
    {
     "name": "stderr",
     "output_type": "stream",
     "text": [
      "\n"
     ]
    },
    {
     "name": "stdout",
     "output_type": "stream",
     "text": [
      "instance 17\n",
      "CF 0\n"
     ]
    },
    {
     "name": "stderr",
     "output_type": "stream",
     "text": [
      "100%|██████████| 1/1 [00:00<00:00, 21.26it/s]\n"
     ]
    },
    {
     "name": "stdout",
     "output_type": "stream",
     "text": [
      "Diverse Counterfactuals found! total time taken: 00 min 00 sec\n",
      "cp7\n",
      "instance 18\n",
      "CF 0\n"
     ]
    },
    {
     "name": "stderr",
     "output_type": "stream",
     "text": [
      "100%|██████████| 1/1 [00:00<00:00, 21.82it/s]\n"
     ]
    },
    {
     "name": "stdout",
     "output_type": "stream",
     "text": [
      "Diverse Counterfactuals found! total time taken: 00 min 00 sec\n",
      "cp7\n",
      "instance 19\n",
      "CF 0\n"
     ]
    },
    {
     "name": "stderr",
     "output_type": "stream",
     "text": [
      "100%|██████████| 1/1 [00:00<00:00, 21.32it/s]"
     ]
    },
    {
     "name": "stdout",
     "output_type": "stream",
     "text": [
      "Diverse Counterfactuals found! total time taken: 00 min 00 sec\n",
      "cp7\n"
     ]
    },
    {
     "name": "stderr",
     "output_type": "stream",
     "text": [
      "\n"
     ]
    },
    {
     "name": "stdout",
     "output_type": "stream",
     "text": [
      "Result has been saved to ./results/dice_breast_cancer\n"
     ]
    }
   ],
   "source": [
    "#### Select dataset ####\n",
    "\n",
    "for dataset_name in [\n",
    "    # \"adult\",\n",
    "    # \"german\",\n",
    "    # \"compas\",\n",
    "    # \"diabetes\",\n",
    "    \"breast_cancer\",\n",
    "]:  # [adult, german, compas]\n",
    "    print(f\"Dataset Name: [{dataset_name}]\")\n",
    "    if dataset_name == \"adult\":\n",
    "        dataset_loading_fn = load_adult_df\n",
    "    elif dataset_name == \"german\":\n",
    "        dataset_loading_fn = load_german_df\n",
    "    elif dataset_name == \"compas\":\n",
    "        dataset_loading_fn = load_compas_df\n",
    "    elif dataset_name == \"diabetes\":\n",
    "        dataset_loading_fn = load_diabetes_df\n",
    "    elif dataset_name == \"breast_cancer\":\n",
    "        dataset_loading_fn = load_breast_cancer_df\n",
    "    else:\n",
    "        raise Exception(\"Unsupported dataset\")\n",
    "\n",
    "    df_info = preprocess_df(dataset_loading_fn)\n",
    "\n",
    "    train_df, test_df = train_test_split(\n",
    "        df_info.dummy_df, train_size=0.8, random_state=seed, shuffle=True\n",
    "    )\n",
    "    X_train = np.array(train_df[df_info.ohe_feature_names])\n",
    "    y_train = np.array(train_df[df_info.target_name])\n",
    "    X_test = np.array(test_df[df_info.ohe_feature_names])\n",
    "    y_test = np.array(test_df[df_info.target_name])\n",
    "\n",
    "    if TRAIN_MODEL:\n",
    "        ## Train models.\n",
    "        models = train_three_models(X_train, y_train)\n",
    "        ## Save models.\n",
    "        save_three_models(models, dataset_name)\n",
    "\n",
    "    ### Load models\n",
    "    models = load_three_models(X_train.shape[-1], dataset_name)\n",
    "\n",
    "    ### Print out accuracy on testset.\n",
    "    evaluation_test(models, X_test, y_test)\n",
    "\n",
    "    if dataset_name in [\"diabetes\", \"breast_cancer\"]:\n",
    "        # run the cf algorithms supporting categorical data.\n",
    "\n",
    "        # watcher and gs can only run for the datasets containing numerical data only.\n",
    "        if RUN_ALIBI:\n",
    "            print_f.print_block(title=\"Counterfactual Algorithm\", content=\"Watcher\")\n",
    "            results = util_watcher.generate_watcher_result(\n",
    "                df_info,\n",
    "                train_df,\n",
    "                models,\n",
    "                num_instances,\n",
    "                num_cf_per_instance,\n",
    "                X_train,\n",
    "                X_test,\n",
    "                y_test,\n",
    "                max_iters=1000,\n",
    "                models_to_run=[\"dt\", \"rfc\", \"nn\"],\n",
    "                output_int=True,\n",
    "            )\n",
    "            result_dfs = util_watcher.process_result(results, df_info)\n",
    "            save_result_as_csv(\"watcher\", dataset_name, result_dfs)\n",
    "\n",
    "        else:\n",
    "            print_f.print_block(title=\"Counterfactual Algorithm\", content=\"GS\")\n",
    "            results = util_gs.generate_gs_result(\n",
    "                df_info, test_df, models, num_instances, num_cf_per_instance, 2000\n",
    "            )\n",
    "            result_dfs = util_gs.process_results(df_info, results)\n",
    "            save_result_as_csv(\"GS\", dataset_name, result_dfs)\n",
    "\n",
    "    if RUN_ALIBI:\n",
    "        print_f.print_block(title=\"Counterfactual Algorithm\", content=\"Prototype\")\n",
    "        results = util_cf_proto.generate_cf_proto_result(\n",
    "            df_info,\n",
    "            train_df,\n",
    "            models,\n",
    "            num_instances,\n",
    "            num_cf_per_instance,\n",
    "            X_train,\n",
    "            X_test,\n",
    "            y_test,\n",
    "            max_iters=1000,\n",
    "            models_to_run=[\"dt\", \"rfc\", \"nn\"],\n",
    "            output_int=True,\n",
    "        )\n",
    "        result_dfs = util_cf_proto.process_result(results, df_info)\n",
    "        save_result_as_csv(\"proto\", dataset_name, result_dfs)\n",
    "\n",
    "    else:\n",
    "        print_f.print_block(title=\"Counterfactual Algorithm\", content=\"DiCE\")\n",
    "        results = util_dice.generate_dice_result(\n",
    "            df_info,\n",
    "            test_df,\n",
    "            models,\n",
    "            num_instances,\n",
    "            num_cf_per_instance,\n",
    "            sample_size=50,\n",
    "            models_to_run=[\"dt\", \"rfc\", \"nn\"],\n",
    "        )\n",
    "        result_dfs = util_dice.process_results(df_info, results)\n",
    "        save_result_as_csv(\"dice\", dataset_name, result_dfs)\n"
   ]
  },
  {
   "cell_type": "code",
   "execution_count": null,
   "metadata": {},
   "outputs": [],
   "source": []
  }
 ],
 "metadata": {
  "kernelspec": {
   "display_name": "Python 3.7.11 ('cf_2022_final')",
   "language": "python",
   "name": "python3"
  },
  "language_info": {
   "codemirror_mode": {
    "name": "ipython",
    "version": 3
   },
   "file_extension": ".py",
   "mimetype": "text/x-python",
   "name": "python",
   "nbconvert_exporter": "python",
   "pygments_lexer": "ipython3",
   "version": "3.7.11"
  },
  "orig_nbformat": 4,
  "vscode": {
   "interpreter": {
    "hash": "ddbd05a1a14a3b0def6fc051a52a025c8773943fa7dc1baab0b936f7bf6828c8"
   }
  }
 },
 "nbformat": 4,
 "nbformat_minor": 2
}
