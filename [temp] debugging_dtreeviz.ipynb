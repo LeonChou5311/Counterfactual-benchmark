{
 "cells": [
  {
   "cell_type": "code",
   "execution_count": 1,
   "metadata": {},
   "outputs": [
    {
     "name": "stdout",
     "output_type": "stream",
     "text": [
      "TF version:  2.0.0\n",
      "Eager execution enabled:  True\n"
     ]
    }
   ],
   "source": [
    "import tensorflow as tf\n",
    "import pandas as pd\n",
    "import numpy as np\n",
    "from surrogate import rules\n",
    "\n",
    "from utils.df_loader import load_adult_df, load_compas_df, load_german_df, load_diabetes_df, load_breast_cancer_df\n",
    "from utils.preprocessing import preprocess_df\n",
    "from sklearn.model_selection import train_test_split\n",
    "from utils.dice import generate_dice_result, process_results\n",
    "from utils.models import train_three_models, evaluation_test, save_three_models, load_three_models\n",
    "from utils.save import save_result_as_csv\n",
    "from IPython.display import Image\n",
    "import PIL\n",
    "import pydotplus\n",
    "from six import StringIO\n",
    "from sklearn.tree import export_graphviz\n",
    "from pydotplus import *\n",
    "\n",
    "\n",
    "pd.options.mode.chained_assignment = None \n",
    "\n",
    "print('TF version: ', tf.__version__)\n",
    "print('Eager execution enabled: ', tf.executing_eagerly()) # False\n",
    "\n",
    "seed = 123\n",
    "tf.random.set_seed(seed)\n",
    "np.random.seed(seed)\n"
   ]
  },
  {
   "cell_type": "code",
   "execution_count": 2,
   "metadata": {},
   "outputs": [],
   "source": [
    "#### Select dataset ####'\n",
    "\n",
    "dataset_name = 'compas' # [adult, german, compas]\n",
    "\n",
    "if dataset_name == 'adult':\n",
    "    dataset_loading_fn = load_adult_df\n",
    "elif dataset_name == 'german':\n",
    "    dataset_loading_fn = load_german_df\n",
    "elif dataset_name == 'compas':\n",
    "    dataset_loading_fn = load_compas_df\n",
    "elif dataset_name == 'diabetes':\n",
    "    dataset_loading_fn = load_diabetes_df\n",
    "elif dataset_name == 'breast_cancer':\n",
    "    dataset_loading_fn = load_breast_cancer_df\n",
    "else:\n",
    "    raise Exception(\"Unsupported dataset\")"
   ]
  },
  {
   "cell_type": "code",
   "execution_count": 66,
   "metadata": {},
   "outputs": [],
   "source": [
    "df, feature_names, numerical_cols, categorical_cols, columns_type, target_name, possible_outcomes = load_compas_df()\n"
   ]
  },
  {
   "cell_type": "code",
   "execution_count": null,
   "metadata": {},
   "outputs": [],
   "source": [
    "# scaled_input_days_b_screening_arrest"
   ]
  },
  {
   "cell_type": "code",
   "execution_count": 67,
   "metadata": {},
   "outputs": [
    {
     "data": {
      "text/plain": [
       "['age',\n",
       " 'priors_count',\n",
       " 'days_b_screening_arrest',\n",
       " 'is_recid',\n",
       " 'is_violent_recid',\n",
       " 'two_year_recid',\n",
       " 'length_of_stay']"
      ]
     },
     "execution_count": 67,
     "metadata": {},
     "output_type": "execute_result"
    }
   ],
   "source": [
    "numerical_cols"
   ]
  },
  {
   "cell_type": "code",
   "execution_count": 3,
   "metadata": {},
   "outputs": [
    {
     "name": "stdout",
     "output_type": "stream",
     "text": [
      "WARNING:tensorflow:Sequential models without an `input_shape` passed to the first layer cannot reload their optimizer state. As a result, your model isstarting with a freshly initialized optimizer.\n"
     ]
    },
    {
     "name": "stderr",
     "output_type": "stream",
     "text": [
      "/Users/yu-liangchou/opt/anaconda3/envs/cf_2022_final/lib/python3.7/site-packages/sklearn/base.py:338: UserWarning: Trying to unpickle estimator DecisionTreeClassifier from version 0.24.2 when using version 1.0.2. This might lead to breaking code or invalid results. Use at your own risk. For more info please refer to:\n",
      "https://scikit-learn.org/stable/modules/model_persistence.html#security-maintainability-limitations\n",
      "  UserWarning,\n",
      "/Users/yu-liangchou/opt/anaconda3/envs/cf_2022_final/lib/python3.7/site-packages/sklearn/base.py:338: UserWarning: Trying to unpickle estimator RandomForestClassifier from version 0.24.2 when using version 1.0.2. This might lead to breaking code or invalid results. Use at your own risk. For more info please refer to:\n",
      "https://scikit-learn.org/stable/modules/model_persistence.html#security-maintainability-limitations\n",
      "  UserWarning,\n",
      "2022-07-01 15:39:41.013150: I tensorflow/core/platform/cpu_feature_guard.cc:145] This TensorFlow binary is optimized with Intel(R) MKL-DNN to use the following CPU instructions in performance critical operations:  SSE4.1 SSE4.2\n",
      "To enable them in non-MKL-DNN operations, rebuild TensorFlow with the appropriate compiler flags.\n",
      "2022-07-01 15:39:41.014232: I tensorflow/core/common_runtime/process_util.cc:115] Creating new thread pool with default inter op setting: 8. Tune using inter_op_parallelism_threads for best performance.\n"
     ]
    }
   ],
   "source": [
    "#### Load datafram info.\n",
    "df_info = preprocess_df(dataset_loading_fn)\n",
    "### Seperate to train and test set.\n",
    "train_df, test_df = train_test_split(df_info.dummy_df, train_size=.8, random_state=seed, shuffle=True)\n",
    "### Get training and testing array.\n",
    "X_train = np.array(train_df[df_info.ohe_feature_names])\n",
    "y_train = np.array(train_df[df_info.target_name])\n",
    "X_test = np.array(test_df[df_info.ohe_feature_names])\n",
    "y_test = np.array(test_df[df_info.target_name])\n",
    "### Load models.\n",
    "models = load_three_models(X_train.shape[-1], dataset_name)"
   ]
  },
  {
   "cell_type": "code",
   "execution_count": 4,
   "metadata": {},
   "outputs": [],
   "source": [
    "from utils.evaluation import prepare_evaluation_dict\n",
    "\n",
    "proto_dt = pd.read_csv(r'./datasets/eval_proto_compas_dt_result.csv')\n",
    "original_compas = pd.read_csv(r'./datasets/COMPAS.csv')\n",
    "input_and_cf = prepare_evaluation_dict(proto_dt, df_info)"
   ]
  },
  {
   "cell_type": "code",
   "execution_count": 34,
   "metadata": {},
   "outputs": [
    {
     "data": {
      "text/plain": [
       "0.448717949"
      ]
     },
     "execution_count": 34,
     "metadata": {},
     "output_type": "execute_result"
    }
   ],
   "source": [
    "proto_dt['scaled_input_age'].max()"
   ]
  },
  {
   "cell_type": "code",
   "execution_count": 35,
   "metadata": {},
   "outputs": [
    {
     "data": {
      "text/plain": [
       "0.051282051"
      ]
     },
     "execution_count": 35,
     "metadata": {},
     "output_type": "execute_result"
    }
   ],
   "source": [
    "proto_dt['scaled_input_age'].min()"
   ]
  },
  {
   "cell_type": "code",
   "execution_count": 37,
   "metadata": {},
   "outputs": [
    {
     "data": {
      "text/plain": [
       "Index(['Unnamed: 0', 'Unnamed: 0.1', 'scaled_input_age',\n",
       "       'scaled_input_priors_count', 'scaled_input_days_b_screening_arrest',\n",
       "       'scaled_input_is_recid', 'scaled_input_is_violent_recid',\n",
       "       'scaled_input_two_year_recid', 'scaled_input_length_of_stay',\n",
       "       'scaled_input_age_cat', 'scaled_input_sex', 'scaled_input_race',\n",
       "       'scaled_input_c_charge_degree', 'scaled_input_class',\n",
       "       'origin_input_age', 'origin_input_priors_count',\n",
       "       'origin_input_days_b_screening_arrest', 'origin_input_is_recid',\n",
       "       'origin_input_is_violent_recid', 'origin_input_two_year_recid',\n",
       "       'origin_input_length_of_stay', 'origin_input_age_cat',\n",
       "       'origin_input_sex', 'origin_input_race', 'origin_input_c_charge_degree',\n",
       "       'origin_input_class', 'running_time', 'running_time.1', 'Found',\n",
       "       'ground_truth', 'prediction', 'scaled_cf_age', 'scaled_cf_priors_count',\n",
       "       'scaled_cf_days_b_screening_arrest', 'scaled_cf_is_recid',\n",
       "       'scaled_cf_is_violent_recid', 'scaled_cf_two_year_recid',\n",
       "       'scaled_cf_length_of_stay', 'scaled_cf_age_cat', 'scaled_cf_sex',\n",
       "       'scaled_cf_race', 'scaled_cf_c_charge_degree', 'scaled_cf_class',\n",
       "       'origin_cf_age', 'origin_cf_priors_count',\n",
       "       'origin_cf_days_b_screening_arrest', 'origin_cf_is_recid',\n",
       "       'origin_cf_is_violent_recid', 'origin_cf_two_year_recid',\n",
       "       'origin_cf_length_of_stay', 'origin_cf_age_cat', 'origin_cf_sex',\n",
       "       'origin_cf_race', 'origin_cf_c_charge_degree', 'origin_cf_class', 'L1',\n",
       "       'L2', 'Sparsity', 'Realistic', 'MAD', 'Mahalanobis'],\n",
       "      dtype='object')"
      ]
     },
     "execution_count": 37,
     "metadata": {},
     "output_type": "execute_result"
    }
   ],
   "source": [
    "proto_dt.columns"
   ]
  },
  {
   "cell_type": "code",
   "execution_count": 39,
   "metadata": {},
   "outputs": [
    {
     "data": {
      "text/plain": [
       "0     28\n",
       "1     28\n",
       "2     28\n",
       "3     28\n",
       "4     28\n",
       "      ..\n",
       "95    50\n",
       "96    50\n",
       "97    50\n",
       "98    50\n",
       "99    50\n",
       "Name: origin_input_age, Length: 100, dtype: int64"
      ]
     },
     "execution_count": 39,
     "metadata": {},
     "output_type": "execute_result"
    }
   ],
   "source": [
    "proto_dt['origin_input_age']"
   ]
  },
  {
   "cell_type": "code",
   "execution_count": 55,
   "metadata": {},
   "outputs": [
    {
     "data": {
      "text/plain": [
       "Index(['Unnamed: 0', 'Unnamed: 0.1', 'scaled_input_age',\n",
       "       'scaled_input_priors_count', 'scaled_input_days_b_screening_arrest',\n",
       "       'scaled_input_is_recid', 'scaled_input_is_violent_recid',\n",
       "       'scaled_input_two_year_recid', 'scaled_input_length_of_stay',\n",
       "       'scaled_input_age_cat', 'scaled_input_sex', 'scaled_input_race',\n",
       "       'scaled_input_c_charge_degree', 'scaled_input_class',\n",
       "       'origin_input_age', 'origin_input_priors_count',\n",
       "       'origin_input_days_b_screening_arrest', 'origin_input_is_recid',\n",
       "       'origin_input_is_violent_recid', 'origin_input_two_year_recid',\n",
       "       'origin_input_length_of_stay', 'origin_input_age_cat',\n",
       "       'origin_input_sex', 'origin_input_race', 'origin_input_c_charge_degree',\n",
       "       'origin_input_class', 'running_time', 'running_time.1', 'Found',\n",
       "       'ground_truth', 'prediction', 'scaled_cf_age', 'scaled_cf_priors_count',\n",
       "       'scaled_cf_days_b_screening_arrest', 'scaled_cf_is_recid',\n",
       "       'scaled_cf_is_violent_recid', 'scaled_cf_two_year_recid',\n",
       "       'scaled_cf_length_of_stay', 'scaled_cf_age_cat', 'scaled_cf_sex',\n",
       "       'scaled_cf_race', 'scaled_cf_c_charge_degree', 'scaled_cf_class',\n",
       "       'origin_cf_age', 'origin_cf_priors_count',\n",
       "       'origin_cf_days_b_screening_arrest', 'origin_cf_is_recid',\n",
       "       'origin_cf_is_violent_recid', 'origin_cf_two_year_recid',\n",
       "       'origin_cf_length_of_stay', 'origin_cf_age_cat', 'origin_cf_sex',\n",
       "       'origin_cf_race', 'origin_cf_c_charge_degree', 'origin_cf_class', 'L1',\n",
       "       'L2', 'Sparsity', 'Realistic', 'MAD', 'Mahalanobis'],\n",
       "      dtype='object')"
      ]
     },
     "execution_count": 55,
     "metadata": {},
     "output_type": "execute_result"
    }
   ],
   "source": [
    "proto_dt.columns"
   ]
  },
  {
   "cell_type": "code",
   "execution_count": 70,
   "metadata": {},
   "outputs": [
    {
     "data": {
      "text/plain": [
       "300"
      ]
     },
     "execution_count": 70,
     "metadata": {},
     "output_type": "execute_result"
    }
   ],
   "source": [
    "proto_dt['scaled_input_days_b_screening_arrest'].max()"
   ]
  },
  {
   "cell_type": "code",
   "execution_count": 61,
   "metadata": {},
   "outputs": [
    {
     "data": {
      "text/plain": [
       "0     0\n",
       "1     0\n",
       "2     0\n",
       "3     0\n",
       "4     0\n",
       "     ..\n",
       "95    1\n",
       "96    1\n",
       "97    1\n",
       "98    1\n",
       "99    1\n",
       "Name: scaled_input_days_b_screening_arrest, Length: 100, dtype: int64"
      ]
     },
     "execution_count": 61,
     "metadata": {},
     "output_type": "execute_result"
    }
   ],
   "source": [
    "proto_dt['scaled_input_days_b_screening_arrest']"
   ]
  },
  {
   "cell_type": "code",
   "execution_count": 71,
   "metadata": {},
   "outputs": [
    {
     "data": {
      "text/plain": [
       "['age',\n",
       " 'priors_count',\n",
       " 'days_b_screening_arrest',\n",
       " 'is_recid',\n",
       " 'is_violent_recid',\n",
       " 'two_year_recid',\n",
       " 'length_of_stay']"
      ]
     },
     "execution_count": 71,
     "metadata": {},
     "output_type": "execute_result"
    }
   ],
   "source": [
    "df_info.numerical_cols"
   ]
  },
  {
   "cell_type": "code",
   "execution_count": 74,
   "metadata": {},
   "outputs": [
    {
     "data": {
      "text/plain": [
       "0.051282051"
      ]
     },
     "execution_count": 74,
     "metadata": {},
     "output_type": "execute_result"
    }
   ],
   "source": [
    "input_and_cf['input']['age'].min()"
   ]
  },
  {
   "cell_type": "code",
   "execution_count": 81,
   "metadata": {},
   "outputs": [
    {
     "data": {
      "text/plain": [
       "0"
      ]
     },
     "execution_count": 81,
     "metadata": {},
     "output_type": "execute_result"
    }
   ],
   "source": [
    "input_and_cf['input']['length_of_stay'].min()"
   ]
  },
  {
   "cell_type": "code",
   "execution_count": 53,
   "metadata": {},
   "outputs": [
    {
     "data": {
      "text/plain": [
       "300"
      ]
     },
     "execution_count": 53,
     "metadata": {},
     "output_type": "execute_result"
    }
   ],
   "source": [
    "input_and_cf['input']['days_b_screening_arrest'].max()"
   ]
  },
  {
   "cell_type": "code",
   "execution_count": 5,
   "metadata": {},
   "outputs": [],
   "source": [
    "INDX = 5\n",
    "\n",
    "proto_input = input_and_cf['input'].loc[INDX]\n",
    "proto_cf = input_and_cf['cf'].loc[INDX]"
   ]
  },
  {
   "cell_type": "code",
   "execution_count": 6,
   "metadata": {},
   "outputs": [
    {
     "data": {
      "text/plain": [
       "{'dt': DecisionTreeClassifier(),\n",
       " 'rfc': RandomForestClassifier(),\n",
       " 'nn': <tensorflow.python.keras.engine.sequential.Sequential at 0x7f97c3b9bb50>}"
      ]
     },
     "execution_count": 6,
     "metadata": {},
     "output_type": "execute_result"
    }
   ],
   "source": [
    "models"
   ]
  },
  {
   "cell_type": "code",
   "execution_count": 7,
   "metadata": {},
   "outputs": [],
   "source": [
    "from dtreeviz.trees import *"
   ]
  },
  {
   "cell_type": "code",
   "execution_count": 23,
   "metadata": {},
   "outputs": [
    {
     "data": {
      "text/plain": [
       "1.0"
      ]
     },
     "execution_count": 23,
     "metadata": {},
     "output_type": "execute_result"
    }
   ],
   "source": [
    "X_train.max()"
   ]
  },
  {
   "cell_type": "code",
   "execution_count": 20,
   "metadata": {},
   "outputs": [],
   "source": [
    "clf=models['dt']\n",
    "class_names = [\"No\", \"Yes\"]\n",
    "viz = dtreeviz(clf, \n",
    "               x_data=X_train,\n",
    "               y_data=y_train,\n",
    "               target_name='target',\n",
    "               # feature_names=df_info.feature_names,\n",
    "               feature_names=df_info.ohe_feature_names, \n",
    "               class_names=class_names,\n",
    "               title=\"Decison Tree - COMPAS with decision path\",\n",
    "               # orientation=\"LR\", \n",
    "               # fancy=False,\n",
    "               # X=arr,\n",
    "               X=proto_cf, # B1. value not acceptable by this function.\n",
    "               # scale=.3,\n",
    "               show_just_path = True,\n",
    "            #    max_X_features_TD= 1,\n",
    "               # max_X_features_LR=1,\n",
    "               # depth_range_to_display=(0, 3)\n",
    "               # X=X_test[0]\n",
    "               \n",
    "               )\n",
    "viz.save(\"./testing-1.svg\")"
   ]
  },
  {
   "cell_type": "code",
   "execution_count": null,
   "metadata": {},
   "outputs": [],
   "source": [
    "\"/\""
   ]
  }
 ],
 "metadata": {
  "kernelspec": {
   "display_name": "Python 3.7.11 ('cf_2022_final')",
   "language": "python",
   "name": "python3"
  },
  "language_info": {
   "codemirror_mode": {
    "name": "ipython",
    "version": 3
   },
   "file_extension": ".py",
   "mimetype": "text/x-python",
   "name": "python",
   "nbconvert_exporter": "python",
   "pygments_lexer": "ipython3",
   "version": "3.7.11"
  },
  "orig_nbformat": 4,
  "vscode": {
   "interpreter": {
    "hash": "ddbd05a1a14a3b0def6fc051a52a025c8773943fa7dc1baab0b936f7bf6828c8"
   }
  }
 },
 "nbformat": 4,
 "nbformat_minor": 2
}
