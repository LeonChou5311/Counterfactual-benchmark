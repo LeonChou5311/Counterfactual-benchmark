{
 "cells": [
  {
   "cell_type": "code",
   "execution_count": 31,
   "metadata": {},
   "outputs": [],
   "source": [
    "import numpy as np \n",
    "import pandas as pd \n",
    "import os\n",
    "from utils.preprocessing import preprocess_df\n",
    "from utils.df_loader import load_adult_df, load_compas_df, load_german_df, load_diabetes_df, load_breast_cancer_df\n",
    "from utils.evaluation import get_evaluations, EvaluationMatrix"
   ]
  },
  {
   "cell_type": "code",
   "execution_count": 70,
   "metadata": {},
   "outputs": [],
   "source": [
    "dataset_name = 'breast_cancer'\n",
    "model_name = 'dt'\n",
    "algorithm_name = 'proto' # [dice, proto]"
   ]
  },
  {
   "cell_type": "code",
   "execution_count": 71,
   "metadata": {},
   "outputs": [],
   "source": [
    "def get_loading_fn(dataset_name):\n",
    "    if dataset_name == 'adult':\n",
    "        dataset_loading_fn = load_adult_df\n",
    "    elif dataset_name == 'german':\n",
    "        dataset_loading_fn = load_german_df\n",
    "    elif dataset_name == 'compas':\n",
    "        dataset_loading_fn = load_compas_df\n",
    "    elif dataset_name == 'diabetes':\n",
    "        dataset_loading_fn = load_diabetes_df\n",
    "    elif dataset_name == 'breast_cancer':\n",
    "        dataset_loading_fn = load_breast_cancer_df\n",
    "    else:\n",
    "        raise Exception(\"Unsupported dataset\")\n",
    "    return dataset_loading_fn"
   ]
  },
  {
   "cell_type": "code",
   "execution_count": 72,
   "metadata": {},
   "outputs": [
    {
     "name": "stdout",
     "output_type": "stream",
     "text": [
      "[breast_cancer] | #Features: [30]| #Numerical: [30] | #Categorical: [0] | #OHE Features: [30] |\n"
     ]
    }
   ],
   "source": [
    "df_info = preprocess_df(get_loading_fn(dataset_name))\n",
    "print(f\"[{dataset_name}] | #Features: [{len(df_info.feature_names)}]| #Numerical: [{len(df_info.numerical_cols)}] | #Categorical: [{len( [c for c in df_info.categorical_cols if c != df_info.target_name])}] | #OHE Features: [{len(df_info.ohe_feature_names)}] |\")"
   ]
  },
  {
   "cell_type": "code",
   "execution_count": 73,
   "metadata": {},
   "outputs": [],
   "source": [
    "folder_name = f'{algorithm_name}_{dataset_name}'\n",
    "file_name = f'{folder_name}_{model_name}_result.csv'\n",
    "result_path = f'./results/{folder_name}/{file_name}'"
   ]
  },
  {
   "cell_type": "code",
   "execution_count": 74,
   "metadata": {},
   "outputs": [
    {
     "data": {
      "text/plain": [
       "True"
      ]
     },
     "execution_count": 74,
     "metadata": {},
     "output_type": "execute_result"
    }
   ],
   "source": [
    "os.path.isfile(result_path)"
   ]
  },
  {
   "cell_type": "code",
   "execution_count": 75,
   "metadata": {},
   "outputs": [],
   "source": [
    "result_df = pd.read_csv(result_path)"
   ]
  },
  {
   "cell_type": "code",
   "execution_count": 76,
   "metadata": {},
   "outputs": [],
   "source": [
    "evaluation_df = result_df.copy(deep=True)\n",
    "found_idx = evaluation_df[evaluation_df['Found']==\"Y\"].index"
   ]
  },
  {
   "cell_type": "code",
   "execution_count": 77,
   "metadata": {},
   "outputs": [],
   "source": [
    "cf_found_eaval_df = evaluation_df.loc[[found_idx[0]]].copy(deep=True)"
   ]
  },
  {
   "cell_type": "code",
   "execution_count": 78,
   "metadata": {},
   "outputs": [
    {
     "data": {
      "text/html": [
       "<div>\n",
       "<style scoped>\n",
       "    .dataframe tbody tr th:only-of-type {\n",
       "        vertical-align: middle;\n",
       "    }\n",
       "\n",
       "    .dataframe tbody tr th {\n",
       "        vertical-align: top;\n",
       "    }\n",
       "\n",
       "    .dataframe thead th {\n",
       "        text-align: right;\n",
       "    }\n",
       "</style>\n",
       "<table border=\"1\" class=\"dataframe\">\n",
       "  <thead>\n",
       "    <tr style=\"text-align: right;\">\n",
       "      <th></th>\n",
       "      <th>Unnamed: 0</th>\n",
       "      <th>Unnamed: 0.1</th>\n",
       "      <th>scaled_input_radius_mean</th>\n",
       "      <th>scaled_input_texture_mean</th>\n",
       "      <th>scaled_input_perimeter_mean</th>\n",
       "      <th>scaled_input_area_mean</th>\n",
       "      <th>scaled_input_smoothness_mean</th>\n",
       "      <th>scaled_input_compactness_mean</th>\n",
       "      <th>scaled_input_concavity_mean</th>\n",
       "      <th>scaled_input_concave points_mean</th>\n",
       "      <th>...</th>\n",
       "      <th>origin_cf_texture_worst</th>\n",
       "      <th>origin_cf_perimeter_worst</th>\n",
       "      <th>origin_cf_area_worst</th>\n",
       "      <th>origin_cf_smoothness_worst</th>\n",
       "      <th>origin_cf_compactness_worst</th>\n",
       "      <th>origin_cf_concavity_worst</th>\n",
       "      <th>origin_cf_concave points_worst</th>\n",
       "      <th>origin_cf_symmetry_worst</th>\n",
       "      <th>origin_cf_fractal_dimension_worst</th>\n",
       "      <th>origin_cf_diagnosis</th>\n",
       "    </tr>\n",
       "  </thead>\n",
       "  <tbody>\n",
       "    <tr>\n",
       "      <th>10</th>\n",
       "      <td>2</td>\n",
       "      <td>0</td>\n",
       "      <td>0.49974</td>\n",
       "      <td>0.324992</td>\n",
       "      <td>0.492779</td>\n",
       "      <td>0.342778</td>\n",
       "      <td>0.334477</td>\n",
       "      <td>0.308018</td>\n",
       "      <td>0.242737</td>\n",
       "      <td>0.372167</td>\n",
       "      <td>...</td>\n",
       "      <td>12.02</td>\n",
       "      <td>50.41</td>\n",
       "      <td>185.2</td>\n",
       "      <td>0.07117</td>\n",
       "      <td>0.02729</td>\n",
       "      <td>0.0</td>\n",
       "      <td>0.0</td>\n",
       "      <td>0.1565</td>\n",
       "      <td>0.05504</td>\n",
       "      <td>N</td>\n",
       "    </tr>\n",
       "  </tbody>\n",
       "</table>\n",
       "<p>1 rows × 130 columns</p>\n",
       "</div>"
      ],
      "text/plain": [
       "    Unnamed: 0  Unnamed: 0.1  scaled_input_radius_mean  \\\n",
       "10           2             0                   0.49974   \n",
       "\n",
       "    scaled_input_texture_mean  scaled_input_perimeter_mean  \\\n",
       "10                   0.324992                     0.492779   \n",
       "\n",
       "    scaled_input_area_mean  scaled_input_smoothness_mean  \\\n",
       "10                0.342778                      0.334477   \n",
       "\n",
       "    scaled_input_compactness_mean  scaled_input_concavity_mean  \\\n",
       "10                       0.308018                     0.242737   \n",
       "\n",
       "    scaled_input_concave points_mean  ...  origin_cf_texture_worst  \\\n",
       "10                          0.372167  ...                    12.02   \n",
       "\n",
       "    origin_cf_perimeter_worst  origin_cf_area_worst  \\\n",
       "10                      50.41                 185.2   \n",
       "\n",
       "    origin_cf_smoothness_worst  origin_cf_compactness_worst  \\\n",
       "10                     0.07117                      0.02729   \n",
       "\n",
       "    origin_cf_concavity_worst  origin_cf_concave points_worst  \\\n",
       "10                        0.0                             0.0   \n",
       "\n",
       "    origin_cf_symmetry_worst  origin_cf_fractal_dimension_worst  \\\n",
       "10                    0.1565                            0.05504   \n",
       "\n",
       "    origin_cf_diagnosis  \n",
       "10                    N  \n",
       "\n",
       "[1 rows x 130 columns]"
      ]
     },
     "execution_count": 78,
     "metadata": {},
     "output_type": "execute_result"
    }
   ],
   "source": [
    "cf_found_eaval_df"
   ]
  },
  {
   "cell_type": "code",
   "execution_count": 79,
   "metadata": {},
   "outputs": [],
   "source": [
    "from utils.evaluation import prepare_evaluation_dict"
   ]
  },
  {
   "cell_type": "code",
   "execution_count": 80,
   "metadata": {},
   "outputs": [],
   "source": [
    "input_and_cf = prepare_evaluation_dict(cf_found_eaval_df, df_info)"
   ]
  },
  {
   "cell_type": "code",
   "execution_count": 81,
   "metadata": {},
   "outputs": [],
   "source": [
    "input = input_and_cf['input']"
   ]
  },
  {
   "cell_type": "code",
   "execution_count": 82,
   "metadata": {},
   "outputs": [],
   "source": [
    "from utils import evaluation as evaluator"
   ]
  },
  {
   "cell_type": "code",
   "execution_count": 83,
   "metadata": {},
   "outputs": [
    {
     "data": {
      "text/plain": [
       "array([8.08252142])"
      ]
     },
     "execution_count": 83,
     "metadata": {},
     "output_type": "execute_result"
    }
   ],
   "source": [
    "evaluator.get_L1(**input_and_cf)"
   ]
  },
  {
   "cell_type": "code",
   "execution_count": 84,
   "metadata": {},
   "outputs": [],
   "source": [
    "def get_sparsity(**kwargs):\n",
    "    e = 1e-10\n",
    "    # should remove the target column first.\n",
    "    input_df = kwargs['not_dummy_input']\n",
    "    cf_df = kwargs['not_dummy_cf']\n",
    "\n",
    "    input_array = np.array(input_df)\n",
    "    cf_array = np.array(cf_df)\n",
    "\n",
    "    return (np.abs(input_array - cf_array) > e).astype(int).sum(axis=1)"
   ]
  },
  {
   "cell_type": "code",
   "execution_count": 85,
   "metadata": {},
   "outputs": [
    {
     "data": {
      "text/plain": [
       "array([30])"
      ]
     },
     "execution_count": 85,
     "metadata": {},
     "output_type": "execute_result"
    }
   ],
   "source": [
    "evaluator.get_sparsity(**input_and_cf)"
   ]
  },
  {
   "cell_type": "code",
   "execution_count": 86,
   "metadata": {},
   "outputs": [
    {
     "data": {
      "text/plain": [
       "array([30])"
      ]
     },
     "execution_count": 86,
     "metadata": {},
     "output_type": "execute_result"
    }
   ],
   "source": [
    "get_sparsity(**input_and_cf)"
   ]
  },
  {
   "cell_type": "code",
   "execution_count": 14,
   "metadata": {},
   "outputs": [],
   "source": [
    "cf = input_and_cf['cf']"
   ]
  },
  {
   "cell_type": "code",
   "execution_count": 15,
   "metadata": {},
   "outputs": [
    {
     "data": {
      "text/plain": [
       "array([0.26882547])"
      ]
     },
     "execution_count": 15,
     "metadata": {},
     "output_type": "execute_result"
    }
   ],
   "source": [
    "np.linalg.norm(np.array(input)-np.array(cf), axis=1, ord=1)"
   ]
  },
  {
   "cell_type": "code",
   "execution_count": 16,
   "metadata": {},
   "outputs": [],
   "source": [
    "ohe_cat_cols = df_info.get_ohe_cat_cols()\n",
    "ohe_num_cols = df_info.get_ohe_num_cols()\n",
    "numerical_mads = df_info.get_numerical_mads()"
   ]
  },
  {
   "cell_type": "code",
   "execution_count": 17,
   "metadata": {},
   "outputs": [
    {
     "data": {
      "text/plain": [
       "{'age': 0.15327646057129196,\n",
       " 'capital-gain': 0.01977393211073296,\n",
       " 'capital-loss': 0.03821442946900573,\n",
       " 'hours-per-week': 0.07737987255391114}"
      ]
     },
     "execution_count": 17,
     "metadata": {},
     "output_type": "execute_result"
    }
   ],
   "source": [
    "numerical_mads"
   ]
  },
  {
   "cell_type": "code",
   "execution_count": 18,
   "metadata": {},
   "outputs": [],
   "source": [
    "eps = 1e-8"
   ]
  },
  {
   "cell_type": "code",
   "execution_count": 19,
   "metadata": {},
   "outputs": [],
   "source": [
    "mad_df = pd.DataFrame({}, columns= df_info.ohe_feature_names)\n",
    "mad_df[ohe_cat_cols] = (input[ohe_cat_cols] != cf[ohe_cat_cols]).astype(int)\n",
    "for num_col in ohe_num_cols: \n",
    "    mad_df[num_col] = abs(cf[num_col] - input[num_col]) / (numerical_mads[num_col] + eps)\n",
    "\n"
   ]
  },
  {
   "cell_type": "code",
   "execution_count": 24,
   "metadata": {},
   "outputs": [
    {
     "data": {
      "text/plain": [
       "0    2.09008\n",
       "dtype: float64"
      ]
     },
     "execution_count": 24,
     "metadata": {},
     "output_type": "execute_result"
    }
   ],
   "source": [
    "mad_df[ohe_num_cols].mean(axis=1)"
   ]
  },
  {
   "cell_type": "code",
   "execution_count": 25,
   "metadata": {},
   "outputs": [
    {
     "data": {
      "text/plain": [
       "0    0.10101\n",
       "dtype: float64"
      ]
     },
     "execution_count": 25,
     "metadata": {},
     "output_type": "execute_result"
    }
   ],
   "source": [
    "mad_df[ohe_cat_cols].mean(axis=1)"
   ]
  },
  {
   "cell_type": "code",
   "execution_count": 20,
   "metadata": {},
   "outputs": [
    {
     "data": {
      "text/plain": [
       "[2.1910904801656854]"
      ]
     },
     "execution_count": 20,
     "metadata": {},
     "output_type": "execute_result"
    }
   ],
   "source": [
    "(mad_df[ohe_num_cols].mean(axis=1) + mad_df[ohe_cat_cols].mean(axis=1)).tolist()"
   ]
  },
  {
   "cell_type": "code",
   "execution_count": 21,
   "metadata": {},
   "outputs": [
    {
     "data": {
      "text/plain": [
       "[0.1782555487050712]"
      ]
     },
     "execution_count": 21,
     "metadata": {},
     "output_type": "execute_result"
    }
   ],
   "source": [
    "mad_df.mean(axis=1).tolist()"
   ]
  },
  {
   "cell_type": "code",
   "execution_count": 22,
   "metadata": {},
   "outputs": [],
   "source": [
    "# if len(ohe_cat_cols) > 0 and len(ohe_num_cols) > 0:\n",
    "#     return (mad_df[ohe_num_cols].mean(axis=1) + mad_df[ohe_cat_cols].mean(axis=1)).tolist()\n",
    "# elif len(ohe_num_cols) > 0:\n",
    "#     return mad_df[ohe_num_cols].mean(axis=1).tolist()\n",
    "# elif len(ohe_cat_cols) > 0:\n",
    "#     return mad_df[ohe_cat_cols].mean(axis=1).tolist()\n",
    "# else:\n",
    "#     raise Exception(\"No columns provided for MAD.\")"
   ]
  },
  {
   "cell_type": "code",
   "execution_count": 23,
   "metadata": {},
   "outputs": [],
   "source": [
    "# mad_df[ohe_num_cols].mean(axis=1)"
   ]
  }
 ],
 "metadata": {
  "kernelspec": {
   "display_name": "Python 3.7.11 ('cf_2022_final')",
   "language": "python",
   "name": "python3"
  },
  "language_info": {
   "codemirror_mode": {
    "name": "ipython",
    "version": 3
   },
   "file_extension": ".py",
   "mimetype": "text/x-python",
   "name": "python",
   "nbconvert_exporter": "python",
   "pygments_lexer": "ipython3",
   "version": "3.7.11"
  },
  "orig_nbformat": 4,
  "vscode": {
   "interpreter": {
    "hash": "ddbd05a1a14a3b0def6fc051a52a025c8773943fa7dc1baab0b936f7bf6828c8"
   }
  }
 },
 "nbformat": 4,
 "nbformat_minor": 2
}
