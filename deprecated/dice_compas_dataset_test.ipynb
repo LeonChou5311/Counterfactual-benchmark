{
 "cells": [
  {
   "cell_type": "code",
   "execution_count": 1,
   "metadata": {},
   "outputs": [
    {
     "ename": "ModuleNotFoundError",
     "evalue": "No module named 'utils.df_loader'",
     "output_type": "error",
     "traceback": [
      "\u001b[0;31m---------------------------------------------------------------------------\u001b[0m",
      "\u001b[0;31mModuleNotFoundError\u001b[0m                       Traceback (most recent call last)",
      "\u001b[0;32m/var/folders/cj/76jxqn71757384mssvb297jw0000gn/T/ipykernel_84716/1805236847.py\u001b[0m in \u001b[0;36m<module>\u001b[0;34m\u001b[0m\n\u001b[1;32m      5\u001b[0m \u001b[0;34m\u001b[0m\u001b[0m\n\u001b[1;32m      6\u001b[0m \u001b[0;32mfrom\u001b[0m \u001b[0mtime\u001b[0m \u001b[0;32mimport\u001b[0m \u001b[0mtime\u001b[0m\u001b[0;34m\u001b[0m\u001b[0;34m\u001b[0m\u001b[0m\n\u001b[0;32m----> 7\u001b[0;31m \u001b[0;32mfrom\u001b[0m \u001b[0mutils\u001b[0m\u001b[0;34m.\u001b[0m\u001b[0mdf_loader\u001b[0m \u001b[0;32mimport\u001b[0m \u001b[0mload_compas_df\u001b[0m\u001b[0;34m\u001b[0m\u001b[0;34m\u001b[0m\u001b[0m\n\u001b[0m\u001b[1;32m      8\u001b[0m \u001b[0;32mfrom\u001b[0m \u001b[0mutils\u001b[0m\u001b[0;34m.\u001b[0m\u001b[0mpreprocessing\u001b[0m \u001b[0;32mimport\u001b[0m \u001b[0mremove_missing_values\u001b[0m\u001b[0;34m,\u001b[0m \u001b[0mmin_max_scale_numerical\u001b[0m\u001b[0;34m,\u001b[0m \u001b[0minverse_dummy\u001b[0m\u001b[0;34m\u001b[0m\u001b[0;34m\u001b[0m\u001b[0m\n\u001b[1;32m      9\u001b[0m \u001b[0;32mfrom\u001b[0m \u001b[0msklearn\u001b[0m\u001b[0;34m.\u001b[0m\u001b[0mmodel_selection\u001b[0m \u001b[0;32mimport\u001b[0m \u001b[0mtrain_test_split\u001b[0m\u001b[0;34m\u001b[0m\u001b[0;34m\u001b[0m\u001b[0m\n",
      "\u001b[0;31mModuleNotFoundError\u001b[0m: No module named 'utils.df_loader'"
     ]
    }
   ],
   "source": [
    "import tensorflow as tf\n",
    "import pandas as pd\n",
    "import numpy as np\n",
    "import pickle\n",
    "\n",
    "from time import time\n",
    "from utils.df_loader import load_compas_df\n",
    "from utils.preprocessing import remove_missing_values, min_max_scale_numerical, inverse_dummy\n",
    "from sklearn.model_selection import train_test_split\n",
    "from sklearn.tree import DecisionTreeClassifier\n",
    "from sklearn.ensemble import RandomForestClassifier\n",
    "\n",
    "from alibi.explainers import CounterFactualProto, CounterFactual\n",
    "from alibi_cf.utils import get_cat_vars_dict\n",
    "\n",
    "pd.options.mode.chained_assignment = None \n",
    "\n",
    "print('TF version: ', tf.__version__)\n",
    "print('Eager execution enabled: ', tf.executing_eagerly()) # False\n",
    "\n",
    "\n",
    "seed = 123\n",
    "tf.random.set_seed(seed)\n",
    "np.random.seed(seed)\n"
   ]
  },
  {
   "cell_type": "code",
   "execution_count": null,
   "metadata": {},
   "outputs": [],
   "source": [
    "df, feature_names, numerical_cols, categorical_cols, columns_type, target_name, possible_outcomes = load_compas_df()"
   ]
  },
  {
   "cell_type": "code",
   "execution_count": null,
   "metadata": {},
   "outputs": [],
   "source": [
    "scaled_df, scaler = min_max_scale_numerical(df, numerical_cols)"
   ]
  },
  {
   "cell_type": "code",
   "execution_count": null,
   "metadata": {},
   "outputs": [
    {
     "data": {
      "text/html": [
       "<div>\n",
       "<style scoped>\n",
       "    .dataframe tbody tr th:only-of-type {\n",
       "        vertical-align: middle;\n",
       "    }\n",
       "\n",
       "    .dataframe tbody tr th {\n",
       "        vertical-align: top;\n",
       "    }\n",
       "\n",
       "    .dataframe thead th {\n",
       "        text-align: right;\n",
       "    }\n",
       "</style>\n",
       "<table border=\"1\" class=\"dataframe\">\n",
       "  <thead>\n",
       "    <tr style=\"text-align: right;\">\n",
       "      <th></th>\n",
       "      <th>default</th>\n",
       "      <th>account_check_status</th>\n",
       "      <th>duration_in_month</th>\n",
       "      <th>credit_history</th>\n",
       "      <th>purpose</th>\n",
       "      <th>credit_amount</th>\n",
       "      <th>savings</th>\n",
       "      <th>present_emp_since</th>\n",
       "      <th>installment_as_income_perc</th>\n",
       "      <th>personal_status_sex</th>\n",
       "      <th>...</th>\n",
       "      <th>present_res_since</th>\n",
       "      <th>property</th>\n",
       "      <th>age</th>\n",
       "      <th>other_installment_plans</th>\n",
       "      <th>housing</th>\n",
       "      <th>credits_this_bank</th>\n",
       "      <th>job</th>\n",
       "      <th>people_under_maintenance</th>\n",
       "      <th>telephone</th>\n",
       "      <th>foreign_worker</th>\n",
       "    </tr>\n",
       "  </thead>\n",
       "  <tbody>\n",
       "    <tr>\n",
       "      <th>0</th>\n",
       "      <td>N</td>\n",
       "      <td>&lt; 0 DM</td>\n",
       "      <td>0.029412</td>\n",
       "      <td>critical account/ other credits existing (not ...</td>\n",
       "      <td>domestic appliances</td>\n",
       "      <td>0.050567</td>\n",
       "      <td>unknown/ no savings account</td>\n",
       "      <td>.. &gt;= 7 years</td>\n",
       "      <td>1.000000</td>\n",
       "      <td>male : single</td>\n",
       "      <td>...</td>\n",
       "      <td>1.000000</td>\n",
       "      <td>real estate</td>\n",
       "      <td>0.857143</td>\n",
       "      <td>none</td>\n",
       "      <td>own</td>\n",
       "      <td>0.333333</td>\n",
       "      <td>skilled employee / official</td>\n",
       "      <td>0.0</td>\n",
       "      <td>yes, registered under the customers name</td>\n",
       "      <td>yes</td>\n",
       "    </tr>\n",
       "    <tr>\n",
       "      <th>1</th>\n",
       "      <td>Y</td>\n",
       "      <td>0 &lt;= ... &lt; 200 DM</td>\n",
       "      <td>0.647059</td>\n",
       "      <td>existing credits paid back duly till now</td>\n",
       "      <td>domestic appliances</td>\n",
       "      <td>0.313690</td>\n",
       "      <td>... &lt; 100 DM</td>\n",
       "      <td>1 &lt;= ... &lt; 4 years</td>\n",
       "      <td>0.333333</td>\n",
       "      <td>female : divorced/separated/married</td>\n",
       "      <td>...</td>\n",
       "      <td>0.333333</td>\n",
       "      <td>real estate</td>\n",
       "      <td>0.053571</td>\n",
       "      <td>none</td>\n",
       "      <td>own</td>\n",
       "      <td>0.000000</td>\n",
       "      <td>skilled employee / official</td>\n",
       "      <td>0.0</td>\n",
       "      <td>none</td>\n",
       "      <td>yes</td>\n",
       "    </tr>\n",
       "    <tr>\n",
       "      <th>2</th>\n",
       "      <td>N</td>\n",
       "      <td>no checking account</td>\n",
       "      <td>0.117647</td>\n",
       "      <td>critical account/ other credits existing (not ...</td>\n",
       "      <td>(vacation - does not exist?)</td>\n",
       "      <td>0.101574</td>\n",
       "      <td>... &lt; 100 DM</td>\n",
       "      <td>4 &lt;= ... &lt; 7 years</td>\n",
       "      <td>0.333333</td>\n",
       "      <td>male : single</td>\n",
       "      <td>...</td>\n",
       "      <td>0.666667</td>\n",
       "      <td>real estate</td>\n",
       "      <td>0.535714</td>\n",
       "      <td>none</td>\n",
       "      <td>own</td>\n",
       "      <td>0.000000</td>\n",
       "      <td>unskilled - resident</td>\n",
       "      <td>1.0</td>\n",
       "      <td>none</td>\n",
       "      <td>yes</td>\n",
       "    </tr>\n",
       "    <tr>\n",
       "      <th>3</th>\n",
       "      <td>N</td>\n",
       "      <td>&lt; 0 DM</td>\n",
       "      <td>0.558824</td>\n",
       "      <td>existing credits paid back duly till now</td>\n",
       "      <td>radio/television</td>\n",
       "      <td>0.419941</td>\n",
       "      <td>... &lt; 100 DM</td>\n",
       "      <td>4 &lt;= ... &lt; 7 years</td>\n",
       "      <td>0.333333</td>\n",
       "      <td>male : single</td>\n",
       "      <td>...</td>\n",
       "      <td>1.000000</td>\n",
       "      <td>if not A121 : building society savings agreeme...</td>\n",
       "      <td>0.464286</td>\n",
       "      <td>none</td>\n",
       "      <td>for free</td>\n",
       "      <td>0.000000</td>\n",
       "      <td>skilled employee / official</td>\n",
       "      <td>1.0</td>\n",
       "      <td>none</td>\n",
       "      <td>yes</td>\n",
       "    </tr>\n",
       "    <tr>\n",
       "      <th>4</th>\n",
       "      <td>Y</td>\n",
       "      <td>&lt; 0 DM</td>\n",
       "      <td>0.294118</td>\n",
       "      <td>delay in paying off in the past</td>\n",
       "      <td>car (new)</td>\n",
       "      <td>0.254209</td>\n",
       "      <td>... &lt; 100 DM</td>\n",
       "      <td>1 &lt;= ... &lt; 4 years</td>\n",
       "      <td>0.666667</td>\n",
       "      <td>male : single</td>\n",
       "      <td>...</td>\n",
       "      <td>1.000000</td>\n",
       "      <td>unknown / no property</td>\n",
       "      <td>0.607143</td>\n",
       "      <td>none</td>\n",
       "      <td>for free</td>\n",
       "      <td>0.333333</td>\n",
       "      <td>skilled employee / official</td>\n",
       "      <td>1.0</td>\n",
       "      <td>none</td>\n",
       "      <td>yes</td>\n",
       "    </tr>\n",
       "  </tbody>\n",
       "</table>\n",
       "<p>5 rows × 21 columns</p>\n",
       "</div>"
      ],
      "text/plain": [
       "  default account_check_status  duration_in_month  \\\n",
       "0       N               < 0 DM           0.029412   \n",
       "1       Y    0 <= ... < 200 DM           0.647059   \n",
       "2       N  no checking account           0.117647   \n",
       "3       N               < 0 DM           0.558824   \n",
       "4       Y               < 0 DM           0.294118   \n",
       "\n",
       "                                      credit_history  \\\n",
       "0  critical account/ other credits existing (not ...   \n",
       "1           existing credits paid back duly till now   \n",
       "2  critical account/ other credits existing (not ...   \n",
       "3           existing credits paid back duly till now   \n",
       "4                    delay in paying off in the past   \n",
       "\n",
       "                        purpose  credit_amount                      savings  \\\n",
       "0           domestic appliances       0.050567  unknown/ no savings account   \n",
       "1           domestic appliances       0.313690                 ... < 100 DM   \n",
       "2  (vacation - does not exist?)       0.101574                 ... < 100 DM   \n",
       "3              radio/television       0.419941                 ... < 100 DM   \n",
       "4                     car (new)       0.254209                 ... < 100 DM   \n",
       "\n",
       "    present_emp_since  installment_as_income_perc  \\\n",
       "0       .. >= 7 years                    1.000000   \n",
       "1  1 <= ... < 4 years                    0.333333   \n",
       "2  4 <= ... < 7 years                    0.333333   \n",
       "3  4 <= ... < 7 years                    0.333333   \n",
       "4  1 <= ... < 4 years                    0.666667   \n",
       "\n",
       "                   personal_status_sex  ... present_res_since  \\\n",
       "0                        male : single  ...          1.000000   \n",
       "1  female : divorced/separated/married  ...          0.333333   \n",
       "2                        male : single  ...          0.666667   \n",
       "3                        male : single  ...          1.000000   \n",
       "4                        male : single  ...          1.000000   \n",
       "\n",
       "                                            property       age  \\\n",
       "0                                        real estate  0.857143   \n",
       "1                                        real estate  0.053571   \n",
       "2                                        real estate  0.535714   \n",
       "3  if not A121 : building society savings agreeme...  0.464286   \n",
       "4                              unknown / no property  0.607143   \n",
       "\n",
       "   other_installment_plans   housing credits_this_bank  \\\n",
       "0                     none       own          0.333333   \n",
       "1                     none       own          0.000000   \n",
       "2                     none       own          0.000000   \n",
       "3                     none  for free          0.000000   \n",
       "4                     none  for free          0.333333   \n",
       "\n",
       "                           job people_under_maintenance  \\\n",
       "0  skilled employee / official                      0.0   \n",
       "1  skilled employee / official                      0.0   \n",
       "2         unskilled - resident                      1.0   \n",
       "3  skilled employee / official                      1.0   \n",
       "4  skilled employee / official                      1.0   \n",
       "\n",
       "                                   telephone foreign_worker  \n",
       "0  yes, registered under the customers name             yes  \n",
       "1                                       none            yes  \n",
       "2                                       none            yes  \n",
       "3                                       none            yes  \n",
       "4                                       none            yes  \n",
       "\n",
       "[5 rows x 21 columns]"
      ]
     },
     "execution_count": 4,
     "metadata": {},
     "output_type": "execute_result"
    }
   ],
   "source": [
    "scaled_df.head(5)"
   ]
  },
  {
   "cell_type": "code",
   "execution_count": null,
   "metadata": {},
   "outputs": [],
   "source": [
    "dummy_df = pd.get_dummies(scaled_df, columns=  [ col for col in categorical_cols if col != target_name])"
   ]
  },
  {
   "cell_type": "code",
   "execution_count": null,
   "metadata": {},
   "outputs": [
    {
     "data": {
      "text/plain": [
       "61"
      ]
     },
     "execution_count": 6,
     "metadata": {},
     "output_type": "execute_result"
    }
   ],
   "source": [
    "### We should have this amount of input features.\n",
    "sum([len(scaled_df[col].unique()) for col in categorical_cols if col != target_name]) + len(numerical_cols)"
   ]
  },
  {
   "cell_type": "code",
   "execution_count": null,
   "metadata": {},
   "outputs": [],
   "source": [
    "# label_enconded_df, encoder_dict = label_encode(scaled_df, categorical_cols)"
   ]
  },
  {
   "cell_type": "code",
   "execution_count": null,
   "metadata": {},
   "outputs": [],
   "source": [
    "cat_to_ohe_cat = {}\n",
    "for c_col in categorical_cols:\n",
    "    if c_col != target_name:\n",
    "        cat_to_ohe_cat[c_col] = [ ohe_col for ohe_col in dummy_df.columns if ohe_col.startswith(c_col) and ohe_col != target_name]"
   ]
  },
  {
   "cell_type": "code",
   "execution_count": null,
   "metadata": {},
   "outputs": [],
   "source": [
    "ohe_feature_names = [ col for col in dummy_df.columns if col != target_name]"
   ]
  },
  {
   "cell_type": "code",
   "execution_count": null,
   "metadata": {},
   "outputs": [
    {
     "data": {
      "text/html": [
       "<div>\n",
       "<style scoped>\n",
       "    .dataframe tbody tr th:only-of-type {\n",
       "        vertical-align: middle;\n",
       "    }\n",
       "\n",
       "    .dataframe tbody tr th {\n",
       "        vertical-align: top;\n",
       "    }\n",
       "\n",
       "    .dataframe thead th {\n",
       "        text-align: right;\n",
       "    }\n",
       "</style>\n",
       "<table border=\"1\" class=\"dataframe\">\n",
       "  <thead>\n",
       "    <tr style=\"text-align: right;\">\n",
       "      <th></th>\n",
       "      <th>default</th>\n",
       "      <th>duration_in_month</th>\n",
       "      <th>credit_amount</th>\n",
       "      <th>installment_as_income_perc</th>\n",
       "      <th>present_res_since</th>\n",
       "      <th>age</th>\n",
       "      <th>credits_this_bank</th>\n",
       "      <th>people_under_maintenance</th>\n",
       "      <th>account_check_status_0 &lt;= ... &lt; 200 DM</th>\n",
       "      <th>account_check_status_&lt; 0 DM</th>\n",
       "      <th>...</th>\n",
       "      <th>housing_own</th>\n",
       "      <th>housing_rent</th>\n",
       "      <th>job_management/ self-employed/ highly qualified employee/ officer</th>\n",
       "      <th>job_skilled employee / official</th>\n",
       "      <th>job_unemployed/ unskilled - non-resident</th>\n",
       "      <th>job_unskilled - resident</th>\n",
       "      <th>telephone_none</th>\n",
       "      <th>telephone_yes, registered under the customers name</th>\n",
       "      <th>foreign_worker_no</th>\n",
       "      <th>foreign_worker_yes</th>\n",
       "    </tr>\n",
       "  </thead>\n",
       "  <tbody>\n",
       "    <tr>\n",
       "      <th>0</th>\n",
       "      <td>N</td>\n",
       "      <td>0.029412</td>\n",
       "      <td>0.050567</td>\n",
       "      <td>1.000000</td>\n",
       "      <td>1.000000</td>\n",
       "      <td>0.857143</td>\n",
       "      <td>0.333333</td>\n",
       "      <td>0.0</td>\n",
       "      <td>0</td>\n",
       "      <td>1</td>\n",
       "      <td>...</td>\n",
       "      <td>1</td>\n",
       "      <td>0</td>\n",
       "      <td>0</td>\n",
       "      <td>1</td>\n",
       "      <td>0</td>\n",
       "      <td>0</td>\n",
       "      <td>0</td>\n",
       "      <td>1</td>\n",
       "      <td>0</td>\n",
       "      <td>1</td>\n",
       "    </tr>\n",
       "    <tr>\n",
       "      <th>1</th>\n",
       "      <td>Y</td>\n",
       "      <td>0.647059</td>\n",
       "      <td>0.313690</td>\n",
       "      <td>0.333333</td>\n",
       "      <td>0.333333</td>\n",
       "      <td>0.053571</td>\n",
       "      <td>0.000000</td>\n",
       "      <td>0.0</td>\n",
       "      <td>1</td>\n",
       "      <td>0</td>\n",
       "      <td>...</td>\n",
       "      <td>1</td>\n",
       "      <td>0</td>\n",
       "      <td>0</td>\n",
       "      <td>1</td>\n",
       "      <td>0</td>\n",
       "      <td>0</td>\n",
       "      <td>1</td>\n",
       "      <td>0</td>\n",
       "      <td>0</td>\n",
       "      <td>1</td>\n",
       "    </tr>\n",
       "    <tr>\n",
       "      <th>2</th>\n",
       "      <td>N</td>\n",
       "      <td>0.117647</td>\n",
       "      <td>0.101574</td>\n",
       "      <td>0.333333</td>\n",
       "      <td>0.666667</td>\n",
       "      <td>0.535714</td>\n",
       "      <td>0.000000</td>\n",
       "      <td>1.0</td>\n",
       "      <td>0</td>\n",
       "      <td>0</td>\n",
       "      <td>...</td>\n",
       "      <td>1</td>\n",
       "      <td>0</td>\n",
       "      <td>0</td>\n",
       "      <td>0</td>\n",
       "      <td>0</td>\n",
       "      <td>1</td>\n",
       "      <td>1</td>\n",
       "      <td>0</td>\n",
       "      <td>0</td>\n",
       "      <td>1</td>\n",
       "    </tr>\n",
       "    <tr>\n",
       "      <th>3</th>\n",
       "      <td>N</td>\n",
       "      <td>0.558824</td>\n",
       "      <td>0.419941</td>\n",
       "      <td>0.333333</td>\n",
       "      <td>1.000000</td>\n",
       "      <td>0.464286</td>\n",
       "      <td>0.000000</td>\n",
       "      <td>1.0</td>\n",
       "      <td>0</td>\n",
       "      <td>1</td>\n",
       "      <td>...</td>\n",
       "      <td>0</td>\n",
       "      <td>0</td>\n",
       "      <td>0</td>\n",
       "      <td>1</td>\n",
       "      <td>0</td>\n",
       "      <td>0</td>\n",
       "      <td>1</td>\n",
       "      <td>0</td>\n",
       "      <td>0</td>\n",
       "      <td>1</td>\n",
       "    </tr>\n",
       "    <tr>\n",
       "      <th>4</th>\n",
       "      <td>Y</td>\n",
       "      <td>0.294118</td>\n",
       "      <td>0.254209</td>\n",
       "      <td>0.666667</td>\n",
       "      <td>1.000000</td>\n",
       "      <td>0.607143</td>\n",
       "      <td>0.333333</td>\n",
       "      <td>1.0</td>\n",
       "      <td>0</td>\n",
       "      <td>1</td>\n",
       "      <td>...</td>\n",
       "      <td>0</td>\n",
       "      <td>0</td>\n",
       "      <td>0</td>\n",
       "      <td>1</td>\n",
       "      <td>0</td>\n",
       "      <td>0</td>\n",
       "      <td>1</td>\n",
       "      <td>0</td>\n",
       "      <td>0</td>\n",
       "      <td>1</td>\n",
       "    </tr>\n",
       "  </tbody>\n",
       "</table>\n",
       "<p>5 rows × 62 columns</p>\n",
       "</div>"
      ],
      "text/plain": [
       "  default  duration_in_month  credit_amount  installment_as_income_perc  \\\n",
       "0       N           0.029412       0.050567                    1.000000   \n",
       "1       Y           0.647059       0.313690                    0.333333   \n",
       "2       N           0.117647       0.101574                    0.333333   \n",
       "3       N           0.558824       0.419941                    0.333333   \n",
       "4       Y           0.294118       0.254209                    0.666667   \n",
       "\n",
       "   present_res_since       age  credits_this_bank  people_under_maintenance  \\\n",
       "0           1.000000  0.857143           0.333333                       0.0   \n",
       "1           0.333333  0.053571           0.000000                       0.0   \n",
       "2           0.666667  0.535714           0.000000                       1.0   \n",
       "3           1.000000  0.464286           0.000000                       1.0   \n",
       "4           1.000000  0.607143           0.333333                       1.0   \n",
       "\n",
       "   account_check_status_0 <= ... < 200 DM  account_check_status_< 0 DM  ...  \\\n",
       "0                                       0                            1  ...   \n",
       "1                                       1                            0  ...   \n",
       "2                                       0                            0  ...   \n",
       "3                                       0                            1  ...   \n",
       "4                                       0                            1  ...   \n",
       "\n",
       "   housing_own  housing_rent  \\\n",
       "0            1             0   \n",
       "1            1             0   \n",
       "2            1             0   \n",
       "3            0             0   \n",
       "4            0             0   \n",
       "\n",
       "   job_management/ self-employed/ highly qualified employee/ officer  \\\n",
       "0                                                  0                   \n",
       "1                                                  0                   \n",
       "2                                                  0                   \n",
       "3                                                  0                   \n",
       "4                                                  0                   \n",
       "\n",
       "   job_skilled employee / official  job_unemployed/ unskilled - non-resident  \\\n",
       "0                                1                                         0   \n",
       "1                                1                                         0   \n",
       "2                                0                                         0   \n",
       "3                                1                                         0   \n",
       "4                                1                                         0   \n",
       "\n",
       "   job_unskilled - resident  telephone_none  \\\n",
       "0                         0               0   \n",
       "1                         0               1   \n",
       "2                         1               1   \n",
       "3                         0               1   \n",
       "4                         0               1   \n",
       "\n",
       "   telephone_yes, registered under the customers name   foreign_worker_no  \\\n",
       "0                                                  1                    0   \n",
       "1                                                  0                    0   \n",
       "2                                                  0                    0   \n",
       "3                                                  0                    0   \n",
       "4                                                  0                    0   \n",
       "\n",
       "   foreign_worker_yes  \n",
       "0                   1  \n",
       "1                   1  \n",
       "2                   1  \n",
       "3                   1  \n",
       "4                   1  \n",
       "\n",
       "[5 rows x 62 columns]"
      ]
     },
     "execution_count": 10,
     "metadata": {},
     "output_type": "execute_result"
    }
   ],
   "source": [
    "dummy_df.head(5)"
   ]
  },
  {
   "cell_type": "code",
   "execution_count": null,
   "metadata": {},
   "outputs": [],
   "source": [
    "# def inverse_dummy(dummy_df, cat_to_ohe_cat):\n",
    "#     not_dummy_df = dummy_df.copy(deep=True)\n",
    "#     for k in cat_to_ohe_cat.keys():\n",
    "#         not_dummy_df[k] = dummy_df[cat_to_ohe_cat[k]].idxmax(axis=1)\n",
    "#         not_dummy_df[k] = not_dummy_df[k].apply(lambda x: x.replace(f'{k}_',\"\"))\n",
    "#         not_dummy_df.drop(cat_to_ohe_cat[k], axis=1, inplace=True)\n",
    "#     return not_dummy_df"
   ]
  },
  {
   "cell_type": "code",
   "execution_count": null,
   "metadata": {},
   "outputs": [
    {
     "data": {
      "text/html": [
       "<div>\n",
       "<style scoped>\n",
       "    .dataframe tbody tr th:only-of-type {\n",
       "        vertical-align: middle;\n",
       "    }\n",
       "\n",
       "    .dataframe tbody tr th {\n",
       "        vertical-align: top;\n",
       "    }\n",
       "\n",
       "    .dataframe thead th {\n",
       "        text-align: right;\n",
       "    }\n",
       "</style>\n",
       "<table border=\"1\" class=\"dataframe\">\n",
       "  <thead>\n",
       "    <tr style=\"text-align: right;\">\n",
       "      <th></th>\n",
       "      <th>default</th>\n",
       "      <th>duration_in_month</th>\n",
       "      <th>credit_amount</th>\n",
       "      <th>installment_as_income_perc</th>\n",
       "      <th>present_res_since</th>\n",
       "      <th>age</th>\n",
       "      <th>credits_this_bank</th>\n",
       "      <th>people_under_maintenance</th>\n",
       "      <th>account_check_status</th>\n",
       "      <th>credit_history</th>\n",
       "      <th>...</th>\n",
       "      <th>savings</th>\n",
       "      <th>present_emp_since</th>\n",
       "      <th>personal_status_sex</th>\n",
       "      <th>other_debtors</th>\n",
       "      <th>property</th>\n",
       "      <th>other_installment_plans</th>\n",
       "      <th>housing</th>\n",
       "      <th>job</th>\n",
       "      <th>telephone</th>\n",
       "      <th>foreign_worker</th>\n",
       "    </tr>\n",
       "  </thead>\n",
       "  <tbody>\n",
       "    <tr>\n",
       "      <th>0</th>\n",
       "      <td>N</td>\n",
       "      <td>0.029412</td>\n",
       "      <td>0.050567</td>\n",
       "      <td>1.000000</td>\n",
       "      <td>1.000000</td>\n",
       "      <td>0.857143</td>\n",
       "      <td>0.333333</td>\n",
       "      <td>0.0</td>\n",
       "      <td>&lt; 0 DM</td>\n",
       "      <td>critical account/ other credits existing (not ...</td>\n",
       "      <td>...</td>\n",
       "      <td>unknown/ no savings account</td>\n",
       "      <td>.. &gt;= 7 years</td>\n",
       "      <td>male : single</td>\n",
       "      <td>none</td>\n",
       "      <td>real estate</td>\n",
       "      <td>none</td>\n",
       "      <td>own</td>\n",
       "      <td>skilled employee / official</td>\n",
       "      <td>yes, registered under the customers name</td>\n",
       "      <td>yes</td>\n",
       "    </tr>\n",
       "    <tr>\n",
       "      <th>1</th>\n",
       "      <td>Y</td>\n",
       "      <td>0.647059</td>\n",
       "      <td>0.313690</td>\n",
       "      <td>0.333333</td>\n",
       "      <td>0.333333</td>\n",
       "      <td>0.053571</td>\n",
       "      <td>0.000000</td>\n",
       "      <td>0.0</td>\n",
       "      <td>0 &lt;= ... &lt; 200 DM</td>\n",
       "      <td>existing credits paid back duly till now</td>\n",
       "      <td>...</td>\n",
       "      <td>... &lt; 100 DM</td>\n",
       "      <td>1 &lt;= ... &lt; 4 years</td>\n",
       "      <td>female : divorced/separated/married</td>\n",
       "      <td>none</td>\n",
       "      <td>real estate</td>\n",
       "      <td>none</td>\n",
       "      <td>own</td>\n",
       "      <td>skilled employee / official</td>\n",
       "      <td>none</td>\n",
       "      <td>yes</td>\n",
       "    </tr>\n",
       "    <tr>\n",
       "      <th>2</th>\n",
       "      <td>N</td>\n",
       "      <td>0.117647</td>\n",
       "      <td>0.101574</td>\n",
       "      <td>0.333333</td>\n",
       "      <td>0.666667</td>\n",
       "      <td>0.535714</td>\n",
       "      <td>0.000000</td>\n",
       "      <td>1.0</td>\n",
       "      <td>no checking account</td>\n",
       "      <td>critical account/ other credits existing (not ...</td>\n",
       "      <td>...</td>\n",
       "      <td>... &lt; 100 DM</td>\n",
       "      <td>4 &lt;= ... &lt; 7 years</td>\n",
       "      <td>male : single</td>\n",
       "      <td>none</td>\n",
       "      <td>real estate</td>\n",
       "      <td>none</td>\n",
       "      <td>own</td>\n",
       "      <td>unskilled - resident</td>\n",
       "      <td>none</td>\n",
       "      <td>yes</td>\n",
       "    </tr>\n",
       "    <tr>\n",
       "      <th>3</th>\n",
       "      <td>N</td>\n",
       "      <td>0.558824</td>\n",
       "      <td>0.419941</td>\n",
       "      <td>0.333333</td>\n",
       "      <td>1.000000</td>\n",
       "      <td>0.464286</td>\n",
       "      <td>0.000000</td>\n",
       "      <td>1.0</td>\n",
       "      <td>&lt; 0 DM</td>\n",
       "      <td>existing credits paid back duly till now</td>\n",
       "      <td>...</td>\n",
       "      <td>... &lt; 100 DM</td>\n",
       "      <td>4 &lt;= ... &lt; 7 years</td>\n",
       "      <td>male : single</td>\n",
       "      <td>guarantor</td>\n",
       "      <td>if not A121 : building society savings agreeme...</td>\n",
       "      <td>none</td>\n",
       "      <td>for free</td>\n",
       "      <td>skilled employee / official</td>\n",
       "      <td>none</td>\n",
       "      <td>yes</td>\n",
       "    </tr>\n",
       "    <tr>\n",
       "      <th>4</th>\n",
       "      <td>Y</td>\n",
       "      <td>0.294118</td>\n",
       "      <td>0.254209</td>\n",
       "      <td>0.666667</td>\n",
       "      <td>1.000000</td>\n",
       "      <td>0.607143</td>\n",
       "      <td>0.333333</td>\n",
       "      <td>1.0</td>\n",
       "      <td>&lt; 0 DM</td>\n",
       "      <td>delay in paying off in the past</td>\n",
       "      <td>...</td>\n",
       "      <td>... &lt; 100 DM</td>\n",
       "      <td>1 &lt;= ... &lt; 4 years</td>\n",
       "      <td>male : single</td>\n",
       "      <td>none</td>\n",
       "      <td>unknown / no property</td>\n",
       "      <td>none</td>\n",
       "      <td>for free</td>\n",
       "      <td>skilled employee / official</td>\n",
       "      <td>none</td>\n",
       "      <td>yes</td>\n",
       "    </tr>\n",
       "  </tbody>\n",
       "</table>\n",
       "<p>5 rows × 21 columns</p>\n",
       "</div>"
      ],
      "text/plain": [
       "  default  duration_in_month  credit_amount  installment_as_income_perc  \\\n",
       "0       N           0.029412       0.050567                    1.000000   \n",
       "1       Y           0.647059       0.313690                    0.333333   \n",
       "2       N           0.117647       0.101574                    0.333333   \n",
       "3       N           0.558824       0.419941                    0.333333   \n",
       "4       Y           0.294118       0.254209                    0.666667   \n",
       "\n",
       "   present_res_since       age  credits_this_bank  people_under_maintenance  \\\n",
       "0           1.000000  0.857143           0.333333                       0.0   \n",
       "1           0.333333  0.053571           0.000000                       0.0   \n",
       "2           0.666667  0.535714           0.000000                       1.0   \n",
       "3           1.000000  0.464286           0.000000                       1.0   \n",
       "4           1.000000  0.607143           0.333333                       1.0   \n",
       "\n",
       "  account_check_status                                     credit_history  \\\n",
       "0               < 0 DM  critical account/ other credits existing (not ...   \n",
       "1    0 <= ... < 200 DM           existing credits paid back duly till now   \n",
       "2  no checking account  critical account/ other credits existing (not ...   \n",
       "3               < 0 DM           existing credits paid back duly till now   \n",
       "4               < 0 DM                    delay in paying off in the past   \n",
       "\n",
       "   ...                      savings   present_emp_since  \\\n",
       "0  ...  unknown/ no savings account       .. >= 7 years   \n",
       "1  ...                 ... < 100 DM  1 <= ... < 4 years   \n",
       "2  ...                 ... < 100 DM  4 <= ... < 7 years   \n",
       "3  ...                 ... < 100 DM  4 <= ... < 7 years   \n",
       "4  ...                 ... < 100 DM  1 <= ... < 4 years   \n",
       "\n",
       "                   personal_status_sex other_debtors  \\\n",
       "0                        male : single          none   \n",
       "1  female : divorced/separated/married          none   \n",
       "2                        male : single          none   \n",
       "3                        male : single     guarantor   \n",
       "4                        male : single          none   \n",
       "\n",
       "                                            property other_installment_plans  \\\n",
       "0                                        real estate                    none   \n",
       "1                                        real estate                    none   \n",
       "2                                        real estate                    none   \n",
       "3  if not A121 : building society savings agreeme...                    none   \n",
       "4                              unknown / no property                    none   \n",
       "\n",
       "    housing                          job  \\\n",
       "0       own  skilled employee / official   \n",
       "1       own  skilled employee / official   \n",
       "2       own         unskilled - resident   \n",
       "3  for free  skilled employee / official   \n",
       "4  for free  skilled employee / official   \n",
       "\n",
       "                                   telephone foreign_worker  \n",
       "0  yes, registered under the customers name             yes  \n",
       "1                                       none            yes  \n",
       "2                                       none            yes  \n",
       "3                                       none            yes  \n",
       "4                                       none            yes  \n",
       "\n",
       "[5 rows x 21 columns]"
      ]
     },
     "execution_count": 12,
     "metadata": {},
     "output_type": "execute_result"
    }
   ],
   "source": [
    "inverse_dummy(dummy_df, cat_to_ohe_cat).head(5)"
   ]
  },
  {
   "cell_type": "code",
   "execution_count": 2,
   "metadata": {},
   "outputs": [],
   "source": [
    "# enconded_df, encoder_dict = label_encode(scaled_df, categorical_cols)"
   ]
  },
  {
   "cell_type": "code",
   "execution_count": 3,
   "metadata": {},
   "outputs": [
    {
     "ename": "NameError",
     "evalue": "name 'dummy_df' is not defined",
     "output_type": "error",
     "traceback": [
      "\u001b[0;31m---------------------------------------------------------------------------\u001b[0m",
      "\u001b[0;31mNameError\u001b[0m                                 Traceback (most recent call last)",
      "\u001b[0;32m/var/folders/cj/76jxqn71757384mssvb297jw0000gn/T/ipykernel_83746/1421791533.py\u001b[0m in \u001b[0;36m<module>\u001b[0;34m\u001b[0m\n\u001b[1;32m      2\u001b[0m \u001b[0;34m\u001b[0m\u001b[0m\n\u001b[1;32m      3\u001b[0m \u001b[0mtarget_label_encoder\u001b[0m \u001b[0;34m=\u001b[0m \u001b[0mLabelEncoder\u001b[0m\u001b[0;34m(\u001b[0m\u001b[0;34m)\u001b[0m\u001b[0;34m\u001b[0m\u001b[0;34m\u001b[0m\u001b[0m\n\u001b[0;32m----> 4\u001b[0;31m \u001b[0mdummy_df\u001b[0m\u001b[0;34m[\u001b[0m\u001b[0mtarget_name\u001b[0m\u001b[0;34m]\u001b[0m \u001b[0;34m=\u001b[0m \u001b[0mtarget_label_encoder\u001b[0m\u001b[0;34m.\u001b[0m\u001b[0mfit_transform\u001b[0m\u001b[0;34m(\u001b[0m\u001b[0mdummy_df\u001b[0m\u001b[0;34m[\u001b[0m\u001b[0mtarget_name\u001b[0m\u001b[0;34m]\u001b[0m\u001b[0;34m)\u001b[0m\u001b[0;34m\u001b[0m\u001b[0;34m\u001b[0m\u001b[0m\n\u001b[0m",
      "\u001b[0;31mNameError\u001b[0m: name 'dummy_df' is not defined"
     ]
    }
   ],
   "source": [
    "from sklearn.preprocessing import LabelEncoder\n",
    "\n",
    "target_label_encoder = LabelEncoder()\n",
    "dummy_df[target_name] = target_label_encoder.fit_transform(dummy_df[target_name])"
   ]
  },
  {
   "cell_type": "code",
   "execution_count": null,
   "metadata": {},
   "outputs": [],
   "source": [
    "train_df, test_df = train_test_split(dummy_df, train_size=.8, random_state=seed, shuffle=True)"
   ]
  },
  {
   "cell_type": "code",
   "execution_count": 4,
   "metadata": {},
   "outputs": [
    {
     "ename": "NameError",
     "evalue": "name 'train_df' is not defined",
     "output_type": "error",
     "traceback": [
      "\u001b[0;31m---------------------------------------------------------------------------\u001b[0m",
      "\u001b[0;31mNameError\u001b[0m                                 Traceback (most recent call last)",
      "\u001b[0;32m/var/folders/cj/76jxqn71757384mssvb297jw0000gn/T/ipykernel_83746/3758716475.py\u001b[0m in \u001b[0;36m<module>\u001b[0;34m\u001b[0m\n\u001b[0;32m----> 1\u001b[0;31m \u001b[0mX_train\u001b[0m \u001b[0;34m=\u001b[0m \u001b[0mnp\u001b[0m\u001b[0;34m.\u001b[0m\u001b[0marray\u001b[0m\u001b[0;34m(\u001b[0m\u001b[0mtrain_df\u001b[0m\u001b[0;34m[\u001b[0m\u001b[0mohe_feature_names\u001b[0m\u001b[0;34m]\u001b[0m\u001b[0;34m)\u001b[0m\u001b[0;34m\u001b[0m\u001b[0;34m\u001b[0m\u001b[0m\n\u001b[0m\u001b[1;32m      2\u001b[0m \u001b[0my_train\u001b[0m \u001b[0;34m=\u001b[0m \u001b[0mnp\u001b[0m\u001b[0;34m.\u001b[0m\u001b[0marray\u001b[0m\u001b[0;34m(\u001b[0m\u001b[0mtrain_df\u001b[0m\u001b[0;34m[\u001b[0m\u001b[0mtarget_name\u001b[0m\u001b[0;34m]\u001b[0m\u001b[0;34m)\u001b[0m\u001b[0;34m\u001b[0m\u001b[0;34m\u001b[0m\u001b[0m\n\u001b[1;32m      3\u001b[0m \u001b[0mX_test\u001b[0m \u001b[0;34m=\u001b[0m \u001b[0mnp\u001b[0m\u001b[0;34m.\u001b[0m\u001b[0marray\u001b[0m\u001b[0;34m(\u001b[0m\u001b[0mtest_df\u001b[0m\u001b[0;34m[\u001b[0m\u001b[0mohe_feature_names\u001b[0m\u001b[0;34m]\u001b[0m\u001b[0;34m)\u001b[0m\u001b[0;34m\u001b[0m\u001b[0;34m\u001b[0m\u001b[0m\n\u001b[1;32m      4\u001b[0m \u001b[0my_test\u001b[0m \u001b[0;34m=\u001b[0m \u001b[0mnp\u001b[0m\u001b[0;34m.\u001b[0m\u001b[0marray\u001b[0m\u001b[0;34m(\u001b[0m\u001b[0mtest_df\u001b[0m\u001b[0;34m[\u001b[0m\u001b[0mtarget_name\u001b[0m\u001b[0;34m]\u001b[0m\u001b[0;34m)\u001b[0m\u001b[0;34m\u001b[0m\u001b[0;34m\u001b[0m\u001b[0m\n",
      "\u001b[0;31mNameError\u001b[0m: name 'train_df' is not defined"
     ]
    }
   ],
   "source": [
    "X_train = np.array(train_df[ohe_feature_names])\n",
    "y_train = np.array(train_df[target_name])\n",
    "X_test = np.array(test_df[ohe_feature_names])\n",
    "y_test = np.array(test_df[target_name])"
   ]
  },
  {
   "cell_type": "code",
   "execution_count": 5,
   "metadata": {},
   "outputs": [
    {
     "ename": "NameError",
     "evalue": "name 'X_train' is not defined",
     "output_type": "error",
     "traceback": [
      "\u001b[0;31m---------------------------------------------------------------------------\u001b[0m",
      "\u001b[0;31mNameError\u001b[0m                                 Traceback (most recent call last)",
      "\u001b[0;32m/var/folders/cj/76jxqn71757384mssvb297jw0000gn/T/ipykernel_83746/362389428.py\u001b[0m in \u001b[0;36m<module>\u001b[0;34m\u001b[0m\n\u001b[1;32m     12\u001b[0m         )\n\u001b[1;32m     13\u001b[0m \u001b[0mnn\u001b[0m\u001b[0;34m.\u001b[0m\u001b[0mcompile\u001b[0m\u001b[0;34m(\u001b[0m\u001b[0moptimizer\u001b[0m\u001b[0;34m=\u001b[0m\u001b[0;34m\"Adam\"\u001b[0m\u001b[0;34m,\u001b[0m \u001b[0mloss\u001b[0m\u001b[0;34m=\u001b[0m\u001b[0;34m'binary_crossentropy'\u001b[0m\u001b[0;34m,\u001b[0m \u001b[0mmetrics\u001b[0m\u001b[0;34m=\u001b[0m\u001b[0;34m[\u001b[0m\u001b[0;34m'accuracy'\u001b[0m\u001b[0;34m]\u001b[0m\u001b[0;34m)\u001b[0m\u001b[0;34m\u001b[0m\u001b[0;34m\u001b[0m\u001b[0m\n\u001b[0;32m---> 14\u001b[0;31m \u001b[0mnn\u001b[0m\u001b[0;34m.\u001b[0m\u001b[0mfit\u001b[0m\u001b[0;34m(\u001b[0m\u001b[0mX_train\u001b[0m\u001b[0;34m,\u001b[0m \u001b[0my_train\u001b[0m\u001b[0;34m,\u001b[0m \u001b[0mbatch_size\u001b[0m\u001b[0;34m=\u001b[0m\u001b[0;36m64\u001b[0m\u001b[0;34m,\u001b[0m \u001b[0mepochs\u001b[0m\u001b[0;34m=\u001b[0m\u001b[0;36m20\u001b[0m\u001b[0;34m,\u001b[0m \u001b[0mshuffle\u001b[0m\u001b[0;34m=\u001b[0m\u001b[0;32mTrue\u001b[0m\u001b[0;34m)\u001b[0m\u001b[0;34m\u001b[0m\u001b[0;34m\u001b[0m\u001b[0m\n\u001b[0m\u001b[1;32m     15\u001b[0m \u001b[0;34m\u001b[0m\u001b[0m\n\u001b[1;32m     16\u001b[0m models = {\n",
      "\u001b[0;31mNameError\u001b[0m: name 'X_train' is not defined"
     ]
    }
   ],
   "source": [
    "### Train\n",
    "nn = model= tf.keras.models.Sequential(\n",
    "            [\n",
    "                tf.keras.layers.Dense(24,activation='relu'),\n",
    "                tf.keras.layers.Dense(12,activation='relu'),\n",
    "                tf.keras.layers.Dense(12,activation='relu'),\n",
    "                tf.keras.layers.Dense(12,activation='relu'),\n",
    "                tf.keras.layers.Dense(12,activation='relu'),\n",
    "                tf.keras.layers.Dense(1),\n",
    "                tf.keras.layers.Activation(tf.nn.sigmoid),\n",
    "            ]\n",
    "        )\n",
    "nn.compile(optimizer=\"Adam\", loss='binary_crossentropy', metrics=['accuracy'])\n",
    "nn.fit(X_train, y_train, batch_size=64, epochs=20, shuffle=True)\n",
    "\n",
    "models = {\n",
    "    \"dt\": DecisionTreeClassifier().fit(X_train,y_train),\n",
    "    \"rfc\": RandomForestClassifier().fit(X_train,y_train),\n",
    "    \"nn\": nn,\n",
    "}\n",
    "\n",
    "pickle.dump(models['dt'], open('./saved_models/dt.p', 'wb'))\n",
    "pickle.dump(models['rfc'], open('./saved_models/rfc.p', 'wb'))\n",
    "models['nn'].save('./saved_models/nn.h5',overwrite=True)\n"
   ]
  },
  {
   "cell_type": "code",
   "execution_count": 18,
   "metadata": {},
   "outputs": [
    {
     "data": {
      "text/plain": [
       "array([[0.5436064],\n",
       "       [0.5436064]], dtype=float32)"
      ]
     },
     "execution_count": 18,
     "metadata": {},
     "output_type": "execute_result"
    }
   ],
   "source": [
    "### Load\n",
    "models = {}\n",
    "models['dt'] = pickle.load(open('./saved_models/dt.p', 'rb'))\n",
    "models['rfc'] = pickle.load(open('./saved_models/rfc.p', 'rb'))\n",
    "models['nn'] = tf.keras.models.load_model('./saved_models/nn.h5')\n",
    "\n",
    "## Initialise NN output shape as (None, 1) for tensorflow.v1\n",
    "models['nn'].predict(np.zeros((2, X_train.shape[-1])))\n"
   ]
  },
  {
   "cell_type": "code",
   "execution_count": 19,
   "metadata": {},
   "outputs": [
    {
     "name": "stdout",
     "output_type": "stream",
     "text": [
      "DT [1], RFC [1], NN [0.716882050037384]\n"
     ]
    }
   ],
   "source": [
    "example_data = X_test[0, :].reshape(1,-1)\n",
    "\n",
    "dt_pred = models['dt'].predict(example_data)[0]\n",
    "rfc_pred = models['rfc'].predict(example_data)[0]\n",
    "nn_pred = models['nn'].predict(example_data)[0][0]\n",
    "\n",
    "print(f\"DT [{dt_pred}], RFC [{rfc_pred}], NN [{nn_pred}]\")"
   ]
  },
  {
   "cell_type": "markdown",
   "metadata": {},
   "source": [
    "# DiCE"
   ]
  },
  {
   "cell_type": "code",
   "execution_count": 20,
   "metadata": {},
   "outputs": [],
   "source": [
    "import dice_ml"
   ]
  },
  {
   "cell_type": "code",
   "execution_count": 21,
   "metadata": {},
   "outputs": [],
   "source": [
    "d = dice_ml.Data(dataframe=scaled_df, continuous_features=numerical_cols, outcome_name=target_name)"
   ]
  },
  {
   "cell_type": "code",
   "execution_count": 22,
   "metadata": {},
   "outputs": [],
   "source": [
    "# m = dice_ml.Model(model=models['dt'], backend=\"sklearn\")\n",
    "# exp = dice_ml.Dice(d,m)"
   ]
  },
  {
   "cell_type": "code",
   "execution_count": 29,
   "metadata": {},
   "outputs": [],
   "source": [
    "class RecordWrapper():\n",
    "    def __init__(self, model, cat_to_ohe_cat, ohe_feature_names):\n",
    "        self.all_inputs = []\n",
    "        self.model = model\n",
    "        self.cat_to_ohe_cat = cat_to_ohe_cat\n",
    "        self.ohe_feature_names = ohe_feature_names\n",
    "\n",
    "\n",
    "    def dice_to_input(self, input_df):\n",
    "        x = input_df.copy(deep=True)\n",
    "\n",
    "        for k in cat_to_ohe_cat.keys():\n",
    "            for ohe_col in cat_to_ohe_cat[k]:\n",
    "                x[ohe_col] = x[k].apply(lambda v: 1 if v in ohe_col else 0) \n",
    "            x.drop([k], axis=1, inplace=True)\n",
    "            \n",
    "        return np.array(x[ohe_feature_names])\n",
    "\n",
    "    def predict_proba(self, x):\n",
    "        self.all_inputs.append(x)\n",
    "        cf_input = self.dice_to_input(x)\n",
    "        return self.model.predict_proba(cf_input)\n",
    "\n",
    "    def predict(self, x):\n",
    "        self.all_inputs.append(x)\n",
    "        cf_input = self.dice_to_input(x)\n",
    "        return self.model.predict(cf_input)\n",
    "\n",
    "class NNRecordWrapper():\n",
    "    def __init__(self, model, cat_to_ohe_cat, ohe_feature_names):\n",
    "        self.all_inputs = []\n",
    "        self.model = model\n",
    "        self.cat_to_ohe_cat = cat_to_ohe_cat\n",
    "        self.ohe_feature_names = ohe_feature_names\n",
    "\n",
    "\n",
    "    def dice_to_input(self, input_df):\n",
    "        x = input_df.copy(deep=True)\n",
    "\n",
    "        for k in cat_to_ohe_cat.keys():\n",
    "            for ohe_col in cat_to_ohe_cat[k]:\n",
    "                x[ohe_col] = x[k].apply(lambda v: 1 if v in ohe_col else 0) \n",
    "            x.drop([k], axis=1, inplace=True)\n",
    "            \n",
    "        return np.array(x[ohe_feature_names])\n",
    "\n",
    "    def predict(self, x):\n",
    "        self.all_inputs.append(x)\n",
    "        cf_input = self.dice_to_input(x)\n",
    "        return self.model.predict(tf.constant(cf_input.astype(float)))\n",
    "\n",
    "    def predict_proba(self, x):\n",
    "        self.all_inputs.append(x)\n",
    "        cf_input = self.dice_to_input(x)\n",
    "        return self.model.predict(tf.constant(cf_input.astype(float)))\n",
    "        "
   ]
  },
  {
   "cell_type": "code",
   "execution_count": 30,
   "metadata": {},
   "outputs": [],
   "source": [
    "all_wrapped_models = {\n",
    "    'dt': RecordWrapper(models['dt'], cat_to_ohe_cat, ohe_feature_names),\n",
    "    'rfc': RecordWrapper(models['rfc'], cat_to_ohe_cat, ohe_feature_names),\n",
    "    'nn': NNRecordWrapper(models['nn'], cat_to_ohe_cat, ohe_feature_names),\n",
    "}"
   ]
  },
  {
   "cell_type": "code",
   "execution_count": 31,
   "metadata": {},
   "outputs": [],
   "source": [
    "# dt_record = RecordWrapper(models['dt'], cat_to_ohe_cat, ohe_feature_names)\n",
    "# m = dice_ml.Model(model=dt_record, backend=\"sklearn\")\n",
    "# exp = dice_ml.Dice(d,m)\n",
    "# dice_exp = exp.generate_counterfactuals(scaled_df.iloc[1:2], total_CFs=5, desired_class=\"opposite\")\n",
    "# dice_exp.cf_examples_list[0].final_cfs_df.iloc[0][:-1]"
   ]
  },
  {
   "cell_type": "code",
   "execution_count": 32,
   "metadata": {},
   "outputs": [],
   "source": [
    "dice_cfs = {\n",
    "    'dt': dice_ml.Dice(d,dice_ml.Model(model=all_wrapped_models['dt'], backend=\"sklearn\")),\n",
    "    'rfc': dice_ml.Dice(d,dice_ml.Model(model=all_wrapped_models['rfc'], backend=\"sklearn\")),\n",
    "    'nn': dice_ml.Dice(d,dice_ml.Model(model=all_wrapped_models['nn'], backend=\"sklearn\"))\n",
    "}"
   ]
  },
  {
   "cell_type": "code",
   "execution_count": 33,
   "metadata": {},
   "outputs": [],
   "source": [
    "num_instances = 5\n",
    "num_cf_per_instance = 1"
   ]
  },
  {
   "cell_type": "code",
   "execution_count": 34,
   "metadata": {},
   "outputs": [
    {
     "name": "stderr",
     "output_type": "stream",
     "text": [
      "100%|██████████| 1/1 [00:00<00:00,  8.88it/s]\n",
      "  0%|          | 0/1 [00:00<?, ?it/s]"
     ]
    },
    {
     "name": "stdout",
     "output_type": "stream",
     "text": [
      "Finding counterfactual for dt\n",
      "instance 0\n",
      "CF 0\n",
      "instance 1\n",
      "CF 0\n"
     ]
    },
    {
     "name": "stderr",
     "output_type": "stream",
     "text": [
      "100%|██████████| 1/1 [00:00<00:00,  9.41it/s]\n",
      "100%|██████████| 1/1 [00:00<00:00,  9.48it/s]\n",
      "  0%|          | 0/1 [00:00<?, ?it/s]"
     ]
    },
    {
     "name": "stdout",
     "output_type": "stream",
     "text": [
      "instance 2\n",
      "CF 0\n",
      "instance 3\n",
      "CF 0\n"
     ]
    },
    {
     "name": "stderr",
     "output_type": "stream",
     "text": [
      "100%|██████████| 1/1 [00:00<00:00,  9.53it/s]\n",
      "100%|██████████| 1/1 [00:00<00:00,  9.31it/s]\n",
      "  0%|          | 0/1 [00:00<?, ?it/s]"
     ]
    },
    {
     "name": "stdout",
     "output_type": "stream",
     "text": [
      "instance 4\n",
      "CF 0\n",
      "Finding counterfactual for rfc\n",
      "instance 0\n",
      "CF 0\n"
     ]
    },
    {
     "name": "stderr",
     "output_type": "stream",
     "text": [
      "100%|██████████| 1/1 [00:00<00:00,  7.76it/s]\n",
      "100%|██████████| 1/1 [00:00<00:00,  7.57it/s]\n",
      "  0%|          | 0/1 [00:00<?, ?it/s]"
     ]
    },
    {
     "name": "stdout",
     "output_type": "stream",
     "text": [
      "instance 1\n",
      "CF 0\n",
      "instance 2\n",
      "CF 0\n"
     ]
    },
    {
     "name": "stderr",
     "output_type": "stream",
     "text": [
      "100%|██████████| 1/1 [00:00<00:00,  7.77it/s]\n",
      "100%|██████████| 1/1 [00:00<00:00,  8.16it/s]\n",
      "  0%|          | 0/1 [00:00<?, ?it/s]"
     ]
    },
    {
     "name": "stdout",
     "output_type": "stream",
     "text": [
      "instance 3\n",
      "CF 0\n",
      "instance 4\n",
      "CF 0\n"
     ]
    },
    {
     "name": "stderr",
     "output_type": "stream",
     "text": [
      "100%|██████████| 1/1 [00:00<00:00,  5.54it/s]\n",
      "  0%|          | 0/1 [00:00<?, ?it/s]"
     ]
    },
    {
     "name": "stdout",
     "output_type": "stream",
     "text": [
      "Finding counterfactual for nn\n",
      "instance 0\n",
      "CF 0\n"
     ]
    },
    {
     "name": "stderr",
     "output_type": "stream",
     "text": [
      "100%|██████████| 1/1 [00:00<00:00,  1.40it/s]\n",
      "  0%|          | 0/1 [00:00<?, ?it/s]"
     ]
    },
    {
     "name": "stdout",
     "output_type": "stream",
     "text": [
      "No Counterfactuals found for the given configuration, perhaps try with different parameters... ; total time taken: 00 min 00 sec\n",
      "instance 1\n",
      "CF 0\n"
     ]
    },
    {
     "name": "stderr",
     "output_type": "stream",
     "text": [
      "100%|██████████| 1/1 [00:00<00:00,  1.34it/s]\n",
      "  0%|          | 0/1 [00:00<?, ?it/s]"
     ]
    },
    {
     "name": "stdout",
     "output_type": "stream",
     "text": [
      "No Counterfactuals found for the given configuration, perhaps try with different parameters... ; total time taken: 00 min 00 sec\n",
      "instance 2\n",
      "CF 0\n"
     ]
    },
    {
     "name": "stderr",
     "output_type": "stream",
     "text": [
      "100%|██████████| 1/1 [00:00<00:00,  1.34it/s]\n",
      "  0%|          | 0/1 [00:00<?, ?it/s]"
     ]
    },
    {
     "name": "stdout",
     "output_type": "stream",
     "text": [
      "No Counterfactuals found for the given configuration, perhaps try with different parameters... ; total time taken: 00 min 00 sec\n",
      "instance 3\n",
      "CF 0\n"
     ]
    },
    {
     "name": "stderr",
     "output_type": "stream",
     "text": [
      "100%|██████████| 1/1 [00:00<00:00,  1.42it/s]\n",
      "  0%|          | 0/1 [00:00<?, ?it/s]"
     ]
    },
    {
     "name": "stdout",
     "output_type": "stream",
     "text": [
      "No Counterfactuals found for the given configuration, perhaps try with different parameters... ; total time taken: 00 min 00 sec\n",
      "instance 4\n",
      "CF 0\n"
     ]
    },
    {
     "name": "stderr",
     "output_type": "stream",
     "text": [
      "100%|██████████| 1/1 [00:00<00:00,  1.42it/s]"
     ]
    },
    {
     "name": "stdout",
     "output_type": "stream",
     "text": [
      "No Counterfactuals found for the given configuration, perhaps try with different parameters... ; total time taken: 00 min 00 sec\n"
     ]
    },
    {
     "name": "stderr",
     "output_type": "stream",
     "text": [
      "\n"
     ]
    }
   ],
   "source": [
    "results = {}\n",
    "\n",
    "for k in dice_cfs.keys():\n",
    "    results[k] = []\n",
    "    print(f\"Finding counterfactual for {k}\")\n",
    "    for idx, instance in enumerate(scaled_df.iloc[test_df[0:num_instances].index].iloc):\n",
    "        print(f\"instance {idx}\")\n",
    "        for num_cf in range(num_cf_per_instance):\n",
    "            print(f\"CF {num_cf}\")\n",
    "            start_t = time()\n",
    "\n",
    "            input_query = pd.DataFrame([instance.to_dict()])\n",
    "            ground_truth = input_query[target_name][0]\n",
    "            exp = dice_cfs[k].generate_counterfactuals(input_query, total_CFs=1, sample_size=200, desired_class=\"opposite\")\n",
    "\n",
    "            # dice_exp = dice_cfs['nn'].generate_counterfactuals(scaled_df.iloc[1:2], total_CFs=1, desired_class=\"opposite\")\n",
    "            # dice_exp.cf_examples_list[0].final_cfs_df.iloc[0][:-1]\n",
    "\n",
    "            if k=='nn':\n",
    "                prediction = target_label_encoder.inverse_transform((all_wrapped_models[k].predict(input_query)[0]> 0.5).astype(int))[0]\n",
    "            else:\n",
    "                prediction = target_label_encoder.inverse_transform(all_wrapped_models[k].predict(input_query))[0]\n",
    "            \n",
    "            end_t = time ()\n",
    "            running_time = end_t - start_t\n",
    "            results[k].append({\n",
    "                \"input\": input_query,\n",
    "                \"cf\": exp.cf_examples_list[0].final_cfs_df,\n",
    "                \"running_time\": running_time,\n",
    "                \"ground_truth\": ground_truth,\n",
    "                \"prediction\": prediction,\n",
    "            })"
   ]
  },
  {
   "cell_type": "code",
   "execution_count": null,
   "metadata": {},
   "outputs": [],
   "source": [
    "# scaled_input_df = results['dt'][0]['input'].copy(deep=True)\n",
    "# origin_columns = [f\"origin_input_{col}\"  for col in scaled_input_df.columns]\n",
    "# origin_input_df = scaled_input_df.copy(deep=True)\n",
    "# scaled_input_df.columns = [f\"scaled_input_{col}\"  for col in scaled_input_df.columns]\n",
    "\n",
    "# origin_input_df[numerical_cols] = scaler.inverse_transform(origin_input_df[numerical_cols])\n",
    "# origin_input_df.columns = origin_columns\n",
    "\n",
    "# scaled_cf_df = results['dt'][0]['cf'].copy(deep=True)\n",
    "# scaled_cf_df.loc[0, target_name] = target_label_encoder.inverse_transform([scaled_cf_df.loc[0, target_name]])[0]\n",
    "# origin_cf_columns = [f\"origin_cf_{col}\"  for col in scaled_cf_df.columns]\n",
    "# origin_cf_df = scaled_cf_df.copy(deep=True)\n",
    "# scaled_cf_df.columns = [f\"scaled_cf_{col}\"  for col in scaled_cf_df.columns]\n",
    "\n",
    "# origin_cf_df[numerical_cols] = scaler.inverse_transform(origin_cf_df[numerical_cols])\n",
    "# origin_cf_df.columns = origin_cf_columns\n",
    "\n",
    "# final_df = pd.DataFrame([{}])\n",
    "# final_df = final_df.join([scaled_input_df, origin_input_df, scaled_cf_df, origin_cf_df])\n",
    "# final_df['running_time'] = results['dt'][0]['running_time']\n",
    "# final_df['Found'] = \"Y\" if not results['dt'][0]['cf'] is None else \"N\"\n"
   ]
  },
  {
   "cell_type": "code",
   "execution_count": 35,
   "metadata": {},
   "outputs": [],
   "source": [
    "all_df = {}\n",
    "\n",
    "for k in results.keys():\n",
    "\n",
    "    all_data = []\n",
    "\n",
    "    for i in range(len(results[k])):\n",
    "        final_df = pd.DataFrame([{}])\n",
    "\n",
    "        scaled_input_df = results[k][i]['input'].copy(deep=True)\n",
    "        origin_columns = [f\"origin_input_{col}\"  for col in scaled_input_df.columns]\n",
    "        origin_input_df = scaled_input_df.copy(deep=True)\n",
    "        scaled_input_df.columns = [f\"scaled_input_{col}\"  for col in scaled_input_df.columns]\n",
    "\n",
    "        origin_input_df[numerical_cols] = scaler.inverse_transform(origin_input_df[numerical_cols])\n",
    "        origin_input_df.columns = origin_columns\n",
    "\n",
    "        final_df = final_df.join([scaled_input_df, origin_input_df])\n",
    "\n",
    "        if not results[k][i]['cf'] is None:\n",
    "            scaled_cf_df = results[k][i]['cf'].copy(deep=True)\n",
    "            scaled_cf_df.loc[0, target_name] = target_label_encoder.inverse_transform([scaled_cf_df.loc[0, target_name]])[0]\n",
    "            origin_cf_columns = [f\"origin_cf_{col}\"  for col in scaled_cf_df.columns]\n",
    "            origin_cf_df = scaled_cf_df.copy(deep=True)\n",
    "            scaled_cf_df.columns = [f\"scaled_cf_{col}\"  for col in scaled_cf_df.columns]\n",
    "\n",
    "            origin_cf_df[numerical_cols] = scaler.inverse_transform(origin_cf_df[numerical_cols])\n",
    "            origin_cf_df.columns = origin_cf_columns\n",
    "\n",
    "            final_df = final_df.join([scaled_cf_df, origin_cf_df])\n",
    "\n",
    "        # final_df = final_df.join([scaled_input_df, origin_input_df, scaled_cf_df, origin_cf_df])\n",
    "        final_df['running_time'] = results[k][i]['running_time']\n",
    "        final_df['Found'] = \"Y\" if not results[k][i]['cf'] is None else \"N\"\n",
    "        final_df['ground_truth'] = results[k][i]['ground_truth'] \n",
    "        final_df['prediction'] = results[k][i]['prediction'] \n",
    "\n",
    "        all_data.append(final_df)\n",
    "\n",
    "    all_df[k] = pd.concat(all_data)"
   ]
  },
  {
   "cell_type": "code",
   "execution_count": 36,
   "metadata": {},
   "outputs": [],
   "source": [
    "for df_k in all_df.keys():\n",
    "    all_df[df_k].to_csv(f\"./results/dice_compas_{df_k}_result.csv\")"
   ]
  },
  {
   "cell_type": "code",
   "execution_count": null,
   "metadata": {},
   "outputs": [],
   "source": []
  }
 ],
 "metadata": {
  "interpreter": {
   "hash": "5c622353f32ef24c8d83e5c3e334107c074e82d7c3e8ca52c56b9fc900ce33e6"
  },
  "kernelspec": {
   "display_name": "Python 3.8.10 64-bit ('tf_mac': conda)",
   "name": "python3"
  },
  "language_info": {
   "codemirror_mode": {
    "name": "ipython",
    "version": 3
   },
   "file_extension": ".py",
   "mimetype": "text/x-python",
   "name": "python",
   "nbconvert_exporter": "python",
   "pygments_lexer": "ipython3",
   "version": "3.7.11"
  },
  "orig_nbformat": 4
 },
 "nbformat": 4,
 "nbformat_minor": 2
}
