{
 "cells": [
  {
   "cell_type": "code",
   "execution_count": 1,
   "metadata": {},
   "outputs": [
    {
     "name": "stdout",
     "output_type": "stream",
     "text": [
      "TF version:  2.0.0\n",
      "Eager execution enabled:  True\n"
     ]
    }
   ],
   "source": [
    "import tensorflow as tf\n",
    "import pandas as pd\n",
    "import numpy as np\n",
    "from surrogate import rules\n",
    "\n",
    "from utils.df_loader import load_adult_df, load_compas_df, load_german_df, load_diabetes_df, load_breast_cancer_df\n",
    "from utils.preprocessing import preprocess_df\n",
    "from sklearn.model_selection import train_test_split\n",
    "from utils.dice import generate_dice_result, process_results\n",
    "from utils.models import train_three_models, evaluation_test, save_three_models, load_lp_three_models\n",
    "from utils.save import save_result_as_csv\n",
    "from IPython.display import Image\n",
    "import PIL\n",
    "import pydotplus\n",
    "from six import StringIO\n",
    "from sklearn.tree import export_graphviz\n",
    "from pydotplus import *\n",
    "\n",
    "\n",
    "pd.options.mode.chained_assignment = None \n",
    "\n",
    "print('TF version: ', tf.__version__)\n",
    "print('Eager execution enabled: ', tf.executing_eagerly()) # False\n",
    "\n",
    "seed = 123\n",
    "tf.random.set_seed(seed)\n",
    "np.random.seed(seed)\n"
   ]
  },
  {
   "cell_type": "code",
   "execution_count": 2,
   "metadata": {},
   "outputs": [],
   "source": [
    "#### Select dataset ####'\n",
    "\n",
    "dataset_name = 'compas' # [adult, german, compas]\n",
    "\n",
    "if dataset_name == 'adult':\n",
    "    dataset_loading_fn = load_adult_df\n",
    "elif dataset_name == 'german':\n",
    "    dataset_loading_fn = load_german_df\n",
    "elif dataset_name == 'compas':\n",
    "    dataset_loading_fn = load_compas_df\n",
    "elif dataset_name == 'diabetes':\n",
    "    dataset_loading_fn = load_diabetes_df\n",
    "elif dataset_name == 'breast_cancer':\n",
    "    dataset_loading_fn = load_breast_cancer_df\n",
    "else:\n",
    "    raise Exception(\"Unsupported dataset\")"
   ]
  },
  {
   "cell_type": "code",
   "execution_count": 3,
   "metadata": {},
   "outputs": [],
   "source": [
    "from alibi.datasets import fetch_adult"
   ]
  },
  {
   "cell_type": "code",
   "execution_count": 4,
   "metadata": {},
   "outputs": [],
   "source": [
    "adult = fetch_adult()\n",
    "data = adult.data\n",
    "target = adult.target\n",
    "feature_names = adult.feature_names\n",
    "category_map_tmp = adult.category_map\n",
    "target_names = adult.target_names"
   ]
  },
  {
   "cell_type": "code",
   "execution_count": 5,
   "metadata": {},
   "outputs": [
    {
     "data": {
      "text/plain": [
       "(32561, 12)"
      ]
     },
     "execution_count": 5,
     "metadata": {},
     "output_type": "execute_result"
    }
   ],
   "source": [
    "data.shape"
   ]
  },
  {
   "cell_type": "code",
   "execution_count": 6,
   "metadata": {},
   "outputs": [
    {
     "data": {
      "text/plain": [
       "['Age',\n",
       " 'Workclass',\n",
       " 'Education',\n",
       " 'Marital Status',\n",
       " 'Occupation',\n",
       " 'Relationship',\n",
       " 'Race',\n",
       " 'Sex',\n",
       " 'Capital Gain',\n",
       " 'Capital Loss',\n",
       " 'Hours per week',\n",
       " 'Country']"
      ]
     },
     "execution_count": 6,
     "metadata": {},
     "output_type": "execute_result"
    }
   ],
   "source": [
    "feature_names"
   ]
  },
  {
   "cell_type": "code",
   "execution_count": 7,
   "metadata": {},
   "outputs": [
    {
     "data": {
      "text/plain": [
       "dict_keys([1, 2, 3, 4, 5, 6, 7, 11])"
      ]
     },
     "execution_count": 7,
     "metadata": {},
     "output_type": "execute_result"
    }
   ],
   "source": [
    "category_map_tmp.keys()"
   ]
  },
  {
   "cell_type": "code",
   "execution_count": 8,
   "metadata": {},
   "outputs": [],
   "source": [
    "df, feature_names, numerical_cols, categorical_cols, columns_type, target_name, possible_outcomes = load_compas_df()\n"
   ]
  },
  {
   "cell_type": "code",
   "execution_count": 9,
   "metadata": {},
   "outputs": [],
   "source": [
    "# scaled_input_days_b_screening_arrest"
   ]
  },
  {
   "cell_type": "code",
   "execution_count": 10,
   "metadata": {},
   "outputs": [
    {
     "data": {
      "text/plain": [
       "['age', 'priors_count', 'days_b_screening_arrest', 'length_of_stay']"
      ]
     },
     "execution_count": 10,
     "metadata": {},
     "output_type": "execute_result"
    }
   ],
   "source": [
    "numerical_cols"
   ]
  },
  {
   "cell_type": "code",
   "execution_count": 11,
   "metadata": {},
   "outputs": [
    {
     "name": "stdout",
     "output_type": "stream",
     "text": [
      "WARNING:tensorflow:Sequential models without an `input_shape` passed to the first layer cannot reload their optimizer state. As a result, your model isstarting with a freshly initialized optimizer.\n"
     ]
    },
    {
     "name": "stderr",
     "output_type": "stream",
     "text": [
      "2022-07-07 15:37:57.835789: I tensorflow/core/platform/cpu_feature_guard.cc:145] This TensorFlow binary is optimized with Intel(R) MKL-DNN to use the following CPU instructions in performance critical operations:  SSE4.1 SSE4.2\n",
      "To enable them in non-MKL-DNN operations, rebuild TensorFlow with the appropriate compiler flags.\n",
      "2022-07-07 15:37:57.836920: I tensorflow/core/common_runtime/process_util.cc:115] Creating new thread pool with default inter op setting: 8. Tune using inter_op_parallelism_threads for best performance.\n"
     ]
    }
   ],
   "source": [
    "#### Load datafram info.\n",
    "df_info = preprocess_df(dataset_loading_fn)\n",
    "### Seperate to train and test set.\n",
    "train_df, test_df = train_test_split(df_info.dummy_df, train_size=.8, random_state=seed, shuffle=True)\n",
    "### Get training and testing array.\n",
    "X_train = np.array(train_df[df_info.ohe_feature_names])\n",
    "y_train = np.array(train_df[df_info.target_name])\n",
    "X_test = np.array(test_df[df_info.ohe_feature_names])\n",
    "y_test = np.array(test_df[df_info.target_name])\n",
    "### Load models.\n",
    "models = load_lp_three_models(X_train.shape[-1], dataset_name)"
   ]
  },
  {
   "cell_type": "code",
   "execution_count": 12,
   "metadata": {},
   "outputs": [],
   "source": [
    "from utils.evaluation import prepare_evaluation_dict\n",
    "\n",
    "# proto_dt = pd.read_csv(r'./datasets/eval_proto_compas_dt_result.csv')\n",
    "proto_dt = pd.read_csv(r'./results/proto_compas/proto_compas_dt_result.csv')\n",
    "original_compas = pd.read_csv(r'./datasets/COMPAS.csv')\n",
    "input_and_cf = prepare_evaluation_dict(proto_dt, df_info)"
   ]
  },
  {
   "cell_type": "code",
   "execution_count": 13,
   "metadata": {},
   "outputs": [],
   "source": [
    "# proto_dt['scaled_cf_days_b_screening_arrest'].value_counts()\n",
    "# df_info.scaler.inverse_transform(\n",
    "#     input_instance[df_info.numerical_cols]\n",
    "# ).max()"
   ]
  },
  {
   "cell_type": "code",
   "execution_count": 14,
   "metadata": {},
   "outputs": [
    {
     "data": {
      "text/html": [
       "<div>\n",
       "<style scoped>\n",
       "    .dataframe tbody tr th:only-of-type {\n",
       "        vertical-align: middle;\n",
       "    }\n",
       "\n",
       "    .dataframe tbody tr th {\n",
       "        vertical-align: top;\n",
       "    }\n",
       "\n",
       "    .dataframe thead th {\n",
       "        text-align: right;\n",
       "    }\n",
       "</style>\n",
       "<table border=\"1\" class=\"dataframe\">\n",
       "  <thead>\n",
       "    <tr style=\"text-align: right;\">\n",
       "      <th></th>\n",
       "      <th>Unnamed: 0</th>\n",
       "      <th>scaled_input_age</th>\n",
       "      <th>scaled_input_priors_count</th>\n",
       "      <th>scaled_input_days_b_screening_arrest</th>\n",
       "      <th>scaled_input_length_of_stay</th>\n",
       "      <th>scaled_input_age_cat</th>\n",
       "      <th>scaled_input_sex</th>\n",
       "      <th>scaled_input_race</th>\n",
       "      <th>scaled_input_c_charge_degree</th>\n",
       "      <th>scaled_input_is_recid</th>\n",
       "      <th>...</th>\n",
       "      <th>origin_cf_race</th>\n",
       "      <th>origin_cf_c_charge_degree</th>\n",
       "      <th>origin_cf_is_recid</th>\n",
       "      <th>origin_cf_is_violent_recid</th>\n",
       "      <th>origin_cf_two_year_recid</th>\n",
       "      <th>origin_cf_class</th>\n",
       "      <th>running_time</th>\n",
       "      <th>Found</th>\n",
       "      <th>ground_truth</th>\n",
       "      <th>prediction</th>\n",
       "    </tr>\n",
       "  </thead>\n",
       "  <tbody>\n",
       "    <tr>\n",
       "      <th>0</th>\n",
       "      <td>0</td>\n",
       "      <td>0.128205</td>\n",
       "      <td>0.026316</td>\n",
       "      <td>0.000000</td>\n",
       "      <td>0.000000</td>\n",
       "      <td>25 - 45</td>\n",
       "      <td>Female</td>\n",
       "      <td>Other</td>\n",
       "      <td>F</td>\n",
       "      <td>0</td>\n",
       "      <td>...</td>\n",
       "      <td>African-American</td>\n",
       "      <td>F</td>\n",
       "      <td>1.0</td>\n",
       "      <td>0.0</td>\n",
       "      <td>1.0</td>\n",
       "      <td>High</td>\n",
       "      <td>23.306272</td>\n",
       "      <td>Y</td>\n",
       "      <td>Medium-Low</td>\n",
       "      <td>Medium-Low</td>\n",
       "    </tr>\n",
       "    <tr>\n",
       "      <th>1</th>\n",
       "      <td>0</td>\n",
       "      <td>0.051282</td>\n",
       "      <td>0.157895</td>\n",
       "      <td>0.158940</td>\n",
       "      <td>0.077597</td>\n",
       "      <td>Less than 25</td>\n",
       "      <td>Male</td>\n",
       "      <td>Caucasian</td>\n",
       "      <td>F</td>\n",
       "      <td>1</td>\n",
       "      <td>...</td>\n",
       "      <td>NaN</td>\n",
       "      <td>NaN</td>\n",
       "      <td>NaN</td>\n",
       "      <td>NaN</td>\n",
       "      <td>NaN</td>\n",
       "      <td>NaN</td>\n",
       "      <td>28.059915</td>\n",
       "      <td>N</td>\n",
       "      <td>High</td>\n",
       "      <td>High</td>\n",
       "    </tr>\n",
       "    <tr>\n",
       "      <th>2</th>\n",
       "      <td>0</td>\n",
       "      <td>0.333333</td>\n",
       "      <td>0.000000</td>\n",
       "      <td>0.000946</td>\n",
       "      <td>0.002503</td>\n",
       "      <td>25 - 45</td>\n",
       "      <td>Male</td>\n",
       "      <td>African-American</td>\n",
       "      <td>M</td>\n",
       "      <td>0</td>\n",
       "      <td>...</td>\n",
       "      <td>African-American</td>\n",
       "      <td>F</td>\n",
       "      <td>1.0</td>\n",
       "      <td>0.0</td>\n",
       "      <td>1.0</td>\n",
       "      <td>High</td>\n",
       "      <td>22.860507</td>\n",
       "      <td>Y</td>\n",
       "      <td>Medium-Low</td>\n",
       "      <td>Medium-Low</td>\n",
       "    </tr>\n",
       "  </tbody>\n",
       "</table>\n",
       "<p>3 rows × 53 columns</p>\n",
       "</div>"
      ],
      "text/plain": [
       "   Unnamed: 0  scaled_input_age  scaled_input_priors_count  \\\n",
       "0           0          0.128205                   0.026316   \n",
       "1           0          0.051282                   0.157895   \n",
       "2           0          0.333333                   0.000000   \n",
       "\n",
       "   scaled_input_days_b_screening_arrest  scaled_input_length_of_stay  \\\n",
       "0                              0.000000                     0.000000   \n",
       "1                              0.158940                     0.077597   \n",
       "2                              0.000946                     0.002503   \n",
       "\n",
       "  scaled_input_age_cat scaled_input_sex scaled_input_race  \\\n",
       "0              25 - 45           Female             Other   \n",
       "1         Less than 25             Male         Caucasian   \n",
       "2              25 - 45             Male  African-American   \n",
       "\n",
       "  scaled_input_c_charge_degree  scaled_input_is_recid  ...    origin_cf_race  \\\n",
       "0                            F                      0  ...  African-American   \n",
       "1                            F                      1  ...               NaN   \n",
       "2                            M                      0  ...  African-American   \n",
       "\n",
       "   origin_cf_c_charge_degree origin_cf_is_recid  origin_cf_is_violent_recid  \\\n",
       "0                          F                1.0                         0.0   \n",
       "1                        NaN                NaN                         NaN   \n",
       "2                          F                1.0                         0.0   \n",
       "\n",
       "   origin_cf_two_year_recid  origin_cf_class  running_time Found ground_truth  \\\n",
       "0                       1.0             High     23.306272     Y   Medium-Low   \n",
       "1                       NaN              NaN     28.059915     N         High   \n",
       "2                       1.0             High     22.860507     Y   Medium-Low   \n",
       "\n",
       "   prediction  \n",
       "0  Medium-Low  \n",
       "1        High  \n",
       "2  Medium-Low  \n",
       "\n",
       "[3 rows x 53 columns]"
      ]
     },
     "execution_count": 14,
     "metadata": {},
     "output_type": "execute_result"
    }
   ],
   "source": [
    "proto_dt"
   ]
  },
  {
   "cell_type": "code",
   "execution_count": 15,
   "metadata": {},
   "outputs": [
    {
     "data": {
      "text/html": [
       "<div>\n",
       "<style scoped>\n",
       "    .dataframe tbody tr th:only-of-type {\n",
       "        vertical-align: middle;\n",
       "    }\n",
       "\n",
       "    .dataframe tbody tr th {\n",
       "        vertical-align: top;\n",
       "    }\n",
       "\n",
       "    .dataframe thead th {\n",
       "        text-align: right;\n",
       "    }\n",
       "</style>\n",
       "<table border=\"1\" class=\"dataframe\">\n",
       "  <thead>\n",
       "    <tr style=\"text-align: right;\">\n",
       "      <th></th>\n",
       "      <th>age</th>\n",
       "      <th>priors_count</th>\n",
       "      <th>days_b_screening_arrest</th>\n",
       "      <th>length_of_stay</th>\n",
       "      <th>age_cat_25 - 45</th>\n",
       "      <th>age_cat_Greater than 45</th>\n",
       "      <th>age_cat_Less than 25</th>\n",
       "      <th>sex_Female</th>\n",
       "      <th>sex_Male</th>\n",
       "      <th>race_African-American</th>\n",
       "      <th>...</th>\n",
       "      <th>race_Native American</th>\n",
       "      <th>race_Other</th>\n",
       "      <th>c_charge_degree_F</th>\n",
       "      <th>c_charge_degree_M</th>\n",
       "      <th>is_recid_0</th>\n",
       "      <th>is_recid_1</th>\n",
       "      <th>is_violent_recid_0</th>\n",
       "      <th>is_violent_recid_1</th>\n",
       "      <th>two_year_recid_0</th>\n",
       "      <th>two_year_recid_1</th>\n",
       "    </tr>\n",
       "  </thead>\n",
       "  <tbody>\n",
       "    <tr>\n",
       "      <th>0</th>\n",
       "      <td>0.128205</td>\n",
       "      <td>0.026316</td>\n",
       "      <td>0.000000</td>\n",
       "      <td>0.000000</td>\n",
       "      <td>1</td>\n",
       "      <td>0</td>\n",
       "      <td>0</td>\n",
       "      <td>1</td>\n",
       "      <td>0</td>\n",
       "      <td>0</td>\n",
       "      <td>...</td>\n",
       "      <td>0</td>\n",
       "      <td>1</td>\n",
       "      <td>1</td>\n",
       "      <td>0</td>\n",
       "      <td>1</td>\n",
       "      <td>0</td>\n",
       "      <td>1</td>\n",
       "      <td>0</td>\n",
       "      <td>1</td>\n",
       "      <td>0</td>\n",
       "    </tr>\n",
       "    <tr>\n",
       "      <th>1</th>\n",
       "      <td>0.051282</td>\n",
       "      <td>0.157895</td>\n",
       "      <td>0.158940</td>\n",
       "      <td>0.077597</td>\n",
       "      <td>0</td>\n",
       "      <td>0</td>\n",
       "      <td>1</td>\n",
       "      <td>0</td>\n",
       "      <td>1</td>\n",
       "      <td>0</td>\n",
       "      <td>...</td>\n",
       "      <td>0</td>\n",
       "      <td>0</td>\n",
       "      <td>1</td>\n",
       "      <td>0</td>\n",
       "      <td>0</td>\n",
       "      <td>1</td>\n",
       "      <td>1</td>\n",
       "      <td>0</td>\n",
       "      <td>0</td>\n",
       "      <td>1</td>\n",
       "    </tr>\n",
       "    <tr>\n",
       "      <th>2</th>\n",
       "      <td>0.333333</td>\n",
       "      <td>0.000000</td>\n",
       "      <td>0.000946</td>\n",
       "      <td>0.002503</td>\n",
       "      <td>1</td>\n",
       "      <td>0</td>\n",
       "      <td>0</td>\n",
       "      <td>0</td>\n",
       "      <td>1</td>\n",
       "      <td>1</td>\n",
       "      <td>...</td>\n",
       "      <td>0</td>\n",
       "      <td>0</td>\n",
       "      <td>0</td>\n",
       "      <td>1</td>\n",
       "      <td>1</td>\n",
       "      <td>0</td>\n",
       "      <td>1</td>\n",
       "      <td>0</td>\n",
       "      <td>1</td>\n",
       "      <td>0</td>\n",
       "    </tr>\n",
       "  </tbody>\n",
       "</table>\n",
       "<p>3 rows × 23 columns</p>\n",
       "</div>"
      ],
      "text/plain": [
       "        age  priors_count  days_b_screening_arrest  length_of_stay  \\\n",
       "0  0.128205      0.026316                 0.000000        0.000000   \n",
       "1  0.051282      0.157895                 0.158940        0.077597   \n",
       "2  0.333333      0.000000                 0.000946        0.002503   \n",
       "\n",
       "   age_cat_25 - 45  age_cat_Greater than 45  age_cat_Less than 25  sex_Female  \\\n",
       "0                1                        0                     0           1   \n",
       "1                0                        0                     1           0   \n",
       "2                1                        0                     0           0   \n",
       "\n",
       "   sex_Male  race_African-American  ...  race_Native American  race_Other  \\\n",
       "0         0                      0  ...                     0           1   \n",
       "1         1                      0  ...                     0           0   \n",
       "2         1                      1  ...                     0           0   \n",
       "\n",
       "   c_charge_degree_F  c_charge_degree_M  is_recid_0  is_recid_1  \\\n",
       "0                  1                  0           1           0   \n",
       "1                  1                  0           0           1   \n",
       "2                  0                  1           1           0   \n",
       "\n",
       "   is_violent_recid_0  is_violent_recid_1  two_year_recid_0  two_year_recid_1  \n",
       "0                   1                   0                 1                 0  \n",
       "1                   1                   0                 0                 1  \n",
       "2                   1                   0                 1                 0  \n",
       "\n",
       "[3 rows x 23 columns]"
      ]
     },
     "execution_count": 15,
     "metadata": {},
     "output_type": "execute_result"
    }
   ],
   "source": [
    "input_and_cf['input']"
   ]
  },
  {
   "cell_type": "code",
   "execution_count": 16,
   "metadata": {},
   "outputs": [],
   "source": [
    "INDX = 0\n",
    "\n",
    "proto_input = input_and_cf['input'].loc[INDX]\n",
    "proto_cf = input_and_cf['cf'].loc[INDX]"
   ]
  },
  {
   "cell_type": "code",
   "execution_count": 17,
   "metadata": {},
   "outputs": [],
   "source": [
    "from dtreeviz.trees import *"
   ]
  },
  {
   "cell_type": "code",
   "execution_count": 18,
   "metadata": {},
   "outputs": [
    {
     "data": {
      "text/plain": [
       "age                        0.128205\n",
       "priors_count               0.026316\n",
       "days_b_screening_arrest    0.000000\n",
       "length_of_stay             0.000000\n",
       "age_cat_25 - 45            1.000000\n",
       "age_cat_Greater than 45    0.000000\n",
       "age_cat_Less than 25       0.000000\n",
       "sex_Female                 1.000000\n",
       "sex_Male                   0.000000\n",
       "race_African-American      0.000000\n",
       "race_Asian                 0.000000\n",
       "race_Caucasian             0.000000\n",
       "race_Hispanic              0.000000\n",
       "race_Native American       0.000000\n",
       "race_Other                 1.000000\n",
       "c_charge_degree_F          1.000000\n",
       "c_charge_degree_M          0.000000\n",
       "is_recid_0                 1.000000\n",
       "is_recid_1                 0.000000\n",
       "is_violent_recid_0         1.000000\n",
       "is_violent_recid_1         0.000000\n",
       "two_year_recid_0           1.000000\n",
       "two_year_recid_1           0.000000\n",
       "Name: 0, dtype: float64"
      ]
     },
     "execution_count": 18,
     "metadata": {},
     "output_type": "execute_result"
    }
   ],
   "source": [
    "proto_input # should drop the categorical column with only two values.s"
   ]
  },
  {
   "cell_type": "code",
   "execution_count": 19,
   "metadata": {},
   "outputs": [
    {
     "data": {
      "text/plain": [
       "age                        0.0\n",
       "priors_count               0.0\n",
       "days_b_screening_arrest    0.0\n",
       "length_of_stay             0.0\n",
       "age_cat_25 - 45            1.0\n",
       "age_cat_Greater than 45    0.0\n",
       "age_cat_Less than 25       0.0\n",
       "sex_Female                 1.0\n",
       "sex_Male                   0.0\n",
       "race_African-American      1.0\n",
       "race_Asian                 0.0\n",
       "race_Caucasian             0.0\n",
       "race_Hispanic              0.0\n",
       "race_Native American       0.0\n",
       "race_Other                 0.0\n",
       "c_charge_degree_F          1.0\n",
       "c_charge_degree_M          0.0\n",
       "is_recid_0                 0.0\n",
       "is_recid_1                 1.0\n",
       "is_violent_recid_0         1.0\n",
       "is_violent_recid_1         0.0\n",
       "two_year_recid_0           0.0\n",
       "two_year_recid_1           1.0\n",
       "Name: 0, dtype: float64"
      ]
     },
     "execution_count": 19,
     "metadata": {},
     "output_type": "execute_result"
    }
   ],
   "source": [
    "proto_cf"
   ]
  },
  {
   "cell_type": "code",
   "execution_count": 20,
   "metadata": {},
   "outputs": [],
   "source": [
    "clf=models['dt']\n",
    "class_names = [\"No\", \"Yes\"]\n",
    "viz = dtreeviz(clf, \n",
    "               x_data=X_train,\n",
    "               y_data=y_train,\n",
    "               target_name='target',\n",
    "               # feature_names=df_info.feature_names,\n",
    "               feature_names=df_info.ohe_feature_names, \n",
    "               class_names=class_names,\n",
    "               title=\"Decison Tree - COMPAS with decision path\",\n",
    "               # orientation=\"LR\", \n",
    "               # fancy=False,\n",
    "               # X=arr,\n",
    "               X=proto_cf, # B1. value not acceptable by this function.\n",
    "               # scale=.3,\n",
    "               show_just_path = True,\n",
    "               max_X_features_TD= 1,\n",
    "               max_X_features_LR=1,\n",
    "               # depth_range_to_display=(0, 3)\n",
    "               # X=X_test[0]\n",
    "               \n",
    "               )\n",
    "\n",
    "## Seems this one work.         \n",
    "viz.save(\"./testing-1.svg\")"
   ]
  },
  {
   "cell_type": "code",
   "execution_count": 21,
   "metadata": {},
   "outputs": [
    {
     "data": {
      "text/plain": [
       "'/'"
      ]
     },
     "execution_count": 21,
     "metadata": {},
     "output_type": "execute_result"
    }
   ],
   "source": [
    "\"/\""
   ]
  }
 ],
 "metadata": {
  "kernelspec": {
   "display_name": "Python 3.7.11 ('cf_2022_final')",
   "language": "python",
   "name": "python3"
  },
  "language_info": {
   "codemirror_mode": {
    "name": "ipython",
    "version": 3
   },
   "file_extension": ".py",
   "mimetype": "text/x-python",
   "name": "python",
   "nbconvert_exporter": "python",
   "pygments_lexer": "ipython3",
   "version": "3.7.11"
  },
  "orig_nbformat": 4,
  "vscode": {
   "interpreter": {
    "hash": "ddbd05a1a14a3b0def6fc051a52a025c8773943fa7dc1baab0b936f7bf6828c8"
   }
  }
 },
 "nbformat": 4,
 "nbformat_minor": 2
}
