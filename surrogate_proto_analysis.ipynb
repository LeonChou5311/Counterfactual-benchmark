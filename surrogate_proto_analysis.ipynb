{
 "cells": [
  {
   "cell_type": "code",
   "execution_count": 1,
   "source": [
    "import pandas as pd\n",
    "import graphviz\n",
    "import json\n",
    "from surrogate.rules import print_decisions"
   ],
   "outputs": [],
   "metadata": {}
  },
  {
   "cell_type": "code",
   "execution_count": 2,
   "source": [
    "df = pd.read_csv('surrogate_proto.csv')"
   ],
   "outputs": [],
   "metadata": {}
  },
  {
   "cell_type": "code",
   "execution_count": 3,
   "source": [
    "df.head(5)"
   ],
   "outputs": [
    {
     "output_type": "execute_result",
     "data": {
      "text/plain": [
       "   Unnamed: 0  Unnamed: 0.1  \\\n",
       "0           0             0   \n",
       "1           1             1   \n",
       "2           2             2   \n",
       "3           3             3   \n",
       "4           4             4   \n",
       "\n",
       "                                         input_query  \\\n",
       "0  [1.0, 189.0, 56.065574, 23.0, 846.0, 30.1, 0.3...   \n",
       "1  [1.0, 180.0, 0.0, 0.0, 0.0, 43.3, 0.275591, 41.0]   \n",
       "2  [8.0, 179.0, 67.278689, 42.0, 130.0, 32.7, 0.7...   \n",
       "3  [8.0, 151.0, 72.885246, 32.0, 210.0, 42.9, 0.5...   \n",
       "4  [11.0, 138.0, 69.147541, 26.0, 144.0, 36.1, 0....   \n",
       "\n",
       "                                                  cf  input_query_nn_pred  \\\n",
       "0  [4.864439487457275, 77.6102294921875, 56.06557...             0.953594   \n",
       "1  [1.0, 162.397216796875, 0.0, 0.0, 0.0, 22.1855...             0.864986   \n",
       "2  [8.0, 89.77251434326172, 67.2786865234375, 45....             0.866738   \n",
       "3  [8.0, 98.7505874633789, 72.88524627685547, 32....             0.844363   \n",
       "4  [10.591582298278809, 67.5608139038086, 72.2386...             0.780766   \n",
       "\n",
       "   cf_nn_pred permutation_nn_pred_portion input_query_tree_pred cf_tree_pred  \\\n",
       "0    0.473794                  [541, 556]                  [1.]         [1.]   \n",
       "1    0.491717                  [524, 572]                  [1.]         [0.]   \n",
       "2    0.498792                  [537, 558]                  [1.]         [0.]   \n",
       "3    0.499490                  [541, 555]                  [1.]         [1.]   \n",
       "4    0.495823                  [539, 559]                  [1.]         [0.]   \n",
       "\n",
       "                               input_query_decisions  \\\n",
       "0  [{\"node_id\": 0, \"feature_idx\": 1, \"feature_nam...   \n",
       "1  [{\"node_id\": 0, \"feature_idx\": 7, \"feature_nam...   \n",
       "2  [{\"node_id\": 0, \"feature_idx\": 7, \"feature_nam...   \n",
       "3  [{\"node_id\": 0, \"feature_idx\": 7, \"feature_nam...   \n",
       "4  [{\"node_id\": 0, \"feature_idx\": 7, \"feature_nam...   \n",
       "\n",
       "                                        cf_decisions  \\\n",
       "0  [{\"node_id\": 0, \"feature_idx\": 1, \"feature_nam...   \n",
       "1  [{\"node_id\": 0, \"feature_idx\": 7, \"feature_nam...   \n",
       "2  [{\"node_id\": 0, \"feature_idx\": 7, \"feature_nam...   \n",
       "3  [{\"node_id\": 0, \"feature_idx\": 7, \"feature_nam...   \n",
       "4  [{\"node_id\": 0, \"feature_idx\": 7, \"feature_nam...   \n",
       "\n",
       "                                            dot_data  sparsity    distance  \\\n",
       "0  digraph Tree {\\nnode [shape=box] ;\\n0 [label=\"...         6  173.446437   \n",
       "1  digraph Tree {\\nnode [shape=box] ;\\n0 [label=\"...         3   27.489613   \n",
       "2  digraph Tree {\\nnode [shape=box] ;\\n0 [label=\"...         5   89.292647   \n",
       "3  digraph Tree {\\nnode [shape=box] ;\\n0 [label=\"...         5   52.251378   \n",
       "4  digraph Tree {\\nnode [shape=box] ;\\n0 [label=\"...         6  105.189192   \n",
       "\n",
       "   depth_diff  has_same_input_pred  has_same_cf_pred  \n",
       "0           1                 True             False  \n",
       "1           1                 True              True  \n",
       "2           0                 True              True  \n",
       "3           0                 True             False  \n",
       "4           1                 True              True  "
      ],
      "text/html": [
       "<div>\n",
       "<style scoped>\n",
       "    .dataframe tbody tr th:only-of-type {\n",
       "        vertical-align: middle;\n",
       "    }\n",
       "\n",
       "    .dataframe tbody tr th {\n",
       "        vertical-align: top;\n",
       "    }\n",
       "\n",
       "    .dataframe thead th {\n",
       "        text-align: right;\n",
       "    }\n",
       "</style>\n",
       "<table border=\"1\" class=\"dataframe\">\n",
       "  <thead>\n",
       "    <tr style=\"text-align: right;\">\n",
       "      <th></th>\n",
       "      <th>Unnamed: 0</th>\n",
       "      <th>Unnamed: 0.1</th>\n",
       "      <th>input_query</th>\n",
       "      <th>cf</th>\n",
       "      <th>input_query_nn_pred</th>\n",
       "      <th>cf_nn_pred</th>\n",
       "      <th>permutation_nn_pred_portion</th>\n",
       "      <th>input_query_tree_pred</th>\n",
       "      <th>cf_tree_pred</th>\n",
       "      <th>input_query_decisions</th>\n",
       "      <th>cf_decisions</th>\n",
       "      <th>dot_data</th>\n",
       "      <th>sparsity</th>\n",
       "      <th>distance</th>\n",
       "      <th>depth_diff</th>\n",
       "      <th>has_same_input_pred</th>\n",
       "      <th>has_same_cf_pred</th>\n",
       "    </tr>\n",
       "  </thead>\n",
       "  <tbody>\n",
       "    <tr>\n",
       "      <th>0</th>\n",
       "      <td>0</td>\n",
       "      <td>0</td>\n",
       "      <td>[1.0, 189.0, 56.065574, 23.0, 846.0, 30.1, 0.3...</td>\n",
       "      <td>[4.864439487457275, 77.6102294921875, 56.06557...</td>\n",
       "      <td>0.953594</td>\n",
       "      <td>0.473794</td>\n",
       "      <td>[541, 556]</td>\n",
       "      <td>[1.]</td>\n",
       "      <td>[1.]</td>\n",
       "      <td>[{\"node_id\": 0, \"feature_idx\": 1, \"feature_nam...</td>\n",
       "      <td>[{\"node_id\": 0, \"feature_idx\": 1, \"feature_nam...</td>\n",
       "      <td>digraph Tree {\\nnode [shape=box] ;\\n0 [label=\"...</td>\n",
       "      <td>6</td>\n",
       "      <td>173.446437</td>\n",
       "      <td>1</td>\n",
       "      <td>True</td>\n",
       "      <td>False</td>\n",
       "    </tr>\n",
       "    <tr>\n",
       "      <th>1</th>\n",
       "      <td>1</td>\n",
       "      <td>1</td>\n",
       "      <td>[1.0, 180.0, 0.0, 0.0, 0.0, 43.3, 0.275591, 41.0]</td>\n",
       "      <td>[1.0, 162.397216796875, 0.0, 0.0, 0.0, 22.1855...</td>\n",
       "      <td>0.864986</td>\n",
       "      <td>0.491717</td>\n",
       "      <td>[524, 572]</td>\n",
       "      <td>[1.]</td>\n",
       "      <td>[0.]</td>\n",
       "      <td>[{\"node_id\": 0, \"feature_idx\": 7, \"feature_nam...</td>\n",
       "      <td>[{\"node_id\": 0, \"feature_idx\": 7, \"feature_nam...</td>\n",
       "      <td>digraph Tree {\\nnode [shape=box] ;\\n0 [label=\"...</td>\n",
       "      <td>3</td>\n",
       "      <td>27.489613</td>\n",
       "      <td>1</td>\n",
       "      <td>True</td>\n",
       "      <td>True</td>\n",
       "    </tr>\n",
       "    <tr>\n",
       "      <th>2</th>\n",
       "      <td>2</td>\n",
       "      <td>2</td>\n",
       "      <td>[8.0, 179.0, 67.278689, 42.0, 130.0, 32.7, 0.7...</td>\n",
       "      <td>[8.0, 89.77251434326172, 67.2786865234375, 45....</td>\n",
       "      <td>0.866738</td>\n",
       "      <td>0.498792</td>\n",
       "      <td>[537, 558]</td>\n",
       "      <td>[1.]</td>\n",
       "      <td>[0.]</td>\n",
       "      <td>[{\"node_id\": 0, \"feature_idx\": 7, \"feature_nam...</td>\n",
       "      <td>[{\"node_id\": 0, \"feature_idx\": 7, \"feature_nam...</td>\n",
       "      <td>digraph Tree {\\nnode [shape=box] ;\\n0 [label=\"...</td>\n",
       "      <td>5</td>\n",
       "      <td>89.292647</td>\n",
       "      <td>0</td>\n",
       "      <td>True</td>\n",
       "      <td>True</td>\n",
       "    </tr>\n",
       "    <tr>\n",
       "      <th>3</th>\n",
       "      <td>3</td>\n",
       "      <td>3</td>\n",
       "      <td>[8.0, 151.0, 72.885246, 32.0, 210.0, 42.9, 0.5...</td>\n",
       "      <td>[8.0, 98.7505874633789, 72.88524627685547, 32....</td>\n",
       "      <td>0.844363</td>\n",
       "      <td>0.499490</td>\n",
       "      <td>[541, 555]</td>\n",
       "      <td>[1.]</td>\n",
       "      <td>[1.]</td>\n",
       "      <td>[{\"node_id\": 0, \"feature_idx\": 7, \"feature_nam...</td>\n",
       "      <td>[{\"node_id\": 0, \"feature_idx\": 7, \"feature_nam...</td>\n",
       "      <td>digraph Tree {\\nnode [shape=box] ;\\n0 [label=\"...</td>\n",
       "      <td>5</td>\n",
       "      <td>52.251378</td>\n",
       "      <td>0</td>\n",
       "      <td>True</td>\n",
       "      <td>False</td>\n",
       "    </tr>\n",
       "    <tr>\n",
       "      <th>4</th>\n",
       "      <td>4</td>\n",
       "      <td>4</td>\n",
       "      <td>[11.0, 138.0, 69.147541, 26.0, 144.0, 36.1, 0....</td>\n",
       "      <td>[10.591582298278809, 67.5608139038086, 72.2386...</td>\n",
       "      <td>0.780766</td>\n",
       "      <td>0.495823</td>\n",
       "      <td>[539, 559]</td>\n",
       "      <td>[1.]</td>\n",
       "      <td>[0.]</td>\n",
       "      <td>[{\"node_id\": 0, \"feature_idx\": 7, \"feature_nam...</td>\n",
       "      <td>[{\"node_id\": 0, \"feature_idx\": 7, \"feature_nam...</td>\n",
       "      <td>digraph Tree {\\nnode [shape=box] ;\\n0 [label=\"...</td>\n",
       "      <td>6</td>\n",
       "      <td>105.189192</td>\n",
       "      <td>1</td>\n",
       "      <td>True</td>\n",
       "      <td>True</td>\n",
       "    </tr>\n",
       "  </tbody>\n",
       "</table>\n",
       "</div>"
      ]
     },
     "metadata": {},
     "execution_count": 3
    }
   ],
   "metadata": {}
  },
  {
   "cell_type": "markdown",
   "source": [
    "[`input_query`] -> Input query for generating counterfactual.\n",
    "\n",
    "[`cf`] -> Counterfactual found through CounterfactaulProto.\n",
    "\n",
    "[`input_query_nn_pred`] -> Prediction value for input_query using our model.\n",
    "\n",
    "[`cf_nn_pred`] -> Predictino value for cf using our model.\n",
    "\n",
    "[`permutation_nn_pred_portion`] -> The permutation dataset label size for `[0, 1]` # Checking balance.\n",
    "\n",
    "[`input_query_tree_pred`] -> Prediction value for input_query using surrogate decision tree.\n",
    "\n",
    "[`cf_tree_pred`] -> Prediction value for cf using surrogate decision tree.\n",
    "\n",
    "[`input_query_decisions`] -> Rules extracted when predicting input query using surrogate decision tree.\n",
    "\n",
    "[`cf_decisions`] -> Rules extracted when predicting cf using surrogate decision tree.\n",
    "\n",
    "[`dot_data`] -> Dot data to plot the surrogate decision tree. # Example below\n",
    "\n",
    "[`sparsity`] -> How many features changed.\n",
    "\n",
    "[`distance`] -> L2 distance btw input_query and counterfactual.\n",
    "\n",
    "[`depth_diff`] -> Depth difference btw input_query and cf.\n",
    "\n",
    "[`has_same_input_pred`] -> Our model and surrogate decision tree has same prediction on input_query.\n",
    "\n",
    "[`has_same_cf_pred`] -> Our model and surrogate decision tree has same prediction on cf.\n"
   ],
   "metadata": {}
  },
  {
   "cell_type": "code",
   "execution_count": 4,
   "source": [
    "example = df.iloc[0]\n",
    "graphviz.Source(example['dot_data'], format=\"png\") "
   ],
   "outputs": [
    {
     "output_type": "execute_result",
     "data": {
      "text/plain": [
       "<graphviz.files.Source at 0x126067040>"
      ],
      "image/svg+xml": "<?xml version=\"1.0\" encoding=\"UTF-8\" standalone=\"no\"?>\n<!DOCTYPE svg PUBLIC \"-//W3C//DTD SVG 1.1//EN\"\n \"http://www.w3.org/Graphics/SVG/1.1/DTD/svg11.dtd\">\n<!-- Generated by graphviz version 2.47.1 (20210417.1919)\n -->\n<!-- Title: Tree Pages: 1 -->\n<svg width=\"613pt\" height=\"895pt\"\n viewBox=\"0.00 0.00 613.00 895.00\" xmlns=\"http://www.w3.org/2000/svg\" xmlns:xlink=\"http://www.w3.org/1999/xlink\">\n<g id=\"graph0\" class=\"graph\" transform=\"scale(1 1) rotate(0) translate(4 891)\">\n<title>Tree</title>\n<polygon fill=\"white\" stroke=\"transparent\" points=\"-4,4 -4,-891 609,-891 609,4 -4,4\"/>\n<!-- 0 -->\n<g id=\"node1\" class=\"node\">\n<title>0</title>\n<polygon fill=\"none\" stroke=\"black\" points=\"395,-887 266,-887 266,-789 395,-789 395,-887\"/>\n<text text-anchor=\"middle\" x=\"330.5\" y=\"-871.8\" font-family=\"Times,serif\" font-size=\"14.00\">node #0</text>\n<text text-anchor=\"middle\" x=\"330.5\" y=\"-856.8\" font-family=\"Times,serif\" font-size=\"14.00\">Glucose &lt;= 132.948</text>\n<text text-anchor=\"middle\" x=\"330.5\" y=\"-841.8\" font-family=\"Times,serif\" font-size=\"14.00\">gini = 0.5</text>\n<text text-anchor=\"middle\" x=\"330.5\" y=\"-826.8\" font-family=\"Times,serif\" font-size=\"14.00\">samples = 1097</text>\n<text text-anchor=\"middle\" x=\"330.5\" y=\"-811.8\" font-family=\"Times,serif\" font-size=\"14.00\">value = [541, 556]</text>\n<text text-anchor=\"middle\" x=\"330.5\" y=\"-796.8\" font-family=\"Times,serif\" font-size=\"14.00\">class = Yes</text>\n</g>\n<!-- 1 -->\n<g id=\"node2\" class=\"node\">\n<title>1</title>\n<polygon fill=\"none\" stroke=\"black\" points=\"310.5,-753 198.5,-753 198.5,-655 310.5,-655 310.5,-753\"/>\n<text text-anchor=\"middle\" x=\"254.5\" y=\"-737.8\" font-family=\"Times,serif\" font-size=\"14.00\">node #1</text>\n<text text-anchor=\"middle\" x=\"254.5\" y=\"-722.8\" font-family=\"Times,serif\" font-size=\"14.00\">Age &lt;= 55.039</text>\n<text text-anchor=\"middle\" x=\"254.5\" y=\"-707.8\" font-family=\"Times,serif\" font-size=\"14.00\">gini = 0.049</text>\n<text text-anchor=\"middle\" x=\"254.5\" y=\"-692.8\" font-family=\"Times,serif\" font-size=\"14.00\">samples = 553</text>\n<text text-anchor=\"middle\" x=\"254.5\" y=\"-677.8\" font-family=\"Times,serif\" font-size=\"14.00\">value = [539, 14]</text>\n<text text-anchor=\"middle\" x=\"254.5\" y=\"-662.8\" font-family=\"Times,serif\" font-size=\"14.00\">class = No</text>\n</g>\n<!-- 0&#45;&gt;1 -->\n<g id=\"edge1\" class=\"edge\">\n<title>0&#45;&gt;1</title>\n<path fill=\"none\" stroke=\"black\" d=\"M302.85,-788.97C297.82,-780.24 292.53,-771.05 287.36,-762.08\"/>\n<polygon fill=\"black\" stroke=\"black\" points=\"290.28,-760.13 282.26,-753.21 284.22,-763.63 290.28,-760.13\"/>\n<text text-anchor=\"middle\" x=\"275.76\" y=\"-773.65\" font-family=\"Times,serif\" font-size=\"14.00\">True</text>\n</g>\n<!-- 12 -->\n<g id=\"node13\" class=\"node\">\n<title>12</title>\n<polygon fill=\"none\" stroke=\"black\" points=\"484,-753 329,-753 329,-655 484,-655 484,-753\"/>\n<text text-anchor=\"middle\" x=\"406.5\" y=\"-737.8\" font-family=\"Times,serif\" font-size=\"14.00\">node #12</text>\n<text text-anchor=\"middle\" x=\"406.5\" y=\"-722.8\" font-family=\"Times,serif\" font-size=\"14.00\">SkinThickness &lt;= &#45;3.877</text>\n<text text-anchor=\"middle\" x=\"406.5\" y=\"-707.8\" font-family=\"Times,serif\" font-size=\"14.00\">gini = 0.007</text>\n<text text-anchor=\"middle\" x=\"406.5\" y=\"-692.8\" font-family=\"Times,serif\" font-size=\"14.00\">samples = 544</text>\n<text text-anchor=\"middle\" x=\"406.5\" y=\"-677.8\" font-family=\"Times,serif\" font-size=\"14.00\">value = [2, 542]</text>\n<text text-anchor=\"middle\" x=\"406.5\" y=\"-662.8\" font-family=\"Times,serif\" font-size=\"14.00\">class = Yes</text>\n</g>\n<!-- 0&#45;&gt;12 -->\n<g id=\"edge12\" class=\"edge\">\n<title>0&#45;&gt;12</title>\n<path fill=\"none\" stroke=\"black\" d=\"M358.15,-788.97C363.18,-780.24 368.47,-771.05 373.64,-762.08\"/>\n<polygon fill=\"black\" stroke=\"black\" points=\"376.78,-763.63 378.74,-753.21 370.72,-760.13 376.78,-763.63\"/>\n<text text-anchor=\"middle\" x=\"385.24\" y=\"-773.65\" font-family=\"Times,serif\" font-size=\"14.00\">False</text>\n</g>\n<!-- 2 -->\n<g id=\"node3\" class=\"node\">\n<title>2</title>\n<polygon fill=\"none\" stroke=\"black\" points=\"211.5,-619 67.5,-619 67.5,-521 211.5,-521 211.5,-619\"/>\n<text text-anchor=\"middle\" x=\"139.5\" y=\"-603.8\" font-family=\"Times,serif\" font-size=\"14.00\">node #2</text>\n<text text-anchor=\"middle\" x=\"139.5\" y=\"-588.8\" font-family=\"Times,serif\" font-size=\"14.00\">SkinThickness &lt;= 76.5</text>\n<text text-anchor=\"middle\" x=\"139.5\" y=\"-573.8\" font-family=\"Times,serif\" font-size=\"14.00\">gini = 0.018</text>\n<text text-anchor=\"middle\" x=\"139.5\" y=\"-558.8\" font-family=\"Times,serif\" font-size=\"14.00\">samples = 544</text>\n<text text-anchor=\"middle\" x=\"139.5\" y=\"-543.8\" font-family=\"Times,serif\" font-size=\"14.00\">value = [539, 5]</text>\n<text text-anchor=\"middle\" x=\"139.5\" y=\"-528.8\" font-family=\"Times,serif\" font-size=\"14.00\">class = No</text>\n</g>\n<!-- 1&#45;&gt;2 -->\n<g id=\"edge2\" class=\"edge\">\n<title>1&#45;&gt;2</title>\n<path fill=\"none\" stroke=\"black\" d=\"M212.66,-654.97C204.73,-645.87 196.37,-636.28 188.25,-626.96\"/>\n<polygon fill=\"black\" stroke=\"black\" points=\"190.71,-624.45 181.5,-619.21 185.43,-629.05 190.71,-624.45\"/>\n</g>\n<!-- 11 -->\n<g id=\"node12\" class=\"node\">\n<title>11</title>\n<polygon fill=\"none\" stroke=\"black\" points=\"321.5,-611.5 229.5,-611.5 229.5,-528.5 321.5,-528.5 321.5,-611.5\"/>\n<text text-anchor=\"middle\" x=\"275.5\" y=\"-596.3\" font-family=\"Times,serif\" font-size=\"14.00\">node #11</text>\n<text text-anchor=\"middle\" x=\"275.5\" y=\"-581.3\" font-family=\"Times,serif\" font-size=\"14.00\">gini = 0.0</text>\n<text text-anchor=\"middle\" x=\"275.5\" y=\"-566.3\" font-family=\"Times,serif\" font-size=\"14.00\">samples = 9</text>\n<text text-anchor=\"middle\" x=\"275.5\" y=\"-551.3\" font-family=\"Times,serif\" font-size=\"14.00\">value = [0, 9]</text>\n<text text-anchor=\"middle\" x=\"275.5\" y=\"-536.3\" font-family=\"Times,serif\" font-size=\"14.00\">class = Yes</text>\n</g>\n<!-- 1&#45;&gt;11 -->\n<g id=\"edge11\" class=\"edge\">\n<title>1&#45;&gt;11</title>\n<path fill=\"none\" stroke=\"black\" d=\"M262.14,-654.97C263.85,-644.25 265.66,-632.84 267.39,-621.99\"/>\n<polygon fill=\"black\" stroke=\"black\" points=\"270.89,-622.24 269.01,-611.82 263.98,-621.14 270.89,-622.24\"/>\n</g>\n<!-- 3 -->\n<g id=\"node4\" class=\"node\">\n<title>3</title>\n<polygon fill=\"none\" stroke=\"black\" points=\"189,-485 84,-485 84,-387 189,-387 189,-485\"/>\n<text text-anchor=\"middle\" x=\"136.5\" y=\"-469.8\" font-family=\"Times,serif\" font-size=\"14.00\">node #3</text>\n<text text-anchor=\"middle\" x=\"136.5\" y=\"-454.8\" font-family=\"Times,serif\" font-size=\"14.00\">Age &lt;= 42.528</text>\n<text text-anchor=\"middle\" x=\"136.5\" y=\"-439.8\" font-family=\"Times,serif\" font-size=\"14.00\">gini = 0.015</text>\n<text text-anchor=\"middle\" x=\"136.5\" y=\"-424.8\" font-family=\"Times,serif\" font-size=\"14.00\">samples = 543</text>\n<text text-anchor=\"middle\" x=\"136.5\" y=\"-409.8\" font-family=\"Times,serif\" font-size=\"14.00\">value = [539, 4]</text>\n<text text-anchor=\"middle\" x=\"136.5\" y=\"-394.8\" font-family=\"Times,serif\" font-size=\"14.00\">class = No</text>\n</g>\n<!-- 2&#45;&gt;3 -->\n<g id=\"edge3\" class=\"edge\">\n<title>2&#45;&gt;3</title>\n<path fill=\"none\" stroke=\"black\" d=\"M138.41,-520.97C138.22,-512.69 138.02,-504 137.83,-495.48\"/>\n<polygon fill=\"black\" stroke=\"black\" points=\"141.32,-495.13 137.6,-485.21 134.32,-495.29 141.32,-495.13\"/>\n</g>\n<!-- 10 -->\n<g id=\"node11\" class=\"node\">\n<title>10</title>\n<polygon fill=\"none\" stroke=\"black\" points=\"299.5,-477.5 207.5,-477.5 207.5,-394.5 299.5,-394.5 299.5,-477.5\"/>\n<text text-anchor=\"middle\" x=\"253.5\" y=\"-462.3\" font-family=\"Times,serif\" font-size=\"14.00\">node #10</text>\n<text text-anchor=\"middle\" x=\"253.5\" y=\"-447.3\" font-family=\"Times,serif\" font-size=\"14.00\">gini = 0.0</text>\n<text text-anchor=\"middle\" x=\"253.5\" y=\"-432.3\" font-family=\"Times,serif\" font-size=\"14.00\">samples = 1</text>\n<text text-anchor=\"middle\" x=\"253.5\" y=\"-417.3\" font-family=\"Times,serif\" font-size=\"14.00\">value = [0, 1]</text>\n<text text-anchor=\"middle\" x=\"253.5\" y=\"-402.3\" font-family=\"Times,serif\" font-size=\"14.00\">class = Yes</text>\n</g>\n<!-- 2&#45;&gt;10 -->\n<g id=\"edge10\" class=\"edge\">\n<title>2&#45;&gt;10</title>\n<path fill=\"none\" stroke=\"black\" d=\"M180.98,-520.97C190.91,-509.47 201.52,-497.18 211.48,-485.66\"/>\n<polygon fill=\"black\" stroke=\"black\" points=\"214.36,-487.67 218.25,-477.82 209.06,-483.1 214.36,-487.67\"/>\n</g>\n<!-- 4 -->\n<g id=\"node5\" class=\"node\">\n<title>4</title>\n<polygon fill=\"none\" stroke=\"black\" points=\"105,-343.5 0,-343.5 0,-260.5 105,-260.5 105,-343.5\"/>\n<text text-anchor=\"middle\" x=\"52.5\" y=\"-328.3\" font-family=\"Times,serif\" font-size=\"14.00\">node #4</text>\n<text text-anchor=\"middle\" x=\"52.5\" y=\"-313.3\" font-family=\"Times,serif\" font-size=\"14.00\">gini = 0.0</text>\n<text text-anchor=\"middle\" x=\"52.5\" y=\"-298.3\" font-family=\"Times,serif\" font-size=\"14.00\">samples = 523</text>\n<text text-anchor=\"middle\" x=\"52.5\" y=\"-283.3\" font-family=\"Times,serif\" font-size=\"14.00\">value = [523, 0]</text>\n<text text-anchor=\"middle\" x=\"52.5\" y=\"-268.3\" font-family=\"Times,serif\" font-size=\"14.00\">class = No</text>\n</g>\n<!-- 3&#45;&gt;4 -->\n<g id=\"edge4\" class=\"edge\">\n<title>3&#45;&gt;4</title>\n<path fill=\"none\" stroke=\"black\" d=\"M105.94,-386.97C98.76,-375.69 91.1,-363.66 83.89,-352.32\"/>\n<polygon fill=\"black\" stroke=\"black\" points=\"86.8,-350.37 78.47,-343.82 80.89,-354.13 86.8,-350.37\"/>\n</g>\n<!-- 5 -->\n<g id=\"node6\" class=\"node\">\n<title>5</title>\n<polygon fill=\"none\" stroke=\"black\" points=\"245.5,-351 123.5,-351 123.5,-253 245.5,-253 245.5,-351\"/>\n<text text-anchor=\"middle\" x=\"184.5\" y=\"-335.8\" font-family=\"Times,serif\" font-size=\"14.00\">node #5</text>\n<text text-anchor=\"middle\" x=\"184.5\" y=\"-320.8\" font-family=\"Times,serif\" font-size=\"14.00\">Glucose &lt;= 63.928</text>\n<text text-anchor=\"middle\" x=\"184.5\" y=\"-305.8\" font-family=\"Times,serif\" font-size=\"14.00\">gini = 0.32</text>\n<text text-anchor=\"middle\" x=\"184.5\" y=\"-290.8\" font-family=\"Times,serif\" font-size=\"14.00\">samples = 20</text>\n<text text-anchor=\"middle\" x=\"184.5\" y=\"-275.8\" font-family=\"Times,serif\" font-size=\"14.00\">value = [16, 4]</text>\n<text text-anchor=\"middle\" x=\"184.5\" y=\"-260.8\" font-family=\"Times,serif\" font-size=\"14.00\">class = No</text>\n</g>\n<!-- 3&#45;&gt;5 -->\n<g id=\"edge5\" class=\"edge\">\n<title>3&#45;&gt;5</title>\n<path fill=\"none\" stroke=\"black\" d=\"M153.96,-386.97C157.08,-378.42 160.34,-369.43 163.54,-360.64\"/>\n<polygon fill=\"black\" stroke=\"black\" points=\"166.84,-361.81 166.97,-351.21 160.26,-359.42 166.84,-361.81\"/>\n</g>\n<!-- 6 -->\n<g id=\"node7\" class=\"node\">\n<title>6</title>\n<polygon fill=\"none\" stroke=\"black\" points=\"146.5,-209.5 48.5,-209.5 48.5,-126.5 146.5,-126.5 146.5,-209.5\"/>\n<text text-anchor=\"middle\" x=\"97.5\" y=\"-194.3\" font-family=\"Times,serif\" font-size=\"14.00\">node #6</text>\n<text text-anchor=\"middle\" x=\"97.5\" y=\"-179.3\" font-family=\"Times,serif\" font-size=\"14.00\">gini = 0.0</text>\n<text text-anchor=\"middle\" x=\"97.5\" y=\"-164.3\" font-family=\"Times,serif\" font-size=\"14.00\">samples = 15</text>\n<text text-anchor=\"middle\" x=\"97.5\" y=\"-149.3\" font-family=\"Times,serif\" font-size=\"14.00\">value = [15, 0]</text>\n<text text-anchor=\"middle\" x=\"97.5\" y=\"-134.3\" font-family=\"Times,serif\" font-size=\"14.00\">class = No</text>\n</g>\n<!-- 5&#45;&gt;6 -->\n<g id=\"edge6\" class=\"edge\">\n<title>5&#45;&gt;6</title>\n<path fill=\"none\" stroke=\"black\" d=\"M152.84,-252.97C145.41,-241.69 137.48,-229.66 130.01,-218.32\"/>\n<polygon fill=\"black\" stroke=\"black\" points=\"132.83,-216.24 124.4,-209.82 126.98,-220.09 132.83,-216.24\"/>\n</g>\n<!-- 7 -->\n<g id=\"node8\" class=\"node\">\n<title>7</title>\n<polygon fill=\"none\" stroke=\"black\" points=\"378.5,-217 164.5,-217 164.5,-119 378.5,-119 378.5,-217\"/>\n<text text-anchor=\"middle\" x=\"271.5\" y=\"-201.8\" font-family=\"Times,serif\" font-size=\"14.00\">node #7</text>\n<text text-anchor=\"middle\" x=\"271.5\" y=\"-186.8\" font-family=\"Times,serif\" font-size=\"14.00\">DiabetesPedigreeFunction &lt;= 0.214</text>\n<text text-anchor=\"middle\" x=\"271.5\" y=\"-171.8\" font-family=\"Times,serif\" font-size=\"14.00\">gini = 0.32</text>\n<text text-anchor=\"middle\" x=\"271.5\" y=\"-156.8\" font-family=\"Times,serif\" font-size=\"14.00\">samples = 5</text>\n<text text-anchor=\"middle\" x=\"271.5\" y=\"-141.8\" font-family=\"Times,serif\" font-size=\"14.00\">value = [1, 4]</text>\n<text text-anchor=\"middle\" x=\"271.5\" y=\"-126.8\" font-family=\"Times,serif\" font-size=\"14.00\">class = Yes</text>\n</g>\n<!-- 5&#45;&gt;7 -->\n<g id=\"edge7\" class=\"edge\">\n<title>5&#45;&gt;7</title>\n<path fill=\"none\" stroke=\"black\" d=\"M216.16,-252.97C221.97,-244.15 228.1,-234.85 234.06,-225.8\"/>\n<polygon fill=\"black\" stroke=\"black\" points=\"237.14,-227.49 239.72,-217.21 231.3,-223.64 237.14,-227.49\"/>\n</g>\n<!-- 8 -->\n<g id=\"node9\" class=\"node\">\n<title>8</title>\n<polygon fill=\"none\" stroke=\"black\" points=\"262.5,-83 170.5,-83 170.5,0 262.5,0 262.5,-83\"/>\n<text text-anchor=\"middle\" x=\"216.5\" y=\"-67.8\" font-family=\"Times,serif\" font-size=\"14.00\">node #8</text>\n<text text-anchor=\"middle\" x=\"216.5\" y=\"-52.8\" font-family=\"Times,serif\" font-size=\"14.00\">gini = 0.0</text>\n<text text-anchor=\"middle\" x=\"216.5\" y=\"-37.8\" font-family=\"Times,serif\" font-size=\"14.00\">samples = 1</text>\n<text text-anchor=\"middle\" x=\"216.5\" y=\"-22.8\" font-family=\"Times,serif\" font-size=\"14.00\">value = [1, 0]</text>\n<text text-anchor=\"middle\" x=\"216.5\" y=\"-7.8\" font-family=\"Times,serif\" font-size=\"14.00\">class = No</text>\n</g>\n<!-- 7&#45;&gt;8 -->\n<g id=\"edge8\" class=\"edge\">\n<title>7&#45;&gt;8</title>\n<path fill=\"none\" stroke=\"black\" d=\"M250.24,-118.87C246.42,-110.22 242.43,-101.2 238.59,-92.5\"/>\n<polygon fill=\"black\" stroke=\"black\" points=\"241.74,-90.96 234.49,-83.23 235.33,-93.79 241.74,-90.96\"/>\n</g>\n<!-- 9 -->\n<g id=\"node10\" class=\"node\">\n<title>9</title>\n<polygon fill=\"none\" stroke=\"black\" points=\"372.5,-83 280.5,-83 280.5,0 372.5,0 372.5,-83\"/>\n<text text-anchor=\"middle\" x=\"326.5\" y=\"-67.8\" font-family=\"Times,serif\" font-size=\"14.00\">node #9</text>\n<text text-anchor=\"middle\" x=\"326.5\" y=\"-52.8\" font-family=\"Times,serif\" font-size=\"14.00\">gini = 0.0</text>\n<text text-anchor=\"middle\" x=\"326.5\" y=\"-37.8\" font-family=\"Times,serif\" font-size=\"14.00\">samples = 4</text>\n<text text-anchor=\"middle\" x=\"326.5\" y=\"-22.8\" font-family=\"Times,serif\" font-size=\"14.00\">value = [0, 4]</text>\n<text text-anchor=\"middle\" x=\"326.5\" y=\"-7.8\" font-family=\"Times,serif\" font-size=\"14.00\">class = Yes</text>\n</g>\n<!-- 7&#45;&gt;9 -->\n<g id=\"edge9\" class=\"edge\">\n<title>7&#45;&gt;9</title>\n<path fill=\"none\" stroke=\"black\" d=\"M292.76,-118.87C296.58,-110.22 300.57,-101.2 304.41,-92.5\"/>\n<polygon fill=\"black\" stroke=\"black\" points=\"307.67,-93.79 308.51,-83.23 301.26,-90.96 307.67,-93.79\"/>\n</g>\n<!-- 13 -->\n<g id=\"node14\" class=\"node\">\n<title>13</title>\n<polygon fill=\"none\" stroke=\"black\" points=\"432.5,-611.5 340.5,-611.5 340.5,-528.5 432.5,-528.5 432.5,-611.5\"/>\n<text text-anchor=\"middle\" x=\"386.5\" y=\"-596.3\" font-family=\"Times,serif\" font-size=\"14.00\">node #13</text>\n<text text-anchor=\"middle\" x=\"386.5\" y=\"-581.3\" font-family=\"Times,serif\" font-size=\"14.00\">gini = 0.0</text>\n<text text-anchor=\"middle\" x=\"386.5\" y=\"-566.3\" font-family=\"Times,serif\" font-size=\"14.00\">samples = 1</text>\n<text text-anchor=\"middle\" x=\"386.5\" y=\"-551.3\" font-family=\"Times,serif\" font-size=\"14.00\">value = [1, 0]</text>\n<text text-anchor=\"middle\" x=\"386.5\" y=\"-536.3\" font-family=\"Times,serif\" font-size=\"14.00\">class = No</text>\n</g>\n<!-- 12&#45;&gt;13 -->\n<g id=\"edge13\" class=\"edge\">\n<title>12&#45;&gt;13</title>\n<path fill=\"none\" stroke=\"black\" d=\"M399.22,-654.97C397.6,-644.25 395.87,-632.84 394.23,-621.99\"/>\n<polygon fill=\"black\" stroke=\"black\" points=\"397.64,-621.18 392.68,-611.82 390.72,-622.23 397.64,-621.18\"/>\n</g>\n<!-- 14 -->\n<g id=\"node15\" class=\"node\">\n<title>14</title>\n<polygon fill=\"none\" stroke=\"black\" points=\"580,-619 451,-619 451,-521 580,-521 580,-619\"/>\n<text text-anchor=\"middle\" x=\"515.5\" y=\"-603.8\" font-family=\"Times,serif\" font-size=\"14.00\">node #14</text>\n<text text-anchor=\"middle\" x=\"515.5\" y=\"-588.8\" font-family=\"Times,serif\" font-size=\"14.00\">Glucose &lt;= 136.404</text>\n<text text-anchor=\"middle\" x=\"515.5\" y=\"-573.8\" font-family=\"Times,serif\" font-size=\"14.00\">gini = 0.004</text>\n<text text-anchor=\"middle\" x=\"515.5\" y=\"-558.8\" font-family=\"Times,serif\" font-size=\"14.00\">samples = 543</text>\n<text text-anchor=\"middle\" x=\"515.5\" y=\"-543.8\" font-family=\"Times,serif\" font-size=\"14.00\">value = [1, 542]</text>\n<text text-anchor=\"middle\" x=\"515.5\" y=\"-528.8\" font-family=\"Times,serif\" font-size=\"14.00\">class = Yes</text>\n</g>\n<!-- 12&#45;&gt;14 -->\n<g id=\"edge14\" class=\"edge\">\n<title>12&#45;&gt;14</title>\n<path fill=\"none\" stroke=\"black\" d=\"M446.16,-654.97C453.67,-645.87 461.59,-636.28 469.29,-626.96\"/>\n<polygon fill=\"black\" stroke=\"black\" points=\"472.02,-629.15 475.69,-619.21 466.62,-624.7 472.02,-629.15\"/>\n</g>\n<!-- 15 -->\n<g id=\"node16\" class=\"node\">\n<title>15</title>\n<polygon fill=\"none\" stroke=\"black\" points=\"482,-485 353,-485 353,-387 482,-387 482,-485\"/>\n<text text-anchor=\"middle\" x=\"417.5\" y=\"-469.8\" font-family=\"Times,serif\" font-size=\"14.00\">node #15</text>\n<text text-anchor=\"middle\" x=\"417.5\" y=\"-454.8\" font-family=\"Times,serif\" font-size=\"14.00\">Glucose &lt;= 134.986</text>\n<text text-anchor=\"middle\" x=\"417.5\" y=\"-439.8\" font-family=\"Times,serif\" font-size=\"14.00\">gini = 0.444</text>\n<text text-anchor=\"middle\" x=\"417.5\" y=\"-424.8\" font-family=\"Times,serif\" font-size=\"14.00\">samples = 3</text>\n<text text-anchor=\"middle\" x=\"417.5\" y=\"-409.8\" font-family=\"Times,serif\" font-size=\"14.00\">value = [1, 2]</text>\n<text text-anchor=\"middle\" x=\"417.5\" y=\"-394.8\" font-family=\"Times,serif\" font-size=\"14.00\">class = Yes</text>\n</g>\n<!-- 14&#45;&gt;15 -->\n<g id=\"edge15\" class=\"edge\">\n<title>14&#45;&gt;15</title>\n<path fill=\"none\" stroke=\"black\" d=\"M479.84,-520.97C473.22,-512.05 466.25,-502.66 459.46,-493.52\"/>\n<polygon fill=\"black\" stroke=\"black\" points=\"462.07,-491.16 453.3,-485.21 456.45,-495.33 462.07,-491.16\"/>\n</g>\n<!-- 18 -->\n<g id=\"node19\" class=\"node\">\n<title>18</title>\n<polygon fill=\"none\" stroke=\"black\" points=\"605,-477.5 500,-477.5 500,-394.5 605,-394.5 605,-477.5\"/>\n<text text-anchor=\"middle\" x=\"552.5\" y=\"-462.3\" font-family=\"Times,serif\" font-size=\"14.00\">node #18</text>\n<text text-anchor=\"middle\" x=\"552.5\" y=\"-447.3\" font-family=\"Times,serif\" font-size=\"14.00\">gini = 0.0</text>\n<text text-anchor=\"middle\" x=\"552.5\" y=\"-432.3\" font-family=\"Times,serif\" font-size=\"14.00\">samples = 540</text>\n<text text-anchor=\"middle\" x=\"552.5\" y=\"-417.3\" font-family=\"Times,serif\" font-size=\"14.00\">value = [0, 540]</text>\n<text text-anchor=\"middle\" x=\"552.5\" y=\"-402.3\" font-family=\"Times,serif\" font-size=\"14.00\">class = Yes</text>\n</g>\n<!-- 14&#45;&gt;18 -->\n<g id=\"edge18\" class=\"edge\">\n<title>14&#45;&gt;18</title>\n<path fill=\"none\" stroke=\"black\" d=\"M528.96,-520.97C532,-510.14 535.23,-498.6 538.3,-487.66\"/>\n<polygon fill=\"black\" stroke=\"black\" points=\"541.73,-488.39 541.06,-477.82 534.99,-486.5 541.73,-488.39\"/>\n</g>\n<!-- 16 -->\n<g id=\"node17\" class=\"node\">\n<title>16</title>\n<polygon fill=\"none\" stroke=\"black\" points=\"415.5,-343.5 323.5,-343.5 323.5,-260.5 415.5,-260.5 415.5,-343.5\"/>\n<text text-anchor=\"middle\" x=\"369.5\" y=\"-328.3\" font-family=\"Times,serif\" font-size=\"14.00\">node #16</text>\n<text text-anchor=\"middle\" x=\"369.5\" y=\"-313.3\" font-family=\"Times,serif\" font-size=\"14.00\">gini = 0.0</text>\n<text text-anchor=\"middle\" x=\"369.5\" y=\"-298.3\" font-family=\"Times,serif\" font-size=\"14.00\">samples = 2</text>\n<text text-anchor=\"middle\" x=\"369.5\" y=\"-283.3\" font-family=\"Times,serif\" font-size=\"14.00\">value = [0, 2]</text>\n<text text-anchor=\"middle\" x=\"369.5\" y=\"-268.3\" font-family=\"Times,serif\" font-size=\"14.00\">class = Yes</text>\n</g>\n<!-- 15&#45;&gt;16 -->\n<g id=\"edge16\" class=\"edge\">\n<title>15&#45;&gt;16</title>\n<path fill=\"none\" stroke=\"black\" d=\"M400.04,-386.97C396.05,-376.02 391.81,-364.36 387.8,-353.32\"/>\n<polygon fill=\"black\" stroke=\"black\" points=\"391.05,-352.02 384.34,-343.82 384.47,-354.41 391.05,-352.02\"/>\n</g>\n<!-- 17 -->\n<g id=\"node18\" class=\"node\">\n<title>17</title>\n<polygon fill=\"none\" stroke=\"black\" points=\"525.5,-343.5 433.5,-343.5 433.5,-260.5 525.5,-260.5 525.5,-343.5\"/>\n<text text-anchor=\"middle\" x=\"479.5\" y=\"-328.3\" font-family=\"Times,serif\" font-size=\"14.00\">node #17</text>\n<text text-anchor=\"middle\" x=\"479.5\" y=\"-313.3\" font-family=\"Times,serif\" font-size=\"14.00\">gini = 0.0</text>\n<text text-anchor=\"middle\" x=\"479.5\" y=\"-298.3\" font-family=\"Times,serif\" font-size=\"14.00\">samples = 1</text>\n<text text-anchor=\"middle\" x=\"479.5\" y=\"-283.3\" font-family=\"Times,serif\" font-size=\"14.00\">value = [1, 0]</text>\n<text text-anchor=\"middle\" x=\"479.5\" y=\"-268.3\" font-family=\"Times,serif\" font-size=\"14.00\">class = No</text>\n</g>\n<!-- 15&#45;&gt;17 -->\n<g id=\"edge17\" class=\"edge\">\n<title>15&#45;&gt;17</title>\n<path fill=\"none\" stroke=\"black\" d=\"M440.06,-386.97C445.25,-375.91 450.79,-364.13 456.02,-352.99\"/>\n<polygon fill=\"black\" stroke=\"black\" points=\"459.25,-354.36 460.33,-343.82 452.91,-351.38 459.25,-354.36\"/>\n</g>\n</g>\n</svg>\n"
     },
     "metadata": {},
     "execution_count": 4
    }
   ],
   "metadata": {}
  },
  {
   "cell_type": "code",
   "execution_count": 11,
   "source": [
    "input_query_true = df[df['has_same_input_pred']==True]\n",
    "input_query_cf_true = input_query_true[input_query_true['has_same_cf_pred']==True]\n",
    "print(f\"In {len(input_query_cf_true) / len(df)} % of the case, the surrogate decision have the same prediction result as our model in input query and its counterfactual.\")"
   ],
   "outputs": [
    {
     "output_type": "stream",
     "name": "stdout",
     "text": [
      "In 0.3375 % of the case, the surrogate decision have the same prediction result as our model in input query and its counterfactual.\n"
     ]
    }
   ],
   "metadata": {}
  },
  {
   "cell_type": "code",
   "execution_count": 6,
   "source": [
    "example['cf_decisions']"
   ],
   "outputs": [
    {
     "output_type": "execute_result",
     "data": {
      "text/plain": [
       "'[{\"node_id\": 0, \"feature_idx\": 1, \"feature_name\": \"Glucose\", \"value\": 77.6102294921875, \"threshold_sign\": \"<=\", \"threshold\": 132.9477310180664}, {\"node_id\": 1, \"feature_idx\": 7, \"feature_name\": \"Age\", \"value\": 59.0, \"threshold_sign\": \">\", \"threshold\": 55.03864288330078}]'"
      ]
     },
     "metadata": {},
     "execution_count": 6
    }
   ],
   "metadata": {}
  },
  {
   "cell_type": "code",
   "execution_count": 9,
   "source": [
    "## Print the decision rules for input_query.\n",
    "print_decisions(json.loads(example['input_query_decisions']))"
   ],
   "outputs": [
    {
     "output_type": "stream",
     "name": "stdout",
     "text": [
      "decision node 0 : (x [Glucose] = 189.0) > 132.9477310180664)\n",
      "decision node 12 : (x [SkinThickness] = 23.0) > -3.8774678111076355)\n",
      "decision node 14 : (x [Glucose] = 189.0) > 136.4044647216797)\n"
     ]
    }
   ],
   "metadata": {}
  },
  {
   "cell_type": "code",
   "execution_count": 10,
   "source": [
    "## Print the decision rules for cf.\n",
    "print_decisions(json.loads(example['cf_decisions'].replace('\\'','\\\"')))"
   ],
   "outputs": [
    {
     "output_type": "stream",
     "name": "stdout",
     "text": [
      "decision node 0 : (x [Glucose] = 77.6102294921875) <= 132.9477310180664)\n",
      "decision node 1 : (x [Age] = 59.0) > 55.03864288330078)\n"
     ]
    }
   ],
   "metadata": {}
  }
 ],
 "metadata": {
  "orig_nbformat": 4,
  "language_info": {
   "name": "python",
   "version": "3.8.10",
   "mimetype": "text/x-python",
   "codemirror_mode": {
    "name": "ipython",
    "version": 3
   },
   "pygments_lexer": "ipython3",
   "nbconvert_exporter": "python",
   "file_extension": ".py"
  },
  "kernelspec": {
   "name": "python3",
   "display_name": "Python 3.8.10 64-bit ('tf_mac': conda)"
  },
  "interpreter": {
   "hash": "5c622353f32ef24c8d83e5c3e334107c074e82d7c3e8ca52c56b9fc900ce33e6"
  }
 },
 "nbformat": 4,
 "nbformat_minor": 2
}