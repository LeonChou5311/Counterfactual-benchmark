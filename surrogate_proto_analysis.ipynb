{
 "cells": [
  {
   "cell_type": "code",
   "execution_count": 1,
   "source": [
    "import pandas as pd\n",
    "import graphviz\n",
    "import json\n",
    "from surrogate.rules import print_decisions"
   ],
   "outputs": [],
   "metadata": {}
  },
  {
   "cell_type": "code",
   "execution_count": 2,
   "source": [
    "df = pd.read_csv('surrogate_proto.csv')"
   ],
   "outputs": [],
   "metadata": {}
  },
  {
   "cell_type": "code",
   "execution_count": 3,
   "source": [
    "df.head(5)"
   ],
   "outputs": [
    {
     "output_type": "execute_result",
     "data": {
      "text/plain": [
       "   Unnamed: 0                                        input_query  \\\n",
       "0           0  [1.0, 189.0, 56.065574, 23.0, 846.0, 30.1, 0.3...   \n",
       "1           1  [1.0, 180.0, 0.0, 0.0, 0.0, 43.3, 0.275591, 41.0]   \n",
       "2           2  [8.0, 179.0, 67.278689, 42.0, 130.0, 32.7, 0.7...   \n",
       "3           3  [8.0, 151.0, 72.885246, 32.0, 210.0, 42.9, 0.5...   \n",
       "4           4  [11.0, 138.0, 69.147541, 26.0, 144.0, 36.1, 0....   \n",
       "\n",
       "                                                  cf  input_query_nn_pred  \\\n",
       "0  [4.864439487457275, 77.6102294921875, 56.06557...             0.953594   \n",
       "1  [1.0, 162.397216796875, 0.0, 0.0, 0.0, 22.1855...             0.864986   \n",
       "2  [8.0, 89.77251434326172, 67.2786865234375, 45....             0.866738   \n",
       "3  [8.0, 98.7505874633789, 72.88524627685547, 32....             0.844363   \n",
       "4  [10.591582298278809, 67.5608139038086, 72.2386...             0.780766   \n",
       "\n",
       "   cf_nn_pred permutation_nn_pred_portion input_query_tree_pred cf_tree_pred  \\\n",
       "0    0.473794                  [542, 549]                  [1.]         [1.]   \n",
       "1    0.491717                  [529, 564]                  [1.]         [1.]   \n",
       "2    0.498792                  [542, 555]                  [1.]         [1.]   \n",
       "3    0.499490                  [550, 547]                  [1.]         [0.]   \n",
       "4    0.495823                  [540, 558]                  [1.]         [0.]   \n",
       "\n",
       "                               input_query_decisions  \\\n",
       "0  [{\"node_id\": 0, \"feature_idx\": 1, \"feature_nam...   \n",
       "1  [{\"node_id\": 0, \"feature_idx\": 7, \"feature_nam...   \n",
       "2  [{\"node_id\": 0, \"feature_idx\": 7, \"feature_nam...   \n",
       "3  [{\"node_id\": 0, \"feature_idx\": 7, \"feature_nam...   \n",
       "4  [{\"node_id\": 0, \"feature_idx\": 7, \"feature_nam...   \n",
       "\n",
       "                                        cf_decisions  \\\n",
       "0  [{\"node_id\": 0, \"feature_idx\": 1, \"feature_nam...   \n",
       "1  [{\"node_id\": 0, \"feature_idx\": 7, \"feature_nam...   \n",
       "2  [{\"node_id\": 0, \"feature_idx\": 7, \"feature_nam...   \n",
       "3  [{\"node_id\": 0, \"feature_idx\": 7, \"feature_nam...   \n",
       "4  [{\"node_id\": 0, \"feature_idx\": 7, \"feature_nam...   \n",
       "\n",
       "                                            dot_data  sparsity    distance  \\\n",
       "0  digraph Tree {\\nnode [shape=box] ;\\n0 [label=\"...         6  173.446437   \n",
       "1  digraph Tree {\\nnode [shape=box] ;\\n0 [label=\"...         3   27.489613   \n",
       "2  digraph Tree {\\nnode [shape=box] ;\\n0 [label=\"...         5   89.292647   \n",
       "3  digraph Tree {\\nnode [shape=box] ;\\n0 [label=\"...         5   52.251378   \n",
       "4  digraph Tree {\\nnode [shape=box] ;\\n0 [label=\"...         6  105.189192   \n",
       "\n",
       "   depth_diff  has_same_input_pred  has_same_cf_pred  cf_leaf_id  \\\n",
       "0           0                 True             False        20.0   \n",
       "1           0                 True             False        17.0   \n",
       "2           1                 True             False        13.0   \n",
       "3           0                 True              True        15.0   \n",
       "4           4                 True              True        11.0   \n",
       "\n",
       "   input_query_leaf_id  \n",
       "0                 27.0  \n",
       "1                 17.0  \n",
       "2                 15.0  \n",
       "3                 20.0  \n",
       "4                 21.0  "
      ],
      "text/html": [
       "<div>\n",
       "<style scoped>\n",
       "    .dataframe tbody tr th:only-of-type {\n",
       "        vertical-align: middle;\n",
       "    }\n",
       "\n",
       "    .dataframe tbody tr th {\n",
       "        vertical-align: top;\n",
       "    }\n",
       "\n",
       "    .dataframe thead th {\n",
       "        text-align: right;\n",
       "    }\n",
       "</style>\n",
       "<table border=\"1\" class=\"dataframe\">\n",
       "  <thead>\n",
       "    <tr style=\"text-align: right;\">\n",
       "      <th></th>\n",
       "      <th>Unnamed: 0</th>\n",
       "      <th>input_query</th>\n",
       "      <th>cf</th>\n",
       "      <th>input_query_nn_pred</th>\n",
       "      <th>cf_nn_pred</th>\n",
       "      <th>permutation_nn_pred_portion</th>\n",
       "      <th>input_query_tree_pred</th>\n",
       "      <th>cf_tree_pred</th>\n",
       "      <th>input_query_decisions</th>\n",
       "      <th>cf_decisions</th>\n",
       "      <th>dot_data</th>\n",
       "      <th>sparsity</th>\n",
       "      <th>distance</th>\n",
       "      <th>depth_diff</th>\n",
       "      <th>has_same_input_pred</th>\n",
       "      <th>has_same_cf_pred</th>\n",
       "      <th>cf_leaf_id</th>\n",
       "      <th>input_query_leaf_id</th>\n",
       "    </tr>\n",
       "  </thead>\n",
       "  <tbody>\n",
       "    <tr>\n",
       "      <th>0</th>\n",
       "      <td>0</td>\n",
       "      <td>[1.0, 189.0, 56.065574, 23.0, 846.0, 30.1, 0.3...</td>\n",
       "      <td>[4.864439487457275, 77.6102294921875, 56.06557...</td>\n",
       "      <td>0.953594</td>\n",
       "      <td>0.473794</td>\n",
       "      <td>[542, 549]</td>\n",
       "      <td>[1.]</td>\n",
       "      <td>[1.]</td>\n",
       "      <td>[{\"node_id\": 0, \"feature_idx\": 1, \"feature_nam...</td>\n",
       "      <td>[{\"node_id\": 0, \"feature_idx\": 1, \"feature_nam...</td>\n",
       "      <td>digraph Tree {\\nnode [shape=box] ;\\n0 [label=\"...</td>\n",
       "      <td>6</td>\n",
       "      <td>173.446437</td>\n",
       "      <td>0</td>\n",
       "      <td>True</td>\n",
       "      <td>False</td>\n",
       "      <td>20.0</td>\n",
       "      <td>27.0</td>\n",
       "    </tr>\n",
       "    <tr>\n",
       "      <th>1</th>\n",
       "      <td>1</td>\n",
       "      <td>[1.0, 180.0, 0.0, 0.0, 0.0, 43.3, 0.275591, 41.0]</td>\n",
       "      <td>[1.0, 162.397216796875, 0.0, 0.0, 0.0, 22.1855...</td>\n",
       "      <td>0.864986</td>\n",
       "      <td>0.491717</td>\n",
       "      <td>[529, 564]</td>\n",
       "      <td>[1.]</td>\n",
       "      <td>[1.]</td>\n",
       "      <td>[{\"node_id\": 0, \"feature_idx\": 7, \"feature_nam...</td>\n",
       "      <td>[{\"node_id\": 0, \"feature_idx\": 7, \"feature_nam...</td>\n",
       "      <td>digraph Tree {\\nnode [shape=box] ;\\n0 [label=\"...</td>\n",
       "      <td>3</td>\n",
       "      <td>27.489613</td>\n",
       "      <td>0</td>\n",
       "      <td>True</td>\n",
       "      <td>False</td>\n",
       "      <td>17.0</td>\n",
       "      <td>17.0</td>\n",
       "    </tr>\n",
       "    <tr>\n",
       "      <th>2</th>\n",
       "      <td>2</td>\n",
       "      <td>[8.0, 179.0, 67.278689, 42.0, 130.0, 32.7, 0.7...</td>\n",
       "      <td>[8.0, 89.77251434326172, 67.2786865234375, 45....</td>\n",
       "      <td>0.866738</td>\n",
       "      <td>0.498792</td>\n",
       "      <td>[542, 555]</td>\n",
       "      <td>[1.]</td>\n",
       "      <td>[1.]</td>\n",
       "      <td>[{\"node_id\": 0, \"feature_idx\": 7, \"feature_nam...</td>\n",
       "      <td>[{\"node_id\": 0, \"feature_idx\": 7, \"feature_nam...</td>\n",
       "      <td>digraph Tree {\\nnode [shape=box] ;\\n0 [label=\"...</td>\n",
       "      <td>5</td>\n",
       "      <td>89.292647</td>\n",
       "      <td>1</td>\n",
       "      <td>True</td>\n",
       "      <td>False</td>\n",
       "      <td>13.0</td>\n",
       "      <td>15.0</td>\n",
       "    </tr>\n",
       "    <tr>\n",
       "      <th>3</th>\n",
       "      <td>3</td>\n",
       "      <td>[8.0, 151.0, 72.885246, 32.0, 210.0, 42.9, 0.5...</td>\n",
       "      <td>[8.0, 98.7505874633789, 72.88524627685547, 32....</td>\n",
       "      <td>0.844363</td>\n",
       "      <td>0.499490</td>\n",
       "      <td>[550, 547]</td>\n",
       "      <td>[1.]</td>\n",
       "      <td>[0.]</td>\n",
       "      <td>[{\"node_id\": 0, \"feature_idx\": 7, \"feature_nam...</td>\n",
       "      <td>[{\"node_id\": 0, \"feature_idx\": 7, \"feature_nam...</td>\n",
       "      <td>digraph Tree {\\nnode [shape=box] ;\\n0 [label=\"...</td>\n",
       "      <td>5</td>\n",
       "      <td>52.251378</td>\n",
       "      <td>0</td>\n",
       "      <td>True</td>\n",
       "      <td>True</td>\n",
       "      <td>15.0</td>\n",
       "      <td>20.0</td>\n",
       "    </tr>\n",
       "    <tr>\n",
       "      <th>4</th>\n",
       "      <td>4</td>\n",
       "      <td>[11.0, 138.0, 69.147541, 26.0, 144.0, 36.1, 0....</td>\n",
       "      <td>[10.591582298278809, 67.5608139038086, 72.2386...</td>\n",
       "      <td>0.780766</td>\n",
       "      <td>0.495823</td>\n",
       "      <td>[540, 558]</td>\n",
       "      <td>[1.]</td>\n",
       "      <td>[0.]</td>\n",
       "      <td>[{\"node_id\": 0, \"feature_idx\": 7, \"feature_nam...</td>\n",
       "      <td>[{\"node_id\": 0, \"feature_idx\": 7, \"feature_nam...</td>\n",
       "      <td>digraph Tree {\\nnode [shape=box] ;\\n0 [label=\"...</td>\n",
       "      <td>6</td>\n",
       "      <td>105.189192</td>\n",
       "      <td>4</td>\n",
       "      <td>True</td>\n",
       "      <td>True</td>\n",
       "      <td>11.0</td>\n",
       "      <td>21.0</td>\n",
       "    </tr>\n",
       "  </tbody>\n",
       "</table>\n",
       "</div>"
      ]
     },
     "metadata": {},
     "execution_count": 3
    }
   ],
   "metadata": {}
  },
  {
   "cell_type": "markdown",
   "source": [
    "[`input_query`] -> Input query for generating counterfactual.\n",
    "\n",
    "[`cf`] -> Counterfactual found through CounterfactaulProto.\n",
    "\n",
    "[`input_query_nn_pred`] -> Prediction value for input_query using our model.\n",
    "\n",
    "[`cf_nn_pred`] -> Predictino value for cf using our model.\n",
    "\n",
    "[`permutation_nn_pred_portion`] -> The permutation dataset label size for `[0, 1]` # Checking balance.\n",
    "\n",
    "[`input_query_tree_pred`] -> Prediction value for input_query using surrogate decision tree.\n",
    "\n",
    "[`cf_tree_pred`] -> Prediction value for cf using surrogate decision tree.\n",
    "\n",
    "[`input_query_decisions`] -> Rules extracted when predicting input query using surrogate decision tree.\n",
    "\n",
    "[`cf_decisions`] -> Rules extracted when predicting cf using surrogate decision tree.\n",
    "\n",
    "[`input_query_leaf_id`] -> decision leaf id for input_query on surrogate decision tree.\n",
    "\n",
    "[`cf_leaf_id`] -> decision leaf id for cf on surrogate decision tree.\n",
    "\n",
    "[`dot_data`] -> Dot data to plot the surrogate decision tree. # Example below\n",
    "\n",
    "[`sparsity`] -> How many features changed.\n",
    "\n",
    "[`distance`] -> L2 distance btw input_query and counterfactual.\n",
    "\n",
    "[`depth_diff`] -> Depth difference btw input_query and cf.\n",
    "\n",
    "[`has_same_input_pred`] -> Our model and surrogate decision tree has same prediction on input_query.\n",
    "\n",
    "[`has_same_cf_pred`] -> Our model and surrogate decision tree has same prediction on cf.\n"
   ],
   "metadata": {}
  },
  {
   "cell_type": "code",
   "execution_count": 4,
   "source": [
    "example = df.iloc[0]\n",
    "graphviz.Source(example['dot_data'], format=\"png\") "
   ],
   "outputs": [
    {
     "output_type": "execute_result",
     "data": {
      "text/plain": [
       "<graphviz.files.Source at 0x125c091c0>"
      ],
      "image/svg+xml": "<?xml version=\"1.0\" encoding=\"UTF-8\" standalone=\"no\"?>\n<!DOCTYPE svg PUBLIC \"-//W3C//DTD SVG 1.1//EN\"\n \"http://www.w3.org/Graphics/SVG/1.1/DTD/svg11.dtd\">\n<!-- Generated by graphviz version 2.47.1 (20210417.1919)\n -->\n<!-- Title: Tree Pages: 1 -->\n<svg width=\"949pt\" height=\"1163pt\"\n viewBox=\"0.00 0.00 948.50 1163.00\" xmlns=\"http://www.w3.org/2000/svg\" xmlns:xlink=\"http://www.w3.org/1999/xlink\">\n<g id=\"graph0\" class=\"graph\" transform=\"scale(1 1) rotate(0) translate(4 1159)\">\n<title>Tree</title>\n<polygon fill=\"white\" stroke=\"transparent\" points=\"-4,4 -4,-1159 944.5,-1159 944.5,4 -4,4\"/>\n<!-- 0 -->\n<g id=\"node1\" class=\"node\">\n<title>0</title>\n<polygon fill=\"none\" stroke=\"black\" points=\"744.5,-1155 615.5,-1155 615.5,-1057 744.5,-1057 744.5,-1155\"/>\n<text text-anchor=\"middle\" x=\"680\" y=\"-1139.8\" font-family=\"Times,serif\" font-size=\"14.00\">node #0</text>\n<text text-anchor=\"middle\" x=\"680\" y=\"-1124.8\" font-family=\"Times,serif\" font-size=\"14.00\">Glucose &lt;= 136.404</text>\n<text text-anchor=\"middle\" x=\"680\" y=\"-1109.8\" font-family=\"Times,serif\" font-size=\"14.00\">gini = 0.5</text>\n<text text-anchor=\"middle\" x=\"680\" y=\"-1094.8\" font-family=\"Times,serif\" font-size=\"14.00\">samples = 1091</text>\n<text text-anchor=\"middle\" x=\"680\" y=\"-1079.8\" font-family=\"Times,serif\" font-size=\"14.00\">value = [542, 549]</text>\n<text text-anchor=\"middle\" x=\"680\" y=\"-1064.8\" font-family=\"Times,serif\" font-size=\"14.00\">class = Yes</text>\n</g>\n<!-- 1 -->\n<g id=\"node2\" class=\"node\">\n<title>1</title>\n<polygon fill=\"none\" stroke=\"black\" points=\"658,-1021 546,-1021 546,-923 658,-923 658,-1021\"/>\n<text text-anchor=\"middle\" x=\"602\" y=\"-1005.8\" font-family=\"Times,serif\" font-size=\"14.00\">node #1</text>\n<text text-anchor=\"middle\" x=\"602\" y=\"-990.8\" font-family=\"Times,serif\" font-size=\"14.00\">Age &lt;= 44.831</text>\n<text text-anchor=\"middle\" x=\"602\" y=\"-975.8\" font-family=\"Times,serif\" font-size=\"14.00\">gini = 0.046</text>\n<text text-anchor=\"middle\" x=\"602\" y=\"-960.8\" font-family=\"Times,serif\" font-size=\"14.00\">samples = 552</text>\n<text text-anchor=\"middle\" x=\"602\" y=\"-945.8\" font-family=\"Times,serif\" font-size=\"14.00\">value = [539, 13]</text>\n<text text-anchor=\"middle\" x=\"602\" y=\"-930.8\" font-family=\"Times,serif\" font-size=\"14.00\">class = No</text>\n</g>\n<!-- 0&#45;&gt;1 -->\n<g id=\"edge1\" class=\"edge\">\n<title>0&#45;&gt;1</title>\n<path fill=\"none\" stroke=\"black\" d=\"M651.62,-1056.97C646.46,-1048.24 641.03,-1039.05 635.73,-1030.08\"/>\n<polygon fill=\"black\" stroke=\"black\" points=\"638.59,-1028.04 630.49,-1021.21 632.56,-1031.6 638.59,-1028.04\"/>\n<text text-anchor=\"middle\" x=\"624.26\" y=\"-1041.73\" font-family=\"Times,serif\" font-size=\"14.00\">True</text>\n</g>\n<!-- 22 -->\n<g id=\"node23\" class=\"node\">\n<title>22</title>\n<polygon fill=\"none\" stroke=\"black\" points=\"840,-1021 676,-1021 676,-923 840,-923 840,-1021\"/>\n<text text-anchor=\"middle\" x=\"758\" y=\"-1005.8\" font-family=\"Times,serif\" font-size=\"14.00\">node #22</text>\n<text text-anchor=\"middle\" x=\"758\" y=\"-990.8\" font-family=\"Times,serif\" font-size=\"14.00\">BloodPressure &lt;= 106.006</text>\n<text text-anchor=\"middle\" x=\"758\" y=\"-975.8\" font-family=\"Times,serif\" font-size=\"14.00\">gini = 0.011</text>\n<text text-anchor=\"middle\" x=\"758\" y=\"-960.8\" font-family=\"Times,serif\" font-size=\"14.00\">samples = 539</text>\n<text text-anchor=\"middle\" x=\"758\" y=\"-945.8\" font-family=\"Times,serif\" font-size=\"14.00\">value = [3, 536]</text>\n<text text-anchor=\"middle\" x=\"758\" y=\"-930.8\" font-family=\"Times,serif\" font-size=\"14.00\">class = Yes</text>\n</g>\n<!-- 0&#45;&gt;22 -->\n<g id=\"edge22\" class=\"edge\">\n<title>0&#45;&gt;22</title>\n<path fill=\"none\" stroke=\"black\" d=\"M708.38,-1056.97C713.54,-1048.24 718.97,-1039.05 724.27,-1030.08\"/>\n<polygon fill=\"black\" stroke=\"black\" points=\"727.44,-1031.6 729.51,-1021.21 721.41,-1028.04 727.44,-1031.6\"/>\n<text text-anchor=\"middle\" x=\"735.74\" y=\"-1041.73\" font-family=\"Times,serif\" font-size=\"14.00\">False</text>\n</g>\n<!-- 2 -->\n<g id=\"node3\" class=\"node\">\n<title>2</title>\n<polygon fill=\"none\" stroke=\"black\" points=\"508,-887 294,-887 294,-789 508,-789 508,-887\"/>\n<text text-anchor=\"middle\" x=\"401\" y=\"-871.8\" font-family=\"Times,serif\" font-size=\"14.00\">node #2</text>\n<text text-anchor=\"middle\" x=\"401\" y=\"-856.8\" font-family=\"Times,serif\" font-size=\"14.00\">DiabetesPedigreeFunction &lt;= 1.662</text>\n<text text-anchor=\"middle\" x=\"401\" y=\"-841.8\" font-family=\"Times,serif\" font-size=\"14.00\">gini = 0.018</text>\n<text text-anchor=\"middle\" x=\"401\" y=\"-826.8\" font-family=\"Times,serif\" font-size=\"14.00\">samples = 543</text>\n<text text-anchor=\"middle\" x=\"401\" y=\"-811.8\" font-family=\"Times,serif\" font-size=\"14.00\">value = [538, 5]</text>\n<text text-anchor=\"middle\" x=\"401\" y=\"-796.8\" font-family=\"Times,serif\" font-size=\"14.00\">class = No</text>\n</g>\n<!-- 1&#45;&gt;2 -->\n<g id=\"edge2\" class=\"edge\">\n<title>1&#45;&gt;2</title>\n<path fill=\"none\" stroke=\"black\" d=\"M545.74,-934.06C526.16,-921.19 503.78,-906.5 482.56,-892.56\"/>\n<polygon fill=\"black\" stroke=\"black\" points=\"484.46,-889.63 474.18,-887.06 480.62,-895.48 484.46,-889.63\"/>\n</g>\n<!-- 19 -->\n<g id=\"node20\" class=\"node\">\n<title>19</title>\n<polygon fill=\"none\" stroke=\"black\" points=\"683.5,-887 526.5,-887 526.5,-789 683.5,-789 683.5,-887\"/>\n<text text-anchor=\"middle\" x=\"605\" y=\"-871.8\" font-family=\"Times,serif\" font-size=\"14.00\">node #19</text>\n<text text-anchor=\"middle\" x=\"605\" y=\"-856.8\" font-family=\"Times,serif\" font-size=\"14.00\">BloodPressure &lt;= 91.612</text>\n<text text-anchor=\"middle\" x=\"605\" y=\"-841.8\" font-family=\"Times,serif\" font-size=\"14.00\">gini = 0.198</text>\n<text text-anchor=\"middle\" x=\"605\" y=\"-826.8\" font-family=\"Times,serif\" font-size=\"14.00\">samples = 9</text>\n<text text-anchor=\"middle\" x=\"605\" y=\"-811.8\" font-family=\"Times,serif\" font-size=\"14.00\">value = [1, 8]</text>\n<text text-anchor=\"middle\" x=\"605\" y=\"-796.8\" font-family=\"Times,serif\" font-size=\"14.00\">class = Yes</text>\n</g>\n<!-- 1&#45;&gt;19 -->\n<g id=\"edge19\" class=\"edge\">\n<title>1&#45;&gt;19</title>\n<path fill=\"none\" stroke=\"black\" d=\"M603.09,-922.97C603.28,-914.69 603.48,-906 603.67,-897.48\"/>\n<polygon fill=\"black\" stroke=\"black\" points=\"607.18,-897.29 603.9,-887.21 600.18,-897.13 607.18,-897.29\"/>\n</g>\n<!-- 3 -->\n<g id=\"node4\" class=\"node\">\n<title>3</title>\n<polygon fill=\"none\" stroke=\"black\" points=\"338,-753 188,-753 188,-655 338,-655 338,-753\"/>\n<text text-anchor=\"middle\" x=\"263\" y=\"-737.8\" font-family=\"Times,serif\" font-size=\"14.00\">node #3</text>\n<text text-anchor=\"middle\" x=\"263\" y=\"-722.8\" font-family=\"Times,serif\" font-size=\"14.00\">BloodPressure &lt;= 55.37</text>\n<text text-anchor=\"middle\" x=\"263\" y=\"-707.8\" font-family=\"Times,serif\" font-size=\"14.00\">gini = 0.015</text>\n<text text-anchor=\"middle\" x=\"263\" y=\"-692.8\" font-family=\"Times,serif\" font-size=\"14.00\">samples = 542</text>\n<text text-anchor=\"middle\" x=\"263\" y=\"-677.8\" font-family=\"Times,serif\" font-size=\"14.00\">value = [538, 4]</text>\n<text text-anchor=\"middle\" x=\"263\" y=\"-662.8\" font-family=\"Times,serif\" font-size=\"14.00\">class = No</text>\n</g>\n<!-- 2&#45;&gt;3 -->\n<g id=\"edge3\" class=\"edge\">\n<title>2&#45;&gt;3</title>\n<path fill=\"none\" stroke=\"black\" d=\"M350.79,-788.97C341.09,-779.69 330.85,-769.9 320.92,-760.4\"/>\n<polygon fill=\"black\" stroke=\"black\" points=\"323.05,-757.6 313.41,-753.21 318.21,-762.66 323.05,-757.6\"/>\n</g>\n<!-- 18 -->\n<g id=\"node19\" class=\"node\">\n<title>18</title>\n<polygon fill=\"none\" stroke=\"black\" points=\"448,-745.5 356,-745.5 356,-662.5 448,-662.5 448,-745.5\"/>\n<text text-anchor=\"middle\" x=\"402\" y=\"-730.3\" font-family=\"Times,serif\" font-size=\"14.00\">node #18</text>\n<text text-anchor=\"middle\" x=\"402\" y=\"-715.3\" font-family=\"Times,serif\" font-size=\"14.00\">gini = 0.0</text>\n<text text-anchor=\"middle\" x=\"402\" y=\"-700.3\" font-family=\"Times,serif\" font-size=\"14.00\">samples = 1</text>\n<text text-anchor=\"middle\" x=\"402\" y=\"-685.3\" font-family=\"Times,serif\" font-size=\"14.00\">value = [0, 1]</text>\n<text text-anchor=\"middle\" x=\"402\" y=\"-670.3\" font-family=\"Times,serif\" font-size=\"14.00\">class = Yes</text>\n</g>\n<!-- 2&#45;&gt;18 -->\n<g id=\"edge18\" class=\"edge\">\n<title>2&#45;&gt;18</title>\n<path fill=\"none\" stroke=\"black\" d=\"M401.36,-788.97C401.45,-778.25 401.53,-766.84 401.61,-755.99\"/>\n<polygon fill=\"black\" stroke=\"black\" points=\"405.11,-755.84 401.69,-745.82 398.12,-755.79 405.11,-755.84\"/>\n</g>\n<!-- 4 -->\n<g id=\"node5\" class=\"node\">\n<title>4</title>\n<polygon fill=\"none\" stroke=\"black\" points=\"241,-619 137,-619 137,-521 241,-521 241,-619\"/>\n<text text-anchor=\"middle\" x=\"189\" y=\"-603.8\" font-family=\"Times,serif\" font-size=\"14.00\">node #4</text>\n<text text-anchor=\"middle\" x=\"189\" y=\"-588.8\" font-family=\"Times,serif\" font-size=\"14.00\">BMI &lt;= 28.649</text>\n<text text-anchor=\"middle\" x=\"189\" y=\"-573.8\" font-family=\"Times,serif\" font-size=\"14.00\">gini = 0.278</text>\n<text text-anchor=\"middle\" x=\"189\" y=\"-558.8\" font-family=\"Times,serif\" font-size=\"14.00\">samples = 12</text>\n<text text-anchor=\"middle\" x=\"189\" y=\"-543.8\" font-family=\"Times,serif\" font-size=\"14.00\">value = [10, 2]</text>\n<text text-anchor=\"middle\" x=\"189\" y=\"-528.8\" font-family=\"Times,serif\" font-size=\"14.00\">class = No</text>\n</g>\n<!-- 3&#45;&gt;4 -->\n<g id=\"edge4\" class=\"edge\">\n<title>3&#45;&gt;4</title>\n<path fill=\"none\" stroke=\"black\" d=\"M236.07,-654.97C231.18,-646.24 226.03,-637.05 221,-628.08\"/>\n<polygon fill=\"black\" stroke=\"black\" points=\"223.97,-626.23 216.03,-619.21 217.87,-629.65 223.97,-626.23\"/>\n</g>\n<!-- 9 -->\n<g id=\"node10\" class=\"node\">\n<title>9</title>\n<polygon fill=\"none\" stroke=\"black\" points=\"390.5,-619 285.5,-619 285.5,-521 390.5,-521 390.5,-619\"/>\n<text text-anchor=\"middle\" x=\"338\" y=\"-603.8\" font-family=\"Times,serif\" font-size=\"14.00\">node #9</text>\n<text text-anchor=\"middle\" x=\"338\" y=\"-588.8\" font-family=\"Times,serif\" font-size=\"14.00\">Age &lt;= 36.002</text>\n<text text-anchor=\"middle\" x=\"338\" y=\"-573.8\" font-family=\"Times,serif\" font-size=\"14.00\">gini = 0.008</text>\n<text text-anchor=\"middle\" x=\"338\" y=\"-558.8\" font-family=\"Times,serif\" font-size=\"14.00\">samples = 530</text>\n<text text-anchor=\"middle\" x=\"338\" y=\"-543.8\" font-family=\"Times,serif\" font-size=\"14.00\">value = [528, 2]</text>\n<text text-anchor=\"middle\" x=\"338\" y=\"-528.8\" font-family=\"Times,serif\" font-size=\"14.00\">class = No</text>\n</g>\n<!-- 3&#45;&gt;9 -->\n<g id=\"edge9\" class=\"edge\">\n<title>3&#45;&gt;9</title>\n<path fill=\"none\" stroke=\"black\" d=\"M290.29,-654.97C295.25,-646.24 300.47,-637.05 305.57,-628.08\"/>\n<polygon fill=\"black\" stroke=\"black\" points=\"308.71,-629.64 310.61,-619.21 302.62,-626.18 308.71,-629.64\"/>\n</g>\n<!-- 5 -->\n<g id=\"node6\" class=\"node\">\n<title>5</title>\n<polygon fill=\"none\" stroke=\"black\" points=\"92,-477.5 0,-477.5 0,-394.5 92,-394.5 92,-477.5\"/>\n<text text-anchor=\"middle\" x=\"46\" y=\"-462.3\" font-family=\"Times,serif\" font-size=\"14.00\">node #5</text>\n<text text-anchor=\"middle\" x=\"46\" y=\"-447.3\" font-family=\"Times,serif\" font-size=\"14.00\">gini = 0.0</text>\n<text text-anchor=\"middle\" x=\"46\" y=\"-432.3\" font-family=\"Times,serif\" font-size=\"14.00\">samples = 1</text>\n<text text-anchor=\"middle\" x=\"46\" y=\"-417.3\" font-family=\"Times,serif\" font-size=\"14.00\">value = [0, 1]</text>\n<text text-anchor=\"middle\" x=\"46\" y=\"-402.3\" font-family=\"Times,serif\" font-size=\"14.00\">class = Yes</text>\n</g>\n<!-- 4&#45;&gt;5 -->\n<g id=\"edge5\" class=\"edge\">\n<title>4&#45;&gt;5</title>\n<path fill=\"none\" stroke=\"black\" d=\"M136.97,-520.97C124.15,-509.14 110.43,-496.48 97.63,-484.66\"/>\n<polygon fill=\"black\" stroke=\"black\" points=\"99.94,-482.03 90.22,-477.82 95.19,-487.17 99.94,-482.03\"/>\n</g>\n<!-- 6 -->\n<g id=\"node7\" class=\"node\">\n<title>6</title>\n<polygon fill=\"none\" stroke=\"black\" points=\"267.5,-485 110.5,-485 110.5,-387 267.5,-387 267.5,-485\"/>\n<text text-anchor=\"middle\" x=\"189\" y=\"-469.8\" font-family=\"Times,serif\" font-size=\"14.00\">node #6</text>\n<text text-anchor=\"middle\" x=\"189\" y=\"-454.8\" font-family=\"Times,serif\" font-size=\"14.00\">BloodPressure &lt;= 52.874</text>\n<text text-anchor=\"middle\" x=\"189\" y=\"-439.8\" font-family=\"Times,serif\" font-size=\"14.00\">gini = 0.165</text>\n<text text-anchor=\"middle\" x=\"189\" y=\"-424.8\" font-family=\"Times,serif\" font-size=\"14.00\">samples = 11</text>\n<text text-anchor=\"middle\" x=\"189\" y=\"-409.8\" font-family=\"Times,serif\" font-size=\"14.00\">value = [10, 1]</text>\n<text text-anchor=\"middle\" x=\"189\" y=\"-394.8\" font-family=\"Times,serif\" font-size=\"14.00\">class = No</text>\n</g>\n<!-- 4&#45;&gt;6 -->\n<g id=\"edge6\" class=\"edge\">\n<title>4&#45;&gt;6</title>\n<path fill=\"none\" stroke=\"black\" d=\"M189,-520.97C189,-512.69 189,-504 189,-495.48\"/>\n<polygon fill=\"black\" stroke=\"black\" points=\"192.5,-495.21 189,-485.21 185.5,-495.21 192.5,-495.21\"/>\n</g>\n<!-- 7 -->\n<g id=\"node8\" class=\"node\">\n<title>7</title>\n<polygon fill=\"none\" stroke=\"black\" points=\"182,-343.5 84,-343.5 84,-260.5 182,-260.5 182,-343.5\"/>\n<text text-anchor=\"middle\" x=\"133\" y=\"-328.3\" font-family=\"Times,serif\" font-size=\"14.00\">node #7</text>\n<text text-anchor=\"middle\" x=\"133\" y=\"-313.3\" font-family=\"Times,serif\" font-size=\"14.00\">gini = 0.0</text>\n<text text-anchor=\"middle\" x=\"133\" y=\"-298.3\" font-family=\"Times,serif\" font-size=\"14.00\">samples = 10</text>\n<text text-anchor=\"middle\" x=\"133\" y=\"-283.3\" font-family=\"Times,serif\" font-size=\"14.00\">value = [10, 0]</text>\n<text text-anchor=\"middle\" x=\"133\" y=\"-268.3\" font-family=\"Times,serif\" font-size=\"14.00\">class = No</text>\n</g>\n<!-- 6&#45;&gt;7 -->\n<g id=\"edge7\" class=\"edge\">\n<title>6&#45;&gt;7</title>\n<path fill=\"none\" stroke=\"black\" d=\"M168.62,-386.97C163.98,-376.02 159.03,-364.36 154.35,-353.32\"/>\n<polygon fill=\"black\" stroke=\"black\" points=\"157.44,-351.66 150.32,-343.82 151,-354.39 157.44,-351.66\"/>\n</g>\n<!-- 8 -->\n<g id=\"node9\" class=\"node\">\n<title>8</title>\n<polygon fill=\"none\" stroke=\"black\" points=\"292,-343.5 200,-343.5 200,-260.5 292,-260.5 292,-343.5\"/>\n<text text-anchor=\"middle\" x=\"246\" y=\"-328.3\" font-family=\"Times,serif\" font-size=\"14.00\">node #8</text>\n<text text-anchor=\"middle\" x=\"246\" y=\"-313.3\" font-family=\"Times,serif\" font-size=\"14.00\">gini = 0.0</text>\n<text text-anchor=\"middle\" x=\"246\" y=\"-298.3\" font-family=\"Times,serif\" font-size=\"14.00\">samples = 1</text>\n<text text-anchor=\"middle\" x=\"246\" y=\"-283.3\" font-family=\"Times,serif\" font-size=\"14.00\">value = [0, 1]</text>\n<text text-anchor=\"middle\" x=\"246\" y=\"-268.3\" font-family=\"Times,serif\" font-size=\"14.00\">class = Yes</text>\n</g>\n<!-- 6&#45;&gt;8 -->\n<g id=\"edge8\" class=\"edge\">\n<title>6&#45;&gt;8</title>\n<path fill=\"none\" stroke=\"black\" d=\"M209.74,-386.97C214.47,-376.02 219.5,-364.36 224.27,-353.32\"/>\n<polygon fill=\"black\" stroke=\"black\" points=\"227.62,-354.38 228.37,-343.82 221.2,-351.61 227.62,-354.38\"/>\n</g>\n<!-- 10 -->\n<g id=\"node11\" class=\"node\">\n<title>10</title>\n<polygon fill=\"none\" stroke=\"black\" points=\"390.5,-477.5 285.5,-477.5 285.5,-394.5 390.5,-394.5 390.5,-477.5\"/>\n<text text-anchor=\"middle\" x=\"338\" y=\"-462.3\" font-family=\"Times,serif\" font-size=\"14.00\">node #10</text>\n<text text-anchor=\"middle\" x=\"338\" y=\"-447.3\" font-family=\"Times,serif\" font-size=\"14.00\">gini = 0.0</text>\n<text text-anchor=\"middle\" x=\"338\" y=\"-432.3\" font-family=\"Times,serif\" font-size=\"14.00\">samples = 426</text>\n<text text-anchor=\"middle\" x=\"338\" y=\"-417.3\" font-family=\"Times,serif\" font-size=\"14.00\">value = [426, 0]</text>\n<text text-anchor=\"middle\" x=\"338\" y=\"-402.3\" font-family=\"Times,serif\" font-size=\"14.00\">class = No</text>\n</g>\n<!-- 9&#45;&gt;10 -->\n<g id=\"edge10\" class=\"edge\">\n<title>9&#45;&gt;10</title>\n<path fill=\"none\" stroke=\"black\" d=\"M338,-520.97C338,-510.25 338,-498.84 338,-487.99\"/>\n<polygon fill=\"black\" stroke=\"black\" points=\"341.5,-487.82 338,-477.82 334.5,-487.82 341.5,-487.82\"/>\n</g>\n<!-- 11 -->\n<g id=\"node12\" class=\"node\">\n<title>11</title>\n<polygon fill=\"none\" stroke=\"black\" points=\"525,-485 409,-485 409,-387 525,-387 525,-485\"/>\n<text text-anchor=\"middle\" x=\"467\" y=\"-469.8\" font-family=\"Times,serif\" font-size=\"14.00\">node #11</text>\n<text text-anchor=\"middle\" x=\"467\" y=\"-454.8\" font-family=\"Times,serif\" font-size=\"14.00\">Glucose &lt;= 46.61</text>\n<text text-anchor=\"middle\" x=\"467\" y=\"-439.8\" font-family=\"Times,serif\" font-size=\"14.00\">gini = 0.038</text>\n<text text-anchor=\"middle\" x=\"467\" y=\"-424.8\" font-family=\"Times,serif\" font-size=\"14.00\">samples = 104</text>\n<text text-anchor=\"middle\" x=\"467\" y=\"-409.8\" font-family=\"Times,serif\" font-size=\"14.00\">value = [102, 2]</text>\n<text text-anchor=\"middle\" x=\"467\" y=\"-394.8\" font-family=\"Times,serif\" font-size=\"14.00\">class = No</text>\n</g>\n<!-- 9&#45;&gt;11 -->\n<g id=\"edge11\" class=\"edge\">\n<title>9&#45;&gt;11</title>\n<path fill=\"none\" stroke=\"black\" d=\"M384.94,-520.97C394.01,-511.69 403.58,-501.9 412.86,-492.4\"/>\n<polygon fill=\"black\" stroke=\"black\" points=\"415.4,-494.81 419.88,-485.21 410.39,-489.92 415.4,-494.81\"/>\n</g>\n<!-- 12 -->\n<g id=\"node13\" class=\"node\">\n<title>12</title>\n<polygon fill=\"none\" stroke=\"black\" points=\"434,-343.5 336,-343.5 336,-260.5 434,-260.5 434,-343.5\"/>\n<text text-anchor=\"middle\" x=\"385\" y=\"-328.3\" font-family=\"Times,serif\" font-size=\"14.00\">node #12</text>\n<text text-anchor=\"middle\" x=\"385\" y=\"-313.3\" font-family=\"Times,serif\" font-size=\"14.00\">gini = 0.0</text>\n<text text-anchor=\"middle\" x=\"385\" y=\"-298.3\" font-family=\"Times,serif\" font-size=\"14.00\">samples = 92</text>\n<text text-anchor=\"middle\" x=\"385\" y=\"-283.3\" font-family=\"Times,serif\" font-size=\"14.00\">value = [92, 0]</text>\n<text text-anchor=\"middle\" x=\"385\" y=\"-268.3\" font-family=\"Times,serif\" font-size=\"14.00\">class = No</text>\n</g>\n<!-- 11&#45;&gt;12 -->\n<g id=\"edge12\" class=\"edge\">\n<title>11&#45;&gt;12</title>\n<path fill=\"none\" stroke=\"black\" d=\"M437.16,-386.97C430.16,-375.69 422.68,-363.66 415.64,-352.32\"/>\n<polygon fill=\"black\" stroke=\"black\" points=\"418.61,-350.46 410.36,-343.82 412.66,-354.16 418.61,-350.46\"/>\n</g>\n<!-- 13 -->\n<g id=\"node14\" class=\"node\">\n<title>13</title>\n<polygon fill=\"none\" stroke=\"black\" points=\"609.5,-351 452.5,-351 452.5,-253 609.5,-253 609.5,-351\"/>\n<text text-anchor=\"middle\" x=\"531\" y=\"-335.8\" font-family=\"Times,serif\" font-size=\"14.00\">node #13</text>\n<text text-anchor=\"middle\" x=\"531\" y=\"-320.8\" font-family=\"Times,serif\" font-size=\"14.00\">BloodPressure &lt;= 80.077</text>\n<text text-anchor=\"middle\" x=\"531\" y=\"-305.8\" font-family=\"Times,serif\" font-size=\"14.00\">gini = 0.278</text>\n<text text-anchor=\"middle\" x=\"531\" y=\"-290.8\" font-family=\"Times,serif\" font-size=\"14.00\">samples = 12</text>\n<text text-anchor=\"middle\" x=\"531\" y=\"-275.8\" font-family=\"Times,serif\" font-size=\"14.00\">value = [10, 2]</text>\n<text text-anchor=\"middle\" x=\"531\" y=\"-260.8\" font-family=\"Times,serif\" font-size=\"14.00\">class = No</text>\n</g>\n<!-- 11&#45;&gt;13 -->\n<g id=\"edge13\" class=\"edge\">\n<title>11&#45;&gt;13</title>\n<path fill=\"none\" stroke=\"black\" d=\"M490.29,-386.97C494.48,-378.33 498.88,-369.24 503.19,-360.36\"/>\n<polygon fill=\"black\" stroke=\"black\" points=\"506.41,-361.74 507.62,-351.21 500.11,-358.69 506.41,-361.74\"/>\n</g>\n<!-- 14 -->\n<g id=\"node15\" class=\"node\">\n<title>14</title>\n<polygon fill=\"none\" stroke=\"black\" points=\"552,-217 338,-217 338,-119 552,-119 552,-217\"/>\n<text text-anchor=\"middle\" x=\"445\" y=\"-201.8\" font-family=\"Times,serif\" font-size=\"14.00\">node #14</text>\n<text text-anchor=\"middle\" x=\"445\" y=\"-186.8\" font-family=\"Times,serif\" font-size=\"14.00\">DiabetesPedigreeFunction &lt;= 0.175</text>\n<text text-anchor=\"middle\" x=\"445\" y=\"-171.8\" font-family=\"Times,serif\" font-size=\"14.00\">gini = 0.444</text>\n<text text-anchor=\"middle\" x=\"445\" y=\"-156.8\" font-family=\"Times,serif\" font-size=\"14.00\">samples = 3</text>\n<text text-anchor=\"middle\" x=\"445\" y=\"-141.8\" font-family=\"Times,serif\" font-size=\"14.00\">value = [1, 2]</text>\n<text text-anchor=\"middle\" x=\"445\" y=\"-126.8\" font-family=\"Times,serif\" font-size=\"14.00\">class = Yes</text>\n</g>\n<!-- 13&#45;&gt;14 -->\n<g id=\"edge14\" class=\"edge\">\n<title>13&#45;&gt;14</title>\n<path fill=\"none\" stroke=\"black\" d=\"M499.71,-252.97C493.96,-244.15 487.91,-234.85 482.01,-225.8\"/>\n<polygon fill=\"black\" stroke=\"black\" points=\"484.8,-223.68 476.41,-217.21 478.94,-227.5 484.8,-223.68\"/>\n</g>\n<!-- 17 -->\n<g id=\"node18\" class=\"node\">\n<title>17</title>\n<polygon fill=\"none\" stroke=\"black\" points=\"662,-209.5 570,-209.5 570,-126.5 662,-126.5 662,-209.5\"/>\n<text text-anchor=\"middle\" x=\"616\" y=\"-194.3\" font-family=\"Times,serif\" font-size=\"14.00\">node #17</text>\n<text text-anchor=\"middle\" x=\"616\" y=\"-179.3\" font-family=\"Times,serif\" font-size=\"14.00\">gini = 0.0</text>\n<text text-anchor=\"middle\" x=\"616\" y=\"-164.3\" font-family=\"Times,serif\" font-size=\"14.00\">samples = 9</text>\n<text text-anchor=\"middle\" x=\"616\" y=\"-149.3\" font-family=\"Times,serif\" font-size=\"14.00\">value = [9, 0]</text>\n<text text-anchor=\"middle\" x=\"616\" y=\"-134.3\" font-family=\"Times,serif\" font-size=\"14.00\">class = No</text>\n</g>\n<!-- 13&#45;&gt;17 -->\n<g id=\"edge17\" class=\"edge\">\n<title>13&#45;&gt;17</title>\n<path fill=\"none\" stroke=\"black\" d=\"M561.93,-252.97C569.19,-241.69 576.94,-229.66 584.24,-218.32\"/>\n<polygon fill=\"black\" stroke=\"black\" points=\"587.25,-220.12 589.72,-209.82 581.36,-216.33 587.25,-220.12\"/>\n</g>\n<!-- 15 -->\n<g id=\"node16\" class=\"node\">\n<title>15</title>\n<polygon fill=\"none\" stroke=\"black\" points=\"436,-83 344,-83 344,0 436,0 436,-83\"/>\n<text text-anchor=\"middle\" x=\"390\" y=\"-67.8\" font-family=\"Times,serif\" font-size=\"14.00\">node #15</text>\n<text text-anchor=\"middle\" x=\"390\" y=\"-52.8\" font-family=\"Times,serif\" font-size=\"14.00\">gini = 0.0</text>\n<text text-anchor=\"middle\" x=\"390\" y=\"-37.8\" font-family=\"Times,serif\" font-size=\"14.00\">samples = 1</text>\n<text text-anchor=\"middle\" x=\"390\" y=\"-22.8\" font-family=\"Times,serif\" font-size=\"14.00\">value = [1, 0]</text>\n<text text-anchor=\"middle\" x=\"390\" y=\"-7.8\" font-family=\"Times,serif\" font-size=\"14.00\">class = No</text>\n</g>\n<!-- 14&#45;&gt;15 -->\n<g id=\"edge15\" class=\"edge\">\n<title>14&#45;&gt;15</title>\n<path fill=\"none\" stroke=\"black\" d=\"M423.74,-118.87C419.92,-110.22 415.93,-101.2 412.09,-92.5\"/>\n<polygon fill=\"black\" stroke=\"black\" points=\"415.24,-90.96 407.99,-83.23 408.83,-93.79 415.24,-90.96\"/>\n</g>\n<!-- 16 -->\n<g id=\"node17\" class=\"node\">\n<title>16</title>\n<polygon fill=\"none\" stroke=\"black\" points=\"546,-83 454,-83 454,0 546,0 546,-83\"/>\n<text text-anchor=\"middle\" x=\"500\" y=\"-67.8\" font-family=\"Times,serif\" font-size=\"14.00\">node #16</text>\n<text text-anchor=\"middle\" x=\"500\" y=\"-52.8\" font-family=\"Times,serif\" font-size=\"14.00\">gini = 0.0</text>\n<text text-anchor=\"middle\" x=\"500\" y=\"-37.8\" font-family=\"Times,serif\" font-size=\"14.00\">samples = 2</text>\n<text text-anchor=\"middle\" x=\"500\" y=\"-22.8\" font-family=\"Times,serif\" font-size=\"14.00\">value = [0, 2]</text>\n<text text-anchor=\"middle\" x=\"500\" y=\"-7.8\" font-family=\"Times,serif\" font-size=\"14.00\">class = Yes</text>\n</g>\n<!-- 14&#45;&gt;16 -->\n<g id=\"edge16\" class=\"edge\">\n<title>14&#45;&gt;16</title>\n<path fill=\"none\" stroke=\"black\" d=\"M466.26,-118.87C470.08,-110.22 474.07,-101.2 477.91,-92.5\"/>\n<polygon fill=\"black\" stroke=\"black\" points=\"481.17,-93.79 482.01,-83.23 474.76,-90.96 481.17,-93.79\"/>\n</g>\n<!-- 20 -->\n<g id=\"node21\" class=\"node\">\n<title>20</title>\n<polygon fill=\"none\" stroke=\"black\" points=\"563,-745.5 471,-745.5 471,-662.5 563,-662.5 563,-745.5\"/>\n<text text-anchor=\"middle\" x=\"517\" y=\"-730.3\" font-family=\"Times,serif\" font-size=\"14.00\">node #20</text>\n<text text-anchor=\"middle\" x=\"517\" y=\"-715.3\" font-family=\"Times,serif\" font-size=\"14.00\">gini = 0.0</text>\n<text text-anchor=\"middle\" x=\"517\" y=\"-700.3\" font-family=\"Times,serif\" font-size=\"14.00\">samples = 8</text>\n<text text-anchor=\"middle\" x=\"517\" y=\"-685.3\" font-family=\"Times,serif\" font-size=\"14.00\">value = [0, 8]</text>\n<text text-anchor=\"middle\" x=\"517\" y=\"-670.3\" font-family=\"Times,serif\" font-size=\"14.00\">class = Yes</text>\n</g>\n<!-- 19&#45;&gt;20 -->\n<g id=\"edge20\" class=\"edge\">\n<title>19&#45;&gt;20</title>\n<path fill=\"none\" stroke=\"black\" d=\"M572.98,-788.97C565.46,-777.69 557.44,-765.66 549.88,-754.32\"/>\n<polygon fill=\"black\" stroke=\"black\" points=\"552.67,-752.2 544.21,-745.82 546.85,-756.08 552.67,-752.2\"/>\n</g>\n<!-- 21 -->\n<g id=\"node22\" class=\"node\">\n<title>21</title>\n<polygon fill=\"none\" stroke=\"black\" points=\"673,-745.5 581,-745.5 581,-662.5 673,-662.5 673,-745.5\"/>\n<text text-anchor=\"middle\" x=\"627\" y=\"-730.3\" font-family=\"Times,serif\" font-size=\"14.00\">node #21</text>\n<text text-anchor=\"middle\" x=\"627\" y=\"-715.3\" font-family=\"Times,serif\" font-size=\"14.00\">gini = 0.0</text>\n<text text-anchor=\"middle\" x=\"627\" y=\"-700.3\" font-family=\"Times,serif\" font-size=\"14.00\">samples = 1</text>\n<text text-anchor=\"middle\" x=\"627\" y=\"-685.3\" font-family=\"Times,serif\" font-size=\"14.00\">value = [1, 0]</text>\n<text text-anchor=\"middle\" x=\"627\" y=\"-670.3\" font-family=\"Times,serif\" font-size=\"14.00\">class = No</text>\n</g>\n<!-- 19&#45;&gt;21 -->\n<g id=\"edge21\" class=\"edge\">\n<title>19&#45;&gt;21</title>\n<path fill=\"none\" stroke=\"black\" d=\"M613,-788.97C614.79,-778.25 616.69,-766.84 618.5,-755.99\"/>\n<polygon fill=\"black\" stroke=\"black\" points=\"622.01,-756.26 620.2,-745.82 615.1,-755.11 622.01,-756.26\"/>\n</g>\n<!-- 23 -->\n<g id=\"node24\" class=\"node\">\n<title>23</title>\n<polygon fill=\"none\" stroke=\"black\" points=\"809.5,-887 704.5,-887 704.5,-789 809.5,-789 809.5,-887\"/>\n<text text-anchor=\"middle\" x=\"757\" y=\"-871.8\" font-family=\"Times,serif\" font-size=\"14.00\">node #23</text>\n<text text-anchor=\"middle\" x=\"757\" y=\"-856.8\" font-family=\"Times,serif\" font-size=\"14.00\">Age &lt;= 17.08</text>\n<text text-anchor=\"middle\" x=\"757\" y=\"-841.8\" font-family=\"Times,serif\" font-size=\"14.00\">gini = 0.004</text>\n<text text-anchor=\"middle\" x=\"757\" y=\"-826.8\" font-family=\"Times,serif\" font-size=\"14.00\">samples = 537</text>\n<text text-anchor=\"middle\" x=\"757\" y=\"-811.8\" font-family=\"Times,serif\" font-size=\"14.00\">value = [1, 536]</text>\n<text text-anchor=\"middle\" x=\"757\" y=\"-796.8\" font-family=\"Times,serif\" font-size=\"14.00\">class = Yes</text>\n</g>\n<!-- 22&#45;&gt;23 -->\n<g id=\"edge23\" class=\"edge\">\n<title>22&#45;&gt;23</title>\n<path fill=\"none\" stroke=\"black\" d=\"M757.64,-922.97C757.57,-914.69 757.51,-906 757.44,-897.48\"/>\n<polygon fill=\"black\" stroke=\"black\" points=\"760.94,-897.19 757.37,-887.21 753.94,-897.24 760.94,-897.19\"/>\n</g>\n<!-- 28 -->\n<g id=\"node29\" class=\"node\">\n<title>28</title>\n<polygon fill=\"none\" stroke=\"black\" points=\"920,-879.5 828,-879.5 828,-796.5 920,-796.5 920,-879.5\"/>\n<text text-anchor=\"middle\" x=\"874\" y=\"-864.3\" font-family=\"Times,serif\" font-size=\"14.00\">node #28</text>\n<text text-anchor=\"middle\" x=\"874\" y=\"-849.3\" font-family=\"Times,serif\" font-size=\"14.00\">gini = 0.0</text>\n<text text-anchor=\"middle\" x=\"874\" y=\"-834.3\" font-family=\"Times,serif\" font-size=\"14.00\">samples = 2</text>\n<text text-anchor=\"middle\" x=\"874\" y=\"-819.3\" font-family=\"Times,serif\" font-size=\"14.00\">value = [2, 0]</text>\n<text text-anchor=\"middle\" x=\"874\" y=\"-804.3\" font-family=\"Times,serif\" font-size=\"14.00\">class = No</text>\n</g>\n<!-- 22&#45;&gt;28 -->\n<g id=\"edge28\" class=\"edge\">\n<title>22&#45;&gt;28</title>\n<path fill=\"none\" stroke=\"black\" d=\"M800.21,-922.97C810.31,-911.47 821.11,-899.18 831.24,-887.66\"/>\n<polygon fill=\"black\" stroke=\"black\" points=\"834.16,-889.64 838.13,-879.82 828.9,-885.02 834.16,-889.64\"/>\n</g>\n<!-- 24 -->\n<g id=\"node25\" class=\"node\">\n<title>24</title>\n<polygon fill=\"none\" stroke=\"black\" points=\"817.5,-753 694.5,-753 694.5,-655 817.5,-655 817.5,-753\"/>\n<text text-anchor=\"middle\" x=\"756\" y=\"-737.8\" font-family=\"Times,serif\" font-size=\"14.00\">node #24</text>\n<text text-anchor=\"middle\" x=\"756\" y=\"-722.8\" font-family=\"Times,serif\" font-size=\"14.00\">Pregnancies &lt;= 4.0</text>\n<text text-anchor=\"middle\" x=\"756\" y=\"-707.8\" font-family=\"Times,serif\" font-size=\"14.00\">gini = 0.444</text>\n<text text-anchor=\"middle\" x=\"756\" y=\"-692.8\" font-family=\"Times,serif\" font-size=\"14.00\">samples = 3</text>\n<text text-anchor=\"middle\" x=\"756\" y=\"-677.8\" font-family=\"Times,serif\" font-size=\"14.00\">value = [1, 2]</text>\n<text text-anchor=\"middle\" x=\"756\" y=\"-662.8\" font-family=\"Times,serif\" font-size=\"14.00\">class = Yes</text>\n</g>\n<!-- 23&#45;&gt;24 -->\n<g id=\"edge24\" class=\"edge\">\n<title>23&#45;&gt;24</title>\n<path fill=\"none\" stroke=\"black\" d=\"M756.64,-788.97C756.57,-780.69 756.51,-772 756.44,-763.48\"/>\n<polygon fill=\"black\" stroke=\"black\" points=\"759.94,-763.19 756.37,-753.21 752.94,-763.24 759.94,-763.19\"/>\n</g>\n<!-- 27 -->\n<g id=\"node28\" class=\"node\">\n<title>27</title>\n<polygon fill=\"none\" stroke=\"black\" points=\"940.5,-745.5 835.5,-745.5 835.5,-662.5 940.5,-662.5 940.5,-745.5\"/>\n<text text-anchor=\"middle\" x=\"888\" y=\"-730.3\" font-family=\"Times,serif\" font-size=\"14.00\">node #27</text>\n<text text-anchor=\"middle\" x=\"888\" y=\"-715.3\" font-family=\"Times,serif\" font-size=\"14.00\">gini = 0.0</text>\n<text text-anchor=\"middle\" x=\"888\" y=\"-700.3\" font-family=\"Times,serif\" font-size=\"14.00\">samples = 534</text>\n<text text-anchor=\"middle\" x=\"888\" y=\"-685.3\" font-family=\"Times,serif\" font-size=\"14.00\">value = [0, 534]</text>\n<text text-anchor=\"middle\" x=\"888\" y=\"-670.3\" font-family=\"Times,serif\" font-size=\"14.00\">class = Yes</text>\n</g>\n<!-- 23&#45;&gt;27 -->\n<g id=\"edge27\" class=\"edge\">\n<title>23&#45;&gt;27</title>\n<path fill=\"none\" stroke=\"black\" d=\"M804.66,-788.97C816.3,-777.25 828.74,-764.71 840.37,-752.99\"/>\n<polygon fill=\"black\" stroke=\"black\" points=\"842.93,-755.38 847.49,-745.82 837.96,-750.45 842.93,-755.38\"/>\n</g>\n<!-- 25 -->\n<g id=\"node26\" class=\"node\">\n<title>25</title>\n<polygon fill=\"none\" stroke=\"black\" points=\"747,-611.5 655,-611.5 655,-528.5 747,-528.5 747,-611.5\"/>\n<text text-anchor=\"middle\" x=\"701\" y=\"-596.3\" font-family=\"Times,serif\" font-size=\"14.00\">node #25</text>\n<text text-anchor=\"middle\" x=\"701\" y=\"-581.3\" font-family=\"Times,serif\" font-size=\"14.00\">gini = 0.0</text>\n<text text-anchor=\"middle\" x=\"701\" y=\"-566.3\" font-family=\"Times,serif\" font-size=\"14.00\">samples = 2</text>\n<text text-anchor=\"middle\" x=\"701\" y=\"-551.3\" font-family=\"Times,serif\" font-size=\"14.00\">value = [0, 2]</text>\n<text text-anchor=\"middle\" x=\"701\" y=\"-536.3\" font-family=\"Times,serif\" font-size=\"14.00\">class = Yes</text>\n</g>\n<!-- 24&#45;&gt;25 -->\n<g id=\"edge25\" class=\"edge\">\n<title>24&#45;&gt;25</title>\n<path fill=\"none\" stroke=\"black\" d=\"M735.99,-654.97C731.43,-644.02 726.57,-632.36 721.97,-621.32\"/>\n<polygon fill=\"black\" stroke=\"black\" points=\"725.08,-619.7 718.01,-611.82 718.62,-622.39 725.08,-619.7\"/>\n</g>\n<!-- 26 -->\n<g id=\"node27\" class=\"node\">\n<title>26</title>\n<polygon fill=\"none\" stroke=\"black\" points=\"857,-611.5 765,-611.5 765,-528.5 857,-528.5 857,-611.5\"/>\n<text text-anchor=\"middle\" x=\"811\" y=\"-596.3\" font-family=\"Times,serif\" font-size=\"14.00\">node #26</text>\n<text text-anchor=\"middle\" x=\"811\" y=\"-581.3\" font-family=\"Times,serif\" font-size=\"14.00\">gini = 0.0</text>\n<text text-anchor=\"middle\" x=\"811\" y=\"-566.3\" font-family=\"Times,serif\" font-size=\"14.00\">samples = 1</text>\n<text text-anchor=\"middle\" x=\"811\" y=\"-551.3\" font-family=\"Times,serif\" font-size=\"14.00\">value = [1, 0]</text>\n<text text-anchor=\"middle\" x=\"811\" y=\"-536.3\" font-family=\"Times,serif\" font-size=\"14.00\">class = No</text>\n</g>\n<!-- 24&#45;&gt;26 -->\n<g id=\"edge26\" class=\"edge\">\n<title>24&#45;&gt;26</title>\n<path fill=\"none\" stroke=\"black\" d=\"M776.01,-654.97C780.57,-644.02 785.43,-632.36 790.03,-621.32\"/>\n<polygon fill=\"black\" stroke=\"black\" points=\"793.38,-622.39 793.99,-611.82 786.92,-619.7 793.38,-622.39\"/>\n</g>\n</g>\n</svg>\n"
     },
     "metadata": {},
     "execution_count": 4
    }
   ],
   "metadata": {}
  },
  {
   "cell_type": "code",
   "execution_count": 5,
   "source": [
    "input_query_true = df[df['has_same_input_pred']==True]\n",
    "input_query_cf_true = input_query_true[input_query_true['has_same_cf_pred']==True]\n",
    "print(f\"In {len(input_query_cf_true) / len(df)} % of the case, the surrogate decision have the same prediction result as our model in input query and its counterfactual.\")"
   ],
   "outputs": [
    {
     "output_type": "stream",
     "name": "stdout",
     "text": [
      "In 0.2 % of the case, the surrogate decision have the same prediction result as our model in input query and its counterfactual.\n"
     ]
    }
   ],
   "metadata": {}
  },
  {
   "cell_type": "code",
   "execution_count": 6,
   "source": [
    "## Print the decision rules for input_query.\n",
    "print_decisions(json.loads(example['input_query_decisions']))\n",
    "print(f\"End in # {example['input_query_leaf_id']}\")"
   ],
   "outputs": [
    {
     "output_type": "stream",
     "name": "stdout",
     "text": [
      "decision node 0 : (x [Glucose] = 189.0) > 136.4044647216797)\n",
      "decision node 22 : (x [BloodPressure] = 56.065574) <= 106.00564575195312)\n",
      "decision node 23 : (x [Age] = 59.0) > 17.079580307006836)\n",
      "End in # 27.0\n"
     ]
    }
   ],
   "metadata": {}
  },
  {
   "cell_type": "code",
   "execution_count": 7,
   "source": [
    "## Print the decision rules for cf.\n",
    "print_decisions(json.loads(example['cf_decisions']))\n",
    "print(f\"End in # {example['cf_leaf_id']}\")"
   ],
   "outputs": [
    {
     "output_type": "stream",
     "name": "stdout",
     "text": [
      "decision node 0 : (x [Glucose] = 77.6102294921875) <= 136.4044647216797)\n",
      "decision node 1 : (x [Age] = 59.0) > 44.830915451049805)\n",
      "decision node 19 : (x [BloodPressure] = 56.065574645996094) <= 91.61150360107422)\n",
      "End in # 20.0\n"
     ]
    }
   ],
   "metadata": {}
  },
  {
   "cell_type": "code",
   "execution_count": null,
   "source": [],
   "outputs": [],
   "metadata": {}
  }
 ],
 "metadata": {
  "orig_nbformat": 4,
  "language_info": {
   "name": "python",
   "version": "3.8.10",
   "mimetype": "text/x-python",
   "codemirror_mode": {
    "name": "ipython",
    "version": 3
   },
   "pygments_lexer": "ipython3",
   "nbconvert_exporter": "python",
   "file_extension": ".py"
  },
  "kernelspec": {
   "name": "python3",
   "display_name": "Python 3.8.10 64-bit ('tf_mac': conda)"
  },
  "interpreter": {
   "hash": "5c622353f32ef24c8d83e5c3e334107c074e82d7c3e8ca52c56b9fc900ce33e6"
  }
 },
 "nbformat": 4,
 "nbformat_minor": 2
}