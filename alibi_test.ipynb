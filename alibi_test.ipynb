{
 "cells": [
  {
   "cell_type": "code",
   "execution_count": 1,
   "metadata": {},
   "outputs": [],
   "source": [
    "### Colab define cell\n",
    "FOLDER_PATH = '/content/gdrive/MyDrive/Counterfactual-prototype-main/LORE/LORE-master'\n",
    "\n",
    "try:\n",
    "    import google.colab\n",
    "    RUNNING_ON_COLAB = True\n",
    "except: \n",
    "    RUNNING_ON_COLAB = False\n",
    "\n",
    "if RUNNING_ON_COLAB: \n",
    "    import sys\n",
    "    from google.colab import drive\n",
    "    from pydrive.auth import GoogleAuth\n",
    "    from pydrive.drive import GoogleDrive\n",
    "    from google.colab import auth\n",
    "    from oauth2client.client import GoogleCredentials\n",
    "    from pydrive.auth import GoogleAuth\n",
    "    from pydrive.drive import GoogleDrive\n",
    "    from google.colab import auth\n",
    "    from oauth2client.client import GoogleCredentials \n",
    "    drive.mount('/content/gdrive', force_remount=True)\n",
    "    auth.authenticate_user()\n",
    "    gauth = GoogleAuth()\n",
    "    gauth.credentials = GoogleCredentials.get_application_default()\n",
    "    gdrive = GoogleDrive(gauth)\n",
    "    sys.path.append(FOLDER_PATH)"
   ]
  },
  {
   "cell_type": "code",
   "execution_count": 1,
   "metadata": {},
   "outputs": [],
   "source": [
    "from utils.prediction import PredictionTypeWrapper, PredictionTypeWrapper, generate_local_predictions, wrap_information\n",
    "from utils.cf import generate_cf_for_all\n",
    "from utils import load\n",
    "from alibi_cf import AlibiCounterfactaulWrapper\n",
    "from alibi.explainers import CounterFactualProto, CounterFactual\n",
    "import dice_ml\n",
    "import numpy as np\n",
    "import pandas as pd\n",
    "\n",
    "import tensorflow as tf\n",
    "tf.get_logger().setLevel(40) # suppress deprecation messages\n",
    "tf.compat.v1.disable_v2_behavior() # disable TF2 behaviour as alibi code still relies on TF1 constructs\n",
    "\n",
    "### Set random seed\n",
    "seed = 123\n",
    "tf.random.set_seed(seed)\n",
    "np.random.seed(seed)"
   ]
  },
  {
   "cell_type": "code",
   "execution_count": 2,
   "metadata": {},
   "outputs": [
    {
     "name": "stdout",
     "output_type": "stream",
     "text": [
      "Loaded model from disk\n"
     ]
    }
   ],
   "source": [
    "### Load data\n",
    "dataset = load.SelectableDataset.Diabetes\n",
    "data, balanced_data, X, Y, encoder, scaler, n_features, n_classes, feature_names, target_name = load.load_dataset(dataset)\n",
    "X_train, Y_train, X_test, Y_test, X_validation, Y_validation = load.load_training_data(dataset)\n",
    "model = load.load_trained_model_for_dataset(dataset)\n",
    "input_data_shape = np.array([X[0]]).shape"
   ]
  },
  {
   "cell_type": "code",
   "execution_count": 3,
   "metadata": {},
   "outputs": [
    {
     "name": "stderr",
     "output_type": "stream",
     "text": [
      "/Users/jrhs/miniforge3/envs/tf_mac/lib/python3.8/site-packages/tensorflow/python/keras/engine/training.py:2325: UserWarning: `Model.state_updates` will be removed in a future version. This property should not be used in TensorFlow 2.0, as `updates` are applied automatically.\n",
      "  warnings.warn('`Model.state_updates` will be removed in a future version. '\n"
     ]
    }
   ],
   "source": [
    "diabetes_feature_range = (X_train.min(axis=0), X_train.max(axis=0))\n",
    "local_data_dict = generate_local_predictions( X_test, Y_test, model, scaler, encoder )\n",
    "true_positives,true_negatives, false_positives, false_negatives = wrap_information( local_data_dict )\n",
    "all_predictions = PredictionTypeWrapper(true_positives,true_negatives, false_positives, false_negatives)"
   ]
  },
  {
   "cell_type": "code",
   "execution_count": 4,
   "metadata": {},
   "outputs": [
    {
     "data": {
      "text/plain": [
       "''"
      ]
     },
     "execution_count": 4,
     "metadata": {},
     "output_type": "execute_result"
    }
   ],
   "source": [
    "watcher_cf = CounterFactual(model, input_data_shape, distance_fn='l1', target_proba=1.0,\n",
    "                    target_class='other', max_iter=3000, early_stop=150, lam_init=1e-1,\n",
    "                    max_lam_steps=10, tol=0.05, learning_rate_init=0.1,\n",
    "                    feature_range=diabetes_feature_range, eps=0.01, init='identity',\n",
    "                    decay=True, write_dir=None, debug=False)\n",
    "\n",
    "cf_p = CounterFactualProto(model, input_data_shape, use_kdtree=True, theta=10., max_iterations=1000,\n",
    "                         feature_range=diabetes_feature_range,\n",
    "                         c_init=1., c_steps=10)\n",
    "\n",
    "cf_p.fit(X_train)\n",
    "\n",
    "\"\""
   ]
  },
  {
   "cell_type": "code",
   "execution_count": 5,
   "metadata": {},
   "outputs": [],
   "source": [
    "alibi_cf =  AlibiCounterfactaulWrapper(cf_p, watcher_cf, scaler, feature_names)"
   ]
  },
  {
   "cell_type": "code",
   "execution_count": null,
   "metadata": {},
   "outputs": [
    {
     "name": "stdout",
     "output_type": "stream",
     "text": [
      "\n",
      "====================Doing TruePositive====================\n",
      "|  \n",
      "==========================================================\n",
      "\n",
      "====================Running...====================\n",
      "| Instance 0 \n",
      "==================================================\n",
      "\n",
      "====================Running...====================\n",
      "| Instance 1 \n",
      "==================================================\n"
     ]
    }
   ],
   "source": [
    "watcher_result_df = generate_cf_for_all(\n",
    "    all_predictions,\n",
    "    alibi_cf.watcher_counterfactual_explain,\n",
    "    feature_names\n",
    "    )"
   ]
  },
  {
   "cell_type": "code",
   "execution_count": null,
   "metadata": {},
   "outputs": [],
   "source": [
    "watcher_result_df.to_csv(\"watcher_cf_result.csv\")"
   ]
  },
  {
   "cell_type": "code",
   "execution_count": null,
   "metadata": {},
   "outputs": [],
   "source": [
    "proto_result_df = generate_cf_for_all(\n",
    "    all_predictions,\n",
    "    alibi_cf.counterfactual_proto_explain,\n",
    "    feature_names\n",
    "    )"
   ]
  },
  {
   "cell_type": "code",
   "execution_count": null,
   "metadata": {},
   "outputs": [],
   "source": [
    "proto_result_df.to_csv(\"cf_proto_result.csv\")"
   ]
  }
 ],
 "metadata": {
  "kernelspec": {
   "name": "python3",
   "display_name": "Python 3.9.4 64-bit ('python@3.9')"
  },
  "language_info": {
   "codemirror_mode": {
    "name": "ipython",
    "version": 3
   },
   "file_extension": ".py",
   "mimetype": "text/x-python",
   "name": "python",
   "nbconvert_exporter": "python",
   "pygments_lexer": "ipython3",
   "version": "3.9.4"
  },
  "interpreter": {
   "hash": "50292dbb1f747f7151d445135d392af3138fb3c65386d17d9510cb605222b10b"
  }
 },
 "nbformat": 4,
 "nbformat_minor": 2
}