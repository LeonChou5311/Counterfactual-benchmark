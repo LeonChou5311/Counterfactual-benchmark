{
 "cells": [
  {
   "cell_type": "code",
   "execution_count": 5,
   "metadata": {},
   "outputs": [],
   "source": [
    "import pandas as pd\n",
    "import os"
   ]
  },
  {
   "cell_type": "markdown",
   "metadata": {},
   "source": [
    "# All datasets and algorithms"
   ]
  },
  {
   "cell_type": "code",
   "execution_count": 6,
   "metadata": {},
   "outputs": [],
   "source": [
    "all_dataset_names = [\n",
    "    \"adult\",\n",
    "    \"german\",\n",
    "    \"compas\",\n",
    "    \"diabetes\",\n",
    "    \"breast_cancer\",\n",
    "]\n",
    "\n",
    "all_algorithm_names = [\"dice\", \"GS\", \"proto\", \"watcher\"]"
   ]
  },
  {
   "cell_type": "code",
   "execution_count": 7,
   "metadata": {},
   "outputs": [],
   "source": [
    "model_names = ['dt', 'nn', 'rfc']\n",
    "\n",
    "for dataset_name in all_dataset_names:\n",
    "    for algorithm_name in all_algorithm_names:\n",
    "        folder = f\"./results/{algorithm_name}_{dataset_name}\"\n",
    "\n",
    "        ## check if the folder exist\n",
    "\n",
    "        if os.path.isdir(folder):\n",
    "            for model_name in model_names:\n",
    "                dfs = []\n",
    "                for i in range(5):\n",
    "                    dataset_path = f\"{algorithm_name}_{dataset_name}_{model_name}_result{i}.csv\"\n",
    "                    destination_path = f\"{algorithm_name}_{dataset_name}_{model_name}_result.csv\"\n",
    "                    dfs.append(pd.read_csv(os.path.join(folder, dataset_path)))\n",
    "\n",
    "                ### Combine dfs\n",
    "                complete_df = pd.DataFrame([], columns=dfs[0].columns)\n",
    "                for l in range(len(dfs[0])):\n",
    "                    for df in dfs:\n",
    "                        complete_df = complete_df.append(df.iloc[l:l+1])\n",
    "\n",
    "                ### Save dfs\n",
    "                save_path = os.path.join(folder, destination_path)\n",
    "                complete_df.to_csv(save_path)\n",
    "                print(f\"Have saved combined sheet to {save_path}\")\n",
    "        "
   ]
  },
  {
   "cell_type": "markdown",
   "metadata": {},
   "source": [
    "## Single sheet"
   ]
  },
  {
   "cell_type": "code",
   "execution_count": 4,
   "metadata": {},
   "outputs": [],
   "source": [
    "# folder = \"./DiCE_ad\"\n",
    "#model_names = ['dt', 'nn', 'rfc']\n",
    "model_names = ['nn']\n",
    "dataset_name = \"adult\" # \n",
    "algorithm_name = \"dice\" # [\"dice\", \"GS\", \"proto\", \"watcher\"]\n",
    "folder = f\"./results/{algorithm_name}_{dataset_name}\"\n",
    "# model_name = model_names[0]\n",
    "\n",
    "## Read dfs\n",
    "for model_name in model_names:\n",
    "    dfs = []\n",
    "    for i in range(5):\n",
    "        dataset_path = f\"{algorithm_name}_{dataset_name}_{model_name}_result{i}.csv\"\n",
    "        destination_path = f\"{algorithm_name}_{dataset_name}_{model_name}_result.csv\"\n",
    "        dfs.append(pd.read_csv(os.path.join(folder, dataset_path)))\n",
    "\n",
    "    ### Combine dfs\n",
    "    complete_df = pd.DataFrame([], columns=dfs[0].columns)\n",
    "    for l in range(len(dfs[0])):\n",
    "        for df in dfs:\n",
    "            complete_df = complete_df.append(df.iloc[l:l+1])\n",
    "\n",
    "\n",
    "    ### Save dfs\n",
    "    complete_df.to_csv(os.path.join(folder, destination_path))\n",
    "        "
   ]
  }
 ],
 "metadata": {
  "kernelspec": {
   "display_name": "Python 3.7.11 ('cf_2022_final')",
   "language": "python",
   "name": "python3"
  },
  "language_info": {
   "codemirror_mode": {
    "name": "ipython",
    "version": 3
   },
   "file_extension": ".py",
   "mimetype": "text/x-python",
   "name": "python",
   "nbconvert_exporter": "python",
   "pygments_lexer": "ipython3",
   "version": "3.7.11"
  },
  "orig_nbformat": 4,
  "vscode": {
   "interpreter": {
    "hash": "ddbd05a1a14a3b0def6fc051a52a025c8773943fa7dc1baab0b936f7bf6828c8"
   }
  }
 },
 "nbformat": 4,
 "nbformat_minor": 2
}
