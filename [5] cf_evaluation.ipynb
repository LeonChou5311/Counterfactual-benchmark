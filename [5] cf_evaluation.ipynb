{
 "cells": [
  {
   "cell_type": "code",
   "execution_count": 1,
   "metadata": {},
   "outputs": [],
   "source": [
    "import pandas as pd \n",
    "import os\n",
    "from utils.preprocessing import preprocess_df\n",
    "from utils.df_loader import load_adult_df, load_compas_df, load_german_df, load_diabetes_df, load_breast_cancer_df\n",
    "from utils.evaluation import get_evaluations, EvaluationMatrix"
   ]
  },
  {
   "cell_type": "code",
   "execution_count": 2,
   "metadata": {},
   "outputs": [],
   "source": [
    "all_dataset_names = [\n",
    "    \"adult\",\n",
    "    \"german\",\n",
    "    \"compas\",\n",
    "    \"diabetes\",\n",
    "    \"breast_cancer\",\n",
    "]\n",
    "\n",
    "all_algorithm_names = [\"dice\", \"GS\", \"proto\", \"watcher\"]\n",
    "\n",
    "all_models = [\"dt\", \"rfc\", \"nn\"]"
   ]
  },
  {
   "cell_type": "code",
   "execution_count": 3,
   "metadata": {},
   "outputs": [],
   "source": [
    "def get_loading_fn(dataset_name):\n",
    "    if dataset_name == 'adult':\n",
    "        dataset_loading_fn = load_adult_df\n",
    "    elif dataset_name == 'german':\n",
    "        dataset_loading_fn = load_german_df\n",
    "    elif dataset_name == 'compas':\n",
    "        dataset_loading_fn = load_compas_df\n",
    "    elif dataset_name == 'diabetes':\n",
    "        dataset_loading_fn = load_diabetes_df\n",
    "    elif dataset_name == 'breast_cancer':\n",
    "        dataset_loading_fn = load_breast_cancer_df\n",
    "    else:\n",
    "        raise Exception(\"Unsupported dataset\")\n",
    "    return dataset_loading_fn\n"
   ]
  },
  {
   "cell_type": "code",
   "execution_count": 4,
   "metadata": {},
   "outputs": [
    {
     "name": "stderr",
     "output_type": "stream",
     "text": [
      "/Users/yu-liangchou/Documents/GitHub/Counterfactual-benchmark/utils/preprocessing.py:82: SettingWithCopyWarning: \n",
      "A value is trying to be set on a copy of a slice from a DataFrame\n",
      "\n",
      "See the caveats in the documentation: https://pandas.pydata.org/pandas-docs/stable/user_guide/indexing.html#returning-a-view-versus-a-copy\n",
      "  df[col][df[col] == '?'] = df[col].value_counts().index[0]\n"
     ]
    },
    {
     "name": "stdout",
     "output_type": "stream",
     "text": [
      "[adult] | #Features: [12]| #Numerical: [4] | #Categorical: [8] | #OHE Features: [103] |\n",
      "[german] | #Features: [20]| #Numerical: [5] | #Categorical: [15] | #OHE Features: [65] |\n",
      "[compas] | #Features: [11]| #Numerical: [4] | #Categorical: [7] | #OHE Features: [23] |\n",
      "[diabetes] | #Features: [8]| #Numerical: [8] | #Categorical: [0] | #OHE Features: [8] |\n",
      "[breast_cancer] | #Features: [30]| #Numerical: [30] | #Categorical: [0] | #OHE Features: [30] |\n"
     ]
    }
   ],
   "source": [
    "for dataset_name in all_dataset_names:\n",
    "    df_info = preprocess_df(get_loading_fn(dataset_name))\n",
    "    print(f\"[{dataset_name}] | #Features: [{len(df_info.feature_names)}]| #Numerical: [{len(df_info.numerical_cols)}] | #Categorical: [{len( [c for c in df_info.categorical_cols if c != df_info.target_name])}] | #OHE Features: [{len(df_info.ohe_feature_names)}] |\")\n",
    "\n",
    "\n",
    "\n",
    "# Because the tree size is huge => not generating.\n",
    "# one of the reason causing the huge size of tree could be the #features."
   ]
  },
  {
   "cell_type": "code",
   "execution_count": 5,
   "metadata": {},
   "outputs": [
    {
     "name": "stderr",
     "output_type": "stream",
     "text": [
      "/Users/yu-liangchou/Documents/GitHub/Counterfactual-benchmark/utils/preprocessing.py:82: SettingWithCopyWarning: \n",
      "A value is trying to be set on a copy of a slice from a DataFrame\n",
      "\n",
      "See the caveats in the documentation: https://pandas.pydata.org/pandas-docs/stable/user_guide/indexing.html#returning-a-view-versus-a-copy\n",
      "  df[col][df[col] == '?'] = df[col].value_counts().index[0]\n"
     ]
    },
    {
     "name": "stdout",
     "output_type": "stream",
     "text": [
      "Have saved file to results/dice_adult/eval_dice_adult_dt_result.csv\n",
      "Have saved file to results/dice_adult/eval_dice_adult_rfc_result.csv\n",
      "Have saved file to results/dice_adult/eval_dice_adult_nn_result.csv\n",
      "Have saved file to results/proto_adult/eval_proto_adult_dt_result.csv\n",
      "Have saved file to results/proto_adult/eval_proto_adult_rfc_result.csv\n",
      "Have saved file to results/proto_adult/eval_proto_adult_nn_result.csv\n",
      "Have saved file to results/dice_german/eval_dice_german_dt_result.csv\n",
      "Have saved file to results/dice_german/eval_dice_german_rfc_result.csv\n",
      "Have saved file to results/dice_german/eval_dice_german_nn_result.csv\n",
      "Have saved file to results/proto_german/eval_proto_german_dt_result.csv\n",
      "Have saved file to results/proto_german/eval_proto_german_rfc_result.csv\n",
      "Have saved file to results/proto_german/eval_proto_german_nn_result.csv\n",
      "Have saved file to results/dice_compas/eval_dice_compas_dt_result.csv\n",
      "Have saved file to results/dice_compas/eval_dice_compas_rfc_result.csv\n",
      "Have saved file to results/dice_compas/eval_dice_compas_nn_result.csv\n",
      "Have saved file to results/proto_compas/eval_proto_compas_dt_result.csv\n",
      "Have saved file to results/proto_compas/eval_proto_compas_rfc_result.csv\n",
      "Have saved file to results/proto_compas/eval_proto_compas_nn_result.csv\n",
      "Have saved file to results/dice_diabetes/eval_dice_diabetes_dt_result.csv\n",
      "Have saved file to results/dice_diabetes/eval_dice_diabetes_rfc_result.csv\n",
      "Have saved file to results/dice_diabetes/eval_dice_diabetes_nn_result.csv\n",
      "Have saved file to results/GS_diabetes/eval_GS_diabetes_dt_result.csv\n",
      "Have saved file to results/GS_diabetes/eval_GS_diabetes_rfc_result.csv\n",
      "Have saved file to results/GS_diabetes/eval_GS_diabetes_nn_result.csv\n",
      "Have saved file to results/proto_diabetes/eval_proto_diabetes_dt_result.csv\n",
      "Have saved file to results/proto_diabetes/eval_proto_diabetes_rfc_result.csv\n",
      "Have saved file to results/proto_diabetes/eval_proto_diabetes_nn_result.csv\n",
      "Have saved file to results/watcher_diabetes/eval_watcher_diabetes_dt_result.csv\n",
      "Have saved file to results/watcher_diabetes/eval_watcher_diabetes_rfc_result.csv\n",
      "Have saved file to results/watcher_diabetes/eval_watcher_diabetes_nn_result.csv\n",
      "Have saved file to results/dice_breast_cancer/eval_dice_breast_cancer_dt_result.csv\n",
      "Have saved file to results/dice_breast_cancer/eval_dice_breast_cancer_rfc_result.csv\n",
      "Have saved file to results/dice_breast_cancer/eval_dice_breast_cancer_nn_result.csv\n",
      "Have saved file to results/GS_breast_cancer/eval_GS_breast_cancer_dt_result.csv\n",
      "Have saved file to results/GS_breast_cancer/eval_GS_breast_cancer_rfc_result.csv\n",
      "Have saved file to results/GS_breast_cancer/eval_GS_breast_cancer_nn_result.csv\n",
      "Have saved file to results/proto_breast_cancer/eval_proto_breast_cancer_dt_result.csv\n",
      "Have saved file to results/proto_breast_cancer/eval_proto_breast_cancer_rfc_result.csv\n",
      "Have saved file to results/proto_breast_cancer/eval_proto_breast_cancer_nn_result.csv\n",
      "Have saved file to results/watcher_breast_cancer/eval_watcher_breast_cancer_dt_result.csv\n",
      "Have saved file to results/watcher_breast_cancer/eval_watcher_breast_cancer_rfc_result.csv\n",
      "Have saved file to results/watcher_breast_cancer/eval_watcher_breast_cancer_nn_result.csv\n"
     ]
    }
   ],
   "source": [
    "#### Select dataset ####\n",
    "# dataset_name = 'adult' # [adult, german, compas, breast_cancer, diabetes]\n",
    "# cf_algorithm= 'proto' # [\"dice\", \"GS\", \"proto\", \"watcher\"]\n",
    "# model_name = 'dt' # [\"dt\", \"rfc\", \"nn\"]\n",
    "\n",
    "for dataset_name in all_dataset_names:\n",
    "    df_info = preprocess_df(get_loading_fn(dataset_name))\n",
    "    for cf_algorithm in all_algorithm_names:\n",
    "        folder_name = f'{cf_algorithm}_{dataset_name}'\n",
    "        for model_name in all_models:\n",
    "            file_name = f'{folder_name}_{model_name}_result.csv'\n",
    "            result_path = f'./results/{folder_name}/{file_name}'\n",
    "            if  os.path.isfile(result_path):\n",
    "                result_df = pd.read_csv(result_path)\n",
    "                evaluation_df = get_evaluations(result_df, df_info, matrix = [EvaluationMatrix.L1, EvaluationMatrix.L2, EvaluationMatrix.Sparsity, EvaluationMatrix.Realistic, EvaluationMatrix.MAD, EvaluationMatrix.Mahalanobis])\n",
    "\n",
    "                csv_save_result_path = f'results/{folder_name}/eval_{file_name}'\n",
    "                evaluation_df.to_csv(csv_save_result_path)\n",
    "                print(f\"Have saved file to {csv_save_result_path}\")\n"
   ]
  },
  {
   "cell_type": "code",
   "execution_count": 6,
   "metadata": {},
   "outputs": [],
   "source": [
    "# #### Select dataset ####\n",
    "# dataset_name = 'german' # [adult, german, compas, breast_cancer, diabetes]\n",
    "# cf_algorithm= 'dice' # [\"dice\", \"GS\", \"proto\", \"watcher\"]\n",
    "# model_name = 'dt' # [\"dt\", \"rfc\", \"nn\"]\n",
    "\n",
    "# df_info = preprocess_df(get_loading_fn(dataset_name))\n",
    "# folder_name = f'{cf_algorithm}_{dataset_name}'\n",
    "# file_name = f'{folder_name}_{model_name}_result.csv'\n",
    "# result_path = f'./results/{folder_name}/{file_name}'\n",
    "# if  os.path.isfile(result_path):\n",
    "#     result_df = pd.read_csv(result_path)\n",
    "#     evaluation_df = get_evaluations(result_df, df_info, matrix = [EvaluationMatrix.L1, EvaluationMatrix.L2, EvaluationMatrix.Sparsity, EvaluationMatrix.Realistic, EvaluationMatrix.MAD, EvaluationMatrix.Mahalanobis])\n",
    "\n",
    "#     csv_save_result_path = f'results/{folder_name}/eval_{file_name}'\n",
    "#     evaluation_df.to_csv(csv_save_result_path)\n",
    "#     print(f\"Have saved file to {csv_save_result_path}\")\n"
   ]
  },
  {
   "cell_type": "code",
   "execution_count": 7,
   "metadata": {},
   "outputs": [],
   "source": [
    "# from utils.evaluation import prepare_evaluation_dict\n",
    "# found_idx = evaluation_df[evaluation_df['Found']==\"Y\"].index\n",
    "# cf_found_eaval_df = evaluation_df.loc[found_idx].copy(deep=True)\n",
    "# input_and_cf = prepare_evaluation_dict(cf_found_eaval_df, df_info)"
   ]
  },
  {
   "cell_type": "code",
   "execution_count": 8,
   "metadata": {},
   "outputs": [],
   "source": [
    "# evaluation_df[evaluation_df['Found']==\"Y\"]"
   ]
  },
  {
   "cell_type": "code",
   "execution_count": 9,
   "metadata": {},
   "outputs": [],
   "source": [
    "# for col in input_and_cf['not_dummy_input'].columns:\n",
    "#     if not col in df_info.feature_names:\n",
    "#         print(col)"
   ]
  },
  {
   "cell_type": "code",
   "execution_count": null,
   "metadata": {},
   "outputs": [],
   "source": []
  }
 ],
 "metadata": {
  "kernelspec": {
   "display_name": "Python 3.7.11 ('cf_2022_final')",
   "language": "python",
   "name": "python3"
  },
  "language_info": {
   "codemirror_mode": {
    "name": "ipython",
    "version": 3
   },
   "file_extension": ".py",
   "mimetype": "text/x-python",
   "name": "python",
   "nbconvert_exporter": "python",
   "pygments_lexer": "ipython3",
   "version": "3.7.11"
  },
  "orig_nbformat": 4,
  "vscode": {
   "interpreter": {
    "hash": "ddbd05a1a14a3b0def6fc051a52a025c8773943fa7dc1baab0b936f7bf6828c8"
   }
  }
 },
 "nbformat": 4,
 "nbformat_minor": 2
}
