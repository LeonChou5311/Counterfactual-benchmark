{
 "cells": [
  {
   "cell_type": "code",
   "execution_count": 1,
   "metadata": {},
   "outputs": [],
   "source": [
    "import pandas as pd \n",
    "import os\n",
    "from utils.preprocessing import preprocess_df\n",
    "from utils.df_loader import load_adult_df, load_compas_df, load_german_df, load_diabetes_df, load_breast_cancer_df\n",
    "from utils.evaluation import get_evaluations, EvaluationMatrix"
   ]
  },
  {
   "cell_type": "code",
   "execution_count": 2,
   "metadata": {},
   "outputs": [],
   "source": [
    "all_dataset_names = [\n",
    "    \"adult\",\n",
    "    \"german\",\n",
    "    \"compas\",\n",
    "    \"diabetes\",\n",
    "    \"breast_cancer\",\n",
    "]\n",
    "\n",
    "all_algorithm_names = [\"dice\", \"GS\", \"proto\", \"watcher\"]\n",
    "\n",
    "all_models = [\"dt\", \"rfc\", \"nn\"]\n"
   ]
  },
  {
   "cell_type": "code",
   "execution_count": 3,
   "metadata": {},
   "outputs": [],
   "source": [
    "def get_loading_fn(dataset_name):\n",
    "    if dataset_name == 'adult':\n",
    "        dataset_loading_fn = load_adult_df\n",
    "    elif dataset_name == 'german':\n",
    "        dataset_loading_fn = load_german_df\n",
    "    elif dataset_name == 'compas':\n",
    "        dataset_loading_fn = load_compas_df\n",
    "    elif dataset_name == 'diabetes':\n",
    "        dataset_loading_fn = load_diabetes_df\n",
    "    elif dataset_name == 'breast_cancer':\n",
    "        dataset_loading_fn = load_breast_cancer_df\n",
    "    else:\n",
    "        raise Exception(\"Unsupported dataset\")\n",
    "    return dataset_loading_fn\n"
   ]
  },
  {
   "cell_type": "code",
   "execution_count": 4,
   "metadata": {},
   "outputs": [
    {
     "name": "stdout",
     "output_type": "stream",
     "text": [
      "[diabetes] | #Features: [8]| #Numerical: [8] | #Categorical: [0] | #OHE Features: [8] |\n",
      "[breast_cancer] | #Features: [30]| #Numerical: [30] | #Categorical: [0] | #OHE Features: [30] |\n"
     ]
    }
   ],
   "source": [
    "for dataset_name in all_dataset_names:\n",
    "    df_info = preprocess_df(get_loading_fn(dataset_name))\n",
    "    print(f\"[{dataset_name}] | #Features: [{len(df_info.feature_names)}]| #Numerical: [{len(df_info.numerical_cols)}] | #Categorical: [{len( [c for c in df_info.categorical_cols if c != df_info.target_name])}] | #OHE Features: [{len(df_info.ohe_feature_names)}] |\")\n",
    "\n",
    "# Because the tree size is huge => not generating.\n",
    "# one of the reason causing the huge size of tree could be the #features."
   ]
  },
  {
   "cell_type": "code",
   "execution_count": 5,
   "metadata": {},
   "outputs": [
    {
     "name": "stdout",
     "output_type": "stream",
     "text": [
      "Have saved file to results/GS_diabetes/eval_GS_diabetes_dt_result.csv\n",
      "Have saved file to results/GS_diabetes/eval_GS_diabetes_rfc_result.csv\n",
      "Have saved file to results/GS_diabetes/eval_GS_diabetes_nn_result.csv\n",
      "Have saved file to results/GS_breast_cancer/eval_GS_breast_cancer_dt_result.csv\n",
      "Have saved file to results/GS_breast_cancer/eval_GS_breast_cancer_rfc_result.csv\n",
      "Have saved file to results/GS_breast_cancer/eval_GS_breast_cancer_nn_result.csv\n"
     ]
    }
   ],
   "source": [
    "#### Select dataset ####\n",
    "# dataset_name = 'adult' # [adult, german, compas, breast_cancer, diabetes]\n",
    "# cf_algorithm= 'proto' # [\"dice\", \"GS\", \"proto\", \"watcher\"]\n",
    "# model_name = 'dt' # [\"dt\", \"rfc\", \"nn\"]\n",
    "\n",
    "for dataset_name in all_dataset_names:\n",
    "    df_info = preprocess_df(get_loading_fn(dataset_name))\n",
    "    for cf_algorithm in all_algorithm_names:\n",
    "        folder_name = f'{cf_algorithm}_{dataset_name}'\n",
    "        for model_name in all_models:\n",
    "            file_name = f'{folder_name}_{model_name}_result.csv'\n",
    "            result_path = f'./results/{folder_name}/{file_name}'\n",
    "            if  os.path.isfile(result_path):\n",
    "                result_df = pd.read_csv(result_path)\n",
    "                evaluation_df = get_evaluations(result_df, df_info, matrix = [EvaluationMatrix.L1, EvaluationMatrix.L2, EvaluationMatrix.Sparsity, EvaluationMatrix.Realistic, EvaluationMatrix.MAD, EvaluationMatrix.Mahalanobis])\n",
    "\n",
    "                csv_save_result_path = f'results/{folder_name}/eval_{file_name}'\n",
    "                evaluation_df.to_csv(csv_save_result_path)\n",
    "                print(f\"Have saved file to {csv_save_result_path}\")\n"
   ]
  }
 ],
 "metadata": {
  "kernelspec": {
   "display_name": "Python 3.7.11 ('cf_2022_final')",
   "language": "python",
   "name": "python3"
  },
  "language_info": {
   "codemirror_mode": {
    "name": "ipython",
    "version": 3
   },
   "file_extension": ".py",
   "mimetype": "text/x-python",
   "name": "python",
   "nbconvert_exporter": "python",
   "pygments_lexer": "ipython3",
   "version": "3.7.11"
  },
  "orig_nbformat": 4,
  "vscode": {
   "interpreter": {
    "hash": "ddbd05a1a14a3b0def6fc051a52a025c8773943fa7dc1baab0b936f7bf6828c8"
   }
  }
 },
 "nbformat": 4,
 "nbformat_minor": 2
}
